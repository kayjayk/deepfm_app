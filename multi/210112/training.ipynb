{
 "cells": [
  {
   "cell_type": "code",
   "execution_count": 1,
   "metadata": {},
   "outputs": [
    {
     "name": "stdout",
     "output_type": "stream",
     "text": [
      "tensorflow version :  2.3.1\n",
      "keras version :  2.4.0\n",
      "WARNING:tensorflow:From <ipython-input-1-a95b7deb4494>:18: is_gpu_available (from tensorflow.python.framework.test_util) is deprecated and will be removed in a future version.\n",
      "Instructions for updating:\n",
      "Use `tf.config.list_physical_devices('GPU')` instead.\n",
      "GPU available ? :  True\n"
     ]
    }
   ],
   "source": [
    "# gpu number setting\n",
    "import os\n",
    "os.environ['CUDA_DEVICE_ORDER'] = 'PCI_BUS_ID'\n",
    "os.environ[\"CUDA_VISIBLE_DEVICES\"] = '1' ## gpu 번호 셋팅 윤건 :0, 기준 : 1, 준형 :2,\n",
    "\n",
    "# Gpu growth setting\n",
    "import tensorflow as tf\n",
    "config = tf.compat.v1.ConfigProto()\n",
    "config.gpu_options.allow_growth = True\n",
    "session = tf.compat.v1.Session(config=config)\n",
    "\n",
    "\n",
    "# tensorflow & keras version check\n",
    "print('tensorflow version : ' , tf.__version__)\n",
    "print('keras version : ' , tf.keras.__version__)\n",
    "\n",
    "# tensorflow gpu available check \n",
    "print('GPU available ? : ', tf.test.is_gpu_available(cuda_only=False, min_cuda_compute_capability=None))"
   ]
  },
  {
   "cell_type": "code",
   "execution_count": 2,
   "metadata": {},
   "outputs": [
    {
     "name": "stderr",
     "output_type": "stream",
     "text": [
      "WARNING:root:\n",
      "DeepCTR version 0.8.3 detected. Your version is 0.8.2.\n",
      "Use `pip install -U deepctr` to upgrade.Changelog: https://github.com/shenweichen/DeepCTR/releases/tag/v0.8.3\n"
     ]
    }
   ],
   "source": [
    "import pandas as pd\n",
    "import numpy as np\n",
    "import pickle\n",
    "import tqdm\n",
    "import random\n",
    "import time\n",
    "\n",
    "from sklearn.metrics import log_loss, roc_auc_score\n",
    "from sklearn.metrics import mean_squared_error\n",
    "from sklearn.model_selection import train_test_split\n",
    "from sklearn.preprocessing import LabelEncoder, MinMaxScaler\n",
    "\n",
    "from deepctr.models import *\n",
    "from deepctr.feature_column import SparseFeat, DenseFeat, get_feature_names"
   ]
  },
  {
   "cell_type": "code",
   "execution_count": 3,
   "metadata": {},
   "outputs": [
    {
     "name": "stderr",
     "output_type": "stream",
     "text": [
      "/home/ubuntu/anaconda3/envs/tensorflow2_latest_p37/lib/python3.7/site-packages/IPython/core/interactiveshell.py:3063: DtypeWarning: Columns (0) have mixed types.Specify dtype option on import or set low_memory=False.\n",
      "  interactivity=interactivity, compiler=compiler, result=result)\n"
     ]
    }
   ],
   "source": [
    "data = pd.read_csv('../../../../ipr/data/tb_ipr_m_seamless_2nd_movie_20201118.csv')"
   ]
  },
  {
   "cell_type": "code",
   "execution_count": 8,
   "metadata": {},
   "outputs": [],
   "source": [
    "pd.set_option('display.max_columns', 100)\n",
    "pd.set_option('display.max_rows', 100)"
   ]
  },
  {
   "cell_type": "code",
   "execution_count": 9,
   "metadata": {},
   "outputs": [],
   "source": [
    "data = data[['sa_id', 'album_id']]"
   ]
  },
  {
   "cell_type": "code",
   "execution_count": 10,
   "metadata": {},
   "outputs": [],
   "source": [
    "data['sa_id'] = data['sa_id'].apply(lambda x: str(x))\n",
    "data['album_id'] = data['album_id'].apply(lambda x: str(x))"
   ]
  },
  {
   "cell_type": "code",
   "execution_count": 11,
   "metadata": {},
   "outputs": [],
   "source": [
    "sparse_features = ['sa_id', 'album_id',\n",
    "#                    'buy_seg'\n",
    "                  ]\n",
    "# dense_features = ['release_date', 'run_time', 'movie_meta_price', 'i30_meta_price', 'buy_tot',\n",
    "#                   'amt_1_4', 'amt_2_4', 'amt_3_4', 'amt_4_4']\n",
    "target = ['label']"
   ]
  },
  {
   "cell_type": "markdown",
   "metadata": {},
   "source": [
    "### label encoding"
   ]
  },
  {
   "cell_type": "code",
   "execution_count": 12,
   "metadata": {},
   "outputs": [],
   "source": [
    "lbe_dict = {}"
   ]
  },
  {
   "cell_type": "code",
   "execution_count": 16,
   "metadata": {},
   "outputs": [],
   "source": [
    "# with open('../../model/said_albumid_onlineNegative/case1_re3/lbe_dict.pickle', 'rb') as f:\n",
    "#     lbe_dict = pickle.load(f)"
   ]
  },
  {
   "cell_type": "code",
   "execution_count": 9,
   "metadata": {
    "scrolled": true
   },
   "outputs": [
    {
     "name": "stdout",
     "output_type": "stream",
     "text": [
      "sa_id\n",
      "album_id\n"
     ]
    }
   ],
   "source": [
    "if len(lbe_dict) != 0:\n",
    "    for feat in sparse_features:\n",
    "        lbe = lbe_dict[feat]\n",
    "        data[feat] = lbe.transform(data[feat])\n",
    "else:\n",
    "    for feat in sparse_features:\n",
    "        print(feat)\n",
    "        lbe = LabelEncoder()\n",
    "        lbe.fit(data[feat])\n",
    "        data[feat] = lbe.transform(data[feat])\n",
    "        lbe_dict[feat] = lbe"
   ]
  },
  {
   "cell_type": "code",
   "execution_count": 11,
   "metadata": {},
   "outputs": [],
   "source": [
    "with open('./lbe_dict.pickle', 'wb') as f:\n",
    "    pickle.dump(lbe_dict, f)"
   ]
  },
  {
   "cell_type": "code",
   "execution_count": 12,
   "metadata": {
    "scrolled": true
   },
   "outputs": [],
   "source": [
    "fixlen_feature_columns = [SparseFeat(feat, vocabulary_size=data[feat].nunique(),embedding_dim=4)\n",
    "                           for i,feat in enumerate(sparse_features)]\n",
    "\n",
    "dnn_feature_columns = fixlen_feature_columns\n",
    "linear_feature_columns = fixlen_feature_columns\n",
    "\n",
    "feature_names = get_feature_names(linear_feature_columns + dnn_feature_columns)"
   ]
  },
  {
   "cell_type": "code",
   "execution_count": 14,
   "metadata": {},
   "outputs": [],
   "source": [
    "train, test = train_test_split(data, test_size=0.2, random_state=2020)\n",
    "# train_model_input = {name:train[name] for name in feature_names}\n",
    "# test_model_input = {name:test[name] for name in feature_names}"
   ]
  },
  {
   "cell_type": "code",
   "execution_count": 15,
   "metadata": {},
   "outputs": [],
   "source": [
    "model = DeepFM(linear_feature_columns, dnn_feature_columns, task='binary')\n",
    "model.compile(\"adam\", \"binary_crossentropy\", metrics=['AUC'], )"
   ]
  },
  {
   "cell_type": "code",
   "execution_count": 16,
   "metadata": {},
   "outputs": [],
   "source": [
    "callback = tf.keras.callbacks.EarlyStopping(monitor='val_loss', patience=10)"
   ]
  },
  {
   "cell_type": "markdown",
   "metadata": {},
   "source": [
    "### negative sampling"
   ]
  },
  {
   "cell_type": "code",
   "execution_count": 18,
   "metadata": {},
   "outputs": [],
   "source": [
    "user_col = ['sa_id']\n",
    "cont_col = ['album_id']\n",
    "user_tab = data[user_col]\n",
    "cont_tab = data[cont_col]\n",
    "user_uni_tab = user_tab.loc[list(user_tab['sa_id'].drop_duplicates().index)]\n",
    "cont_uni_tab = cont_tab.loc[list(cont_tab['album_id'].drop_duplicates().index)]\n",
    "\n",
    "album_id_list = list(cont_uni_tab['album_id'])"
   ]
  },
  {
   "cell_type": "code",
   "execution_count": 19,
   "metadata": {
    "scrolled": true
   },
   "outputs": [
    {
     "data": {
      "text/html": [
       "<div>\n",
       "<style scoped>\n",
       "    .dataframe tbody tr th:only-of-type {\n",
       "        vertical-align: middle;\n",
       "    }\n",
       "\n",
       "    .dataframe tbody tr th {\n",
       "        vertical-align: top;\n",
       "    }\n",
       "\n",
       "    .dataframe thead th {\n",
       "        text-align: right;\n",
       "    }\n",
       "</style>\n",
       "<table border=\"1\" class=\"dataframe\">\n",
       "  <thead>\n",
       "    <tr style=\"text-align: right;\">\n",
       "      <th></th>\n",
       "      <th>sa_id</th>\n",
       "    </tr>\n",
       "  </thead>\n",
       "  <tbody>\n",
       "    <tr>\n",
       "      <th>0</th>\n",
       "      <td>0</td>\n",
       "    </tr>\n",
       "    <tr>\n",
       "      <th>1</th>\n",
       "      <td>7</td>\n",
       "    </tr>\n",
       "    <tr>\n",
       "      <th>2</th>\n",
       "      <td>41</td>\n",
       "    </tr>\n",
       "    <tr>\n",
       "      <th>3</th>\n",
       "      <td>42</td>\n",
       "    </tr>\n",
       "    <tr>\n",
       "      <th>4</th>\n",
       "      <td>43</td>\n",
       "    </tr>\n",
       "    <tr>\n",
       "      <th>...</th>\n",
       "      <td>...</td>\n",
       "    </tr>\n",
       "    <tr>\n",
       "      <th>7658348</th>\n",
       "      <td>1274621</td>\n",
       "    </tr>\n",
       "    <tr>\n",
       "      <th>7658349</th>\n",
       "      <td>1274639</td>\n",
       "    </tr>\n",
       "    <tr>\n",
       "      <th>7658352</th>\n",
       "      <td>1274712</td>\n",
       "    </tr>\n",
       "    <tr>\n",
       "      <th>7658356</th>\n",
       "      <td>1274810</td>\n",
       "    </tr>\n",
       "    <tr>\n",
       "      <th>7658440</th>\n",
       "      <td>1275112</td>\n",
       "    </tr>\n",
       "  </tbody>\n",
       "</table>\n",
       "<p>1275287 rows × 1 columns</p>\n",
       "</div>"
      ],
      "text/plain": [
       "           sa_id\n",
       "0              0\n",
       "1              7\n",
       "2             41\n",
       "3             42\n",
       "4             43\n",
       "...          ...\n",
       "7658348  1274621\n",
       "7658349  1274639\n",
       "7658352  1274712\n",
       "7658356  1274810\n",
       "7658440  1275112\n",
       "\n",
       "[1275287 rows x 1 columns]"
      ]
     },
     "execution_count": 19,
     "metadata": {},
     "output_type": "execute_result"
    }
   ],
   "source": [
    "user_uni_tab"
   ]
  },
  {
   "cell_type": "code",
   "execution_count": 20,
   "metadata": {},
   "outputs": [
    {
     "data": {
      "text/html": [
       "<div>\n",
       "<style scoped>\n",
       "    .dataframe tbody tr th:only-of-type {\n",
       "        vertical-align: middle;\n",
       "    }\n",
       "\n",
       "    .dataframe tbody tr th {\n",
       "        vertical-align: top;\n",
       "    }\n",
       "\n",
       "    .dataframe thead th {\n",
       "        text-align: right;\n",
       "    }\n",
       "</style>\n",
       "<table border=\"1\" class=\"dataframe\">\n",
       "  <thead>\n",
       "    <tr style=\"text-align: right;\">\n",
       "      <th></th>\n",
       "      <th>album_id</th>\n",
       "    </tr>\n",
       "  </thead>\n",
       "  <tbody>\n",
       "    <tr>\n",
       "      <th>0</th>\n",
       "      <td>10998</td>\n",
       "    </tr>\n",
       "    <tr>\n",
       "      <th>1</th>\n",
       "      <td>7225</td>\n",
       "    </tr>\n",
       "    <tr>\n",
       "      <th>2</th>\n",
       "      <td>2079</td>\n",
       "    </tr>\n",
       "    <tr>\n",
       "      <th>3</th>\n",
       "      <td>7749</td>\n",
       "    </tr>\n",
       "    <tr>\n",
       "      <th>4</th>\n",
       "      <td>6720</td>\n",
       "    </tr>\n",
       "    <tr>\n",
       "      <th>...</th>\n",
       "      <td>...</td>\n",
       "    </tr>\n",
       "    <tr>\n",
       "      <th>7548183</th>\n",
       "      <td>6612</td>\n",
       "    </tr>\n",
       "    <tr>\n",
       "      <th>7558123</th>\n",
       "      <td>5066</td>\n",
       "    </tr>\n",
       "    <tr>\n",
       "      <th>7562741</th>\n",
       "      <td>8939</td>\n",
       "    </tr>\n",
       "    <tr>\n",
       "      <th>7568133</th>\n",
       "      <td>11512</td>\n",
       "    </tr>\n",
       "    <tr>\n",
       "      <th>7633420</th>\n",
       "      <td>7726</td>\n",
       "    </tr>\n",
       "  </tbody>\n",
       "</table>\n",
       "<p>11726 rows × 1 columns</p>\n",
       "</div>"
      ],
      "text/plain": [
       "         album_id\n",
       "0           10998\n",
       "1            7225\n",
       "2            2079\n",
       "3            7749\n",
       "4            6720\n",
       "...           ...\n",
       "7548183      6612\n",
       "7558123      5066\n",
       "7562741      8939\n",
       "7568133     11512\n",
       "7633420      7726\n",
       "\n",
       "[11726 rows x 1 columns]"
      ]
     },
     "execution_count": 20,
     "metadata": {},
     "output_type": "execute_result"
    }
   ],
   "source": [
    "cont_uni_tab"
   ]
  },
  {
   "cell_type": "code",
   "execution_count": 25,
   "metadata": {
    "scrolled": true
   },
   "outputs": [
    {
     "name": "stdout",
     "output_type": "stream",
     "text": [
      "2517.4873881340027\n"
     ]
    }
   ],
   "source": [
    "# tmp = time.time()\n",
    "# data_dict = data.set_index(keys=['sa_id', 'album_id']).T.to_dict('list')\n",
    "# print(time.time() - tmp)"
   ]
  },
  {
   "cell_type": "code",
   "execution_count": null,
   "metadata": {},
   "outputs": [],
   "source": [
    "tmp = time.time()\n",
    "train_dict = train.set_index(keys=['sa_id', 'album_id']).T.to_dict('list')\n",
    "test_dict = test.set_index(keys=['sa_id', 'album_id']).T.to_dict('list')\n",
    "print(time.time() - tmp)"
   ]
  },
  {
   "cell_type": "code",
   "execution_count": 41,
   "metadata": {},
   "outputs": [
    {
     "data": {
      "text/plain": [
       "11579312"
      ]
     },
     "execution_count": 41,
     "metadata": {},
     "output_type": "execute_result"
    }
   ],
   "source": [
    "len(train_dict)"
   ]
  },
  {
   "cell_type": "code",
   "execution_count": 42,
   "metadata": {},
   "outputs": [
    {
     "data": {
      "text/plain": [
       "2894828"
      ]
     },
     "execution_count": 42,
     "metadata": {},
     "output_type": "execute_result"
    }
   ],
   "source": [
    "len(test_dict)"
   ]
  },
  {
   "cell_type": "code",
   "execution_count": 43,
   "metadata": {},
   "outputs": [],
   "source": [
    "def get_train_instances(train, num_negatives, album_id_list):\n",
    "    user_input, item_input, labels = [],[],[]\n",
    "    \n",
    "    for (u, i) in train.keys():\n",
    "        # positive instance\n",
    "        user_input.append(u)\n",
    "        item_input.append(i)\n",
    "        labels.append(1)\n",
    "        # negative instances\n",
    "        for t in range(num_negatives):\n",
    "            j = random.randint(0, len(album_id_list) - 1)\n",
    "            album = album_id_list[j]\n",
    "            while (u, album) in train.keys() :\n",
    "                j = random.randint(0, len(album_id_list) - 1)\n",
    "                album = album_id_list[j]\n",
    "            user_input.append(u)\n",
    "            item_input.append(album)\n",
    "            labels.append(0)\n",
    "    return user_input, item_input, labels"
   ]
  },
  {
   "cell_type": "code",
   "execution_count": 33,
   "metadata": {},
   "outputs": [],
   "source": [
    "num_epochs = 10\n",
    "num_negatives = 1"
   ]
  },
  {
   "cell_type": "code",
   "execution_count": 44,
   "metadata": {},
   "outputs": [],
   "source": [
    "test_user_input, test_item_input, test_labels = get_train_instances(test_dict, num_negatives, album_id_list)"
   ]
  },
  {
   "cell_type": "code",
   "execution_count": 49,
   "metadata": {},
   "outputs": [
    {
     "data": {
      "text/plain": [
       "[array([596459, 596459, 451613, ..., 220147, 138940, 138940]),\n",
       " array([10834,  8061,  3538, ...,  8764,  7592,  4107]),\n",
       " array([1, 0, 1, ..., 0, 1, 0])]"
      ]
     },
     "execution_count": 49,
     "metadata": {},
     "output_type": "execute_result"
    }
   ],
   "source": [
    "[np.array(test_user_input), np.array(test_item_input), np.array(test_labels)]"
   ]
  },
  {
   "cell_type": "markdown",
   "metadata": {},
   "source": [
    "* 210111 10x10 train_dict, test_dictr"
   ]
  },
  {
   "cell_type": "code",
   "execution_count": 50,
   "metadata": {
    "scrolled": true
   },
   "outputs": [
    {
     "name": "stderr",
     "output_type": "stream",
     "text": [
      "\n",
      "  0%|          | 0/10 [00:00<?, ?it/s]\u001b[A"
     ]
    },
    {
     "name": "stdout",
     "output_type": "stream",
     "text": [
      "Epoch 1/10\n"
     ]
    },
    {
     "name": "stderr",
     "output_type": "stream",
     "text": [
      "/home/ubuntu/anaconda3/envs/tensorflow2_latest_p37/lib/python3.7/site-packages/tensorflow/python/framework/indexed_slices.py:433: UserWarning: Converting sparse IndexedSlices to a dense Tensor of unknown shape. This may consume a large amount of memory.\n",
      "  \"Converting sparse IndexedSlices to a dense Tensor of unknown shape. \"\n"
     ]
    },
    {
     "name": "stdout",
     "output_type": "stream",
     "text": [
      "707/707 [==============================] - 16s 23ms/step - loss: 0.3399 - auc: 0.9326 - val_loss: 0.3016 - val_auc: 0.9475\n",
      "Epoch 2/10\n",
      "707/707 [==============================] - 15s 22ms/step - loss: 0.2918 - auc: 0.9520 - val_loss: 0.2918 - val_auc: 0.9523\n",
      "Epoch 3/10\n",
      "707/707 [==============================] - 15s 22ms/step - loss: 0.2755 - auc: 0.9585 - val_loss: 0.2882 - val_auc: 0.9549\n",
      "Epoch 4/10\n",
      "707/707 [==============================] - 15s 22ms/step - loss: 0.2635 - auc: 0.9636 - val_loss: 0.2885 - val_auc: 0.9563\n",
      "Epoch 5/10\n",
      "707/707 [==============================] - 15s 22ms/step - loss: 0.2537 - auc: 0.9675 - val_loss: 0.2917 - val_auc: 0.9564\n",
      "Epoch 6/10\n",
      "707/707 [==============================] - 15s 22ms/step - loss: 0.2458 - auc: 0.9704 - val_loss: 0.2950 - val_auc: 0.9562\n",
      "Epoch 7/10\n",
      "707/707 [==============================] - 15s 22ms/step - loss: 0.2402 - auc: 0.9722 - val_loss: 0.2982 - val_auc: 0.9558\n",
      "Epoch 8/10\n",
      "707/707 [==============================] - 15s 22ms/step - loss: 0.2362 - auc: 0.9734 - val_loss: 0.3005 - val_auc: 0.9556\n",
      "Epoch 9/10\n",
      "707/707 [==============================] - 15s 22ms/step - loss: 0.2331 - auc: 0.9743 - val_loss: 0.3027 - val_auc: 0.9552\n",
      "Epoch 10/10\n",
      "707/707 [==============================] - 15s 22ms/step - loss: 0.2309 - auc: 0.9749 - val_loss: 0.3046 - val_auc: 0.9549\n"
     ]
    },
    {
     "name": "stderr",
     "output_type": "stream",
     "text": [
      "\n",
      " 10%|█         | 1/10 [03:17<29:34, 197.20s/it]\u001b[A"
     ]
    },
    {
     "name": "stdout",
     "output_type": "stream",
     "text": [
      "Epoch 1/10\n",
      "707/707 [==============================] - 16s 22ms/step - loss: 0.2624 - auc: 0.9645 - val_loss: 0.2890 - val_auc: 0.9587\n",
      "Epoch 2/10\n",
      "707/707 [==============================] - 15s 22ms/step - loss: 0.2399 - auc: 0.9710 - val_loss: 0.2938 - val_auc: 0.9575\n",
      "Epoch 3/10\n",
      "707/707 [==============================] - 15s 22ms/step - loss: 0.2329 - auc: 0.9733 - val_loss: 0.2979 - val_auc: 0.9566\n",
      "Epoch 4/10\n",
      "707/707 [==============================] - 15s 22ms/step - loss: 0.2299 - auc: 0.9744 - val_loss: 0.3008 - val_auc: 0.9559\n",
      "Epoch 5/10\n",
      "707/707 [==============================] - 16s 22ms/step - loss: 0.2280 - auc: 0.9750 - val_loss: 0.3028 - val_auc: 0.9554\n",
      "Epoch 6/10\n",
      "707/707 [==============================] - 15s 22ms/step - loss: 0.2267 - auc: 0.9755 - val_loss: 0.3053 - val_auc: 0.9551\n",
      "Epoch 7/10\n",
      "707/707 [==============================] - 16s 22ms/step - loss: 0.2257 - auc: 0.9758 - val_loss: 0.3073 - val_auc: 0.9550\n",
      "Epoch 8/10\n",
      "707/707 [==============================] - 15s 22ms/step - loss: 0.2249 - auc: 0.9761 - val_loss: 0.3080 - val_auc: 0.9547\n",
      "Epoch 9/10\n",
      "707/707 [==============================] - 15s 22ms/step - loss: 0.2244 - auc: 0.9762 - val_loss: 0.3086 - val_auc: 0.9545\n",
      "Epoch 10/10\n",
      "707/707 [==============================] - 15s 22ms/step - loss: 0.2239 - auc: 0.9764 - val_loss: 0.3089 - val_auc: 0.9544\n"
     ]
    },
    {
     "name": "stderr",
     "output_type": "stream",
     "text": [
      "\n",
      " 20%|██        | 2/10 [06:31<26:11, 196.47s/it]\u001b[A"
     ]
    },
    {
     "name": "stdout",
     "output_type": "stream",
     "text": [
      "Epoch 1/10\n",
      "707/707 [==============================] - 15s 22ms/step - loss: 0.2594 - auc: 0.9656 - val_loss: 0.2930 - val_auc: 0.9589\n",
      "Epoch 2/10\n",
      "707/707 [==============================] - 15s 22ms/step - loss: 0.2372 - auc: 0.9720 - val_loss: 0.2964 - val_auc: 0.9573\n",
      "Epoch 3/10\n",
      "707/707 [==============================] - 15s 22ms/step - loss: 0.2295 - auc: 0.9740 - val_loss: 0.2985 - val_auc: 0.9563\n",
      "Epoch 4/10\n",
      "707/707 [==============================] - 15s 22ms/step - loss: 0.2269 - auc: 0.9749 - val_loss: 0.3016 - val_auc: 0.9559\n",
      "Epoch 5/10\n",
      "707/707 [==============================] - 15s 22ms/step - loss: 0.2252 - auc: 0.9755 - val_loss: 0.3040 - val_auc: 0.9554\n",
      "Epoch 6/10\n",
      "707/707 [==============================] - 15s 22ms/step - loss: 0.2243 - auc: 0.9759 - val_loss: 0.3054 - val_auc: 0.9552\n",
      "Epoch 7/10\n",
      "707/707 [==============================] - 15s 22ms/step - loss: 0.2236 - auc: 0.9761 - val_loss: 0.3076 - val_auc: 0.9548\n",
      "Epoch 8/10\n",
      "707/707 [==============================] - 15s 22ms/step - loss: 0.2232 - auc: 0.9763 - val_loss: 0.3093 - val_auc: 0.9546\n",
      "Epoch 9/10\n",
      "707/707 [==============================] - 15s 22ms/step - loss: 0.2227 - auc: 0.9765 - val_loss: 0.3095 - val_auc: 0.9546\n",
      "Epoch 10/10\n",
      "707/707 [==============================] - 15s 22ms/step - loss: 0.2223 - auc: 0.9767 - val_loss: 0.3113 - val_auc: 0.9543\n"
     ]
    },
    {
     "name": "stderr",
     "output_type": "stream",
     "text": [
      "\n",
      " 30%|███       | 3/10 [09:46<22:51, 195.88s/it]\u001b[A"
     ]
    },
    {
     "name": "stdout",
     "output_type": "stream",
     "text": [
      "Epoch 1/10\n",
      "707/707 [==============================] - 16s 23ms/step - loss: 0.2580 - auc: 0.9661 - val_loss: 0.2932 - val_auc: 0.9590\n",
      "Epoch 2/10\n",
      "707/707 [==============================] - 15s 22ms/step - loss: 0.2359 - auc: 0.9724 - val_loss: 0.2986 - val_auc: 0.9571\n",
      "Epoch 3/10\n",
      "707/707 [==============================] - 15s 22ms/step - loss: 0.2278 - auc: 0.9745 - val_loss: 0.3031 - val_auc: 0.9556\n",
      "Epoch 4/10\n",
      "707/707 [==============================] - 15s 22ms/step - loss: 0.2256 - auc: 0.9752 - val_loss: 0.3031 - val_auc: 0.9557\n",
      "Epoch 5/10\n",
      "707/707 [==============================] - 15s 22ms/step - loss: 0.2241 - auc: 0.9758 - val_loss: 0.3056 - val_auc: 0.9551\n",
      "Epoch 6/10\n",
      "707/707 [==============================] - 15s 22ms/step - loss: 0.2231 - auc: 0.9761 - val_loss: 0.3075 - val_auc: 0.9549\n",
      "Epoch 7/10\n",
      "707/707 [==============================] - 15s 22ms/step - loss: 0.2224 - auc: 0.9764 - val_loss: 0.3094 - val_auc: 0.9546\n",
      "Epoch 8/10\n",
      "707/707 [==============================] - 15s 22ms/step - loss: 0.2219 - auc: 0.9766 - val_loss: 0.3108 - val_auc: 0.9544\n",
      "Epoch 9/10\n",
      "707/707 [==============================] - 15s 22ms/step - loss: 0.2215 - auc: 0.9768 - val_loss: 0.3114 - val_auc: 0.9542\n",
      "Epoch 10/10\n",
      "707/707 [==============================] - 15s 22ms/step - loss: 0.2213 - auc: 0.9769 - val_loss: 0.3103 - val_auc: 0.9545\n"
     ]
    },
    {
     "name": "stderr",
     "output_type": "stream",
     "text": [
      "\n",
      " 40%|████      | 4/10 [13:01<19:34, 195.72s/it]\u001b[A"
     ]
    },
    {
     "name": "stdout",
     "output_type": "stream",
     "text": [
      "Epoch 1/10\n",
      "707/707 [==============================] - 15s 22ms/step - loss: 0.2576 - auc: 0.9662 - val_loss: 0.2939 - val_auc: 0.9590\n",
      "Epoch 2/10\n",
      "707/707 [==============================] - 15s 22ms/step - loss: 0.2356 - auc: 0.9725 - val_loss: 0.2991 - val_auc: 0.9568\n",
      "Epoch 3/10\n",
      "707/707 [==============================] - 15s 22ms/step - loss: 0.2274 - auc: 0.9746 - val_loss: 0.3055 - val_auc: 0.9554\n",
      "Epoch 4/10\n",
      "707/707 [==============================] - 15s 22ms/step - loss: 0.2251 - auc: 0.9754 - val_loss: 0.3059 - val_auc: 0.9552\n",
      "Epoch 5/10\n",
      "707/707 [==============================] - 15s 22ms/step - loss: 0.2238 - auc: 0.9759 - val_loss: 0.3080 - val_auc: 0.9549\n",
      "Epoch 6/10\n",
      "707/707 [==============================] - 15s 22ms/step - loss: 0.2227 - auc: 0.9763 - val_loss: 0.3103 - val_auc: 0.9548\n",
      "Epoch 7/10\n",
      "707/707 [==============================] - 15s 22ms/step - loss: 0.2220 - auc: 0.9766 - val_loss: 0.3113 - val_auc: 0.9544\n",
      "Epoch 8/10\n",
      "707/707 [==============================] - 15s 22ms/step - loss: 0.2216 - auc: 0.9767 - val_loss: 0.3121 - val_auc: 0.9544\n",
      "Epoch 9/10\n",
      "707/707 [==============================] - 15s 22ms/step - loss: 0.2213 - auc: 0.9769 - val_loss: 0.3147 - val_auc: 0.9538\n",
      "Epoch 10/10\n",
      "707/707 [==============================] - 15s 22ms/step - loss: 0.2210 - auc: 0.9770 - val_loss: 0.3128 - val_auc: 0.9541\n"
     ]
    },
    {
     "name": "stderr",
     "output_type": "stream",
     "text": [
      "\n",
      " 50%|█████     | 5/10 [16:16<16:16, 195.38s/it]\u001b[A"
     ]
    },
    {
     "name": "stdout",
     "output_type": "stream",
     "text": [
      "Epoch 1/10\n",
      "707/707 [==============================] - 15s 22ms/step - loss: 0.2576 - auc: 0.9663 - val_loss: 0.2943 - val_auc: 0.9589\n",
      "Epoch 2/10\n",
      "707/707 [==============================] - 15s 22ms/step - loss: 0.2356 - auc: 0.9726 - val_loss: 0.3000 - val_auc: 0.9568\n",
      "Epoch 3/10\n",
      "707/707 [==============================] - 15s 22ms/step - loss: 0.2272 - auc: 0.9747 - val_loss: 0.3061 - val_auc: 0.9554\n",
      "Epoch 4/10\n",
      "707/707 [==============================] - 15s 22ms/step - loss: 0.2250 - auc: 0.9754 - val_loss: 0.3090 - val_auc: 0.9545\n",
      "Epoch 5/10\n",
      "707/707 [==============================] - 15s 22ms/step - loss: 0.2236 - auc: 0.9760 - val_loss: 0.3105 - val_auc: 0.9545\n",
      "Epoch 6/10\n",
      "707/707 [==============================] - 15s 22ms/step - loss: 0.2226 - auc: 0.9763 - val_loss: 0.3122 - val_auc: 0.9544\n",
      "Epoch 7/10\n",
      "707/707 [==============================] - 15s 22ms/step - loss: 0.2219 - auc: 0.9766 - val_loss: 0.3145 - val_auc: 0.9540\n",
      "Epoch 8/10\n",
      "707/707 [==============================] - 15s 22ms/step - loss: 0.2214 - auc: 0.9768 - val_loss: 0.3136 - val_auc: 0.9542\n",
      "Epoch 9/10\n",
      "707/707 [==============================] - 15s 22ms/step - loss: 0.2212 - auc: 0.9770 - val_loss: 0.3137 - val_auc: 0.9542\n",
      "Epoch 10/10\n",
      "707/707 [==============================] - 15s 22ms/step - loss: 0.2209 - auc: 0.9771 - val_loss: 0.3174 - val_auc: 0.9534\n"
     ]
    },
    {
     "name": "stderr",
     "output_type": "stream",
     "text": [
      "\n",
      " 60%|██████    | 6/10 [19:31<13:00, 195.19s/it]\u001b[A"
     ]
    },
    {
     "name": "stdout",
     "output_type": "stream",
     "text": [
      "Epoch 1/10\n",
      "707/707 [==============================] - 16s 22ms/step - loss: 0.2577 - auc: 0.9663 - val_loss: 0.2946 - val_auc: 0.9590\n",
      "Epoch 2/10\n",
      "707/707 [==============================] - 15s 22ms/step - loss: 0.2353 - auc: 0.9727 - val_loss: 0.3019 - val_auc: 0.9567\n",
      "Epoch 3/10\n",
      "707/707 [==============================] - 15s 22ms/step - loss: 0.2271 - auc: 0.9748 - val_loss: 0.3076 - val_auc: 0.9552\n",
      "Epoch 4/10\n",
      "707/707 [==============================] - 15s 22ms/step - loss: 0.2248 - auc: 0.9755 - val_loss: 0.3096 - val_auc: 0.9547\n",
      "Epoch 5/10\n",
      "707/707 [==============================] - 15s 22ms/step - loss: 0.2235 - auc: 0.9760 - val_loss: 0.3109 - val_auc: 0.9545\n",
      "Epoch 6/10\n",
      "707/707 [==============================] - 15s 22ms/step - loss: 0.2227 - auc: 0.9764 - val_loss: 0.3138 - val_auc: 0.9540\n",
      "Epoch 7/10\n",
      "707/707 [==============================] - 15s 22ms/step - loss: 0.2219 - auc: 0.9767 - val_loss: 0.3150 - val_auc: 0.9541\n",
      "Epoch 8/10\n",
      "707/707 [==============================] - 15s 22ms/step - loss: 0.2213 - auc: 0.9769 - val_loss: 0.3143 - val_auc: 0.9540\n",
      "Epoch 9/10\n",
      "707/707 [==============================] - 15s 22ms/step - loss: 0.2211 - auc: 0.9770 - val_loss: 0.3153 - val_auc: 0.9538\n",
      "Epoch 10/10\n",
      "707/707 [==============================] - 15s 22ms/step - loss: 0.2208 - auc: 0.9772 - val_loss: 0.3147 - val_auc: 0.9541\n"
     ]
    },
    {
     "name": "stderr",
     "output_type": "stream",
     "text": [
      "\n",
      " 70%|███████   | 7/10 [22:45<09:44, 194.94s/it]\u001b[A"
     ]
    },
    {
     "name": "stdout",
     "output_type": "stream",
     "text": [
      "Epoch 1/10\n",
      "707/707 [==============================] - 16s 23ms/step - loss: 0.2579 - auc: 0.9664 - val_loss: 0.2962 - val_auc: 0.9589\n",
      "Epoch 2/10\n",
      "707/707 [==============================] - 15s 22ms/step - loss: 0.2355 - auc: 0.9727 - val_loss: 0.3030 - val_auc: 0.9565\n",
      "Epoch 3/10\n",
      "707/707 [==============================] - 15s 22ms/step - loss: 0.2272 - auc: 0.9748 - val_loss: 0.3101 - val_auc: 0.9549\n",
      "Epoch 4/10\n",
      "707/707 [==============================] - 15s 22ms/step - loss: 0.2249 - auc: 0.9755 - val_loss: 0.3125 - val_auc: 0.9545\n",
      "Epoch 5/10\n",
      "707/707 [==============================] - 15s 22ms/step - loss: 0.2236 - auc: 0.9760 - val_loss: 0.3119 - val_auc: 0.9546\n",
      "Epoch 6/10\n",
      "707/707 [==============================] - 15s 22ms/step - loss: 0.2227 - auc: 0.9764 - val_loss: 0.3152 - val_auc: 0.9541\n",
      "Epoch 7/10\n",
      "707/707 [==============================] - 15s 22ms/step - loss: 0.2221 - auc: 0.9767 - val_loss: 0.3163 - val_auc: 0.9539\n",
      "Epoch 8/10\n",
      "707/707 [==============================] - 15s 22ms/step - loss: 0.2216 - auc: 0.9769 - val_loss: 0.3173 - val_auc: 0.9539\n",
      "Epoch 9/10\n",
      "707/707 [==============================] - 15s 22ms/step - loss: 0.2212 - auc: 0.9770 - val_loss: 0.3181 - val_auc: 0.9536\n",
      "Epoch 10/10\n",
      "707/707 [==============================] - 15s 22ms/step - loss: 0.2210 - auc: 0.9772 - val_loss: 0.3176 - val_auc: 0.9539\n"
     ]
    },
    {
     "name": "stderr",
     "output_type": "stream",
     "text": [
      "\n",
      " 80%|████████  | 8/10 [26:00<06:29, 194.83s/it]\u001b[A"
     ]
    },
    {
     "name": "stdout",
     "output_type": "stream",
     "text": [
      "Epoch 1/10\n",
      "707/707 [==============================] - 15s 22ms/step - loss: 0.2582 - auc: 0.9663 - val_loss: 0.2971 - val_auc: 0.9589\n",
      "Epoch 2/10\n",
      "707/707 [==============================] - 15s 22ms/step - loss: 0.2359 - auc: 0.9727 - val_loss: 0.3025 - val_auc: 0.9566\n",
      "Epoch 3/10\n",
      "707/707 [==============================] - 15s 22ms/step - loss: 0.2277 - auc: 0.9748 - val_loss: 0.3131 - val_auc: 0.9546\n",
      "Epoch 4/10\n",
      "707/707 [==============================] - 15s 22ms/step - loss: 0.2253 - auc: 0.9755 - val_loss: 0.3137 - val_auc: 0.9544\n",
      "Epoch 5/10\n",
      "707/707 [==============================] - 15s 22ms/step - loss: 0.2241 - auc: 0.9760 - val_loss: 0.3157 - val_auc: 0.9540\n",
      "Epoch 6/10\n",
      "707/707 [==============================] - 15s 22ms/step - loss: 0.2231 - auc: 0.9764 - val_loss: 0.3175 - val_auc: 0.9537\n",
      "Epoch 7/10\n",
      "707/707 [==============================] - 15s 22ms/step - loss: 0.2224 - auc: 0.9767 - val_loss: 0.3206 - val_auc: 0.9533\n",
      "Epoch 8/10\n",
      "707/707 [==============================] - 15s 22ms/step - loss: 0.2218 - auc: 0.9769 - val_loss: 0.3185 - val_auc: 0.9535\n",
      "Epoch 9/10\n",
      "707/707 [==============================] - 15s 22ms/step - loss: 0.2216 - auc: 0.9770 - val_loss: 0.3194 - val_auc: 0.9534\n",
      "Epoch 10/10\n",
      "707/707 [==============================] - 15s 22ms/step - loss: 0.2214 - auc: 0.9771 - val_loss: 0.3198 - val_auc: 0.9535\n"
     ]
    },
    {
     "name": "stderr",
     "output_type": "stream",
     "text": [
      "\n",
      " 90%|█████████ | 9/10 [29:14<03:14, 194.58s/it]\u001b[A"
     ]
    },
    {
     "name": "stdout",
     "output_type": "stream",
     "text": [
      "Epoch 1/10\n",
      "707/707 [==============================] - 15s 22ms/step - loss: 0.2585 - auc: 0.9663 - val_loss: 0.2969 - val_auc: 0.9589\n",
      "Epoch 2/10\n",
      "707/707 [==============================] - 15s 22ms/step - loss: 0.2362 - auc: 0.9727 - val_loss: 0.3058 - val_auc: 0.9561\n",
      "Epoch 3/10\n",
      "707/707 [==============================] - 15s 22ms/step - loss: 0.2279 - auc: 0.9748 - val_loss: 0.3109 - val_auc: 0.9549\n",
      "Epoch 4/10\n",
      "707/707 [==============================] - 15s 22ms/step - loss: 0.2255 - auc: 0.9755 - val_loss: 0.3158 - val_auc: 0.9542\n",
      "Epoch 5/10\n",
      "707/707 [==============================] - 15s 22ms/step - loss: 0.2243 - auc: 0.9760 - val_loss: 0.3167 - val_auc: 0.9539\n",
      "Epoch 6/10\n",
      "707/707 [==============================] - 15s 22ms/step - loss: 0.2232 - auc: 0.9764 - val_loss: 0.3169 - val_auc: 0.9536\n",
      "Epoch 7/10\n",
      "707/707 [==============================] - 15s 22ms/step - loss: 0.2226 - auc: 0.9766 - val_loss: 0.3183 - val_auc: 0.9537\n",
      "Epoch 8/10\n",
      "707/707 [==============================] - 15s 22ms/step - loss: 0.2220 - auc: 0.9769 - val_loss: 0.3213 - val_auc: 0.9535\n",
      "Epoch 9/10\n",
      "707/707 [==============================] - 15s 22ms/step - loss: 0.2218 - auc: 0.9770 - val_loss: 0.3205 - val_auc: 0.9535\n",
      "Epoch 10/10\n",
      "707/707 [==============================] - 15s 22ms/step - loss: 0.2215 - auc: 0.9771 - val_loss: 0.3227 - val_auc: 0.9533\n"
     ]
    },
    {
     "name": "stderr",
     "output_type": "stream",
     "text": [
      "\n",
      "100%|██████████| 10/10 [32:29<00:00, 194.90s/it]\u001b[A\n"
     ]
    }
   ],
   "source": [
    "for epoch in tqdm.tqdm(range((num_epochs))):\n",
    "    # Generate training instances\n",
    "    user_input, item_input, labels = get_train_instances(train_dict, num_negatives, album_id_list)\n",
    "\n",
    "    # Training\n",
    "#     hist = model.fit([np.array(user_input), np.array(item_input)], #input\n",
    "#                      np.array(labels), # labels \n",
    "#                      batch_size=batch_size, nb_epoch=1, verbose=0, shuffle=True)\n",
    "\n",
    "#     break\n",
    "                       \n",
    "    hist = model.fit([np.array(user_input), np.array(item_input)], #input\n",
    "                     np.array(labels), # labels \n",
    "                     batch_size=2**15, epochs=10, verbose=1,\n",
    "#                      validation_split=0.2,\n",
    "                     validation_data=([np.array(test_user_input), np.array(test_item_input)],\n",
    "                                     np.array(test_labels)),\n",
    "                     shuffle=True\n",
    "                    )\n",
    "\n",
    "    # Evaluation\n",
    "#     if epoch %verbose == 0:\n",
    "#         (hits, ndcgs) = evaluate_model(model, testRatings, testNegatives, topK, evaluation_threads)\n",
    "#         hr, ndcg, loss = np.array(hits).mean(), np.array(ndcgs).mean(), hist.history['loss'][0]\n",
    "#         print('Iteration %d [%.1f s]: HR = %.4f, NDCG = %.4f, loss = %.4f [%.1f s]' \n",
    "#               % (epoch,  t2-t1, hr, ndcg, loss, time()-t2))\n",
    "#         if hr > best_hr:\n",
    "#             best_hr, best_ndcg, best_iter = hr, ndcg, epoch\n",
    "#             if args.out > 0:\n",
    "#                 model.save_weights(model_out_file, overwrite=True)"
   ]
  },
  {
   "cell_type": "code",
   "execution_count": 51,
   "metadata": {},
   "outputs": [
    {
     "name": "stdout",
     "output_type": "stream",
     "text": [
      "WARNING:tensorflow:From /home/ubuntu/anaconda3/envs/tensorflow2_latest_p37/lib/python3.7/site-packages/tensorflow/python/training/tracking/tracking.py:111: Model.state_updates (from tensorflow.python.keras.engine.training) is deprecated and will be removed in a future version.\n",
      "Instructions for updating:\n",
      "This property should not be used in TensorFlow 2.0, as updates are applied automatically.\n"
     ]
    },
    {
     "name": "stderr",
     "output_type": "stream",
     "text": [
      "WARNING:tensorflow:From /home/ubuntu/anaconda3/envs/tensorflow2_latest_p37/lib/python3.7/site-packages/tensorflow/python/training/tracking/tracking.py:111: Model.state_updates (from tensorflow.python.keras.engine.training) is deprecated and will be removed in a future version.\n",
      "Instructions for updating:\n",
      "This property should not be used in TensorFlow 2.0, as updates are applied automatically.\n"
     ]
    },
    {
     "name": "stdout",
     "output_type": "stream",
     "text": [
      "WARNING:tensorflow:From /home/ubuntu/anaconda3/envs/tensorflow2_latest_p37/lib/python3.7/site-packages/tensorflow/python/training/tracking/tracking.py:111: Layer.updates (from tensorflow.python.keras.engine.base_layer) is deprecated and will be removed in a future version.\n",
      "Instructions for updating:\n",
      "This property should not be used in TensorFlow 2.0, as updates are applied automatically.\n"
     ]
    },
    {
     "name": "stderr",
     "output_type": "stream",
     "text": [
      "WARNING:tensorflow:From /home/ubuntu/anaconda3/envs/tensorflow2_latest_p37/lib/python3.7/site-packages/tensorflow/python/training/tracking/tracking.py:111: Layer.updates (from tensorflow.python.keras.engine.base_layer) is deprecated and will be removed in a future version.\n",
      "Instructions for updating:\n",
      "This property should not be used in TensorFlow 2.0, as updates are applied automatically.\n"
     ]
    },
    {
     "name": "stdout",
     "output_type": "stream",
     "text": [
      "INFO:tensorflow:Assets written to: ../../model/said_albumid_onlineNegative/case1_re5/10_epochs_01_negative/assets\n"
     ]
    },
    {
     "name": "stderr",
     "output_type": "stream",
     "text": [
      "INFO:tensorflow:Assets written to: ../../model/said_albumid_onlineNegative/case1_re5/10_epochs_01_negative/assets\n"
     ]
    }
   ],
   "source": [
    "filepath = '../../model/said_albumid_onlineNegative/case1_re5/{0:02d}_epochs_{1:02d}_negative'.format(num_epochs, num_negatives)\n",
    "model.save(filepath=filepath)"
   ]
  },
  {
   "cell_type": "markdown",
   "metadata": {},
   "source": [
    "* 210108 10epochs"
   ]
  },
  {
   "cell_type": "code",
   "execution_count": 27,
   "metadata": {},
   "outputs": [
    {
     "name": "stderr",
     "output_type": "stream",
     "text": [
      "  0%|          | 0/10 [00:00<?, ?it/s]/home/ubuntu/anaconda3/envs/tensorflow2_latest_p37/lib/python3.7/site-packages/tensorflow/python/framework/indexed_slices.py:433: UserWarning: Converting sparse IndexedSlices to a dense Tensor of unknown shape. This may consume a large amount of memory.\n",
      "  \"Converting sparse IndexedSlices to a dense Tensor of unknown shape. \"\n"
     ]
    },
    {
     "name": "stdout",
     "output_type": "stream",
     "text": [
      "18/18 [==============================] - 2s 123ms/step - loss: 0.6865 - auc: 0.8303 - val_loss: 0.6731 - val_auc: 0.9047\n"
     ]
    },
    {
     "name": "stderr",
     "output_type": "stream",
     "text": [
      "\r",
      " 10%|█         | 1/10 [00:43<06:34, 43.79s/it]"
     ]
    },
    {
     "name": "stdout",
     "output_type": "stream",
     "text": [
      "18/18 [==============================] - 2s 135ms/step - loss: 0.6433 - auc: 0.8860 - val_loss: 0.5928 - val_auc: 0.9081\n"
     ]
    },
    {
     "name": "stderr",
     "output_type": "stream",
     "text": [
      "\r",
      " 20%|██        | 2/10 [01:26<05:47, 43.42s/it]"
     ]
    },
    {
     "name": "stdout",
     "output_type": "stream",
     "text": [
      "18/18 [==============================] - 2s 104ms/step - loss: 0.5243 - auc: 0.8916 - val_loss: 0.4391 - val_auc: 0.9287\n"
     ]
    },
    {
     "name": "stderr",
     "output_type": "stream",
     "text": [
      "\r",
      " 30%|███       | 3/10 [02:08<05:00, 42.95s/it]"
     ]
    },
    {
     "name": "stdout",
     "output_type": "stream",
     "text": [
      "18/18 [==============================] - 2s 105ms/step - loss: 0.3860 - auc: 0.9109 - val_loss: 0.3472 - val_auc: 0.9357\n"
     ]
    },
    {
     "name": "stderr",
     "output_type": "stream",
     "text": [
      "\r",
      " 40%|████      | 4/10 [02:50<04:16, 42.70s/it]"
     ]
    },
    {
     "name": "stdout",
     "output_type": "stream",
     "text": [
      "18/18 [==============================] - 2s 104ms/step - loss: 0.3356 - auc: 0.9325 - val_loss: 0.3274 - val_auc: 0.9370\n"
     ]
    },
    {
     "name": "stderr",
     "output_type": "stream",
     "text": [
      "\r",
      " 50%|█████     | 5/10 [03:32<03:32, 42.59s/it]"
     ]
    },
    {
     "name": "stdout",
     "output_type": "stream",
     "text": [
      "18/18 [==============================] - 3s 139ms/step - loss: 0.3234 - auc: 0.9374 - val_loss: 0.3200 - val_auc: 0.9383\n"
     ]
    },
    {
     "name": "stderr",
     "output_type": "stream",
     "text": [
      "\r",
      " 60%|██████    | 6/10 [04:15<02:50, 42.62s/it]"
     ]
    },
    {
     "name": "stdout",
     "output_type": "stream",
     "text": [
      "18/18 [==============================] - 2s 104ms/step - loss: 0.3150 - auc: 0.9397 - val_loss: 0.3137 - val_auc: 0.9399\n"
     ]
    },
    {
     "name": "stderr",
     "output_type": "stream",
     "text": [
      "\r",
      " 70%|███████   | 7/10 [04:57<02:07, 42.36s/it]"
     ]
    },
    {
     "name": "stdout",
     "output_type": "stream",
     "text": [
      "18/18 [==============================] - 2s 106ms/step - loss: 0.3077 - auc: 0.9418 - val_loss: 0.3098 - val_auc: 0.9414\n"
     ]
    },
    {
     "name": "stderr",
     "output_type": "stream",
     "text": [
      "\r",
      " 80%|████████  | 8/10 [05:38<01:24, 42.21s/it]"
     ]
    },
    {
     "name": "stdout",
     "output_type": "stream",
     "text": [
      "18/18 [==============================] - 2s 105ms/step - loss: 0.3007 - auc: 0.9444 - val_loss: 0.3062 - val_auc: 0.9433\n"
     ]
    },
    {
     "name": "stderr",
     "output_type": "stream",
     "text": [
      "\r",
      " 90%|█████████ | 9/10 [06:21<00:42, 42.16s/it]"
     ]
    },
    {
     "name": "stdout",
     "output_type": "stream",
     "text": [
      "18/18 [==============================] - 3s 140ms/step - loss: 0.2935 - auc: 0.9472 - val_loss: 0.3036 - val_auc: 0.9446\n"
     ]
    },
    {
     "name": "stderr",
     "output_type": "stream",
     "text": [
      "100%|██████████| 10/10 [07:03<00:00, 42.40s/it]\n"
     ]
    }
   ],
   "source": [
    "for epoch in tqdm.tqdm(range((num_epochs))):\n",
    "    # Generate training instances\n",
    "    user_input, item_input, labels = get_train_instances(data_dict, num_negatives, album_id_list)\n",
    "\n",
    "    # Training\n",
    "#     hist = model.fit([np.array(user_input), np.array(item_input)], #input\n",
    "#                      np.array(labels), # labels \n",
    "#                      batch_size=batch_size, nb_epoch=1, verbose=0, shuffle=True)\n",
    "\n",
    "#     break\n",
    "                       \n",
    "    hist = model.fit([np.array(user_input), np.array(item_input)], #input\n",
    "                     np.array(labels), # labels \n",
    "                     batch_size=2**20, epochs=1, verbose=1, validation_split=0.2,\n",
    "                     shuffle=True\n",
    "                    )\n",
    "\n",
    "    # Evaluation\n",
    "#     if epoch %verbose == 0:\n",
    "#         (hits, ndcgs) = evaluate_model(model, testRatings, testNegatives, topK, evaluation_threads)\n",
    "#         hr, ndcg, loss = np.array(hits).mean(), np.array(ndcgs).mean(), hist.history['loss'][0]\n",
    "#         print('Iteration %d [%.1f s]: HR = %.4f, NDCG = %.4f, loss = %.4f [%.1f s]' \n",
    "#               % (epoch,  t2-t1, hr, ndcg, loss, time()-t2))\n",
    "#         if hr > best_hr:\n",
    "#             best_hr, best_ndcg, best_iter = hr, ndcg, epoch\n",
    "#             if args.out > 0:\n",
    "#                 model.save_weights(model_out_file, overwrite=True)"
   ]
  },
  {
   "cell_type": "code",
   "execution_count": 28,
   "metadata": {},
   "outputs": [
    {
     "name": "stdout",
     "output_type": "stream",
     "text": [
      "WARNING:tensorflow:From /home/ubuntu/anaconda3/envs/tensorflow2_latest_p37/lib/python3.7/site-packages/tensorflow/python/training/tracking/tracking.py:111: Model.state_updates (from tensorflow.python.keras.engine.training) is deprecated and will be removed in a future version.\n",
      "Instructions for updating:\n",
      "This property should not be used in TensorFlow 2.0, as updates are applied automatically.\n"
     ]
    },
    {
     "name": "stderr",
     "output_type": "stream",
     "text": [
      "WARNING:tensorflow:From /home/ubuntu/anaconda3/envs/tensorflow2_latest_p37/lib/python3.7/site-packages/tensorflow/python/training/tracking/tracking.py:111: Model.state_updates (from tensorflow.python.keras.engine.training) is deprecated and will be removed in a future version.\n",
      "Instructions for updating:\n",
      "This property should not be used in TensorFlow 2.0, as updates are applied automatically.\n"
     ]
    },
    {
     "name": "stdout",
     "output_type": "stream",
     "text": [
      "WARNING:tensorflow:From /home/ubuntu/anaconda3/envs/tensorflow2_latest_p37/lib/python3.7/site-packages/tensorflow/python/training/tracking/tracking.py:111: Layer.updates (from tensorflow.python.keras.engine.base_layer) is deprecated and will be removed in a future version.\n",
      "Instructions for updating:\n",
      "This property should not be used in TensorFlow 2.0, as updates are applied automatically.\n"
     ]
    },
    {
     "name": "stderr",
     "output_type": "stream",
     "text": [
      "WARNING:tensorflow:From /home/ubuntu/anaconda3/envs/tensorflow2_latest_p37/lib/python3.7/site-packages/tensorflow/python/training/tracking/tracking.py:111: Layer.updates (from tensorflow.python.keras.engine.base_layer) is deprecated and will be removed in a future version.\n",
      "Instructions for updating:\n",
      "This property should not be used in TensorFlow 2.0, as updates are applied automatically.\n"
     ]
    },
    {
     "name": "stdout",
     "output_type": "stream",
     "text": [
      "INFO:tensorflow:Assets written to: ../../model/said_albumid_onlineNegative/case1_re4/10_epochs_01_negative/assets\n"
     ]
    },
    {
     "name": "stderr",
     "output_type": "stream",
     "text": [
      "INFO:tensorflow:Assets written to: ../../model/said_albumid_onlineNegative/case1_re4/10_epochs_01_negative/assets\n"
     ]
    }
   ],
   "source": [
    "filepath = '../../model/said_albumid_onlineNegative/case1_re4/{0:02d}_epochs_{1:02d}_negative'.format(num_epochs, num_negatives)\n",
    "model.save(filepath=filepath)"
   ]
  },
  {
   "cell_type": "markdown",
   "metadata": {},
   "source": [
    "* 210108 100epochs"
   ]
  },
  {
   "cell_type": "code",
   "execution_count": 36,
   "metadata": {},
   "outputs": [
    {
     "name": "stderr",
     "output_type": "stream",
     "text": [
      "  0%|          | 0/100 [00:00<?, ?it/s]/home/ubuntu/anaconda3/envs/tensorflow2_latest_p37/lib/python3.7/site-packages/tensorflow/python/framework/indexed_slices.py:433: UserWarning: Converting sparse IndexedSlices to a dense Tensor of unknown shape. This may consume a large amount of memory.\n",
      "  \"Converting sparse IndexedSlices to a dense Tensor of unknown shape. \"\n"
     ]
    },
    {
     "name": "stdout",
     "output_type": "stream",
     "text": [
      "18/18 [==============================] - 2s 124ms/step - loss: 0.6864 - auc: 0.8188 - val_loss: 0.6720 - val_auc: 0.8985\n"
     ]
    },
    {
     "name": "stderr",
     "output_type": "stream",
     "text": [
      "\r",
      "  1%|          | 1/100 [00:43<1:11:11, 43.14s/it]"
     ]
    },
    {
     "name": "stdout",
     "output_type": "stream",
     "text": [
      "18/18 [==============================] - 2s 104ms/step - loss: 0.6397 - auc: 0.8856 - val_loss: 0.5840 - val_auc: 0.9096\n"
     ]
    },
    {
     "name": "stderr",
     "output_type": "stream",
     "text": [
      "\r",
      "  2%|▏         | 2/100 [01:23<1:09:15, 42.40s/it]"
     ]
    },
    {
     "name": "stdout",
     "output_type": "stream",
     "text": [
      "18/18 [==============================] - 2s 104ms/step - loss: 0.5090 - auc: 0.8923 - val_loss: 0.4198 - val_auc: 0.9258\n"
     ]
    },
    {
     "name": "stderr",
     "output_type": "stream",
     "text": [
      "\r",
      "  3%|▎         | 3/100 [02:04<1:07:51, 41.97s/it]"
     ]
    },
    {
     "name": "stdout",
     "output_type": "stream",
     "text": [
      "18/18 [==============================] - 2s 105ms/step - loss: 0.3717 - auc: 0.9141 - val_loss: 0.3399 - val_auc: 0.9355\n"
     ]
    },
    {
     "name": "stderr",
     "output_type": "stream",
     "text": [
      "\r",
      "  4%|▍         | 4/100 [02:45<1:06:45, 41.72s/it]"
     ]
    },
    {
     "name": "stdout",
     "output_type": "stream",
     "text": [
      "18/18 [==============================] - 2s 105ms/step - loss: 0.3322 - auc: 0.9338 - val_loss: 0.3260 - val_auc: 0.9368\n"
     ]
    },
    {
     "name": "stderr",
     "output_type": "stream",
     "text": [
      "\r",
      "  5%|▌         | 5/100 [03:26<1:05:42, 41.50s/it]"
     ]
    },
    {
     "name": "stdout",
     "output_type": "stream",
     "text": [
      "18/18 [==============================] - 2s 105ms/step - loss: 0.3219 - auc: 0.9376 - val_loss: 0.3183 - val_auc: 0.9386\n"
     ]
    },
    {
     "name": "stderr",
     "output_type": "stream",
     "text": [
      "\r",
      "  6%|▌         | 6/100 [04:07<1:04:40, 41.28s/it]"
     ]
    },
    {
     "name": "stdout",
     "output_type": "stream",
     "text": [
      "18/18 [==============================] - 2s 106ms/step - loss: 0.3141 - auc: 0.9398 - val_loss: 0.3132 - val_auc: 0.9400\n"
     ]
    },
    {
     "name": "stderr",
     "output_type": "stream",
     "text": [
      "\r",
      "  7%|▋         | 7/100 [04:48<1:03:45, 41.14s/it]"
     ]
    },
    {
     "name": "stdout",
     "output_type": "stream",
     "text": [
      "18/18 [==============================] - 2s 106ms/step - loss: 0.3072 - auc: 0.9420 - val_loss: 0.3091 - val_auc: 0.9417\n"
     ]
    },
    {
     "name": "stderr",
     "output_type": "stream",
     "text": [
      "\r",
      "  8%|▊         | 8/100 [05:29<1:02:59, 41.09s/it]"
     ]
    },
    {
     "name": "stdout",
     "output_type": "stream",
     "text": [
      "18/18 [==============================] - 2s 104ms/step - loss: 0.2997 - auc: 0.9448 - val_loss: 0.3054 - val_auc: 0.9436\n"
     ]
    },
    {
     "name": "stderr",
     "output_type": "stream",
     "text": [
      "\r",
      "  9%|▉         | 9/100 [06:10<1:02:15, 41.05s/it]"
     ]
    },
    {
     "name": "stdout",
     "output_type": "stream",
     "text": [
      "18/18 [==============================] - 2s 105ms/step - loss: 0.2928 - auc: 0.9474 - val_loss: 0.3031 - val_auc: 0.9446\n"
     ]
    },
    {
     "name": "stderr",
     "output_type": "stream",
     "text": [
      "\r",
      " 10%|█         | 10/100 [06:51<1:01:26, 40.96s/it]"
     ]
    },
    {
     "name": "stdout",
     "output_type": "stream",
     "text": [
      "18/18 [==============================] - 2s 105ms/step - loss: 0.2867 - auc: 0.9492 - val_loss: 0.3021 - val_auc: 0.9453\n"
     ]
    },
    {
     "name": "stderr",
     "output_type": "stream",
     "text": [
      "\r",
      " 11%|█         | 11/100 [07:32<1:00:50, 41.02s/it]"
     ]
    },
    {
     "name": "stdout",
     "output_type": "stream",
     "text": [
      "18/18 [==============================] - 2s 106ms/step - loss: 0.2815 - auc: 0.9511 - val_loss: 0.3001 - val_auc: 0.9467\n"
     ]
    },
    {
     "name": "stderr",
     "output_type": "stream",
     "text": [
      "\r",
      " 12%|█▏        | 12/100 [08:13<1:00:07, 40.99s/it]"
     ]
    },
    {
     "name": "stdout",
     "output_type": "stream",
     "text": [
      "18/18 [==============================] - 2s 106ms/step - loss: 0.2769 - auc: 0.9528 - val_loss: 0.2978 - val_auc: 0.9478\n"
     ]
    },
    {
     "name": "stderr",
     "output_type": "stream",
     "text": [
      "\r",
      " 13%|█▎        | 13/100 [08:54<59:30, 41.04s/it]  "
     ]
    },
    {
     "name": "stdout",
     "output_type": "stream",
     "text": [
      "18/18 [==============================] - 2s 105ms/step - loss: 0.2735 - auc: 0.9539 - val_loss: 0.2966 - val_auc: 0.9484\n"
     ]
    },
    {
     "name": "stderr",
     "output_type": "stream",
     "text": [
      "\r",
      " 14%|█▍        | 14/100 [09:35<58:44, 40.98s/it]"
     ]
    },
    {
     "name": "stdout",
     "output_type": "stream",
     "text": [
      "18/18 [==============================] - 2s 105ms/step - loss: 0.2706 - auc: 0.9547 - val_loss: 0.2955 - val_auc: 0.9489\n"
     ]
    },
    {
     "name": "stderr",
     "output_type": "stream",
     "text": [
      "\r",
      " 15%|█▌        | 15/100 [10:16<58:10, 41.06s/it]"
     ]
    },
    {
     "name": "stdout",
     "output_type": "stream",
     "text": [
      "18/18 [==============================] - 2s 105ms/step - loss: 0.2683 - auc: 0.9554 - val_loss: 0.2952 - val_auc: 0.9491\n"
     ]
    },
    {
     "name": "stderr",
     "output_type": "stream",
     "text": [
      "\r",
      " 16%|█▌        | 16/100 [10:57<57:30, 41.08s/it]"
     ]
    },
    {
     "name": "stdout",
     "output_type": "stream",
     "text": [
      "18/18 [==============================] - 2s 104ms/step - loss: 0.2666 - auc: 0.9559 - val_loss: 0.2946 - val_auc: 0.9494\n"
     ]
    },
    {
     "name": "stderr",
     "output_type": "stream",
     "text": [
      "\r",
      " 17%|█▋        | 17/100 [11:38<56:45, 41.03s/it]"
     ]
    },
    {
     "name": "stdout",
     "output_type": "stream",
     "text": [
      "18/18 [==============================] - 2s 105ms/step - loss: 0.2650 - auc: 0.9562 - val_loss: 0.2945 - val_auc: 0.9495\n"
     ]
    },
    {
     "name": "stderr",
     "output_type": "stream",
     "text": [
      "\r",
      " 18%|█▊        | 18/100 [12:19<56:04, 41.03s/it]"
     ]
    },
    {
     "name": "stdout",
     "output_type": "stream",
     "text": [
      "18/18 [==============================] - 2s 106ms/step - loss: 0.2631 - auc: 0.9567 - val_loss: 0.2948 - val_auc: 0.9496\n"
     ]
    },
    {
     "name": "stderr",
     "output_type": "stream",
     "text": [
      "\r",
      " 19%|█▉        | 19/100 [13:00<55:23, 41.03s/it]"
     ]
    },
    {
     "name": "stdout",
     "output_type": "stream",
     "text": [
      "18/18 [==============================] - 2s 105ms/step - loss: 0.2613 - auc: 0.9572 - val_loss: 0.2944 - val_auc: 0.9498\n"
     ]
    },
    {
     "name": "stderr",
     "output_type": "stream",
     "text": [
      "\r",
      " 20%|██        | 20/100 [13:41<54:43, 41.05s/it]"
     ]
    },
    {
     "name": "stdout",
     "output_type": "stream",
     "text": [
      "18/18 [==============================] - 2s 104ms/step - loss: 0.2595 - auc: 0.9576 - val_loss: 0.2946 - val_auc: 0.9498\n"
     ]
    },
    {
     "name": "stderr",
     "output_type": "stream",
     "text": [
      "\r",
      " 21%|██        | 21/100 [14:22<54:07, 41.11s/it]"
     ]
    },
    {
     "name": "stdout",
     "output_type": "stream",
     "text": [
      "18/18 [==============================] - 2s 106ms/step - loss: 0.2580 - auc: 0.9579 - val_loss: 0.2944 - val_auc: 0.9499\n"
     ]
    },
    {
     "name": "stderr",
     "output_type": "stream",
     "text": [
      "\r",
      " 22%|██▏       | 22/100 [15:03<53:24, 41.08s/it]"
     ]
    },
    {
     "name": "stdout",
     "output_type": "stream",
     "text": [
      "18/18 [==============================] - 2s 104ms/step - loss: 0.2561 - auc: 0.9585 - val_loss: 0.2940 - val_auc: 0.9501\n"
     ]
    },
    {
     "name": "stderr",
     "output_type": "stream",
     "text": [
      "\r",
      " 23%|██▎       | 23/100 [15:44<52:37, 41.01s/it]"
     ]
    },
    {
     "name": "stdout",
     "output_type": "stream",
     "text": [
      "18/18 [==============================] - 2s 106ms/step - loss: 0.2541 - auc: 0.9590 - val_loss: 0.2936 - val_auc: 0.9504\n"
     ]
    },
    {
     "name": "stderr",
     "output_type": "stream",
     "text": [
      "\r",
      " 24%|██▍       | 24/100 [16:25<51:58, 41.04s/it]"
     ]
    },
    {
     "name": "stdout",
     "output_type": "stream",
     "text": [
      "18/18 [==============================] - 2s 106ms/step - loss: 0.2519 - auc: 0.9596 - val_loss: 0.2931 - val_auc: 0.9507\n"
     ]
    },
    {
     "name": "stderr",
     "output_type": "stream",
     "text": [
      "\r",
      " 25%|██▌       | 25/100 [17:06<51:11, 40.95s/it]"
     ]
    },
    {
     "name": "stdout",
     "output_type": "stream",
     "text": [
      "18/18 [==============================] - 2s 106ms/step - loss: 0.2495 - auc: 0.9604 - val_loss: 0.2922 - val_auc: 0.9512\n"
     ]
    },
    {
     "name": "stderr",
     "output_type": "stream",
     "text": [
      "\r",
      " 26%|██▌       | 26/100 [17:47<50:35, 41.01s/it]"
     ]
    },
    {
     "name": "stdout",
     "output_type": "stream",
     "text": [
      "18/18 [==============================] - 2s 106ms/step - loss: 0.2473 - auc: 0.9610 - val_loss: 0.2922 - val_auc: 0.9514\n"
     ]
    },
    {
     "name": "stderr",
     "output_type": "stream",
     "text": [
      "\r",
      " 27%|██▋       | 27/100 [18:28<49:55, 41.04s/it]"
     ]
    },
    {
     "name": "stdout",
     "output_type": "stream",
     "text": [
      "18/18 [==============================] - 2s 105ms/step - loss: 0.2445 - auc: 0.9618 - val_loss: 0.2920 - val_auc: 0.9518\n"
     ]
    },
    {
     "name": "stderr",
     "output_type": "stream",
     "text": [
      "\r",
      " 28%|██▊       | 28/100 [19:10<49:21, 41.13s/it]"
     ]
    },
    {
     "name": "stdout",
     "output_type": "stream",
     "text": [
      "18/18 [==============================] - 2s 105ms/step - loss: 0.2423 - auc: 0.9625 - val_loss: 0.2917 - val_auc: 0.9522\n"
     ]
    },
    {
     "name": "stderr",
     "output_type": "stream",
     "text": [
      "\r",
      " 29%|██▉       | 29/100 [19:51<48:40, 41.14s/it]"
     ]
    },
    {
     "name": "stdout",
     "output_type": "stream",
     "text": [
      "18/18 [==============================] - 2s 106ms/step - loss: 0.2398 - auc: 0.9633 - val_loss: 0.2924 - val_auc: 0.9522\n"
     ]
    },
    {
     "name": "stderr",
     "output_type": "stream",
     "text": [
      "\r",
      " 30%|███       | 30/100 [20:32<48:02, 41.17s/it]"
     ]
    },
    {
     "name": "stdout",
     "output_type": "stream",
     "text": [
      "18/18 [==============================] - 2s 106ms/step - loss: 0.2378 - auc: 0.9638 - val_loss: 0.2929 - val_auc: 0.9525\n"
     ]
    },
    {
     "name": "stderr",
     "output_type": "stream",
     "text": [
      "\r",
      " 31%|███       | 31/100 [21:13<47:14, 41.08s/it]"
     ]
    },
    {
     "name": "stdout",
     "output_type": "stream",
     "text": [
      "18/18 [==============================] - 2s 106ms/step - loss: 0.2359 - auc: 0.9644 - val_loss: 0.2938 - val_auc: 0.9526\n"
     ]
    },
    {
     "name": "stderr",
     "output_type": "stream",
     "text": [
      "\r",
      " 32%|███▏      | 32/100 [21:54<46:30, 41.04s/it]"
     ]
    },
    {
     "name": "stdout",
     "output_type": "stream",
     "text": [
      "18/18 [==============================] - 2s 105ms/step - loss: 0.2338 - auc: 0.9650 - val_loss: 0.2946 - val_auc: 0.9527\n"
     ]
    },
    {
     "name": "stderr",
     "output_type": "stream",
     "text": [
      "\r",
      " 33%|███▎      | 33/100 [22:35<45:48, 41.02s/it]"
     ]
    },
    {
     "name": "stdout",
     "output_type": "stream",
     "text": [
      "18/18 [==============================] - 2s 106ms/step - loss: 0.2316 - auc: 0.9657 - val_loss: 0.2951 - val_auc: 0.9529\n"
     ]
    },
    {
     "name": "stderr",
     "output_type": "stream",
     "text": [
      "\r",
      " 34%|███▍      | 34/100 [23:16<45:09, 41.05s/it]"
     ]
    },
    {
     "name": "stdout",
     "output_type": "stream",
     "text": [
      "18/18 [==============================] - 2s 105ms/step - loss: 0.2301 - auc: 0.9661 - val_loss: 0.2955 - val_auc: 0.9531\n"
     ]
    },
    {
     "name": "stderr",
     "output_type": "stream",
     "text": [
      "\r",
      " 35%|███▌      | 35/100 [23:57<44:29, 41.07s/it]"
     ]
    },
    {
     "name": "stdout",
     "output_type": "stream",
     "text": [
      "18/18 [==============================] - 2s 105ms/step - loss: 0.2283 - auc: 0.9667 - val_loss: 0.2965 - val_auc: 0.9532\n"
     ]
    },
    {
     "name": "stderr",
     "output_type": "stream",
     "text": [
      "\r",
      " 36%|███▌      | 36/100 [24:38<43:49, 41.08s/it]"
     ]
    },
    {
     "name": "stdout",
     "output_type": "stream",
     "text": [
      "18/18 [==============================] - 2s 106ms/step - loss: 0.2267 - auc: 0.9672 - val_loss: 0.2983 - val_auc: 0.9530\n"
     ]
    },
    {
     "name": "stderr",
     "output_type": "stream",
     "text": [
      "\r",
      " 37%|███▋      | 37/100 [25:19<43:04, 41.02s/it]"
     ]
    },
    {
     "name": "stdout",
     "output_type": "stream",
     "text": [
      "18/18 [==============================] - 2s 104ms/step - loss: 0.2253 - auc: 0.9676 - val_loss: 0.2986 - val_auc: 0.9532\n"
     ]
    },
    {
     "name": "stderr",
     "output_type": "stream",
     "text": [
      "\r",
      " 38%|███▊      | 38/100 [26:00<42:20, 40.98s/it]"
     ]
    },
    {
     "name": "stdout",
     "output_type": "stream",
     "text": [
      "18/18 [==============================] - 2s 106ms/step - loss: 0.2238 - auc: 0.9680 - val_loss: 0.2995 - val_auc: 0.9533\n"
     ]
    },
    {
     "name": "stderr",
     "output_type": "stream",
     "text": [
      "\r",
      " 39%|███▉      | 39/100 [26:41<41:41, 41.01s/it]"
     ]
    },
    {
     "name": "stdout",
     "output_type": "stream",
     "text": [
      "18/18 [==============================] - 2s 105ms/step - loss: 0.2224 - auc: 0.9684 - val_loss: 0.3002 - val_auc: 0.9534\n"
     ]
    },
    {
     "name": "stderr",
     "output_type": "stream",
     "text": [
      "\r",
      " 40%|████      | 40/100 [27:22<40:58, 40.98s/it]"
     ]
    },
    {
     "name": "stdout",
     "output_type": "stream",
     "text": [
      "18/18 [==============================] - 2s 105ms/step - loss: 0.2212 - auc: 0.9688 - val_loss: 0.3010 - val_auc: 0.9533\n"
     ]
    },
    {
     "name": "stderr",
     "output_type": "stream",
     "text": [
      "\r",
      " 41%|████      | 41/100 [28:03<40:14, 40.93s/it]"
     ]
    },
    {
     "name": "stdout",
     "output_type": "stream",
     "text": [
      "18/18 [==============================] - 2s 104ms/step - loss: 0.2201 - auc: 0.9691 - val_loss: 0.3012 - val_auc: 0.9535\n"
     ]
    },
    {
     "name": "stderr",
     "output_type": "stream",
     "text": [
      "\r",
      " 42%|████▏     | 42/100 [28:44<39:29, 40.85s/it]"
     ]
    },
    {
     "name": "stdout",
     "output_type": "stream",
     "text": [
      "18/18 [==============================] - 2s 105ms/step - loss: 0.2191 - auc: 0.9693 - val_loss: 0.3016 - val_auc: 0.9536\n"
     ]
    },
    {
     "name": "stderr",
     "output_type": "stream",
     "text": [
      "\r",
      " 43%|████▎     | 43/100 [29:24<38:48, 40.86s/it]"
     ]
    },
    {
     "name": "stdout",
     "output_type": "stream",
     "text": [
      "18/18 [==============================] - 2s 105ms/step - loss: 0.2180 - auc: 0.9697 - val_loss: 0.3022 - val_auc: 0.9536\n"
     ]
    },
    {
     "name": "stderr",
     "output_type": "stream",
     "text": [
      "\r",
      " 44%|████▍     | 44/100 [30:05<38:09, 40.88s/it]"
     ]
    },
    {
     "name": "stdout",
     "output_type": "stream",
     "text": [
      "18/18 [==============================] - 2s 105ms/step - loss: 0.2167 - auc: 0.9700 - val_loss: 0.3035 - val_auc: 0.9536\n"
     ]
    },
    {
     "name": "stderr",
     "output_type": "stream",
     "text": [
      "\r",
      " 45%|████▌     | 45/100 [30:46<37:28, 40.88s/it]"
     ]
    },
    {
     "name": "stdout",
     "output_type": "stream",
     "text": [
      "18/18 [==============================] - 2s 106ms/step - loss: 0.2157 - auc: 0.9703 - val_loss: 0.3048 - val_auc: 0.9535\n"
     ]
    },
    {
     "name": "stderr",
     "output_type": "stream",
     "text": [
      "\r",
      " 46%|████▌     | 46/100 [31:27<36:53, 41.00s/it]"
     ]
    },
    {
     "name": "stdout",
     "output_type": "stream",
     "text": [
      "18/18 [==============================] - 2s 105ms/step - loss: 0.2149 - auc: 0.9705 - val_loss: 0.3056 - val_auc: 0.9535\n"
     ]
    },
    {
     "name": "stderr",
     "output_type": "stream",
     "text": [
      "\r",
      " 47%|████▋     | 47/100 [32:09<36:17, 41.09s/it]"
     ]
    },
    {
     "name": "stdout",
     "output_type": "stream",
     "text": [
      "18/18 [==============================] - 2s 104ms/step - loss: 0.2139 - auc: 0.9708 - val_loss: 0.3057 - val_auc: 0.9535\n"
     ]
    },
    {
     "name": "stderr",
     "output_type": "stream",
     "text": [
      "\r",
      " 48%|████▊     | 48/100 [32:50<35:42, 41.21s/it]"
     ]
    },
    {
     "name": "stdout",
     "output_type": "stream",
     "text": [
      "18/18 [==============================] - 2s 105ms/step - loss: 0.2131 - auc: 0.9710 - val_loss: 0.3060 - val_auc: 0.9536\n"
     ]
    },
    {
     "name": "stderr",
     "output_type": "stream",
     "text": [
      "\r",
      " 49%|████▉     | 49/100 [33:31<35:01, 41.21s/it]"
     ]
    },
    {
     "name": "stdout",
     "output_type": "stream",
     "text": [
      "18/18 [==============================] - 2s 105ms/step - loss: 0.2122 - auc: 0.9712 - val_loss: 0.3074 - val_auc: 0.9535\n"
     ]
    },
    {
     "name": "stderr",
     "output_type": "stream",
     "text": [
      "\r",
      " 50%|█████     | 50/100 [34:13<34:19, 41.19s/it]"
     ]
    },
    {
     "name": "stdout",
     "output_type": "stream",
     "text": [
      "18/18 [==============================] - 2s 105ms/step - loss: 0.2112 - auc: 0.9715 - val_loss: 0.3081 - val_auc: 0.9535\n"
     ]
    },
    {
     "name": "stderr",
     "output_type": "stream",
     "text": [
      "\r",
      " 51%|█████     | 51/100 [34:54<33:36, 41.15s/it]"
     ]
    },
    {
     "name": "stdout",
     "output_type": "stream",
     "text": [
      "18/18 [==============================] - 2s 105ms/step - loss: 0.2104 - auc: 0.9717 - val_loss: 0.3091 - val_auc: 0.9533\n"
     ]
    },
    {
     "name": "stderr",
     "output_type": "stream",
     "text": [
      "\r",
      " 52%|█████▏    | 52/100 [35:35<32:56, 41.18s/it]"
     ]
    },
    {
     "name": "stdout",
     "output_type": "stream",
     "text": [
      "18/18 [==============================] - 2s 105ms/step - loss: 0.2097 - auc: 0.9718 - val_loss: 0.3100 - val_auc: 0.9534\n"
     ]
    },
    {
     "name": "stderr",
     "output_type": "stream",
     "text": [
      "\r",
      " 53%|█████▎    | 53/100 [36:16<32:13, 41.14s/it]"
     ]
    },
    {
     "name": "stdout",
     "output_type": "stream",
     "text": [
      "18/18 [==============================] - 2s 106ms/step - loss: 0.2088 - auc: 0.9720 - val_loss: 0.3105 - val_auc: 0.9534\n"
     ]
    },
    {
     "name": "stderr",
     "output_type": "stream",
     "text": [
      "\r",
      " 54%|█████▍    | 54/100 [36:57<31:33, 41.17s/it]"
     ]
    },
    {
     "name": "stdout",
     "output_type": "stream",
     "text": [
      "18/18 [==============================] - 2s 104ms/step - loss: 0.2082 - auc: 0.9722 - val_loss: 0.3116 - val_auc: 0.9533\n"
     ]
    },
    {
     "name": "stderr",
     "output_type": "stream",
     "text": [
      "\r",
      " 55%|█████▌    | 55/100 [37:38<30:50, 41.13s/it]"
     ]
    },
    {
     "name": "stdout",
     "output_type": "stream",
     "text": [
      "18/18 [==============================] - 2s 105ms/step - loss: 0.2074 - auc: 0.9724 - val_loss: 0.3117 - val_auc: 0.9533\n"
     ]
    },
    {
     "name": "stderr",
     "output_type": "stream",
     "text": [
      "\r",
      " 56%|█████▌    | 56/100 [38:19<30:09, 41.13s/it]"
     ]
    },
    {
     "name": "stdout",
     "output_type": "stream",
     "text": [
      "18/18 [==============================] - 2s 105ms/step - loss: 0.2067 - auc: 0.9725 - val_loss: 0.3124 - val_auc: 0.9534\n"
     ]
    },
    {
     "name": "stderr",
     "output_type": "stream",
     "text": [
      "\r",
      " 57%|█████▋    | 57/100 [39:00<29:26, 41.08s/it]"
     ]
    },
    {
     "name": "stdout",
     "output_type": "stream",
     "text": [
      "18/18 [==============================] - 2s 105ms/step - loss: 0.2060 - auc: 0.9727 - val_loss: 0.3135 - val_auc: 0.9532\n"
     ]
    },
    {
     "name": "stderr",
     "output_type": "stream",
     "text": [
      "\r",
      " 58%|█████▊    | 58/100 [39:41<28:44, 41.05s/it]"
     ]
    },
    {
     "name": "stdout",
     "output_type": "stream",
     "text": [
      "18/18 [==============================] - 2s 105ms/step - loss: 0.2055 - auc: 0.9727 - val_loss: 0.3133 - val_auc: 0.9534\n"
     ]
    },
    {
     "name": "stderr",
     "output_type": "stream",
     "text": [
      "\r",
      " 59%|█████▉    | 59/100 [40:22<28:03, 41.07s/it]"
     ]
    },
    {
     "name": "stdout",
     "output_type": "stream",
     "text": [
      "18/18 [==============================] - 2s 105ms/step - loss: 0.2047 - auc: 0.9729 - val_loss: 0.3144 - val_auc: 0.9533\n"
     ]
    },
    {
     "name": "stderr",
     "output_type": "stream",
     "text": [
      "\r",
      " 60%|██████    | 60/100 [41:04<27:26, 41.15s/it]"
     ]
    },
    {
     "name": "stdout",
     "output_type": "stream",
     "text": [
      "18/18 [==============================] - 2s 104ms/step - loss: 0.2041 - auc: 0.9731 - val_loss: 0.3155 - val_auc: 0.9532\n"
     ]
    },
    {
     "name": "stderr",
     "output_type": "stream",
     "text": [
      "\r",
      " 61%|██████    | 61/100 [41:45<26:44, 41.15s/it]"
     ]
    },
    {
     "name": "stdout",
     "output_type": "stream",
     "text": [
      "18/18 [==============================] - 2s 105ms/step - loss: 0.2035 - auc: 0.9732 - val_loss: 0.3166 - val_auc: 0.9532\n"
     ]
    },
    {
     "name": "stderr",
     "output_type": "stream",
     "text": [
      "\r",
      " 62%|██████▏   | 62/100 [42:26<26:02, 41.11s/it]"
     ]
    },
    {
     "name": "stdout",
     "output_type": "stream",
     "text": [
      "18/18 [==============================] - 2s 105ms/step - loss: 0.2028 - auc: 0.9733 - val_loss: 0.3170 - val_auc: 0.9532\n"
     ]
    },
    {
     "name": "stderr",
     "output_type": "stream",
     "text": [
      "\r",
      " 63%|██████▎   | 63/100 [43:07<25:20, 41.09s/it]"
     ]
    },
    {
     "name": "stdout",
     "output_type": "stream",
     "text": [
      "18/18 [==============================] - 2s 104ms/step - loss: 0.2021 - auc: 0.9735 - val_loss: 0.3183 - val_auc: 0.9532\n"
     ]
    },
    {
     "name": "stderr",
     "output_type": "stream",
     "text": [
      "\r",
      " 64%|██████▍   | 64/100 [43:48<24:37, 41.04s/it]"
     ]
    },
    {
     "name": "stdout",
     "output_type": "stream",
     "text": [
      "18/18 [==============================] - 2s 106ms/step - loss: 0.2015 - auc: 0.9736 - val_loss: 0.3180 - val_auc: 0.9533\n"
     ]
    },
    {
     "name": "stderr",
     "output_type": "stream",
     "text": [
      "\r",
      " 65%|██████▌   | 65/100 [44:29<23:55, 41.00s/it]"
     ]
    },
    {
     "name": "stdout",
     "output_type": "stream",
     "text": [
      "18/18 [==============================] - 2s 106ms/step - loss: 0.2008 - auc: 0.9738 - val_loss: 0.3188 - val_auc: 0.9532\n"
     ]
    },
    {
     "name": "stderr",
     "output_type": "stream",
     "text": [
      "\r",
      " 66%|██████▌   | 66/100 [45:10<23:14, 41.02s/it]"
     ]
    },
    {
     "name": "stdout",
     "output_type": "stream",
     "text": [
      "18/18 [==============================] - 2s 105ms/step - loss: 0.2002 - auc: 0.9739 - val_loss: 0.3193 - val_auc: 0.9533\n"
     ]
    },
    {
     "name": "stderr",
     "output_type": "stream",
     "text": [
      "\r",
      " 67%|██████▋   | 67/100 [45:51<22:35, 41.08s/it]"
     ]
    },
    {
     "name": "stdout",
     "output_type": "stream",
     "text": [
      "18/18 [==============================] - 2s 105ms/step - loss: 0.1997 - auc: 0.9740 - val_loss: 0.3191 - val_auc: 0.9534\n"
     ]
    },
    {
     "name": "stderr",
     "output_type": "stream",
     "text": [
      "\r",
      " 68%|██████▊   | 68/100 [46:33<21:58, 41.20s/it]"
     ]
    },
    {
     "name": "stdout",
     "output_type": "stream",
     "text": [
      "18/18 [==============================] - 2s 105ms/step - loss: 0.1989 - auc: 0.9742 - val_loss: 0.3205 - val_auc: 0.9533\n"
     ]
    },
    {
     "name": "stderr",
     "output_type": "stream",
     "text": [
      "\r",
      " 69%|██████▉   | 69/100 [47:14<21:18, 41.24s/it]"
     ]
    },
    {
     "name": "stdout",
     "output_type": "stream",
     "text": [
      "18/18 [==============================] - 2s 105ms/step - loss: 0.1983 - auc: 0.9743 - val_loss: 0.3225 - val_auc: 0.9532\n"
     ]
    },
    {
     "name": "stderr",
     "output_type": "stream",
     "text": [
      "\r",
      " 70%|███████   | 70/100 [47:55<20:34, 41.14s/it]"
     ]
    },
    {
     "name": "stdout",
     "output_type": "stream",
     "text": [
      "18/18 [==============================] - 2s 105ms/step - loss: 0.1975 - auc: 0.9745 - val_loss: 0.3220 - val_auc: 0.9533\n"
     ]
    },
    {
     "name": "stderr",
     "output_type": "stream",
     "text": [
      "\r",
      " 71%|███████   | 71/100 [48:36<19:51, 41.07s/it]"
     ]
    },
    {
     "name": "stdout",
     "output_type": "stream",
     "text": [
      "18/18 [==============================] - 2s 104ms/step - loss: 0.1972 - auc: 0.9745 - val_loss: 0.3212 - val_auc: 0.9535\n"
     ]
    },
    {
     "name": "stderr",
     "output_type": "stream",
     "text": [
      "\r",
      " 72%|███████▏  | 72/100 [49:17<19:10, 41.07s/it]"
     ]
    },
    {
     "name": "stdout",
     "output_type": "stream",
     "text": [
      "18/18 [==============================] - 2s 105ms/step - loss: 0.1963 - auc: 0.9747 - val_loss: 0.3237 - val_auc: 0.9532\n"
     ]
    },
    {
     "name": "stderr",
     "output_type": "stream",
     "text": [
      "\r",
      " 73%|███████▎  | 73/100 [49:58<18:26, 41.00s/it]"
     ]
    },
    {
     "name": "stdout",
     "output_type": "stream",
     "text": [
      "18/18 [==============================] - 2s 105ms/step - loss: 0.1955 - auc: 0.9749 - val_loss: 0.3244 - val_auc: 0.9534\n"
     ]
    },
    {
     "name": "stderr",
     "output_type": "stream",
     "text": [
      "\r",
      " 74%|███████▍  | 74/100 [50:38<17:44, 40.93s/it]"
     ]
    },
    {
     "name": "stdout",
     "output_type": "stream",
     "text": [
      "18/18 [==============================] - 2s 105ms/step - loss: 0.1951 - auc: 0.9750 - val_loss: 0.3252 - val_auc: 0.9533\n"
     ]
    },
    {
     "name": "stderr",
     "output_type": "stream",
     "text": [
      "\r",
      " 75%|███████▌  | 75/100 [51:20<17:06, 41.06s/it]"
     ]
    },
    {
     "name": "stdout",
     "output_type": "stream",
     "text": [
      "18/18 [==============================] - 2s 105ms/step - loss: 0.1944 - auc: 0.9751 - val_loss: 0.3254 - val_auc: 0.9534\n"
     ]
    },
    {
     "name": "stderr",
     "output_type": "stream",
     "text": [
      "\r",
      " 76%|███████▌  | 76/100 [52:01<16:27, 41.13s/it]"
     ]
    },
    {
     "name": "stdout",
     "output_type": "stream",
     "text": [
      "18/18 [==============================] - 2s 106ms/step - loss: 0.1940 - auc: 0.9752 - val_loss: 0.3263 - val_auc: 0.9533\n"
     ]
    },
    {
     "name": "stderr",
     "output_type": "stream",
     "text": [
      "\r",
      " 77%|███████▋  | 77/100 [52:42<15:46, 41.14s/it]"
     ]
    },
    {
     "name": "stdout",
     "output_type": "stream",
     "text": [
      "18/18 [==============================] - 2s 105ms/step - loss: 0.1936 - auc: 0.9753 - val_loss: 0.3280 - val_auc: 0.9532\n"
     ]
    },
    {
     "name": "stderr",
     "output_type": "stream",
     "text": [
      "\r",
      " 78%|███████▊  | 78/100 [53:23<15:02, 41.02s/it]"
     ]
    },
    {
     "name": "stdout",
     "output_type": "stream",
     "text": [
      "18/18 [==============================] - 2s 105ms/step - loss: 0.1931 - auc: 0.9754 - val_loss: 0.3295 - val_auc: 0.9531\n"
     ]
    },
    {
     "name": "stderr",
     "output_type": "stream",
     "text": [
      "\r",
      " 79%|███████▉  | 79/100 [54:04<14:23, 41.11s/it]"
     ]
    },
    {
     "name": "stdout",
     "output_type": "stream",
     "text": [
      "18/18 [==============================] - 2s 105ms/step - loss: 0.1925 - auc: 0.9755 - val_loss: 0.3300 - val_auc: 0.9531\n"
     ]
    },
    {
     "name": "stderr",
     "output_type": "stream",
     "text": [
      "\r",
      " 80%|████████  | 80/100 [54:46<13:43, 41.17s/it]"
     ]
    },
    {
     "name": "stdout",
     "output_type": "stream",
     "text": [
      "18/18 [==============================] - 2s 105ms/step - loss: 0.1921 - auc: 0.9756 - val_loss: 0.3297 - val_auc: 0.9532\n"
     ]
    },
    {
     "name": "stderr",
     "output_type": "stream",
     "text": [
      "\r",
      " 81%|████████  | 81/100 [55:27<13:01, 41.11s/it]"
     ]
    },
    {
     "name": "stdout",
     "output_type": "stream",
     "text": [
      "18/18 [==============================] - 2s 105ms/step - loss: 0.1915 - auc: 0.9757 - val_loss: 0.3306 - val_auc: 0.9533\n"
     ]
    },
    {
     "name": "stderr",
     "output_type": "stream",
     "text": [
      "\r",
      " 82%|████████▏ | 82/100 [56:08<12:19, 41.10s/it]"
     ]
    },
    {
     "name": "stdout",
     "output_type": "stream",
     "text": [
      "18/18 [==============================] - 2s 106ms/step - loss: 0.1912 - auc: 0.9758 - val_loss: 0.3317 - val_auc: 0.9532\n"
     ]
    },
    {
     "name": "stderr",
     "output_type": "stream",
     "text": [
      "\r",
      " 83%|████████▎ | 83/100 [56:49<11:38, 41.07s/it]"
     ]
    },
    {
     "name": "stdout",
     "output_type": "stream",
     "text": [
      "18/18 [==============================] - 2s 106ms/step - loss: 0.1912 - auc: 0.9758 - val_loss: 0.3323 - val_auc: 0.9531\n"
     ]
    },
    {
     "name": "stderr",
     "output_type": "stream",
     "text": [
      "\r",
      " 84%|████████▍ | 84/100 [57:30<10:58, 41.19s/it]"
     ]
    },
    {
     "name": "stdout",
     "output_type": "stream",
     "text": [
      "18/18 [==============================] - 2s 105ms/step - loss: 0.1906 - auc: 0.9759 - val_loss: 0.3334 - val_auc: 0.9531\n"
     ]
    },
    {
     "name": "stderr",
     "output_type": "stream",
     "text": [
      "\r",
      " 85%|████████▌ | 85/100 [58:12<10:19, 41.29s/it]"
     ]
    },
    {
     "name": "stdout",
     "output_type": "stream",
     "text": [
      "18/18 [==============================] - 2s 105ms/step - loss: 0.1902 - auc: 0.9760 - val_loss: 0.3358 - val_auc: 0.9529\n"
     ]
    },
    {
     "name": "stderr",
     "output_type": "stream",
     "text": [
      "\r",
      " 86%|████████▌ | 86/100 [58:53<09:37, 41.24s/it]"
     ]
    },
    {
     "name": "stdout",
     "output_type": "stream",
     "text": [
      "18/18 [==============================] - 2s 105ms/step - loss: 0.1900 - auc: 0.9760 - val_loss: 0.3369 - val_auc: 0.9528\n"
     ]
    },
    {
     "name": "stderr",
     "output_type": "stream",
     "text": [
      "\r",
      " 87%|████████▋ | 87/100 [59:33<08:54, 41.09s/it]"
     ]
    },
    {
     "name": "stdout",
     "output_type": "stream",
     "text": [
      "18/18 [==============================] - 2s 105ms/step - loss: 0.1895 - auc: 0.9761 - val_loss: 0.3372 - val_auc: 0.9528\n"
     ]
    },
    {
     "name": "stderr",
     "output_type": "stream",
     "text": [
      "\r",
      " 88%|████████▊ | 88/100 [1:00:14<08:12, 41.04s/it]"
     ]
    },
    {
     "name": "stdout",
     "output_type": "stream",
     "text": [
      "18/18 [==============================] - 2s 105ms/step - loss: 0.1894 - auc: 0.9761 - val_loss: 0.3377 - val_auc: 0.9528\n"
     ]
    },
    {
     "name": "stderr",
     "output_type": "stream",
     "text": [
      "\r",
      " 89%|████████▉ | 89/100 [1:00:55<07:31, 41.04s/it]"
     ]
    },
    {
     "name": "stdout",
     "output_type": "stream",
     "text": [
      "18/18 [==============================] - 2s 104ms/step - loss: 0.1892 - auc: 0.9762 - val_loss: 0.3398 - val_auc: 0.9527\n"
     ]
    },
    {
     "name": "stderr",
     "output_type": "stream",
     "text": [
      "\r",
      " 90%|█████████ | 90/100 [1:01:36<06:50, 41.01s/it]"
     ]
    },
    {
     "name": "stdout",
     "output_type": "stream",
     "text": [
      "18/18 [==============================] - 2s 105ms/step - loss: 0.1888 - auc: 0.9763 - val_loss: 0.3393 - val_auc: 0.9528\n"
     ]
    },
    {
     "name": "stderr",
     "output_type": "stream",
     "text": [
      "\r",
      " 91%|█████████ | 91/100 [1:02:18<06:09, 41.08s/it]"
     ]
    },
    {
     "name": "stdout",
     "output_type": "stream",
     "text": [
      "18/18 [==============================] - 2s 105ms/step - loss: 0.1888 - auc: 0.9763 - val_loss: 0.3406 - val_auc: 0.9527\n"
     ]
    },
    {
     "name": "stderr",
     "output_type": "stream",
     "text": [
      "\r",
      " 92%|█████████▏| 92/100 [1:02:59<05:29, 41.14s/it]"
     ]
    },
    {
     "name": "stdout",
     "output_type": "stream",
     "text": [
      "18/18 [==============================] - 2s 105ms/step - loss: 0.1882 - auc: 0.9764 - val_loss: 0.3416 - val_auc: 0.9525\n"
     ]
    },
    {
     "name": "stderr",
     "output_type": "stream",
     "text": [
      "\r",
      " 93%|█████████▎| 93/100 [1:03:40<04:48, 41.19s/it]"
     ]
    },
    {
     "name": "stdout",
     "output_type": "stream",
     "text": [
      "18/18 [==============================] - 2s 105ms/step - loss: 0.1881 - auc: 0.9764 - val_loss: 0.3426 - val_auc: 0.9526\n"
     ]
    },
    {
     "name": "stderr",
     "output_type": "stream",
     "text": [
      "\r",
      " 94%|█████████▍| 94/100 [1:04:21<04:06, 41.11s/it]"
     ]
    },
    {
     "name": "stdout",
     "output_type": "stream",
     "text": [
      "18/18 [==============================] - 2s 105ms/step - loss: 0.1877 - auc: 0.9765 - val_loss: 0.3440 - val_auc: 0.9525\n"
     ]
    },
    {
     "name": "stderr",
     "output_type": "stream",
     "text": [
      "\r",
      " 95%|█████████▌| 95/100 [1:05:02<03:25, 41.13s/it]"
     ]
    },
    {
     "name": "stdout",
     "output_type": "stream",
     "text": [
      "18/18 [==============================] - 2s 106ms/step - loss: 0.1878 - auc: 0.9764 - val_loss: 0.3442 - val_auc: 0.9525\n"
     ]
    },
    {
     "name": "stderr",
     "output_type": "stream",
     "text": [
      "\r",
      " 96%|█████████▌| 96/100 [1:05:43<02:44, 41.10s/it]"
     ]
    },
    {
     "name": "stdout",
     "output_type": "stream",
     "text": [
      "18/18 [==============================] - 2s 105ms/step - loss: 0.1876 - auc: 0.9765 - val_loss: 0.3455 - val_auc: 0.9524\n"
     ]
    },
    {
     "name": "stderr",
     "output_type": "stream",
     "text": [
      "\r",
      " 97%|█████████▋| 97/100 [1:06:25<02:03, 41.14s/it]"
     ]
    },
    {
     "name": "stdout",
     "output_type": "stream",
     "text": [
      "18/18 [==============================] - 2s 105ms/step - loss: 0.1875 - auc: 0.9765 - val_loss: 0.3466 - val_auc: 0.9524\n"
     ]
    },
    {
     "name": "stderr",
     "output_type": "stream",
     "text": [
      "\r",
      " 98%|█████████▊| 98/100 [1:07:06<01:22, 41.16s/it]"
     ]
    },
    {
     "name": "stdout",
     "output_type": "stream",
     "text": [
      "18/18 [==============================] - 2s 104ms/step - loss: 0.1872 - auc: 0.9766 - val_loss: 0.3473 - val_auc: 0.9524\n"
     ]
    },
    {
     "name": "stderr",
     "output_type": "stream",
     "text": [
      "\r",
      " 99%|█████████▉| 99/100 [1:07:47<00:41, 41.20s/it]"
     ]
    },
    {
     "name": "stdout",
     "output_type": "stream",
     "text": [
      "18/18 [==============================] - 2s 105ms/step - loss: 0.1874 - auc: 0.9765 - val_loss: 0.3479 - val_auc: 0.9523\n"
     ]
    },
    {
     "name": "stderr",
     "output_type": "stream",
     "text": [
      "100%|██████████| 100/100 [1:08:28<00:00, 41.08s/it]\n"
     ]
    }
   ],
   "source": [
    "for epoch in tqdm.tqdm(range((num_epochs))):\n",
    "    # Generate training instances\n",
    "    user_input, item_input, labels = get_train_instances(data_dict, num_negatives, album_id_list)\n",
    "\n",
    "    # Training\n",
    "#     hist = model.fit([np.array(user_input), np.array(item_input)], #input\n",
    "#                      np.array(labels), # labels \n",
    "#                      batch_size=batch_size, nb_epoch=1, verbose=0, shuffle=True)\n",
    "\n",
    "#     break\n",
    "                       \n",
    "    hist = model.fit([np.array(user_input), np.array(item_input)], #input\n",
    "                     np.array(labels), # labels \n",
    "                     batch_size=2**20, epochs=1, verbose=1, validation_split=0.2,\n",
    "                     shuffle=True\n",
    "                    )\n",
    "\n",
    "    # Evaluation\n",
    "#     if epoch %verbose == 0:\n",
    "#         (hits, ndcgs) = evaluate_model(model, testRatings, testNegatives, topK, evaluation_threads)\n",
    "#         hr, ndcg, loss = np.array(hits).mean(), np.array(ndcgs).mean(), hist.history['loss'][0]\n",
    "#         print('Iteration %d [%.1f s]: HR = %.4f, NDCG = %.4f, loss = %.4f [%.1f s]' \n",
    "#               % (epoch,  t2-t1, hr, ndcg, loss, time()-t2))\n",
    "#         if hr > best_hr:\n",
    "#             best_hr, best_ndcg, best_iter = hr, ndcg, epoch\n",
    "#             if args.out > 0:\n",
    "#                 model.save_weights(model_out_file, overwrite=True)"
   ]
  },
  {
   "cell_type": "code",
   "execution_count": 37,
   "metadata": {},
   "outputs": [
    {
     "name": "stdout",
     "output_type": "stream",
     "text": [
      "WARNING:tensorflow:From /home/ubuntu/anaconda3/envs/tensorflow2_latest_p37/lib/python3.7/site-packages/tensorflow/python/training/tracking/tracking.py:111: Model.state_updates (from tensorflow.python.keras.engine.training) is deprecated and will be removed in a future version.\n",
      "Instructions for updating:\n",
      "This property should not be used in TensorFlow 2.0, as updates are applied automatically.\n"
     ]
    },
    {
     "name": "stderr",
     "output_type": "stream",
     "text": [
      "WARNING:tensorflow:From /home/ubuntu/anaconda3/envs/tensorflow2_latest_p37/lib/python3.7/site-packages/tensorflow/python/training/tracking/tracking.py:111: Model.state_updates (from tensorflow.python.keras.engine.training) is deprecated and will be removed in a future version.\n",
      "Instructions for updating:\n",
      "This property should not be used in TensorFlow 2.0, as updates are applied automatically.\n"
     ]
    },
    {
     "name": "stdout",
     "output_type": "stream",
     "text": [
      "WARNING:tensorflow:From /home/ubuntu/anaconda3/envs/tensorflow2_latest_p37/lib/python3.7/site-packages/tensorflow/python/training/tracking/tracking.py:111: Layer.updates (from tensorflow.python.keras.engine.base_layer) is deprecated and will be removed in a future version.\n",
      "Instructions for updating:\n",
      "This property should not be used in TensorFlow 2.0, as updates are applied automatically.\n"
     ]
    },
    {
     "name": "stderr",
     "output_type": "stream",
     "text": [
      "WARNING:tensorflow:From /home/ubuntu/anaconda3/envs/tensorflow2_latest_p37/lib/python3.7/site-packages/tensorflow/python/training/tracking/tracking.py:111: Layer.updates (from tensorflow.python.keras.engine.base_layer) is deprecated and will be removed in a future version.\n",
      "Instructions for updating:\n",
      "This property should not be used in TensorFlow 2.0, as updates are applied automatically.\n"
     ]
    },
    {
     "name": "stdout",
     "output_type": "stream",
     "text": [
      "INFO:tensorflow:Assets written to: ../../model/said_albumid_onlineNegative/case1_re3/100_epochs_01_negative/assets\n"
     ]
    },
    {
     "name": "stderr",
     "output_type": "stream",
     "text": [
      "INFO:tensorflow:Assets written to: ../../model/said_albumid_onlineNegative/case1_re3/100_epochs_01_negative/assets\n"
     ]
    }
   ],
   "source": [
    "filepath = '../../model/said_albumid_onlineNegative/case1_re3/{0:02d}_epochs_{1:02d}_negative'.format(num_epochs, num_negatives)\n",
    "model.save(filepath=filepath)"
   ]
  },
  {
   "cell_type": "markdown",
   "metadata": {},
   "source": [
    "* 210106"
   ]
  },
  {
   "cell_type": "code",
   "execution_count": 35,
   "metadata": {},
   "outputs": [
    {
     "name": "stderr",
     "output_type": "stream",
     "text": [
      "\n",
      "\n",
      "  0%|          | 0/100 [00:00<?, ?it/s]\u001b[A\u001b[A/home/ubuntu/anaconda3/envs/tensorflow2_latest_p37/lib/python3.7/site-packages/tensorflow/python/framework/indexed_slices.py:433: UserWarning: Converting sparse IndexedSlices to a dense Tensor of unknown shape. This may consume a large amount of memory.\n",
      "  \"Converting sparse IndexedSlices to a dense Tensor of unknown shape. \"\n"
     ]
    },
    {
     "name": "stdout",
     "output_type": "stream",
     "text": [
      "18/18 [==============================] - 2s 124ms/step - loss: 0.6866 - auc: 0.8160 - val_loss: 0.6727 - val_auc: 0.9041\n"
     ]
    },
    {
     "name": "stderr",
     "output_type": "stream",
     "text": [
      "\n",
      "\n",
      "  1%|          | 1/100 [00:44<1:12:37, 44.01s/it]\u001b[A\u001b[A"
     ]
    },
    {
     "name": "stdout",
     "output_type": "stream",
     "text": [
      "18/18 [==============================] - 2s 103ms/step - loss: 0.6415 - auc: 0.8862 - val_loss: 0.5868 - val_auc: 0.9127\n"
     ]
    },
    {
     "name": "stderr",
     "output_type": "stream",
     "text": [
      "\n",
      "\n",
      "  2%|▏         | 2/100 [01:25<1:10:51, 43.38s/it]\u001b[A\u001b[A"
     ]
    },
    {
     "name": "stdout",
     "output_type": "stream",
     "text": [
      "18/18 [==============================] - 2s 104ms/step - loss: 0.5115 - auc: 0.8922 - val_loss: 0.4199 - val_auc: 0.9233\n"
     ]
    },
    {
     "name": "stderr",
     "output_type": "stream",
     "text": [
      "\n",
      "\n",
      "  3%|▎         | 3/100 [02:07<1:09:19, 42.88s/it]\u001b[A\u001b[A"
     ]
    },
    {
     "name": "stdout",
     "output_type": "stream",
     "text": [
      "18/18 [==============================] - 2s 104ms/step - loss: 0.3707 - auc: 0.9142 - val_loss: 0.3390 - val_auc: 0.9359\n"
     ]
    },
    {
     "name": "stderr",
     "output_type": "stream",
     "text": [
      "\n",
      "\n",
      "  4%|▍         | 4/100 [02:49<1:08:20, 42.71s/it]\u001b[A\u001b[A"
     ]
    },
    {
     "name": "stdout",
     "output_type": "stream",
     "text": [
      "18/18 [==============================] - 2s 138ms/step - loss: 0.3308 - auc: 0.9344 - val_loss: 0.3249 - val_auc: 0.9371\n"
     ]
    },
    {
     "name": "stderr",
     "output_type": "stream",
     "text": [
      "\n",
      "\n",
      "  5%|▌         | 5/100 [03:32<1:07:21, 42.54s/it]\u001b[A\u001b[A"
     ]
    },
    {
     "name": "stdout",
     "output_type": "stream",
     "text": [
      "18/18 [==============================] - 2s 105ms/step - loss: 0.3206 - auc: 0.9380 - val_loss: 0.3166 - val_auc: 0.9392\n"
     ]
    },
    {
     "name": "stderr",
     "output_type": "stream",
     "text": [
      "\n",
      "\n",
      "  6%|▌         | 6/100 [04:13<1:06:10, 42.24s/it]\u001b[A\u001b[A"
     ]
    },
    {
     "name": "stdout",
     "output_type": "stream",
     "text": [
      "18/18 [==============================] - 2s 105ms/step - loss: 0.3125 - auc: 0.9403 - val_loss: 0.3125 - val_auc: 0.9402\n"
     ]
    },
    {
     "name": "stderr",
     "output_type": "stream",
     "text": [
      "\n",
      "\n",
      "  7%|▋         | 7/100 [04:55<1:05:17, 42.13s/it]\u001b[A\u001b[A"
     ]
    },
    {
     "name": "stdout",
     "output_type": "stream",
     "text": [
      "18/18 [==============================] - 2s 106ms/step - loss: 0.3055 - auc: 0.9425 - val_loss: 0.3084 - val_auc: 0.9420\n"
     ]
    },
    {
     "name": "stderr",
     "output_type": "stream",
     "text": [
      "\n",
      "\n",
      "  8%|▊         | 8/100 [05:37<1:04:26, 42.03s/it]\u001b[A\u001b[A"
     ]
    },
    {
     "name": "stdout",
     "output_type": "stream",
     "text": [
      "18/18 [==============================] - 2s 137ms/step - loss: 0.2985 - auc: 0.9453 - val_loss: 0.3055 - val_auc: 0.9436\n"
     ]
    },
    {
     "name": "stderr",
     "output_type": "stream",
     "text": [
      "\n",
      "\n",
      "  9%|▉         | 9/100 [06:19<1:03:53, 42.13s/it]\u001b[A\u001b[A"
     ]
    },
    {
     "name": "stdout",
     "output_type": "stream",
     "text": [
      "18/18 [==============================] - 2s 105ms/step - loss: 0.2926 - auc: 0.9474 - val_loss: 0.3038 - val_auc: 0.9444\n"
     ]
    },
    {
     "name": "stderr",
     "output_type": "stream",
     "text": [
      "\n",
      "\n",
      " 10%|█         | 10/100 [07:01<1:03:09, 42.10s/it]\u001b[A\u001b[A"
     ]
    },
    {
     "name": "stdout",
     "output_type": "stream",
     "text": [
      "18/18 [==============================] - 2s 105ms/step - loss: 0.2876 - auc: 0.9488 - val_loss: 0.3036 - val_auc: 0.9446\n"
     ]
    },
    {
     "name": "stderr",
     "output_type": "stream",
     "text": [
      "\n",
      "\n",
      " 11%|█         | 11/100 [07:43<1:02:11, 41.93s/it]\u001b[A\u001b[A"
     ]
    },
    {
     "name": "stdout",
     "output_type": "stream",
     "text": [
      "18/18 [==============================] - 2s 105ms/step - loss: 0.2839 - auc: 0.9499 - val_loss: 0.3029 - val_auc: 0.9452\n"
     ]
    },
    {
     "name": "stderr",
     "output_type": "stream",
     "text": [
      "\n",
      "\n",
      " 12%|█▏        | 12/100 [08:25<1:01:28, 41.92s/it]\u001b[A\u001b[A"
     ]
    },
    {
     "name": "stdout",
     "output_type": "stream",
     "text": [
      "18/18 [==============================] - 2s 138ms/step - loss: 0.2799 - auc: 0.9514 - val_loss: 0.3015 - val_auc: 0.9462\n"
     ]
    },
    {
     "name": "stderr",
     "output_type": "stream",
     "text": [
      "\n",
      "\n",
      " 13%|█▎        | 13/100 [09:07<1:00:56, 42.03s/it]\u001b[A\u001b[A"
     ]
    },
    {
     "name": "stdout",
     "output_type": "stream",
     "text": [
      "18/18 [==============================] - 2s 106ms/step - loss: 0.2758 - auc: 0.9528 - val_loss: 0.2997 - val_auc: 0.9472\n"
     ]
    },
    {
     "name": "stderr",
     "output_type": "stream",
     "text": [
      "\n",
      "\n",
      " 14%|█▍        | 14/100 [09:49<1:00:04, 41.91s/it]\u001b[A\u001b[A"
     ]
    },
    {
     "name": "stdout",
     "output_type": "stream",
     "text": [
      "18/18 [==============================] - 2s 105ms/step - loss: 0.2728 - auc: 0.9538 - val_loss: 0.2980 - val_auc: 0.9479\n"
     ]
    },
    {
     "name": "stderr",
     "output_type": "stream",
     "text": [
      "\n",
      "\n",
      " 15%|█▌        | 15/100 [10:30<59:19, 41.88s/it]  \u001b[A\u001b[A"
     ]
    },
    {
     "name": "stdout",
     "output_type": "stream",
     "text": [
      "18/18 [==============================] - 2s 105ms/step - loss: 0.2702 - auc: 0.9546 - val_loss: 0.2967 - val_auc: 0.9485\n"
     ]
    },
    {
     "name": "stderr",
     "output_type": "stream",
     "text": [
      "\n",
      "\n",
      " 16%|█▌        | 16/100 [11:12<58:35, 41.85s/it]\u001b[A\u001b[A"
     ]
    },
    {
     "name": "stdout",
     "output_type": "stream",
     "text": [
      "18/18 [==============================] - 2s 138ms/step - loss: 0.2684 - auc: 0.9551 - val_loss: 0.2961 - val_auc: 0.9489\n"
     ]
    },
    {
     "name": "stderr",
     "output_type": "stream",
     "text": [
      "\n",
      "\n",
      " 17%|█▋        | 17/100 [11:55<58:06, 42.01s/it]\u001b[A\u001b[A"
     ]
    },
    {
     "name": "stdout",
     "output_type": "stream",
     "text": [
      "18/18 [==============================] - 2s 106ms/step - loss: 0.2663 - auc: 0.9557 - val_loss: 0.2963 - val_auc: 0.9489\n"
     ]
    },
    {
     "name": "stderr",
     "output_type": "stream",
     "text": [
      "\n",
      "\n",
      " 18%|█▊        | 18/100 [12:36<57:14, 41.88s/it]\u001b[A\u001b[A"
     ]
    },
    {
     "name": "stdout",
     "output_type": "stream",
     "text": [
      "18/18 [==============================] - 2s 105ms/step - loss: 0.2645 - auc: 0.9561 - val_loss: 0.2957 - val_auc: 0.9492\n"
     ]
    },
    {
     "name": "stderr",
     "output_type": "stream",
     "text": [
      "\n",
      "\n",
      " 19%|█▉        | 19/100 [13:18<56:24, 41.78s/it]\u001b[A\u001b[A"
     ]
    },
    {
     "name": "stdout",
     "output_type": "stream",
     "text": [
      "18/18 [==============================] - 2s 105ms/step - loss: 0.2627 - auc: 0.9566 - val_loss: 0.2954 - val_auc: 0.9495\n"
     ]
    },
    {
     "name": "stderr",
     "output_type": "stream",
     "text": [
      "\n",
      "\n",
      " 20%|██        | 20/100 [13:59<55:35, 41.69s/it]\u001b[A\u001b[A"
     ]
    },
    {
     "name": "stdout",
     "output_type": "stream",
     "text": [
      "18/18 [==============================] - 3s 139ms/step - loss: 0.2611 - auc: 0.9570 - val_loss: 0.2954 - val_auc: 0.9496\n"
     ]
    },
    {
     "name": "stderr",
     "output_type": "stream",
     "text": [
      "\n",
      "\n",
      " 21%|██        | 21/100 [14:41<55:09, 41.89s/it]\u001b[A\u001b[A"
     ]
    },
    {
     "name": "stdout",
     "output_type": "stream",
     "text": [
      "18/18 [==============================] - 2s 106ms/step - loss: 0.2595 - auc: 0.9574 - val_loss: 0.2960 - val_auc: 0.9494\n"
     ]
    },
    {
     "name": "stderr",
     "output_type": "stream",
     "text": [
      "\n",
      "\n",
      " 22%|██▏       | 22/100 [15:23<54:25, 41.87s/it]\u001b[A\u001b[A"
     ]
    },
    {
     "name": "stdout",
     "output_type": "stream",
     "text": [
      "18/18 [==============================] - 2s 104ms/step - loss: 0.2582 - auc: 0.9577 - val_loss: 0.2958 - val_auc: 0.9496\n"
     ]
    },
    {
     "name": "stderr",
     "output_type": "stream",
     "text": [
      "\n",
      "\n",
      " 23%|██▎       | 23/100 [16:05<53:32, 41.72s/it]\u001b[A\u001b[A"
     ]
    },
    {
     "name": "stdout",
     "output_type": "stream",
     "text": [
      "18/18 [==============================] - 2s 105ms/step - loss: 0.2569 - auc: 0.9580 - val_loss: 0.2957 - val_auc: 0.9497\n"
     ]
    },
    {
     "name": "stderr",
     "output_type": "stream",
     "text": [
      "\n",
      "\n",
      " 24%|██▍       | 24/100 [16:47<52:53, 41.76s/it]\u001b[A\u001b[A"
     ]
    },
    {
     "name": "stdout",
     "output_type": "stream",
     "text": [
      "18/18 [==============================] - 2s 138ms/step - loss: 0.2555 - auc: 0.9584 - val_loss: 0.2959 - val_auc: 0.9498\n"
     ]
    },
    {
     "name": "stderr",
     "output_type": "stream",
     "text": [
      "\n",
      "\n",
      " 25%|██▌       | 25/100 [17:29<52:25, 41.94s/it]\u001b[A\u001b[A"
     ]
    },
    {
     "name": "stdout",
     "output_type": "stream",
     "text": [
      "18/18 [==============================] - 2s 105ms/step - loss: 0.2540 - auc: 0.9589 - val_loss: 0.2950 - val_auc: 0.9501\n"
     ]
    },
    {
     "name": "stderr",
     "output_type": "stream",
     "text": [
      "\n",
      "\n",
      " 26%|██▌       | 26/100 [18:10<51:34, 41.81s/it]\u001b[A\u001b[A"
     ]
    },
    {
     "name": "stdout",
     "output_type": "stream",
     "text": [
      "18/18 [==============================] - 2s 105ms/step - loss: 0.2527 - auc: 0.9592 - val_loss: 0.2954 - val_auc: 0.9502\n"
     ]
    },
    {
     "name": "stderr",
     "output_type": "stream",
     "text": [
      "\n",
      "\n",
      " 27%|██▋       | 27/100 [18:52<50:45, 41.71s/it]\u001b[A\u001b[A"
     ]
    },
    {
     "name": "stdout",
     "output_type": "stream",
     "text": [
      "18/18 [==============================] - 2s 106ms/step - loss: 0.2510 - auc: 0.9597 - val_loss: 0.2950 - val_auc: 0.9504\n"
     ]
    },
    {
     "name": "stderr",
     "output_type": "stream",
     "text": [
      "\n",
      "\n",
      " 28%|██▊       | 28/100 [19:34<50:02, 41.71s/it]\u001b[A\u001b[A"
     ]
    },
    {
     "name": "stdout",
     "output_type": "stream",
     "text": [
      "18/18 [==============================] - 3s 139ms/step - loss: 0.2493 - auc: 0.9602 - val_loss: 0.2946 - val_auc: 0.9507\n"
     ]
    },
    {
     "name": "stderr",
     "output_type": "stream",
     "text": [
      "\n",
      "\n",
      " 29%|██▉       | 29/100 [20:16<49:42, 42.01s/it]\u001b[A\u001b[A"
     ]
    },
    {
     "name": "stdout",
     "output_type": "stream",
     "text": [
      "18/18 [==============================] - 2s 106ms/step - loss: 0.2472 - auc: 0.9609 - val_loss: 0.2938 - val_auc: 0.9511\n"
     ]
    },
    {
     "name": "stderr",
     "output_type": "stream",
     "text": [
      "\n",
      "\n",
      " 30%|███       | 30/100 [20:58<48:59, 41.99s/it]\u001b[A\u001b[A"
     ]
    },
    {
     "name": "stdout",
     "output_type": "stream",
     "text": [
      "18/18 [==============================] - 2s 105ms/step - loss: 0.2451 - auc: 0.9616 - val_loss: 0.2936 - val_auc: 0.9515\n"
     ]
    },
    {
     "name": "stderr",
     "output_type": "stream",
     "text": [
      "\n",
      "\n",
      " 31%|███       | 31/100 [21:40<48:19, 42.03s/it]\u001b[A\u001b[A"
     ]
    },
    {
     "name": "stdout",
     "output_type": "stream",
     "text": [
      "18/18 [==============================] - 2s 105ms/step - loss: 0.2430 - auc: 0.9622 - val_loss: 0.2936 - val_auc: 0.9517\n"
     ]
    },
    {
     "name": "stderr",
     "output_type": "stream",
     "text": [
      "\n",
      "\n",
      " 32%|███▏      | 32/100 [22:23<47:40, 42.07s/it]\u001b[A\u001b[A"
     ]
    },
    {
     "name": "stdout",
     "output_type": "stream",
     "text": [
      "18/18 [==============================] - 2s 137ms/step - loss: 0.2408 - auc: 0.9629 - val_loss: 0.2946 - val_auc: 0.9518\n"
     ]
    },
    {
     "name": "stderr",
     "output_type": "stream",
     "text": [
      "\n",
      "\n",
      " 33%|███▎      | 33/100 [23:05<47:11, 42.26s/it]\u001b[A\u001b[A"
     ]
    },
    {
     "name": "stdout",
     "output_type": "stream",
     "text": [
      "18/18 [==============================] - 2s 106ms/step - loss: 0.2388 - auc: 0.9635 - val_loss: 0.2947 - val_auc: 0.9521\n"
     ]
    },
    {
     "name": "stderr",
     "output_type": "stream",
     "text": [
      "\n",
      "\n",
      " 34%|███▍      | 34/100 [23:47<46:12, 42.01s/it]\u001b[A\u001b[A"
     ]
    },
    {
     "name": "stdout",
     "output_type": "stream",
     "text": [
      "18/18 [==============================] - 2s 104ms/step - loss: 0.2370 - auc: 0.9640 - val_loss: 0.2958 - val_auc: 0.9521\n"
     ]
    },
    {
     "name": "stderr",
     "output_type": "stream",
     "text": [
      "\n",
      "\n",
      " 35%|███▌      | 35/100 [24:28<45:22, 41.88s/it]\u001b[A\u001b[A"
     ]
    },
    {
     "name": "stdout",
     "output_type": "stream",
     "text": [
      "18/18 [==============================] - 2s 105ms/step - loss: 0.2355 - auc: 0.9644 - val_loss: 0.2969 - val_auc: 0.9521\n"
     ]
    },
    {
     "name": "stderr",
     "output_type": "stream",
     "text": [
      "\n",
      "\n",
      " 36%|███▌      | 36/100 [25:10<44:35, 41.81s/it]\u001b[A\u001b[A"
     ]
    },
    {
     "name": "stdout",
     "output_type": "stream",
     "text": [
      "18/18 [==============================] - 2s 138ms/step - loss: 0.2340 - auc: 0.9648 - val_loss: 0.2982 - val_auc: 0.9520\n"
     ]
    },
    {
     "name": "stderr",
     "output_type": "stream",
     "text": [
      "\n",
      "\n",
      " 37%|███▋      | 37/100 [25:52<44:06, 42.00s/it]\u001b[A\u001b[A"
     ]
    },
    {
     "name": "stdout",
     "output_type": "stream",
     "text": [
      "18/18 [==============================] - 2s 105ms/step - loss: 0.2332 - auc: 0.9650 - val_loss: 0.2986 - val_auc: 0.9522\n"
     ]
    },
    {
     "name": "stderr",
     "output_type": "stream",
     "text": [
      "\n",
      "\n",
      " 38%|███▊      | 38/100 [26:34<43:15, 41.86s/it]\u001b[A\u001b[A"
     ]
    },
    {
     "name": "stdout",
     "output_type": "stream",
     "text": [
      "18/18 [==============================] - 2s 105ms/step - loss: 0.2320 - auc: 0.9653 - val_loss: 0.2993 - val_auc: 0.9522\n"
     ]
    },
    {
     "name": "stderr",
     "output_type": "stream",
     "text": [
      "\n",
      "\n",
      " 39%|███▉      | 39/100 [27:16<42:32, 41.84s/it]\u001b[A\u001b[A"
     ]
    },
    {
     "name": "stdout",
     "output_type": "stream",
     "text": [
      "18/18 [==============================] - 2s 104ms/step - loss: 0.2311 - auc: 0.9656 - val_loss: 0.3003 - val_auc: 0.9521\n"
     ]
    },
    {
     "name": "stderr",
     "output_type": "stream",
     "text": [
      "\n",
      "\n",
      " 40%|████      | 40/100 [27:58<41:52, 41.88s/it]\u001b[A\u001b[A"
     ]
    },
    {
     "name": "stdout",
     "output_type": "stream",
     "text": [
      "18/18 [==============================] - 2s 138ms/step - loss: 0.2303 - auc: 0.9658 - val_loss: 0.3007 - val_auc: 0.9522\n"
     ]
    },
    {
     "name": "stderr",
     "output_type": "stream",
     "text": [
      "\n",
      "\n",
      " 41%|████      | 41/100 [28:40<41:23, 42.09s/it]\u001b[A\u001b[A"
     ]
    },
    {
     "name": "stdout",
     "output_type": "stream",
     "text": [
      "18/18 [==============================] - 2s 105ms/step - loss: 0.2293 - auc: 0.9660 - val_loss: 0.3010 - val_auc: 0.9523\n"
     ]
    },
    {
     "name": "stderr",
     "output_type": "stream",
     "text": [
      "\n",
      "\n",
      " 42%|████▏     | 42/100 [29:22<40:34, 41.97s/it]\u001b[A\u001b[A"
     ]
    },
    {
     "name": "stdout",
     "output_type": "stream",
     "text": [
      "18/18 [==============================] - 2s 106ms/step - loss: 0.2285 - auc: 0.9662 - val_loss: 0.3019 - val_auc: 0.9523\n"
     ]
    },
    {
     "name": "stderr",
     "output_type": "stream",
     "text": [
      "\n",
      "\n",
      " 43%|████▎     | 43/100 [30:03<39:42, 41.80s/it]\u001b[A\u001b[A"
     ]
    },
    {
     "name": "stdout",
     "output_type": "stream",
     "text": [
      "18/18 [==============================] - 2s 104ms/step - loss: 0.2278 - auc: 0.9664 - val_loss: 0.3023 - val_auc: 0.9522\n"
     ]
    },
    {
     "name": "stderr",
     "output_type": "stream",
     "text": [
      "\n",
      "\n",
      " 44%|████▍     | 44/100 [30:45<39:01, 41.82s/it]\u001b[A\u001b[A"
     ]
    },
    {
     "name": "stdout",
     "output_type": "stream",
     "text": [
      "18/18 [==============================] - 2s 139ms/step - loss: 0.2271 - auc: 0.9666 - val_loss: 0.3026 - val_auc: 0.9523\n"
     ]
    },
    {
     "name": "stderr",
     "output_type": "stream",
     "text": [
      "\n",
      "\n",
      " 45%|████▌     | 45/100 [31:28<38:30, 42.00s/it]\u001b[A\u001b[A"
     ]
    },
    {
     "name": "stdout",
     "output_type": "stream",
     "text": [
      "18/18 [==============================] - 2s 106ms/step - loss: 0.2264 - auc: 0.9668 - val_loss: 0.3027 - val_auc: 0.9525\n"
     ]
    },
    {
     "name": "stderr",
     "output_type": "stream",
     "text": [
      "\n",
      "\n",
      " 46%|████▌     | 46/100 [32:10<37:50, 42.05s/it]\u001b[A\u001b[A"
     ]
    },
    {
     "name": "stdout",
     "output_type": "stream",
     "text": [
      "18/18 [==============================] - 2s 105ms/step - loss: 0.2256 - auc: 0.9670 - val_loss: 0.3032 - val_auc: 0.9525\n"
     ]
    },
    {
     "name": "stderr",
     "output_type": "stream",
     "text": [
      "\n",
      "\n",
      " 47%|████▋     | 47/100 [32:52<37:07, 42.03s/it]\u001b[A\u001b[A"
     ]
    },
    {
     "name": "stdout",
     "output_type": "stream",
     "text": [
      "18/18 [==============================] - 2s 105ms/step - loss: 0.2246 - auc: 0.9673 - val_loss: 0.3036 - val_auc: 0.9525\n"
     ]
    },
    {
     "name": "stderr",
     "output_type": "stream",
     "text": [
      "\n",
      "\n",
      " 48%|████▊     | 48/100 [33:34<36:25, 42.03s/it]\u001b[A\u001b[A"
     ]
    },
    {
     "name": "stdout",
     "output_type": "stream",
     "text": [
      "18/18 [==============================] - 2s 138ms/step - loss: 0.2236 - auc: 0.9676 - val_loss: 0.3035 - val_auc: 0.9526\n"
     ]
    },
    {
     "name": "stderr",
     "output_type": "stream",
     "text": [
      "\n",
      "\n",
      " 49%|████▉     | 49/100 [34:16<35:46, 42.09s/it]\u001b[A\u001b[A"
     ]
    },
    {
     "name": "stdout",
     "output_type": "stream",
     "text": [
      "18/18 [==============================] - 2s 104ms/step - loss: 0.2230 - auc: 0.9678 - val_loss: 0.3032 - val_auc: 0.9528\n"
     ]
    },
    {
     "name": "stderr",
     "output_type": "stream",
     "text": [
      "\n",
      "\n",
      " 50%|█████     | 50/100 [34:58<35:02, 42.05s/it]\u001b[A\u001b[A"
     ]
    },
    {
     "name": "stdout",
     "output_type": "stream",
     "text": [
      "18/18 [==============================] - 2s 105ms/step - loss: 0.2218 - auc: 0.9681 - val_loss: 0.3039 - val_auc: 0.9528\n"
     ]
    },
    {
     "name": "stderr",
     "output_type": "stream",
     "text": [
      "\n",
      "\n",
      " 51%|█████     | 51/100 [35:40<34:16, 41.97s/it]\u001b[A\u001b[A"
     ]
    },
    {
     "name": "stdout",
     "output_type": "stream",
     "text": [
      "18/18 [==============================] - 2s 105ms/step - loss: 0.2210 - auc: 0.9684 - val_loss: 0.3034 - val_auc: 0.9530\n"
     ]
    },
    {
     "name": "stderr",
     "output_type": "stream",
     "text": [
      "\n",
      "\n",
      " 52%|█████▏    | 52/100 [36:22<33:32, 41.94s/it]\u001b[A\u001b[A"
     ]
    },
    {
     "name": "stdout",
     "output_type": "stream",
     "text": [
      "18/18 [==============================] - 3s 139ms/step - loss: 0.2201 - auc: 0.9687 - val_loss: 0.3029 - val_auc: 0.9532\n"
     ]
    },
    {
     "name": "stderr",
     "output_type": "stream",
     "text": [
      "\n",
      "\n",
      " 53%|█████▎    | 53/100 [37:04<33:01, 42.17s/it]\u001b[A\u001b[A"
     ]
    },
    {
     "name": "stdout",
     "output_type": "stream",
     "text": [
      "18/18 [==============================] - 2s 104ms/step - loss: 0.2189 - auc: 0.9690 - val_loss: 0.3036 - val_auc: 0.9532\n"
     ]
    },
    {
     "name": "stderr",
     "output_type": "stream",
     "text": [
      "\n",
      "\n",
      " 54%|█████▍    | 54/100 [37:46<32:14, 42.06s/it]\u001b[A\u001b[A"
     ]
    },
    {
     "name": "stdout",
     "output_type": "stream",
     "text": [
      "18/18 [==============================] - 2s 105ms/step - loss: 0.2180 - auc: 0.9693 - val_loss: 0.3034 - val_auc: 0.9534\n"
     ]
    },
    {
     "name": "stderr",
     "output_type": "stream",
     "text": [
      "\n",
      "\n",
      " 55%|█████▌    | 55/100 [38:28<31:24, 41.88s/it]\u001b[A\u001b[A"
     ]
    },
    {
     "name": "stdout",
     "output_type": "stream",
     "text": [
      "18/18 [==============================] - 2s 105ms/step - loss: 0.2169 - auc: 0.9696 - val_loss: 0.3038 - val_auc: 0.9534\n"
     ]
    },
    {
     "name": "stderr",
     "output_type": "stream",
     "text": [
      "\n",
      "\n",
      " 56%|█████▌    | 56/100 [39:09<30:42, 41.88s/it]\u001b[A\u001b[A"
     ]
    },
    {
     "name": "stdout",
     "output_type": "stream",
     "text": [
      "18/18 [==============================] - 3s 140ms/step - loss: 0.2159 - auc: 0.9699 - val_loss: 0.3032 - val_auc: 0.9538\n"
     ]
    },
    {
     "name": "stderr",
     "output_type": "stream",
     "text": [
      "\n",
      "\n",
      " 57%|█████▋    | 57/100 [39:52<30:08, 42.06s/it]\u001b[A\u001b[A"
     ]
    },
    {
     "name": "stdout",
     "output_type": "stream",
     "text": [
      "18/18 [==============================] - 2s 105ms/step - loss: 0.2146 - auc: 0.9703 - val_loss: 0.3041 - val_auc: 0.9536\n"
     ]
    },
    {
     "name": "stderr",
     "output_type": "stream",
     "text": [
      "\n",
      "\n",
      " 58%|█████▊    | 58/100 [40:34<29:22, 41.96s/it]\u001b[A\u001b[A"
     ]
    },
    {
     "name": "stdout",
     "output_type": "stream",
     "text": [
      "18/18 [==============================] - 2s 105ms/step - loss: 0.2136 - auc: 0.9705 - val_loss: 0.3045 - val_auc: 0.9537\n"
     ]
    },
    {
     "name": "stderr",
     "output_type": "stream",
     "text": [
      "\n",
      "\n",
      " 59%|█████▉    | 59/100 [41:15<28:38, 41.91s/it]\u001b[A\u001b[A"
     ]
    },
    {
     "name": "stdout",
     "output_type": "stream",
     "text": [
      "18/18 [==============================] - 2s 105ms/step - loss: 0.2126 - auc: 0.9708 - val_loss: 0.3049 - val_auc: 0.9538\n"
     ]
    },
    {
     "name": "stderr",
     "output_type": "stream",
     "text": [
      "\n",
      "\n",
      " 60%|██████    | 60/100 [41:57<27:54, 41.86s/it]\u001b[A\u001b[A"
     ]
    },
    {
     "name": "stdout",
     "output_type": "stream",
     "text": [
      "18/18 [==============================] - 2s 138ms/step - loss: 0.2118 - auc: 0.9710 - val_loss: 0.3055 - val_auc: 0.9538\n"
     ]
    },
    {
     "name": "stderr",
     "output_type": "stream",
     "text": [
      "\n",
      "\n",
      " 61%|██████    | 61/100 [42:39<27:14, 41.90s/it]\u001b[A\u001b[A"
     ]
    },
    {
     "name": "stdout",
     "output_type": "stream",
     "text": [
      "18/18 [==============================] - 2s 105ms/step - loss: 0.2106 - auc: 0.9713 - val_loss: 0.3054 - val_auc: 0.9540\n"
     ]
    },
    {
     "name": "stderr",
     "output_type": "stream",
     "text": [
      "\n",
      "\n",
      " 62%|██████▏   | 62/100 [43:21<26:28, 41.79s/it]\u001b[A\u001b[A"
     ]
    },
    {
     "name": "stdout",
     "output_type": "stream",
     "text": [
      "18/18 [==============================] - 2s 104ms/step - loss: 0.2096 - auc: 0.9716 - val_loss: 0.3061 - val_auc: 0.9540\n"
     ]
    },
    {
     "name": "stderr",
     "output_type": "stream",
     "text": [
      "\n",
      "\n",
      " 63%|██████▎   | 63/100 [44:03<25:47, 41.81s/it]\u001b[A\u001b[A"
     ]
    },
    {
     "name": "stdout",
     "output_type": "stream",
     "text": [
      "18/18 [==============================] - 2s 106ms/step - loss: 0.2088 - auc: 0.9718 - val_loss: 0.3070 - val_auc: 0.9540\n"
     ]
    },
    {
     "name": "stderr",
     "output_type": "stream",
     "text": [
      "\n",
      "\n",
      " 64%|██████▍   | 64/100 [44:44<25:05, 41.82s/it]\u001b[A\u001b[A"
     ]
    },
    {
     "name": "stdout",
     "output_type": "stream",
     "text": [
      "18/18 [==============================] - 2s 138ms/step - loss: 0.2077 - auc: 0.9721 - val_loss: 0.3082 - val_auc: 0.9539\n"
     ]
    },
    {
     "name": "stderr",
     "output_type": "stream",
     "text": [
      "\n",
      "\n",
      " 65%|██████▌   | 65/100 [45:27<24:27, 41.94s/it]\u001b[A\u001b[A"
     ]
    },
    {
     "name": "stdout",
     "output_type": "stream",
     "text": [
      "18/18 [==============================] - 2s 104ms/step - loss: 0.2067 - auc: 0.9724 - val_loss: 0.3084 - val_auc: 0.9541\n"
     ]
    },
    {
     "name": "stderr",
     "output_type": "stream",
     "text": [
      "\n",
      "\n",
      " 66%|██████▌   | 66/100 [46:08<23:40, 41.79s/it]\u001b[A\u001b[A"
     ]
    },
    {
     "name": "stdout",
     "output_type": "stream",
     "text": [
      "18/18 [==============================] - 2s 105ms/step - loss: 0.2059 - auc: 0.9726 - val_loss: 0.3091 - val_auc: 0.9541\n"
     ]
    },
    {
     "name": "stderr",
     "output_type": "stream",
     "text": [
      "\n",
      "\n",
      " 67%|██████▋   | 67/100 [46:50<23:00, 41.82s/it]\u001b[A\u001b[A"
     ]
    },
    {
     "name": "stdout",
     "output_type": "stream",
     "text": [
      "18/18 [==============================] - 2s 105ms/step - loss: 0.2049 - auc: 0.9728 - val_loss: 0.3089 - val_auc: 0.9543\n"
     ]
    },
    {
     "name": "stderr",
     "output_type": "stream",
     "text": [
      "\n",
      "\n",
      " 68%|██████▊   | 68/100 [47:32<22:15, 41.74s/it]\u001b[A\u001b[A"
     ]
    },
    {
     "name": "stdout",
     "output_type": "stream",
     "text": [
      "18/18 [==============================] - 2s 137ms/step - loss: 0.2040 - auc: 0.9731 - val_loss: 0.3103 - val_auc: 0.9542\n"
     ]
    },
    {
     "name": "stderr",
     "output_type": "stream",
     "text": [
      "\n",
      "\n",
      " 69%|██████▉   | 69/100 [48:14<21:36, 41.83s/it]\u001b[A\u001b[A"
     ]
    },
    {
     "name": "stdout",
     "output_type": "stream",
     "text": [
      "18/18 [==============================] - 2s 106ms/step - loss: 0.2034 - auc: 0.9732 - val_loss: 0.3109 - val_auc: 0.9542\n"
     ]
    },
    {
     "name": "stderr",
     "output_type": "stream",
     "text": [
      "\n",
      "\n",
      " 70%|███████   | 70/100 [48:55<20:50, 41.69s/it]\u001b[A\u001b[A"
     ]
    },
    {
     "name": "stdout",
     "output_type": "stream",
     "text": [
      "18/18 [==============================] - 2s 104ms/step - loss: 0.2026 - auc: 0.9734 - val_loss: 0.3122 - val_auc: 0.9541\n"
     ]
    },
    {
     "name": "stderr",
     "output_type": "stream",
     "text": [
      "\n",
      "\n",
      " 71%|███████   | 71/100 [49:37<20:08, 41.67s/it]\u001b[A\u001b[A"
     ]
    },
    {
     "name": "stdout",
     "output_type": "stream",
     "text": [
      "18/18 [==============================] - 2s 104ms/step - loss: 0.2018 - auc: 0.9736 - val_loss: 0.3136 - val_auc: 0.9540\n"
     ]
    },
    {
     "name": "stderr",
     "output_type": "stream",
     "text": [
      "\n",
      "\n",
      " 72%|███████▏  | 72/100 [50:18<19:25, 41.64s/it]\u001b[A\u001b[A"
     ]
    },
    {
     "name": "stdout",
     "output_type": "stream",
     "text": [
      "18/18 [==============================] - 3s 140ms/step - loss: 0.2010 - auc: 0.9738 - val_loss: 0.3143 - val_auc: 0.9540\n"
     ]
    },
    {
     "name": "stderr",
     "output_type": "stream",
     "text": [
      "\n",
      "\n",
      " 73%|███████▎  | 73/100 [51:00<18:49, 41.82s/it]\u001b[A\u001b[A"
     ]
    },
    {
     "name": "stdout",
     "output_type": "stream",
     "text": [
      "18/18 [==============================] - 2s 106ms/step - loss: 0.2002 - auc: 0.9739 - val_loss: 0.3154 - val_auc: 0.9539\n"
     ]
    },
    {
     "name": "stderr",
     "output_type": "stream",
     "text": [
      "\n",
      "\n",
      " 74%|███████▍  | 74/100 [51:42<18:06, 41.80s/it]\u001b[A\u001b[A"
     ]
    },
    {
     "name": "stdout",
     "output_type": "stream",
     "text": [
      "18/18 [==============================] - 2s 105ms/step - loss: 0.1999 - auc: 0.9740 - val_loss: 0.3161 - val_auc: 0.9539\n"
     ]
    },
    {
     "name": "stderr",
     "output_type": "stream",
     "text": [
      "\n",
      "\n",
      " 75%|███████▌  | 75/100 [52:24<17:23, 41.73s/it]\u001b[A\u001b[A"
     ]
    },
    {
     "name": "stdout",
     "output_type": "stream",
     "text": [
      "18/18 [==============================] - 2s 107ms/step - loss: 0.1993 - auc: 0.9741 - val_loss: 0.3175 - val_auc: 0.9537\n"
     ]
    },
    {
     "name": "stderr",
     "output_type": "stream",
     "text": [
      "\n",
      "\n",
      " 76%|███████▌  | 76/100 [53:05<16:38, 41.61s/it]\u001b[A\u001b[A"
     ]
    },
    {
     "name": "stdout",
     "output_type": "stream",
     "text": [
      "18/18 [==============================] - 3s 143ms/step - loss: 0.1989 - auc: 0.9742 - val_loss: 0.3185 - val_auc: 0.9536\n"
     ]
    },
    {
     "name": "stderr",
     "output_type": "stream",
     "text": [
      "\n",
      "\n",
      " 77%|███████▋  | 77/100 [53:47<15:59, 41.71s/it]\u001b[A\u001b[A"
     ]
    },
    {
     "name": "stdout",
     "output_type": "stream",
     "text": [
      "18/18 [==============================] - 2s 106ms/step - loss: 0.1985 - auc: 0.9743 - val_loss: 0.3198 - val_auc: 0.9536\n"
     ]
    },
    {
     "name": "stderr",
     "output_type": "stream",
     "text": [
      "\n",
      "\n",
      " 78%|███████▊  | 78/100 [54:28<15:16, 41.64s/it]\u001b[A\u001b[A"
     ]
    },
    {
     "name": "stdout",
     "output_type": "stream",
     "text": [
      "18/18 [==============================] - 2s 105ms/step - loss: 0.1977 - auc: 0.9745 - val_loss: 0.3212 - val_auc: 0.9534\n"
     ]
    },
    {
     "name": "stderr",
     "output_type": "stream",
     "text": [
      "\n",
      "\n",
      " 79%|███████▉  | 79/100 [55:10<14:34, 41.63s/it]\u001b[A\u001b[A"
     ]
    },
    {
     "name": "stdout",
     "output_type": "stream",
     "text": [
      "18/18 [==============================] - 2s 108ms/step - loss: 0.1972 - auc: 0.9746 - val_loss: 0.3232 - val_auc: 0.9533\n"
     ]
    },
    {
     "name": "stderr",
     "output_type": "stream",
     "text": [
      "\n",
      "\n",
      " 80%|████████  | 80/100 [55:52<13:54, 41.70s/it]\u001b[A\u001b[A"
     ]
    },
    {
     "name": "stdout",
     "output_type": "stream",
     "text": [
      "18/18 [==============================] - 3s 141ms/step - loss: 0.1966 - auc: 0.9747 - val_loss: 0.3240 - val_auc: 0.9531\n"
     ]
    },
    {
     "name": "stderr",
     "output_type": "stream",
     "text": [
      "\n",
      "\n",
      " 81%|████████  | 81/100 [56:34<13:13, 41.78s/it]\u001b[A\u001b[A"
     ]
    },
    {
     "name": "stdout",
     "output_type": "stream",
     "text": [
      "18/18 [==============================] - 2s 105ms/step - loss: 0.1965 - auc: 0.9748 - val_loss: 0.3253 - val_auc: 0.9531\n"
     ]
    },
    {
     "name": "stderr",
     "output_type": "stream",
     "text": [
      "\n",
      "\n",
      " 82%|████████▏ | 82/100 [57:15<12:27, 41.55s/it]\u001b[A\u001b[A"
     ]
    },
    {
     "name": "stdout",
     "output_type": "stream",
     "text": [
      "18/18 [==============================] - 2s 104ms/step - loss: 0.1960 - auc: 0.9749 - val_loss: 0.3270 - val_auc: 0.9530\n"
     ]
    },
    {
     "name": "stderr",
     "output_type": "stream",
     "text": [
      "\n",
      "\n",
      " 83%|████████▎ | 83/100 [57:57<11:47, 41.60s/it]\u001b[A\u001b[A"
     ]
    },
    {
     "name": "stdout",
     "output_type": "stream",
     "text": [
      "18/18 [==============================] - 2s 107ms/step - loss: 0.1957 - auc: 0.9750 - val_loss: 0.3282 - val_auc: 0.9529\n"
     ]
    },
    {
     "name": "stderr",
     "output_type": "stream",
     "text": [
      "\n",
      "\n",
      " 84%|████████▍ | 84/100 [58:38<11:05, 41.60s/it]\u001b[A\u001b[A"
     ]
    },
    {
     "name": "stdout",
     "output_type": "stream",
     "text": [
      "18/18 [==============================] - 3s 142ms/step - loss: 0.1953 - auc: 0.9751 - val_loss: 0.3309 - val_auc: 0.9526\n"
     ]
    },
    {
     "name": "stderr",
     "output_type": "stream",
     "text": [
      "\n",
      "\n",
      " 85%|████████▌ | 85/100 [59:20<10:25, 41.71s/it]\u001b[A\u001b[A"
     ]
    },
    {
     "name": "stdout",
     "output_type": "stream",
     "text": [
      "18/18 [==============================] - 2s 105ms/step - loss: 0.1949 - auc: 0.9751 - val_loss: 0.3310 - val_auc: 0.9526\n"
     ]
    },
    {
     "name": "stderr",
     "output_type": "stream",
     "text": [
      "\n",
      "\n",
      " 86%|████████▌ | 86/100 [1:00:01<09:41, 41.55s/it]\u001b[A\u001b[A"
     ]
    },
    {
     "name": "stdout",
     "output_type": "stream",
     "text": [
      "18/18 [==============================] - 2s 104ms/step - loss: 0.1947 - auc: 0.9752 - val_loss: 0.3321 - val_auc: 0.9525\n"
     ]
    },
    {
     "name": "stderr",
     "output_type": "stream",
     "text": [
      "\n",
      "\n",
      " 87%|████████▋ | 87/100 [1:00:43<09:00, 41.56s/it]\u001b[A\u001b[A"
     ]
    },
    {
     "name": "stdout",
     "output_type": "stream",
     "text": [
      "18/18 [==============================] - 2s 107ms/step - loss: 0.1945 - auc: 0.9752 - val_loss: 0.3331 - val_auc: 0.9525\n"
     ]
    },
    {
     "name": "stderr",
     "output_type": "stream",
     "text": [
      "\n",
      "\n",
      " 88%|████████▊ | 88/100 [1:01:25<08:18, 41.57s/it]\u001b[A\u001b[A"
     ]
    },
    {
     "name": "stdout",
     "output_type": "stream",
     "text": [
      "18/18 [==============================] - 3s 143ms/step - loss: 0.1939 - auc: 0.9753 - val_loss: 0.3354 - val_auc: 0.9522\n"
     ]
    },
    {
     "name": "stderr",
     "output_type": "stream",
     "text": [
      "\n",
      "\n",
      " 89%|████████▉ | 89/100 [1:02:07<07:40, 41.82s/it]\u001b[A\u001b[A"
     ]
    },
    {
     "name": "stdout",
     "output_type": "stream",
     "text": [
      "18/18 [==============================] - 2s 105ms/step - loss: 0.1939 - auc: 0.9754 - val_loss: 0.3368 - val_auc: 0.9523\n"
     ]
    },
    {
     "name": "stderr",
     "output_type": "stream",
     "text": [
      "\n",
      "\n",
      " 90%|█████████ | 90/100 [1:02:48<06:56, 41.67s/it]\u001b[A\u001b[A"
     ]
    },
    {
     "name": "stdout",
     "output_type": "stream",
     "text": [
      "18/18 [==============================] - 2s 105ms/step - loss: 0.1934 - auc: 0.9755 - val_loss: 0.3379 - val_auc: 0.9521\n"
     ]
    },
    {
     "name": "stderr",
     "output_type": "stream",
     "text": [
      "\n",
      "\n",
      " 91%|█████████ | 91/100 [1:03:30<06:15, 41.75s/it]\u001b[A\u001b[A"
     ]
    },
    {
     "name": "stdout",
     "output_type": "stream",
     "text": [
      "18/18 [==============================] - 2s 108ms/step - loss: 0.1934 - auc: 0.9755 - val_loss: 0.3388 - val_auc: 0.9521\n"
     ]
    },
    {
     "name": "stderr",
     "output_type": "stream",
     "text": [
      "\n",
      "\n",
      " 92%|█████████▏| 92/100 [1:04:12<05:34, 41.81s/it]\u001b[A\u001b[A"
     ]
    },
    {
     "name": "stdout",
     "output_type": "stream",
     "text": [
      "18/18 [==============================] - 3s 141ms/step - loss: 0.1930 - auc: 0.9755 - val_loss: 0.3401 - val_auc: 0.9521\n"
     ]
    },
    {
     "name": "stderr",
     "output_type": "stream",
     "text": [
      "\n",
      "\n",
      " 93%|█████████▎| 93/100 [1:04:54<04:53, 41.87s/it]\u001b[A\u001b[A"
     ]
    },
    {
     "name": "stdout",
     "output_type": "stream",
     "text": [
      "18/18 [==============================] - 2s 106ms/step - loss: 0.1928 - auc: 0.9756 - val_loss: 0.3423 - val_auc: 0.9520\n"
     ]
    },
    {
     "name": "stderr",
     "output_type": "stream",
     "text": [
      "\n",
      "\n",
      " 94%|█████████▍| 94/100 [1:05:35<04:10, 41.70s/it]\u001b[A\u001b[A"
     ]
    },
    {
     "name": "stdout",
     "output_type": "stream",
     "text": [
      "18/18 [==============================] - 2s 105ms/step - loss: 0.1923 - auc: 0.9757 - val_loss: 0.3435 - val_auc: 0.9518\n"
     ]
    },
    {
     "name": "stderr",
     "output_type": "stream",
     "text": [
      "\n",
      "\n",
      " 95%|█████████▌| 95/100 [1:06:17<03:28, 41.65s/it]\u001b[A\u001b[A"
     ]
    },
    {
     "name": "stdout",
     "output_type": "stream",
     "text": [
      "18/18 [==============================] - 2s 108ms/step - loss: 0.1923 - auc: 0.9757 - val_loss: 0.3445 - val_auc: 0.9516\n"
     ]
    },
    {
     "name": "stderr",
     "output_type": "stream",
     "text": [
      "\n",
      "\n",
      " 96%|█████████▌| 96/100 [1:06:59<02:46, 41.69s/it]\u001b[A\u001b[A"
     ]
    },
    {
     "name": "stdout",
     "output_type": "stream",
     "text": [
      "18/18 [==============================] - 3s 142ms/step - loss: 0.1921 - auc: 0.9757 - val_loss: 0.3442 - val_auc: 0.9517\n"
     ]
    },
    {
     "name": "stderr",
     "output_type": "stream",
     "text": [
      "\n",
      "\n",
      " 97%|█████████▋| 97/100 [1:07:41<02:05, 41.89s/it]\u001b[A\u001b[A"
     ]
    },
    {
     "name": "stdout",
     "output_type": "stream",
     "text": [
      "18/18 [==============================] - 2s 105ms/step - loss: 0.1919 - auc: 0.9758 - val_loss: 0.3470 - val_auc: 0.9515\n"
     ]
    },
    {
     "name": "stderr",
     "output_type": "stream",
     "text": [
      "\n",
      "\n",
      " 98%|█████████▊| 98/100 [1:08:22<01:23, 41.69s/it]\u001b[A\u001b[A"
     ]
    },
    {
     "name": "stdout",
     "output_type": "stream",
     "text": [
      "18/18 [==============================] - 2s 105ms/step - loss: 0.1916 - auc: 0.9758 - val_loss: 0.3489 - val_auc: 0.9513\n"
     ]
    },
    {
     "name": "stderr",
     "output_type": "stream",
     "text": [
      "\n",
      "\n",
      " 99%|█████████▉| 99/100 [1:09:04<00:41, 41.71s/it]\u001b[A\u001b[A"
     ]
    },
    {
     "name": "stdout",
     "output_type": "stream",
     "text": [
      "18/18 [==============================] - 2s 108ms/step - loss: 0.1915 - auc: 0.9759 - val_loss: 0.3501 - val_auc: 0.9513\n"
     ]
    },
    {
     "name": "stderr",
     "output_type": "stream",
     "text": [
      "\n",
      "\n",
      "100%|██████████| 100/100 [1:09:46<00:00, 41.86s/it]\u001b[A\u001b[A\n"
     ]
    }
   ],
   "source": [
    "for epoch in tqdm.tqdm(range((num_epochs))):\n",
    "    # Generate training instances\n",
    "    user_input, item_input, labels = get_train_instances(data_dict, num_negatives, album_id_list)\n",
    "\n",
    "    # Training\n",
    "#     hist = model.fit([np.array(user_input), np.array(item_input)], #input\n",
    "#                      np.array(labels), # labels \n",
    "#                      batch_size=batch_size, nb_epoch=1, verbose=0, shuffle=True)\n",
    "\n",
    "#     break\n",
    "                       \n",
    "    hist = model.fit([np.array(user_input), np.array(item_input)], #input\n",
    "                     np.array(labels), # labels \n",
    "                     batch_size=2**20, epochs=1, verbose=1, validation_split=0.2,\n",
    "                     shuffle=True\n",
    "                    )\n",
    "\n",
    "    # Evaluation\n",
    "#     if epoch %verbose == 0:\n",
    "#         (hits, ndcgs) = evaluate_model(model, testRatings, testNegatives, topK, evaluation_threads)\n",
    "#         hr, ndcg, loss = np.array(hits).mean(), np.array(ndcgs).mean(), hist.history['loss'][0]\n",
    "#         print('Iteration %d [%.1f s]: HR = %.4f, NDCG = %.4f, loss = %.4f [%.1f s]' \n",
    "#               % (epoch,  t2-t1, hr, ndcg, loss, time()-t2))\n",
    "#         if hr > best_hr:\n",
    "#             best_hr, best_ndcg, best_iter = hr, ndcg, epoch\n",
    "#             if args.out > 0:\n",
    "#                 model.save_weights(model_out_file, overwrite=True)"
   ]
  },
  {
   "cell_type": "code",
   "execution_count": 33,
   "metadata": {},
   "outputs": [
    {
     "data": {
      "text/plain": [
       "[array([ 236442,  236442, 1128523, ..., 1211721,  549391,  549391]),\n",
       " array([ 6330,  7380,  4606, ...,  5224, 10370,  2259])]"
      ]
     },
     "execution_count": 33,
     "metadata": {},
     "output_type": "execute_result"
    }
   ],
   "source": [
    "[np.array(user_input), np.array(item_input)]"
   ]
  },
  {
   "cell_type": "code",
   "execution_count": 30,
   "metadata": {},
   "outputs": [
    {
     "data": {
      "text/plain": [
       "[236442,\n",
       " 236442,\n",
       " 1128523,\n",
       " 1128523,\n",
       " 1277456,\n",
       " 1277456,\n",
       " 1052421,\n",
       " 1052421,\n",
       " 1101746,\n",
       " 1101746,\n",
       " 197400,\n",
       " 197400,\n",
       " 155598,\n",
       " 155598,\n",
       " 1405914,\n",
       " 1405914,\n",
       " 252074,\n",
       " 252074,\n",
       " 358237,\n",
       " 358237,\n",
       " 507755,\n",
       " 507755,\n",
       " 631061,\n",
       " 631061,\n",
       " 1179189,\n",
       " 1179189,\n",
       " 460243,\n",
       " 460243,\n",
       " 1338457,\n",
       " 1338457,\n",
       " 1328092,\n",
       " 1328092,\n",
       " 842279,\n",
       " 842279,\n",
       " 1073232,\n",
       " 1073232,\n",
       " 440357,\n",
       " 440357,\n",
       " 564334,\n",
       " 564334,\n",
       " 67018,\n",
       " 67018,\n",
       " 1307389,\n",
       " 1307389,\n",
       " 1112465,\n",
       " 1112465,\n",
       " 62400,\n",
       " 62400,\n",
       " 1237590,\n",
       " 1237590,\n",
       " 269311,\n",
       " 269311,\n",
       " 931808,\n",
       " 931808,\n",
       " 521805,\n",
       " 521805,\n",
       " 1041992,\n",
       " 1041992,\n",
       " 975172,\n",
       " 975172,\n",
       " 629800,\n",
       " 629800,\n",
       " 495726,\n",
       " 495726,\n",
       " 386860,\n",
       " 386860,\n",
       " 1367161,\n",
       " 1367161,\n",
       " 674722,\n",
       " 674722,\n",
       " 100123,\n",
       " 100123,\n",
       " 905509,\n",
       " 905509,\n",
       " 1437632,\n",
       " 1437632,\n",
       " 711077,\n",
       " 711077,\n",
       " 407625,\n",
       " 407625,\n",
       " 922258,\n",
       " 922258,\n",
       " 228498,\n",
       " 228498,\n",
       " 156103,\n",
       " 156103,\n",
       " 44215,\n",
       " 44215,\n",
       " 570636,\n",
       " 570636,\n",
       " 432996,\n",
       " 432996,\n",
       " 844282,\n",
       " 844282,\n",
       " 764632,\n",
       " 764632,\n",
       " 1065087,\n",
       " 1065087,\n",
       " 872401,\n",
       " 872401,\n",
       " 659258,\n",
       " 659258,\n",
       " 518739,\n",
       " 518739,\n",
       " 1480078,\n",
       " 1480078,\n",
       " 823516,\n",
       " 823516,\n",
       " 288594,\n",
       " 288594,\n",
       " 357536,\n",
       " 357536,\n",
       " 586501,\n",
       " 586501,\n",
       " 331145,\n",
       " 331145,\n",
       " 752465,\n",
       " 752465,\n",
       " 953761,\n",
       " 953761,\n",
       " 688750,\n",
       " 688750,\n",
       " 177043,\n",
       " 177043,\n",
       " 387321,\n",
       " 387321,\n",
       " 1560313,\n",
       " 1560313,\n",
       " 998794,\n",
       " 998794,\n",
       " 1351214,\n",
       " 1351214,\n",
       " 1473724,\n",
       " 1473724,\n",
       " 1053726,\n",
       " 1053726,\n",
       " 1444967,\n",
       " 1444967,\n",
       " 776833,\n",
       " 776833,\n",
       " 86772,\n",
       " 86772,\n",
       " 1246442,\n",
       " 1246442,\n",
       " 1438933,\n",
       " 1438933,\n",
       " 581502,\n",
       " 581502,\n",
       " 1266234,\n",
       " 1266234,\n",
       " 912347,\n",
       " 912347,\n",
       " 12140,\n",
       " 12140,\n",
       " 1503262,\n",
       " 1503262,\n",
       " 475651,\n",
       " 475651,\n",
       " 464412,\n",
       " 464412,\n",
       " 520525,\n",
       " 520525,\n",
       " 1296377,\n",
       " 1296377,\n",
       " 420607,\n",
       " 420607,\n",
       " 723768,\n",
       " 723768,\n",
       " 1263355,\n",
       " 1263355,\n",
       " 1500626,\n",
       " 1500626,\n",
       " 1047395,\n",
       " 1047395,\n",
       " 89217,\n",
       " 89217,\n",
       " 1383793,\n",
       " 1383793,\n",
       " 883735,\n",
       " 883735,\n",
       " 1348984,\n",
       " 1348984,\n",
       " 1488612,\n",
       " 1488612,\n",
       " 1303575,\n",
       " 1303575,\n",
       " 1112516,\n",
       " 1112516,\n",
       " 54676,\n",
       " 54676,\n",
       " 307075,\n",
       " 307075,\n",
       " 668151,\n",
       " 668151,\n",
       " 1115941,\n",
       " 1115941,\n",
       " 915115,\n",
       " 915115,\n",
       " 723163,\n",
       " 723163,\n",
       " 1126747,\n",
       " 1126747,\n",
       " 31186,\n",
       " 31186,\n",
       " 188621,\n",
       " 188621,\n",
       " 1385138,\n",
       " 1385138,\n",
       " 471166,\n",
       " 471166,\n",
       " 456868,\n",
       " 456868,\n",
       " 656472,\n",
       " 656472,\n",
       " 950052,\n",
       " 950052,\n",
       " 736080,\n",
       " 736080,\n",
       " 425845,\n",
       " 425845,\n",
       " 12768,\n",
       " 12768,\n",
       " 1027342,\n",
       " 1027342,\n",
       " 1495044,\n",
       " 1495044,\n",
       " 157824,\n",
       " 157824,\n",
       " 1508966,\n",
       " 1508966,\n",
       " 33201,\n",
       " 33201,\n",
       " 790996,\n",
       " 790996,\n",
       " 6980,\n",
       " 6980,\n",
       " 1116988,\n",
       " 1116988,\n",
       " 245318,\n",
       " 245318,\n",
       " 570475,\n",
       " 570475,\n",
       " 1022428,\n",
       " 1022428,\n",
       " 389552,\n",
       " 389552,\n",
       " 1406060,\n",
       " 1406060,\n",
       " 122549,\n",
       " 122549,\n",
       " 445340,\n",
       " 445340,\n",
       " 1505351,\n",
       " 1505351,\n",
       " 743366,\n",
       " 743366,\n",
       " 292044,\n",
       " 292044,\n",
       " 900503,\n",
       " 900503,\n",
       " 945167,\n",
       " 945167,\n",
       " 885719,\n",
       " 885719,\n",
       " 338607,\n",
       " 338607,\n",
       " 1493210,\n",
       " 1493210,\n",
       " 76824,\n",
       " 76824,\n",
       " 570185,\n",
       " 570185,\n",
       " 1215128,\n",
       " 1215128,\n",
       " 796658,\n",
       " 796658,\n",
       " 1234421,\n",
       " 1234421,\n",
       " 60306,\n",
       " 60306,\n",
       " 1393144,\n",
       " 1393144,\n",
       " 859124,\n",
       " 859124,\n",
       " 698061,\n",
       " 698061,\n",
       " 1511199,\n",
       " 1511199,\n",
       " 752863,\n",
       " 752863,\n",
       " 622846,\n",
       " 622846,\n",
       " 1203558,\n",
       " 1203558,\n",
       " 1263473,\n",
       " 1263473,\n",
       " 331665,\n",
       " 331665,\n",
       " 308272,\n",
       " 308272,\n",
       " 81196,\n",
       " 81196,\n",
       " 65506,\n",
       " 65506,\n",
       " 16994,\n",
       " 16994,\n",
       " 202358,\n",
       " 202358,\n",
       " 621865,\n",
       " 621865,\n",
       " 1161626,\n",
       " 1161626,\n",
       " 940210,\n",
       " 940210,\n",
       " 679635,\n",
       " 679635,\n",
       " 781216,\n",
       " 781216,\n",
       " 482080,\n",
       " 482080,\n",
       " 375595,\n",
       " 375595,\n",
       " 827348,\n",
       " 827348,\n",
       " 441962,\n",
       " 441962,\n",
       " 330474,\n",
       " 330474,\n",
       " 1524138,\n",
       " 1524138,\n",
       " 1219320,\n",
       " 1219320,\n",
       " 653380,\n",
       " 653380,\n",
       " 1071265,\n",
       " 1071265,\n",
       " 49733,\n",
       " 49733,\n",
       " 160301,\n",
       " 160301,\n",
       " 725270,\n",
       " 725270,\n",
       " 1235974,\n",
       " 1235974,\n",
       " 1383000,\n",
       " 1383000,\n",
       " 1161394,\n",
       " 1161394,\n",
       " 231945,\n",
       " 231945,\n",
       " 129513,\n",
       " 129513,\n",
       " 1259436,\n",
       " 1259436,\n",
       " 387024,\n",
       " 387024,\n",
       " 845841,\n",
       " 845841,\n",
       " 173348,\n",
       " 173348,\n",
       " 717390,\n",
       " 717390,\n",
       " 239534,\n",
       " 239534,\n",
       " 545862,\n",
       " 545862,\n",
       " 1314489,\n",
       " 1314489,\n",
       " 23290,\n",
       " 23290,\n",
       " 1233542,\n",
       " 1233542,\n",
       " 635594,\n",
       " 635594,\n",
       " 686520,\n",
       " 686520,\n",
       " 245421,\n",
       " 245421,\n",
       " 1213882,\n",
       " 1213882,\n",
       " 1145062,\n",
       " 1145062,\n",
       " 1151777,\n",
       " 1151777,\n",
       " 925880,\n",
       " 925880,\n",
       " 729950,\n",
       " 729950,\n",
       " 246825,\n",
       " 246825,\n",
       " 913002,\n",
       " 913002,\n",
       " 482556,\n",
       " 482556,\n",
       " 405703,\n",
       " 405703,\n",
       " 667901,\n",
       " 667901,\n",
       " 259814,\n",
       " 259814,\n",
       " 298107,\n",
       " 298107,\n",
       " 1288459,\n",
       " 1288459,\n",
       " 1264108,\n",
       " 1264108,\n",
       " 1430953,\n",
       " 1430953,\n",
       " 744581,\n",
       " 744581,\n",
       " 1141831,\n",
       " 1141831,\n",
       " 582749,\n",
       " 582749,\n",
       " 1421033,\n",
       " 1421033,\n",
       " 1476225,\n",
       " 1476225,\n",
       " 1151361,\n",
       " 1151361,\n",
       " 1371090,\n",
       " 1371090,\n",
       " 1165030,\n",
       " 1165030,\n",
       " 94477,\n",
       " 94477,\n",
       " 1416414,\n",
       " 1416414,\n",
       " 354575,\n",
       " 354575,\n",
       " 110061,\n",
       " 110061,\n",
       " 541168,\n",
       " 541168,\n",
       " 1010972,\n",
       " 1010972,\n",
       " 39614,\n",
       " 39614,\n",
       " 352323,\n",
       " 352323,\n",
       " 492657,\n",
       " 492657,\n",
       " 468860,\n",
       " 468860,\n",
       " 1491304,\n",
       " 1491304,\n",
       " 1339944,\n",
       " 1339944,\n",
       " 283863,\n",
       " 283863,\n",
       " 1063132,\n",
       " 1063132,\n",
       " 709063,\n",
       " 709063,\n",
       " 191474,\n",
       " 191474,\n",
       " 1156855,\n",
       " 1156855,\n",
       " 1062314,\n",
       " 1062314,\n",
       " 427927,\n",
       " 427927,\n",
       " 1119892,\n",
       " 1119892,\n",
       " 985913,\n",
       " 985913,\n",
       " 1562587,\n",
       " 1562587,\n",
       " 1522677,\n",
       " 1522677,\n",
       " 144998,\n",
       " 144998,\n",
       " 83671,\n",
       " 83671,\n",
       " 24868,\n",
       " 24868,\n",
       " 756103,\n",
       " 756103,\n",
       " 397104,\n",
       " 397104,\n",
       " 1394130,\n",
       " 1394130,\n",
       " 183306,\n",
       " 183306,\n",
       " 457141,\n",
       " 457141,\n",
       " 1136363,\n",
       " 1136363,\n",
       " 396709,\n",
       " 396709,\n",
       " 1039481,\n",
       " 1039481,\n",
       " 380872,\n",
       " 380872,\n",
       " 251093,\n",
       " 251093,\n",
       " 663598,\n",
       " 663598,\n",
       " 306817,\n",
       " 306817,\n",
       " 825874,\n",
       " 825874,\n",
       " 1472673,\n",
       " 1472673,\n",
       " 801451,\n",
       " 801451,\n",
       " 120823,\n",
       " 120823,\n",
       " 847593,\n",
       " 847593,\n",
       " 1216248,\n",
       " 1216248,\n",
       " 1295717,\n",
       " 1295717,\n",
       " 1351686,\n",
       " 1351686,\n",
       " 471602,\n",
       " 471602,\n",
       " 46360,\n",
       " 46360,\n",
       " 243527,\n",
       " 243527,\n",
       " 1330064,\n",
       " 1330064,\n",
       " 647372,\n",
       " 647372,\n",
       " 273160,\n",
       " 273160,\n",
       " 822590,\n",
       " 822590,\n",
       " 384238,\n",
       " 384238,\n",
       " 417444,\n",
       " 417444,\n",
       " 1112382,\n",
       " 1112382,\n",
       " 469557,\n",
       " 469557,\n",
       " 659606,\n",
       " 659606,\n",
       " 1185004,\n",
       " 1185004,\n",
       " 1347395,\n",
       " 1347395,\n",
       " 579924,\n",
       " 579924,\n",
       " 523452,\n",
       " 523452,\n",
       " 289120,\n",
       " 289120,\n",
       " 599740,\n",
       " 599740,\n",
       " 1428615,\n",
       " 1428615,\n",
       " 1143106,\n",
       " 1143106,\n",
       " 1042524,\n",
       " 1042524,\n",
       " 1040598,\n",
       " 1040598,\n",
       " 544388,\n",
       " 544388,\n",
       " 1287818,\n",
       " 1287818,\n",
       " 987118,\n",
       " 987118,\n",
       " 1307924,\n",
       " 1307924,\n",
       " 1355223,\n",
       " 1355223,\n",
       " 1400,\n",
       " 1400,\n",
       " 51789,\n",
       " 51789,\n",
       " 882644,\n",
       " 882644,\n",
       " 608980,\n",
       " 608980,\n",
       " 1160679,\n",
       " 1160679,\n",
       " 422768,\n",
       " 422768,\n",
       " 1020717,\n",
       " 1020717,\n",
       " 640060,\n",
       " 640060,\n",
       " 705581,\n",
       " 705581,\n",
       " 1511999,\n",
       " 1511999,\n",
       " 1305100,\n",
       " 1305100,\n",
       " 986389,\n",
       " 986389,\n",
       " 668655,\n",
       " 668655,\n",
       " 1244119,\n",
       " 1244119,\n",
       " 395104,\n",
       " 395104,\n",
       " 144632,\n",
       " 144632,\n",
       " 602481,\n",
       " 602481,\n",
       " 870091,\n",
       " 870091,\n",
       " 236592,\n",
       " 236592,\n",
       " 405022,\n",
       " 405022,\n",
       " 239853,\n",
       " 239853,\n",
       " 1061443,\n",
       " 1061443,\n",
       " 608726,\n",
       " 608726,\n",
       " 1548569,\n",
       " 1548569,\n",
       " 1161561,\n",
       " 1161561,\n",
       " 468138,\n",
       " 468138,\n",
       " 51952,\n",
       " 51952,\n",
       " 1497131,\n",
       " 1497131,\n",
       " 1216264,\n",
       " 1216264,\n",
       " 443846,\n",
       " 443846,\n",
       " 1108458,\n",
       " 1108458,\n",
       " 584460,\n",
       " 584460,\n",
       " 540168,\n",
       " 540168,\n",
       " 1459772,\n",
       " 1459772,\n",
       " 17643,\n",
       " 17643,\n",
       " 676338,\n",
       " 676338,\n",
       " 1543583,\n",
       " 1543583,\n",
       " 1138334,\n",
       " 1138334,\n",
       " 151393,\n",
       " 151393,\n",
       " 822548,\n",
       " 822548,\n",
       " 1311101,\n",
       " 1311101,\n",
       " 539716,\n",
       " 539716,\n",
       " 829340,\n",
       " 829340,\n",
       " 307213,\n",
       " 307213,\n",
       " 1015178,\n",
       " 1015178,\n",
       " 842398,\n",
       " 842398,\n",
       " 657666,\n",
       " 657666,\n",
       " 980453,\n",
       " 980453,\n",
       " 1183730,\n",
       " 1183730,\n",
       " 880637,\n",
       " 880637,\n",
       " 206817,\n",
       " 206817,\n",
       " 221479,\n",
       " 221479,\n",
       " 450031,\n",
       " 450031,\n",
       " 17438,\n",
       " 17438,\n",
       " 317237,\n",
       " 317237,\n",
       " 434651,\n",
       " 434651,\n",
       " 356381,\n",
       " 356381,\n",
       " 203142,\n",
       " 203142,\n",
       " 468696,\n",
       " 468696,\n",
       " 378653,\n",
       " 378653,\n",
       " 1355778,\n",
       " 1355778,\n",
       " 1350981,\n",
       " 1350981,\n",
       " 284546,\n",
       " 284546,\n",
       " 1348324,\n",
       " 1348324,\n",
       " 631958,\n",
       " 631958,\n",
       " 1417867,\n",
       " 1417867,\n",
       " 730553,\n",
       " 730553,\n",
       " 1550446,\n",
       " 1550446,\n",
       " 1415587,\n",
       " 1415587,\n",
       " 684521,\n",
       " 684521,\n",
       " 10397,\n",
       " 10397,\n",
       " 404533,\n",
       " 404533,\n",
       " 224495,\n",
       " 224495,\n",
       " 257241,\n",
       " 257241,\n",
       " 1390349,\n",
       " 1390349,\n",
       " 619314,\n",
       " 619314,\n",
       " 1439200,\n",
       " 1439200,\n",
       " 1359717,\n",
       " 1359717,\n",
       " 7558,\n",
       " 7558,\n",
       " 1057882,\n",
       " 1057882,\n",
       " 1463354,\n",
       " 1463354,\n",
       " 514602,\n",
       " 514602,\n",
       " 182687,\n",
       " 182687,\n",
       " 1515110,\n",
       " 1515110,\n",
       " 1250086,\n",
       " 1250086,\n",
       " 1467571,\n",
       " 1467571,\n",
       " 1465250,\n",
       " 1465250,\n",
       " 322413,\n",
       " 322413,\n",
       " 461485,\n",
       " 461485,\n",
       " 575298,\n",
       " 575298,\n",
       " 526499,\n",
       " 526499,\n",
       " 368227,\n",
       " 368227,\n",
       " 942983,\n",
       " 942983,\n",
       " 946544,\n",
       " 946544,\n",
       " 13773,\n",
       " 13773,\n",
       " 729769,\n",
       " 729769,\n",
       " 28155,\n",
       " 28155,\n",
       " 555021,\n",
       " 555021,\n",
       " 1026127,\n",
       " 1026127,\n",
       " 865812,\n",
       " 865812,\n",
       " 444682,\n",
       " 444682,\n",
       " 446068,\n",
       " 446068,\n",
       " 104681,\n",
       " 104681,\n",
       " 1289433,\n",
       " 1289433,\n",
       " 927548,\n",
       " 927548,\n",
       " 1175350,\n",
       " 1175350,\n",
       " 913350,\n",
       " 913350,\n",
       " 23430,\n",
       " 23430,\n",
       " 1231159,\n",
       " 1231159,\n",
       " 87535,\n",
       " 87535,\n",
       " 528641,\n",
       " 528641,\n",
       " 175118,\n",
       " 175118,\n",
       " 867569,\n",
       " 867569,\n",
       " 501795,\n",
       " 501795,\n",
       " 1151063,\n",
       " 1151063,\n",
       " 1188189,\n",
       " 1188189,\n",
       " 159923,\n",
       " 159923,\n",
       " 1391297,\n",
       " 1391297,\n",
       " 78655,\n",
       " 78655,\n",
       " 1326464,\n",
       " 1326464,\n",
       " 154922,\n",
       " 154922,\n",
       " 1108619,\n",
       " 1108619,\n",
       " 1401995,\n",
       " 1401995,\n",
       " 189011,\n",
       " 189011,\n",
       " 1318663,\n",
       " 1318663,\n",
       " 1368918,\n",
       " 1368918,\n",
       " 886625,\n",
       " 886625,\n",
       " 198576,\n",
       " 198576,\n",
       " 1423193,\n",
       " 1423193,\n",
       " 1043959,\n",
       " 1043959,\n",
       " 381335,\n",
       " 381335,\n",
       " 952695,\n",
       " 952695,\n",
       " 474361,\n",
       " 474361,\n",
       " 308741,\n",
       " 308741,\n",
       " 1121232,\n",
       " 1121232,\n",
       " 403125,\n",
       " 403125,\n",
       " 503528,\n",
       " 503528,\n",
       " 693732,\n",
       " 693732,\n",
       " 1121780,\n",
       " 1121780,\n",
       " 1173563,\n",
       " 1173563,\n",
       " 65128,\n",
       " 65128,\n",
       " 697654,\n",
       " 697654,\n",
       " 149611,\n",
       " 149611,\n",
       " 291968,\n",
       " 291968,\n",
       " 622441,\n",
       " 622441,\n",
       " 246060,\n",
       " 246060,\n",
       " 1324680,\n",
       " 1324680,\n",
       " 889145,\n",
       " 889145,\n",
       " 83216,\n",
       " 83216,\n",
       " 1437371,\n",
       " 1437371,\n",
       " 363038,\n",
       " 363038,\n",
       " 1190854,\n",
       " 1190854,\n",
       " 383865,\n",
       " 383865,\n",
       " 185040,\n",
       " 185040,\n",
       " 112725,\n",
       " 112725,\n",
       " 825091,\n",
       " 825091,\n",
       " 1102774,\n",
       " 1102774,\n",
       " 265070,\n",
       " 265070,\n",
       " 593317,\n",
       " 593317,\n",
       " 569746,\n",
       " 569746,\n",
       " 876105,\n",
       " 876105,\n",
       " 410518,\n",
       " 410518,\n",
       " 45712,\n",
       " 45712,\n",
       " 548845,\n",
       " 548845,\n",
       " 1117209,\n",
       " 1117209,\n",
       " 1273057,\n",
       " 1273057,\n",
       " 516733,\n",
       " 516733,\n",
       " 568455,\n",
       " 568455,\n",
       " 265178,\n",
       " 265178,\n",
       " 852803,\n",
       " 852803,\n",
       " 58262,\n",
       " 58262,\n",
       " 380559,\n",
       " 380559,\n",
       " 365195,\n",
       " 365195,\n",
       " 624830,\n",
       " 624830,\n",
       " 909630,\n",
       " 909630,\n",
       " 163771,\n",
       " 163771,\n",
       " 1194866,\n",
       " 1194866,\n",
       " 1167192,\n",
       " 1167192,\n",
       " 1104078,\n",
       " 1104078,\n",
       " 1225013,\n",
       " 1225013,\n",
       " 49431,\n",
       " 49431,\n",
       " 1173332,\n",
       " 1173332,\n",
       " 1495433,\n",
       " 1495433,\n",
       " 1106604,\n",
       " 1106604,\n",
       " 1377793,\n",
       " 1377793,\n",
       " 380768,\n",
       " 380768,\n",
       " 828630,\n",
       " 828630,\n",
       " 1428831,\n",
       " 1428831,\n",
       " 1305112,\n",
       " 1305112,\n",
       " 829070,\n",
       " 829070,\n",
       " 1048910,\n",
       " 1048910,\n",
       " 1360531,\n",
       " 1360531,\n",
       " 512311,\n",
       " 512311,\n",
       " 228194,\n",
       " 228194,\n",
       " 163652,\n",
       " 163652,\n",
       " 1084775,\n",
       " 1084775,\n",
       " 171976,\n",
       " 171976,\n",
       " 510046,\n",
       " 510046,\n",
       " 441438,\n",
       " 441438,\n",
       " 524869,\n",
       " 524869,\n",
       " 245357,\n",
       " 245357,\n",
       " 776223,\n",
       " 776223,\n",
       " 317973,\n",
       " 317973,\n",
       " 374710,\n",
       " 374710,\n",
       " 1150509,\n",
       " 1150509,\n",
       " 1152462,\n",
       " 1152462,\n",
       " 772603,\n",
       " 772603,\n",
       " 1264655,\n",
       " 1264655,\n",
       " 621572,\n",
       " 621572,\n",
       " 635872,\n",
       " 635872,\n",
       " 875193,\n",
       " 875193,\n",
       " 622381,\n",
       " 622381,\n",
       " 127337,\n",
       " 127337,\n",
       " 70256,\n",
       " 70256,\n",
       " 466864,\n",
       " 466864,\n",
       " ...]"
      ]
     },
     "execution_count": 30,
     "metadata": {},
     "output_type": "execute_result"
    }
   ],
   "source": [
    "user_input"
   ]
  },
  {
   "cell_type": "code",
   "execution_count": null,
   "metadata": {},
   "outputs": [],
   "source": []
  },
  {
   "cell_type": "code",
   "execution_count": null,
   "metadata": {},
   "outputs": [],
   "source": []
  },
  {
   "cell_type": "markdown",
   "metadata": {},
   "source": [
    "* shuffle = True,  4444 번 영화 갯수세기"
   ]
  },
  {
   "cell_type": "code",
   "execution_count": 20,
   "metadata": {
    "scrolled": true
   },
   "outputs": [
    {
     "name": "stderr",
     "output_type": "stream",
     "text": [
      "\r",
      "  0%|          | 0/10 [00:00<?, ?it/s]"
     ]
    },
    {
     "name": "stdout",
     "output_type": "stream",
     "text": [
      "1230\n",
      "23/23 [==============================] - 3s 137ms/step - loss: 0.1614 - auc: 0.9746 - val_loss: 3.7755 - val_auc: 0.4296\n"
     ]
    },
    {
     "name": "stderr",
     "output_type": "stream",
     "text": [
      "\r",
      " 10%|█         | 1/10 [00:53<07:58, 53.21s/it]"
     ]
    },
    {
     "name": "stdout",
     "output_type": "stream",
     "text": [
      "1274\n",
      "23/23 [==============================] - 2s 104ms/step - loss: 0.1580 - auc: 0.9754 - val_loss: 3.9231 - val_auc: 0.4297\n"
     ]
    },
    {
     "name": "stderr",
     "output_type": "stream",
     "text": [
      "\r",
      " 20%|██        | 2/10 [01:45<07:03, 52.95s/it]"
     ]
    },
    {
     "name": "stdout",
     "output_type": "stream",
     "text": [
      "1341\n",
      "23/23 [==============================] - 2s 104ms/step - loss: 0.1549 - auc: 0.9760 - val_loss: 4.0461 - val_auc: 0.4301\n"
     ]
    },
    {
     "name": "stderr",
     "output_type": "stream",
     "text": [
      "\r",
      " 30%|███       | 3/10 [02:37<06:08, 52.71s/it]"
     ]
    },
    {
     "name": "stdout",
     "output_type": "stream",
     "text": [
      "1232\n",
      "23/23 [==============================] - 2s 103ms/step - loss: 0.1524 - auc: 0.9767 - val_loss: 4.1403 - val_auc: 0.4306\n"
     ]
    },
    {
     "name": "stderr",
     "output_type": "stream",
     "text": [
      "\r",
      " 40%|████      | 4/10 [03:29<05:15, 52.52s/it]"
     ]
    },
    {
     "name": "stdout",
     "output_type": "stream",
     "text": [
      "1242\n",
      "23/23 [==============================] - 3s 138ms/step - loss: 0.1502 - auc: 0.9775 - val_loss: 4.2462 - val_auc: 0.4316\n"
     ]
    },
    {
     "name": "stderr",
     "output_type": "stream",
     "text": [
      "\r",
      " 50%|█████     | 5/10 [04:22<04:22, 52.52s/it]"
     ]
    },
    {
     "name": "stdout",
     "output_type": "stream",
     "text": [
      "1298\n",
      "23/23 [==============================] - 2s 103ms/step - loss: 0.1477 - auc: 0.9783 - val_loss: 4.3429 - val_auc: 0.4327\n"
     ]
    },
    {
     "name": "stderr",
     "output_type": "stream",
     "text": [
      "\r",
      " 60%|██████    | 6/10 [05:14<03:29, 52.44s/it]"
     ]
    },
    {
     "name": "stdout",
     "output_type": "stream",
     "text": [
      "1226\n",
      "23/23 [==============================] - 2s 105ms/step - loss: 0.1461 - auc: 0.9788 - val_loss: 4.4591 - val_auc: 0.4336\n"
     ]
    },
    {
     "name": "stderr",
     "output_type": "stream",
     "text": [
      "\r",
      " 70%|███████   | 7/10 [06:07<02:37, 52.47s/it]"
     ]
    },
    {
     "name": "stdout",
     "output_type": "stream",
     "text": [
      "1246\n",
      "23/23 [==============================] - 2s 103ms/step - loss: 0.1447 - auc: 0.9792 - val_loss: 4.5475 - val_auc: 0.4342\n"
     ]
    },
    {
     "name": "stderr",
     "output_type": "stream",
     "text": [
      "\r",
      " 80%|████████  | 8/10 [06:59<01:44, 52.38s/it]"
     ]
    },
    {
     "name": "stdout",
     "output_type": "stream",
     "text": [
      "1281\n",
      "23/23 [==============================] - 3s 137ms/step - loss: 0.1434 - auc: 0.9795 - val_loss: 4.6305 - val_auc: 0.4347\n"
     ]
    },
    {
     "name": "stderr",
     "output_type": "stream",
     "text": [
      "\r",
      " 90%|█████████ | 9/10 [07:52<00:52, 52.66s/it]"
     ]
    },
    {
     "name": "stdout",
     "output_type": "stream",
     "text": [
      "1184\n",
      "23/23 [==============================] - 2s 105ms/step - loss: 0.1422 - auc: 0.9799 - val_loss: 4.7125 - val_auc: 0.4355\n"
     ]
    },
    {
     "name": "stderr",
     "output_type": "stream",
     "text": [
      "100%|██████████| 10/10 [08:44<00:00, 52.44s/it]\n"
     ]
    }
   ],
   "source": [
    "for epoch in tqdm.tqdm(range((num_epochs))):\n",
    "    # Generate training instances\n",
    "    user_input, item_input, labels = get_train_instances(data_dict, num_negatives, album_id_list)\n",
    "\n",
    "    # Training\n",
    "#     hist = model.fit([np.array(user_input), np.array(item_input)], #input\n",
    "#                      np.array(labels), # labels \n",
    "#                      batch_size=batch_size, nb_epoch=1, verbose=0, shuffle=True)\n",
    "\n",
    "    print(item_input.count(4444))\n",
    "                       \n",
    "    hist = model.fit([np.array(user_input), np.array(item_input)], #input\n",
    "                     np.array(labels), # labels \n",
    "                     batch_size=2**20, epochs=1, verbose=1, validation_split=0.2,\n",
    "                     shuffle=True\n",
    "                    )\n",
    "\n",
    "    # Evaluation\n",
    "#     if epoch %verbose == 0:\n",
    "#         (hits, ndcgs) = evaluate_model(model, testRatings, testNegatives, topK, evaluation_threads)\n",
    "#         hr, ndcg, loss = np.array(hits).mean(), np.array(ndcgs).mean(), hist.history['loss'][0]\n",
    "#         print('Iteration %d [%.1f s]: HR = %.4f, NDCG = %.4f, loss = %.4f [%.1f s]' \n",
    "#               % (epoch,  t2-t1, hr, ndcg, loss, time()-t2))\n",
    "#         if hr > best_hr:\n",
    "#             best_hr, best_ndcg, best_iter = hr, ndcg, epoch\n",
    "#             if args.out > 0:\n",
    "#                 model.save_weights(model_out_file, overwrite=True)"
   ]
  },
  {
   "cell_type": "markdown",
   "metadata": {},
   "source": [
    "* shuffle = True"
   ]
  },
  {
   "cell_type": "code",
   "execution_count": 19,
   "metadata": {
    "scrolled": true
   },
   "outputs": [
    {
     "name": "stderr",
     "output_type": "stream",
     "text": [
      "  0%|          | 0/10 [00:00<?, ?it/s]/home/ubuntu/anaconda3/envs/tensorflow2_latest_p37/lib/python3.7/site-packages/tensorflow/python/framework/indexed_slices.py:433: UserWarning: Converting sparse IndexedSlices to a dense Tensor of unknown shape. This may consume a large amount of memory.\n",
      "  \"Converting sparse IndexedSlices to a dense Tensor of unknown shape. \"\n"
     ]
    },
    {
     "name": "stdout",
     "output_type": "stream",
     "text": [
      "23/23 [==============================] - 3s 118ms/step - loss: 0.6809 - auc: 0.9051 - val_loss: 0.6994 - val_auc: 0.4383\n"
     ]
    },
    {
     "name": "stderr",
     "output_type": "stream",
     "text": [
      "\r",
      " 10%|█         | 1/10 [00:53<08:00, 53.35s/it]"
     ]
    },
    {
     "name": "stdout",
     "output_type": "stream",
     "text": [
      "23/23 [==============================] - 2s 103ms/step - loss: 0.5825 - auc: 0.9471 - val_loss: 0.7659 - val_auc: 0.4379\n"
     ]
    },
    {
     "name": "stderr",
     "output_type": "stream",
     "text": [
      "\r",
      " 20%|██        | 2/10 [01:44<07:02, 52.78s/it]"
     ]
    },
    {
     "name": "stdout",
     "output_type": "stream",
     "text": [
      "23/23 [==============================] - 3s 133ms/step - loss: 0.3416 - auc: 0.9545 - val_loss: 1.2277 - val_auc: 0.4317\n"
     ]
    },
    {
     "name": "stderr",
     "output_type": "stream",
     "text": [
      "\r",
      " 30%|███       | 3/10 [02:36<06:07, 52.48s/it]"
     ]
    },
    {
     "name": "stdout",
     "output_type": "stream",
     "text": [
      "23/23 [==============================] - 2s 105ms/step - loss: 0.1964 - auc: 0.9716 - val_loss: 2.0881 - val_auc: 0.4314\n"
     ]
    },
    {
     "name": "stderr",
     "output_type": "stream",
     "text": [
      "\r",
      " 40%|████      | 4/10 [03:27<05:12, 52.07s/it]"
     ]
    },
    {
     "name": "stdout",
     "output_type": "stream",
     "text": [
      "23/23 [==============================] - 2s 104ms/step - loss: 0.1727 - auc: 0.9743 - val_loss: 2.5756 - val_auc: 0.4298\n"
     ]
    },
    {
     "name": "stderr",
     "output_type": "stream",
     "text": [
      "\r",
      " 50%|█████     | 5/10 [04:18<04:18, 51.77s/it]"
     ]
    },
    {
     "name": "stdout",
     "output_type": "stream",
     "text": [
      "23/23 [==============================] - 2s 103ms/step - loss: 0.1689 - auc: 0.9745 - val_loss: 2.8586 - val_auc: 0.4292\n"
     ]
    },
    {
     "name": "stderr",
     "output_type": "stream",
     "text": [
      "\r",
      " 60%|██████    | 6/10 [05:09<03:26, 51.55s/it]"
     ]
    },
    {
     "name": "stdout",
     "output_type": "stream",
     "text": [
      "23/23 [==============================] - 3s 137ms/step - loss: 0.1674 - auc: 0.9744 - val_loss: 3.0768 - val_auc: 0.4295\n"
     ]
    },
    {
     "name": "stderr",
     "output_type": "stream",
     "text": [
      "\r",
      " 70%|███████   | 7/10 [06:01<02:34, 51.64s/it]"
     ]
    },
    {
     "name": "stdout",
     "output_type": "stream",
     "text": [
      "23/23 [==============================] - 2s 104ms/step - loss: 0.1663 - auc: 0.9743 - val_loss: 3.2672 - val_auc: 0.4296\n"
     ]
    },
    {
     "name": "stderr",
     "output_type": "stream",
     "text": [
      "\r",
      " 80%|████████  | 8/10 [06:53<01:43, 51.58s/it]"
     ]
    },
    {
     "name": "stdout",
     "output_type": "stream",
     "text": [
      "23/23 [==============================] - 2s 103ms/step - loss: 0.1655 - auc: 0.9741 - val_loss: 3.4410 - val_auc: 0.4296\n"
     ]
    },
    {
     "name": "stderr",
     "output_type": "stream",
     "text": [
      "\r",
      " 90%|█████████ | 9/10 [07:44<00:51, 51.48s/it]"
     ]
    },
    {
     "name": "stdout",
     "output_type": "stream",
     "text": [
      "23/23 [==============================] - 2s 104ms/step - loss: 0.1637 - auc: 0.9743 - val_loss: 3.6186 - val_auc: 0.4295\n"
     ]
    },
    {
     "name": "stderr",
     "output_type": "stream",
     "text": [
      "100%|██████████| 10/10 [08:35<00:00, 51.56s/it]\n"
     ]
    }
   ],
   "source": [
    "for epoch in tqdm.tqdm(range((num_epochs))):\n",
    "    # Generate training instances\n",
    "    user_input, item_input, labels = get_train_instances(data_dict, num_negatives, album_id_list)\n",
    "\n",
    "    # Training\n",
    "#     hist = model.fit([np.array(user_input), np.array(item_input)], #input\n",
    "#                      np.array(labels), # labels \n",
    "#                      batch_size=batch_size, nb_epoch=1, verbose=0, shuffle=True)\n",
    "                       \n",
    "    hist = model.fit([np.array(user_input), np.array(item_input)], #input\n",
    "                     np.array(labels), # labels \n",
    "                     batch_size=2**20, epochs=1, verbose=1, validation_split=0.2,\n",
    "                     shuffle=True\n",
    "                    )\n",
    "\n",
    "    # Evaluation\n",
    "#     if epoch %verbose == 0:\n",
    "#         (hits, ndcgs) = evaluate_model(model, testRatings, testNegatives, topK, evaluation_threads)\n",
    "#         hr, ndcg, loss = np.array(hits).mean(), np.array(ndcgs).mean(), hist.history['loss'][0]\n",
    "#         print('Iteration %d [%.1f s]: HR = %.4f, NDCG = %.4f, loss = %.4f [%.1f s]' \n",
    "#               % (epoch,  t2-t1, hr, ndcg, loss, time()-t2))\n",
    "#         if hr > best_hr:\n",
    "#             best_hr, best_ndcg, best_iter = hr, ndcg, epoch\n",
    "#             if args.out > 0:\n",
    "#                 model.save_weights(model_out_file, overwrite=True)"
   ]
  },
  {
   "cell_type": "markdown",
   "metadata": {},
   "source": [
    "* shuffle = False"
   ]
  },
  {
   "cell_type": "code",
   "execution_count": 23,
   "metadata": {
    "scrolled": true
   },
   "outputs": [
    {
     "name": "stderr",
     "output_type": "stream",
     "text": [
      "\r",
      "  0%|          | 0/10 [00:00<?, ?it/s]"
     ]
    },
    {
     "name": "stdout",
     "output_type": "stream",
     "text": [
      "23/23 [==============================] - 3s 119ms/step - loss: 0.6933 - auc: 0.4881 - val_loss: 0.6938 - val_auc: 0.4643\n"
     ]
    },
    {
     "name": "stderr",
     "output_type": "stream",
     "text": [
      "\r",
      " 10%|█         | 1/10 [00:52<07:48, 52.07s/it]"
     ]
    },
    {
     "name": "stdout",
     "output_type": "stream",
     "text": [
      "23/23 [==============================] - 2s 102ms/step - loss: 0.6779 - auc: 0.9561 - val_loss: 0.7002 - val_auc: 0.4340\n"
     ]
    },
    {
     "name": "stderr",
     "output_type": "stream",
     "text": [
      "\r",
      " 20%|██        | 2/10 [01:41<06:51, 51.42s/it]"
     ]
    },
    {
     "name": "stdout",
     "output_type": "stream",
     "text": [
      "23/23 [==============================] - 2s 103ms/step - loss: 0.5816 - auc: 0.9553 - val_loss: 0.7778 - val_auc: 0.4299\n"
     ]
    },
    {
     "name": "stderr",
     "output_type": "stream",
     "text": [
      "\r",
      " 30%|███       | 3/10 [02:31<05:56, 50.99s/it]"
     ]
    },
    {
     "name": "stdout",
     "output_type": "stream",
     "text": [
      "23/23 [==============================] - 2s 104ms/step - loss: 0.3308 - auc: 0.9581 - val_loss: 1.3786 - val_auc: 0.4314\n"
     ]
    },
    {
     "name": "stderr",
     "output_type": "stream",
     "text": [
      "\r",
      " 40%|████      | 4/10 [03:22<05:04, 50.72s/it]"
     ]
    },
    {
     "name": "stdout",
     "output_type": "stream",
     "text": [
      "23/23 [==============================] - 2s 104ms/step - loss: 0.2037 - auc: 0.9637 - val_loss: 2.2488 - val_auc: 0.4340\n"
     ]
    },
    {
     "name": "stderr",
     "output_type": "stream",
     "text": [
      "\r",
      " 50%|█████     | 5/10 [04:12<04:12, 50.59s/it]"
     ]
    },
    {
     "name": "stdout",
     "output_type": "stream",
     "text": [
      "23/23 [==============================] - 2s 105ms/step - loss: 0.1960 - auc: 0.9673 - val_loss: 2.5779 - val_auc: 0.4299\n"
     ]
    },
    {
     "name": "stderr",
     "output_type": "stream",
     "text": [
      "\r",
      " 60%|██████    | 6/10 [05:02<03:21, 50.33s/it]"
     ]
    },
    {
     "name": "stdout",
     "output_type": "stream",
     "text": [
      "23/23 [==============================] - 2s 104ms/step - loss: 0.1828 - auc: 0.9703 - val_loss: 2.6547 - val_auc: 0.4297\n"
     ]
    },
    {
     "name": "stderr",
     "output_type": "stream",
     "text": [
      "\r",
      " 70%|███████   | 7/10 [05:51<02:30, 50.17s/it]"
     ]
    },
    {
     "name": "stdout",
     "output_type": "stream",
     "text": [
      "23/23 [==============================] - 2s 104ms/step - loss: 0.1798 - auc: 0.9703 - val_loss: 2.7169 - val_auc: 0.4331\n"
     ]
    },
    {
     "name": "stderr",
     "output_type": "stream",
     "text": [
      "\r",
      " 80%|████████  | 8/10 [06:41<01:40, 50.09s/it]"
     ]
    },
    {
     "name": "stdout",
     "output_type": "stream",
     "text": [
      "23/23 [==============================] - 2s 104ms/step - loss: 0.1800 - auc: 0.9700 - val_loss: 2.7582 - val_auc: 0.4308\n"
     ]
    },
    {
     "name": "stderr",
     "output_type": "stream",
     "text": [
      "\r",
      " 90%|█████████ | 9/10 [07:31<00:50, 50.08s/it]"
     ]
    },
    {
     "name": "stdout",
     "output_type": "stream",
     "text": [
      "23/23 [==============================] - 2s 104ms/step - loss: 0.1807 - auc: 0.9699 - val_loss: 2.8345 - val_auc: 0.4302\n"
     ]
    },
    {
     "name": "stderr",
     "output_type": "stream",
     "text": [
      "100%|██████████| 10/10 [08:21<00:00, 50.18s/it]\n"
     ]
    }
   ],
   "source": [
    "for epoch in tqdm.tqdm(range((num_epochs))):\n",
    "    # Generate training instances\n",
    "    user_input, item_input, labels = get_train_instances(data_dict, num_negatives, album_id_list)\n",
    "\n",
    "    # Training\n",
    "#     hist = model.fit([np.array(user_input), np.array(item_input)], #input\n",
    "#                      np.array(labels), # labels \n",
    "#                      batch_size=batch_size, nb_epoch=1, verbose=0, shuffle=True)\n",
    "                       \n",
    "    hist = model.fit([np.array(user_input), np.array(item_input)], #input\n",
    "                     np.array(labels), # labels \n",
    "                     batch_size=2**20, epochs=1, verbose=1, validation_split=0.2,\n",
    "                     shuffle=False\n",
    "                    )\n",
    "\n",
    "    # Evaluation\n",
    "#     if epoch %verbose == 0:\n",
    "#         (hits, ndcgs) = evaluate_model(model, testRatings, testNegatives, topK, evaluation_threads)\n",
    "#         hr, ndcg, loss = np.array(hits).mean(), np.array(ndcgs).mean(), hist.history['loss'][0]\n",
    "#         print('Iteration %d [%.1f s]: HR = %.4f, NDCG = %.4f, loss = %.4f [%.1f s]' \n",
    "#               % (epoch,  t2-t1, hr, ndcg, loss, time()-t2))\n",
    "#         if hr > best_hr:\n",
    "#             best_hr, best_ndcg, best_iter = hr, ndcg, epoch\n",
    "#             if args.out > 0:\n",
    "#                 model.save_weights(model_out_file, overwrite=True)"
   ]
  },
  {
   "cell_type": "markdown",
   "metadata": {},
   "source": [
    "* shuffle = True, epochs = 10"
   ]
  },
  {
   "cell_type": "code",
   "execution_count": 31,
   "metadata": {},
   "outputs": [
    {
     "name": "stderr",
     "output_type": "stream",
     "text": [
      "\r",
      "  0%|          | 0/10 [00:00<?, ?it/s]"
     ]
    },
    {
     "name": "stdout",
     "output_type": "stream",
     "text": [
      "Epoch 1/10\n",
      "23/23 [==============================] - 3s 126ms/step - loss: 0.6820 - auc: 0.9012 - val_loss: 0.6985 - val_auc: 0.4426\n",
      "Epoch 2/10\n",
      "23/23 [==============================] - 2s 105ms/step - loss: 0.5947 - auc: 0.9474 - val_loss: 0.7533 - val_auc: 0.4368\n",
      "Epoch 3/10\n",
      "23/23 [==============================] - 2s 106ms/step - loss: 0.3606 - auc: 0.9537 - val_loss: 1.1552 - val_auc: 0.4370\n",
      "Epoch 4/10\n",
      "23/23 [==============================] - 2s 108ms/step - loss: 0.2015 - auc: 0.9710 - val_loss: 2.0349 - val_auc: 0.4315\n",
      "Epoch 5/10\n",
      "23/23 [==============================] - 2s 107ms/step - loss: 0.1730 - auc: 0.9744 - val_loss: 2.6259 - val_auc: 0.4298\n",
      "Epoch 6/10\n",
      "23/23 [==============================] - 2s 106ms/step - loss: 0.1681 - auc: 0.9748 - val_loss: 2.9990 - val_auc: 0.4295\n",
      "Epoch 7/10\n",
      "23/23 [==============================] - 2s 107ms/step - loss: 0.1643 - auc: 0.9758 - val_loss: 3.2778 - val_auc: 0.4295\n",
      "Epoch 8/10\n",
      "23/23 [==============================] - 2s 107ms/step - loss: 0.1603 - auc: 0.9772 - val_loss: 3.5463 - val_auc: 0.4295\n",
      "Epoch 9/10\n",
      "23/23 [==============================] - 2s 105ms/step - loss: 0.1571 - auc: 0.9783 - val_loss: 3.7700 - val_auc: 0.4295\n",
      "Epoch 10/10\n",
      "23/23 [==============================] - 2s 103ms/step - loss: 0.1546 - auc: 0.9788 - val_loss: 3.9405 - val_auc: 0.4295\n"
     ]
    },
    {
     "name": "stderr",
     "output_type": "stream",
     "text": [
      "\r",
      " 10%|█         | 1/10 [01:16<11:24, 76.03s/it]"
     ]
    },
    {
     "name": "stdout",
     "output_type": "stream",
     "text": [
      "Epoch 1/10\n",
      "23/23 [==============================] - 3s 111ms/step - loss: 0.1667 - auc: 0.9725 - val_loss: 3.9651 - val_auc: 0.4294\n",
      "Epoch 2/10\n",
      "23/23 [==============================] - 2s 108ms/step - loss: 0.1560 - auc: 0.9764 - val_loss: 4.1163 - val_auc: 0.4295\n",
      "Epoch 3/10\n",
      "23/23 [==============================] - 2s 107ms/step - loss: 0.1512 - auc: 0.9774 - val_loss: 4.2991 - val_auc: 0.4297\n",
      "Epoch 4/10\n",
      "23/23 [==============================] - 2s 107ms/step - loss: 0.1479 - auc: 0.9780 - val_loss: 4.4481 - val_auc: 0.4299\n",
      "Epoch 5/10\n",
      "23/23 [==============================] - 2s 107ms/step - loss: 0.1450 - auc: 0.9791 - val_loss: 4.5588 - val_auc: 0.4302\n",
      "Epoch 6/10\n",
      "23/23 [==============================] - 2s 107ms/step - loss: 0.1421 - auc: 0.9808 - val_loss: 4.6445 - val_auc: 0.4305\n",
      "Epoch 7/10\n",
      "23/23 [==============================] - 2s 106ms/step - loss: 0.1388 - auc: 0.9830 - val_loss: 4.7224 - val_auc: 0.4310\n",
      "Epoch 8/10\n",
      "23/23 [==============================] - 2s 106ms/step - loss: 0.1354 - auc: 0.9847 - val_loss: 4.7782 - val_auc: 0.4315\n",
      "Epoch 9/10\n",
      "23/23 [==============================] - 2s 105ms/step - loss: 0.1323 - auc: 0.9858 - val_loss: 4.8047 - val_auc: 0.4321\n",
      "Epoch 10/10\n",
      "23/23 [==============================] - 2s 101ms/step - loss: 0.1298 - auc: 0.9865 - val_loss: 4.8302 - val_auc: 0.4326\n"
     ]
    },
    {
     "name": "stderr",
     "output_type": "stream",
     "text": [
      "\r",
      " 20%|██        | 2/10 [02:30<10:03, 75.47s/it]"
     ]
    },
    {
     "name": "stdout",
     "output_type": "stream",
     "text": [
      "Epoch 1/10\n",
      "23/23 [==============================] - 3s 111ms/step - loss: 0.1574 - auc: 0.9750 - val_loss: 4.5606 - val_auc: 0.4325\n",
      "Epoch 2/10\n",
      "23/23 [==============================] - 2s 108ms/step - loss: 0.1374 - auc: 0.9826 - val_loss: 4.6544 - val_auc: 0.4331\n",
      "Epoch 3/10\n",
      "23/23 [==============================] - 2s 107ms/step - loss: 0.1307 - auc: 0.9848 - val_loss: 4.8748 - val_auc: 0.4337\n",
      "Epoch 4/10\n",
      "23/23 [==============================] - 2s 107ms/step - loss: 0.1270 - auc: 0.9862 - val_loss: 5.0716 - val_auc: 0.4345\n",
      "Epoch 5/10\n",
      "23/23 [==============================] - 2s 106ms/step - loss: 0.1248 - auc: 0.9868 - val_loss: 5.2377 - val_auc: 0.4351\n",
      "Epoch 6/10\n",
      "23/23 [==============================] - 2s 107ms/step - loss: 0.1232 - auc: 0.9872 - val_loss: 5.3502 - val_auc: 0.4355\n",
      "Epoch 7/10\n",
      "23/23 [==============================] - 2s 107ms/step - loss: 0.1220 - auc: 0.9875 - val_loss: 5.4840 - val_auc: 0.4359\n",
      "Epoch 8/10\n",
      "23/23 [==============================] - 2s 106ms/step - loss: 0.1209 - auc: 0.9878 - val_loss: 5.5792 - val_auc: 0.4361\n",
      "Epoch 9/10\n",
      "23/23 [==============================] - 2s 104ms/step - loss: 0.1200 - auc: 0.9880 - val_loss: 5.6893 - val_auc: 0.4365\n",
      "Epoch 10/10\n",
      "23/23 [==============================] - 2s 102ms/step - loss: 0.1191 - auc: 0.9882 - val_loss: 5.7817 - val_auc: 0.4367\n"
     ]
    },
    {
     "name": "stderr",
     "output_type": "stream",
     "text": [
      "\r",
      " 30%|███       | 3/10 [03:44<08:45, 75.08s/it]"
     ]
    },
    {
     "name": "stdout",
     "output_type": "stream",
     "text": [
      "Epoch 1/10\n",
      "23/23 [==============================] - 3s 111ms/step - loss: 0.1538 - auc: 0.9758 - val_loss: 5.5295 - val_auc: 0.4371\n",
      "Epoch 2/10\n",
      "23/23 [==============================] - 3s 109ms/step - loss: 0.1318 - auc: 0.9838 - val_loss: 5.6333 - val_auc: 0.4368\n",
      "Epoch 3/10\n",
      "23/23 [==============================] - 2s 107ms/step - loss: 0.1258 - auc: 0.9857 - val_loss: 5.7844 - val_auc: 0.4370\n",
      "Epoch 4/10\n",
      "23/23 [==============================] - 2s 106ms/step - loss: 0.1225 - auc: 0.9868 - val_loss: 5.8932 - val_auc: 0.4373\n",
      "Epoch 5/10\n",
      "23/23 [==============================] - 2s 107ms/step - loss: 0.1204 - auc: 0.9875 - val_loss: 6.0074 - val_auc: 0.4375\n",
      "Epoch 6/10\n",
      "23/23 [==============================] - 2s 107ms/step - loss: 0.1188 - auc: 0.9881 - val_loss: 6.1143 - val_auc: 0.4376\n",
      "Epoch 7/10\n",
      "23/23 [==============================] - 2s 107ms/step - loss: 0.1176 - auc: 0.9885 - val_loss: 6.2000 - val_auc: 0.4377\n",
      "Epoch 8/10\n",
      "23/23 [==============================] - 2s 106ms/step - loss: 0.1166 - auc: 0.9888 - val_loss: 6.2594 - val_auc: 0.4378\n",
      "Epoch 9/10\n",
      "23/23 [==============================] - 2s 105ms/step - loss: 0.1157 - auc: 0.9890 - val_loss: 6.3204 - val_auc: 0.4380\n",
      "Epoch 10/10\n",
      "23/23 [==============================] - 2s 103ms/step - loss: 0.1149 - auc: 0.9892 - val_loss: 6.3756 - val_auc: 0.4380\n"
     ]
    },
    {
     "name": "stderr",
     "output_type": "stream",
     "text": [
      "\r",
      " 40%|████      | 4/10 [04:58<07:29, 74.87s/it]"
     ]
    },
    {
     "name": "stdout",
     "output_type": "stream",
     "text": [
      "Epoch 1/10\n",
      "23/23 [==============================] - 3s 143ms/step - loss: 0.1555 - auc: 0.9757 - val_loss: 6.1334 - val_auc: 0.4382\n",
      "Epoch 2/10\n",
      "23/23 [==============================] - 2s 107ms/step - loss: 0.1313 - auc: 0.9842 - val_loss: 6.1185 - val_auc: 0.4372\n",
      "Epoch 3/10\n",
      "23/23 [==============================] - 2s 107ms/step - loss: 0.1243 - auc: 0.9863 - val_loss: 6.2385 - val_auc: 0.4372\n",
      "Epoch 4/10\n",
      "23/23 [==============================] - 2s 107ms/step - loss: 0.1204 - auc: 0.9875 - val_loss: 6.3167 - val_auc: 0.4374\n",
      "Epoch 5/10\n",
      "23/23 [==============================] - 2s 106ms/step - loss: 0.1180 - auc: 0.9882 - val_loss: 6.3830 - val_auc: 0.4376\n",
      "Epoch 6/10\n",
      "23/23 [==============================] - 2s 107ms/step - loss: 0.1164 - auc: 0.9887 - val_loss: 6.4209 - val_auc: 0.4376\n",
      "Epoch 7/10\n",
      "23/23 [==============================] - 2s 107ms/step - loss: 0.1150 - auc: 0.9891 - val_loss: 6.4601 - val_auc: 0.4376\n",
      "Epoch 8/10\n",
      "23/23 [==============================] - 2s 106ms/step - loss: 0.1139 - auc: 0.9894 - val_loss: 6.4958 - val_auc: 0.4378\n",
      "Epoch 9/10\n",
      "23/23 [==============================] - 2s 105ms/step - loss: 0.1127 - auc: 0.9897 - val_loss: 6.5176 - val_auc: 0.4377\n",
      "Epoch 10/10\n",
      "23/23 [==============================] - 2s 103ms/step - loss: 0.1114 - auc: 0.9901 - val_loss: 6.5278 - val_auc: 0.4377\n"
     ]
    },
    {
     "name": "stderr",
     "output_type": "stream",
     "text": [
      "\r",
      " 50%|█████     | 5/10 [06:13<06:14, 74.83s/it]"
     ]
    },
    {
     "name": "stdout",
     "output_type": "stream",
     "text": [
      "Epoch 1/10\n",
      "23/23 [==============================] - 3s 114ms/step - loss: 0.1536 - auc: 0.9766 - val_loss: 6.2613 - val_auc: 0.4378\n",
      "Epoch 2/10\n",
      "23/23 [==============================] - 2s 107ms/step - loss: 0.1302 - auc: 0.9850 - val_loss: 6.3005 - val_auc: 0.4372\n",
      "Epoch 3/10\n",
      "23/23 [==============================] - 2s 107ms/step - loss: 0.1218 - auc: 0.9873 - val_loss: 6.3950 - val_auc: 0.4375\n",
      "Epoch 4/10\n",
      "23/23 [==============================] - 2s 107ms/step - loss: 0.1167 - auc: 0.9886 - val_loss: 6.4143 - val_auc: 0.4376\n",
      "Epoch 5/10\n",
      "23/23 [==============================] - 2s 107ms/step - loss: 0.1132 - auc: 0.9896 - val_loss: 6.4453 - val_auc: 0.4378\n",
      "Epoch 6/10\n",
      "23/23 [==============================] - 2s 107ms/step - loss: 0.1106 - auc: 0.9902 - val_loss: 6.4829 - val_auc: 0.4378\n",
      "Epoch 7/10\n",
      "23/23 [==============================] - 2s 107ms/step - loss: 0.1086 - auc: 0.9908 - val_loss: 6.5359 - val_auc: 0.4380\n",
      "Epoch 8/10\n",
      "23/23 [==============================] - 2s 107ms/step - loss: 0.1070 - auc: 0.9912 - val_loss: 6.5782 - val_auc: 0.4381\n",
      "Epoch 9/10\n",
      "23/23 [==============================] - 2s 104ms/step - loss: 0.1056 - auc: 0.9915 - val_loss: 6.6018 - val_auc: 0.4380\n",
      "Epoch 10/10\n",
      "23/23 [==============================] - 2s 102ms/step - loss: 0.1045 - auc: 0.9917 - val_loss: 6.6422 - val_auc: 0.4382\n"
     ]
    },
    {
     "name": "stderr",
     "output_type": "stream",
     "text": [
      "\r",
      " 60%|██████    | 6/10 [07:27<04:58, 74.70s/it]"
     ]
    },
    {
     "name": "stdout",
     "output_type": "stream",
     "text": [
      "Epoch 1/10\n",
      "23/23 [==============================] - 3s 111ms/step - loss: 0.1542 - auc: 0.9772 - val_loss: 6.5112 - val_auc: 0.4380\n",
      "Epoch 2/10\n",
      "23/23 [==============================] - 2s 107ms/step - loss: 0.1271 - auc: 0.9860 - val_loss: 6.5757 - val_auc: 0.4374\n",
      "Epoch 3/10\n",
      "23/23 [==============================] - 2s 107ms/step - loss: 0.1180 - auc: 0.9884 - val_loss: 6.6144 - val_auc: 0.4377\n",
      "Epoch 4/10\n",
      "23/23 [==============================] - 2s 107ms/step - loss: 0.1129 - auc: 0.9896 - val_loss: 6.6144 - val_auc: 0.4379\n",
      "Epoch 5/10\n",
      "23/23 [==============================] - 2s 106ms/step - loss: 0.1098 - auc: 0.9904 - val_loss: 6.6327 - val_auc: 0.4382\n",
      "Epoch 6/10\n",
      "23/23 [==============================] - 2s 107ms/step - loss: 0.1076 - auc: 0.9909 - val_loss: 6.6483 - val_auc: 0.4382\n",
      "Epoch 7/10\n",
      "23/23 [==============================] - 2s 107ms/step - loss: 0.1060 - auc: 0.9913 - val_loss: 6.6558 - val_auc: 0.4381\n",
      "Epoch 8/10\n",
      "23/23 [==============================] - 2s 107ms/step - loss: 0.1047 - auc: 0.9916 - val_loss: 6.6769 - val_auc: 0.4382\n",
      "Epoch 9/10\n",
      "23/23 [==============================] - 2s 105ms/step - loss: 0.1038 - auc: 0.9918 - val_loss: 6.7039 - val_auc: 0.4383\n",
      "Epoch 10/10\n",
      "23/23 [==============================] - 2s 102ms/step - loss: 0.1028 - auc: 0.9920 - val_loss: 6.7278 - val_auc: 0.4383\n"
     ]
    },
    {
     "name": "stderr",
     "output_type": "stream",
     "text": [
      "\r",
      " 70%|███████   | 7/10 [08:42<03:43, 74.61s/it]"
     ]
    },
    {
     "name": "stdout",
     "output_type": "stream",
     "text": [
      "Epoch 1/10\n",
      "23/23 [==============================] - 3s 112ms/step - loss: 0.1544 - auc: 0.9776 - val_loss: 6.5184 - val_auc: 0.4373\n",
      "Epoch 2/10\n",
      "23/23 [==============================] - 2s 108ms/step - loss: 0.1267 - auc: 0.9861 - val_loss: 6.6721 - val_auc: 0.4375\n",
      "Epoch 3/10\n",
      "23/23 [==============================] - 2s 107ms/step - loss: 0.1173 - auc: 0.9885 - val_loss: 6.6891 - val_auc: 0.4378\n",
      "Epoch 4/10\n",
      "23/23 [==============================] - 2s 107ms/step - loss: 0.1123 - auc: 0.9897 - val_loss: 6.6812 - val_auc: 0.4379\n",
      "Epoch 5/10\n",
      "23/23 [==============================] - 2s 107ms/step - loss: 0.1093 - auc: 0.9904 - val_loss: 6.7027 - val_auc: 0.4381\n",
      "Epoch 6/10\n",
      "23/23 [==============================] - 2s 107ms/step - loss: 0.1072 - auc: 0.9909 - val_loss: 6.7202 - val_auc: 0.4380\n",
      "Epoch 7/10\n",
      "23/23 [==============================] - 2s 107ms/step - loss: 0.1056 - auc: 0.9913 - val_loss: 6.7467 - val_auc: 0.4382\n",
      "Epoch 8/10\n",
      "23/23 [==============================] - 2s 106ms/step - loss: 0.1045 - auc: 0.9916 - val_loss: 6.7851 - val_auc: 0.4383\n",
      "Epoch 9/10\n",
      "23/23 [==============================] - 2s 104ms/step - loss: 0.1035 - auc: 0.9918 - val_loss: 6.8016 - val_auc: 0.4383\n",
      "Epoch 10/10\n",
      "23/23 [==============================] - 2s 102ms/step - loss: 0.1027 - auc: 0.9920 - val_loss: 6.8205 - val_auc: 0.4383\n"
     ]
    },
    {
     "name": "stderr",
     "output_type": "stream",
     "text": [
      "\r",
      " 80%|████████  | 8/10 [09:56<02:29, 74.56s/it]"
     ]
    },
    {
     "name": "stdout",
     "output_type": "stream",
     "text": [
      "Epoch 1/10\n",
      "23/23 [==============================] - 3s 144ms/step - loss: 0.1536 - auc: 0.9779 - val_loss: 6.6257 - val_auc: 0.4375\n",
      "Epoch 2/10\n",
      "23/23 [==============================] - 2s 107ms/step - loss: 0.1273 - auc: 0.9858 - val_loss: 6.7420 - val_auc: 0.4377\n",
      "Epoch 3/10\n",
      "23/23 [==============================] - 2s 107ms/step - loss: 0.1180 - auc: 0.9883 - val_loss: 6.7559 - val_auc: 0.4380\n",
      "Epoch 4/10\n",
      "23/23 [==============================] - 2s 107ms/step - loss: 0.1128 - auc: 0.9895 - val_loss: 6.7570 - val_auc: 0.4380\n",
      "Epoch 5/10\n",
      "23/23 [==============================] - 2s 107ms/step - loss: 0.1096 - auc: 0.9902 - val_loss: 6.7818 - val_auc: 0.4382\n",
      "Epoch 6/10\n",
      "23/23 [==============================] - 2s 107ms/step - loss: 0.1073 - auc: 0.9908 - val_loss: 6.8095 - val_auc: 0.4383\n",
      "Epoch 7/10\n",
      "23/23 [==============================] - 2s 107ms/step - loss: 0.1057 - auc: 0.9912 - val_loss: 6.8323 - val_auc: 0.4384\n",
      "Epoch 8/10\n",
      "23/23 [==============================] - 2s 107ms/step - loss: 0.1044 - auc: 0.9915 - val_loss: 6.8466 - val_auc: 0.4385\n",
      "Epoch 9/10\n",
      "23/23 [==============================] - 2s 105ms/step - loss: 0.1032 - auc: 0.9917 - val_loss: 6.8520 - val_auc: 0.4384\n",
      "Epoch 10/10\n",
      "23/23 [==============================] - 2s 101ms/step - loss: 0.1021 - auc: 0.9920 - val_loss: 6.8745 - val_auc: 0.4385\n"
     ]
    },
    {
     "name": "stderr",
     "output_type": "stream",
     "text": [
      "\r",
      " 90%|█████████ | 9/10 [11:12<01:14, 74.77s/it]"
     ]
    },
    {
     "name": "stdout",
     "output_type": "stream",
     "text": [
      "Epoch 1/10\n",
      "23/23 [==============================] - 3s 110ms/step - loss: 0.1512 - auc: 0.9785 - val_loss: 6.7144 - val_auc: 0.4377\n",
      "Epoch 2/10\n",
      "23/23 [==============================] - 2s 108ms/step - loss: 0.1270 - auc: 0.9858 - val_loss: 6.8134 - val_auc: 0.4380\n",
      "Epoch 3/10\n",
      "23/23 [==============================] - 2s 108ms/step - loss: 0.1178 - auc: 0.9881 - val_loss: 6.7896 - val_auc: 0.4380\n",
      "Epoch 4/10\n",
      "23/23 [==============================] - 2s 108ms/step - loss: 0.1122 - auc: 0.9895 - val_loss: 6.7909 - val_auc: 0.4382\n",
      "Epoch 5/10\n",
      "23/23 [==============================] - 2s 107ms/step - loss: 0.1086 - auc: 0.9903 - val_loss: 6.8057 - val_auc: 0.4383\n",
      "Epoch 6/10\n",
      "23/23 [==============================] - 2s 107ms/step - loss: 0.1060 - auc: 0.9910 - val_loss: 6.8129 - val_auc: 0.4383\n",
      "Epoch 7/10\n",
      "23/23 [==============================] - 2s 107ms/step - loss: 0.1041 - auc: 0.9914 - val_loss: 6.8438 - val_auc: 0.4387\n",
      "Epoch 8/10\n",
      "23/23 [==============================] - 2s 107ms/step - loss: 0.1025 - auc: 0.9918 - val_loss: 6.8510 - val_auc: 0.4386\n",
      "Epoch 9/10\n",
      "23/23 [==============================] - 2s 105ms/step - loss: 0.1011 - auc: 0.9921 - val_loss: 6.8607 - val_auc: 0.4386\n",
      "Epoch 10/10\n",
      "23/23 [==============================] - 2s 102ms/step - loss: 0.0999 - auc: 0.9924 - val_loss: 6.8933 - val_auc: 0.4388\n"
     ]
    },
    {
     "name": "stderr",
     "output_type": "stream",
     "text": [
      "100%|██████████| 10/10 [12:26<00:00, 74.65s/it]\n"
     ]
    }
   ],
   "source": [
    "for epoch in tqdm.tqdm(range((num_epochs))):\n",
    "    # Generate training instances\n",
    "    user_input, item_input, labels = get_train_instances(data_dict, num_negatives, album_id_list)\n",
    "\n",
    "    # Training\n",
    "#     hist = model.fit([np.array(user_input), np.array(item_input)], #input\n",
    "#                      np.array(labels), # labels \n",
    "#                      batch_size=batch_size, nb_epoch=1, verbose=0, shuffle=True)\n",
    "                       \n",
    "    hist = model.fit([np.array(user_input), np.array(item_input)], #input\n",
    "                     np.array(labels), # labels \n",
    "                     batch_size=2**20, epochs=10, verbose=1, validation_split=0.2,\n",
    "                     shuffle=True\n",
    "                    )\n",
    "\n",
    "    # Evaluation\n",
    "#     if epoch %verbose == 0:\n",
    "#         (hits, ndcgs) = evaluate_model(model, testRatings, testNegatives, topK, evaluation_threads)\n",
    "#         hr, ndcg, loss = np.array(hits).mean(), np.array(ndcgs).mean(), hist.history['loss'][0]\n",
    "#         print('Iteration %d [%.1f s]: HR = %.4f, NDCG = %.4f, loss = %.4f [%.1f s]' \n",
    "#               % (epoch,  t2-t1, hr, ndcg, loss, time()-t2))\n",
    "#         if hr > best_hr:\n",
    "#             best_hr, best_ndcg, best_iter = hr, ndcg, epoch\n",
    "#             if args.out > 0:\n",
    "#                 model.save_weights(model_out_file, overwrite=True)"
   ]
  },
  {
   "cell_type": "code",
   "execution_count": 19,
   "metadata": {},
   "outputs": [
    {
     "name": "stderr",
     "output_type": "stream",
     "text": [
      "  0%|          | 0/100 [00:00<?, ?it/s]/home/ubuntu/anaconda3/envs/tensorflow2_latest_p37/lib/python3.7/site-packages/tensorflow/python/framework/indexed_slices.py:433: UserWarning: Converting sparse IndexedSlices to a dense Tensor of unknown shape. This may consume a large amount of memory.\n",
      "  \"Converting sparse IndexedSlices to a dense Tensor of unknown shape. \"\n"
     ]
    },
    {
     "name": "stdout",
     "output_type": "stream",
     "text": [
      "28/28 [==============================] - 2s 87ms/step - loss: 0.6774 - auc: 0.8536\n"
     ]
    },
    {
     "name": "stderr",
     "output_type": "stream",
     "text": [
      "\r",
      "  1%|          | 1/100 [00:53<1:28:50, 53.84s/it]"
     ]
    },
    {
     "name": "stdout",
     "output_type": "stream",
     "text": [
      "28/28 [==============================] - 3s 90ms/step - loss: 0.5454 - auc: 0.8868\n"
     ]
    },
    {
     "name": "stderr",
     "output_type": "stream",
     "text": [
      "\r",
      "  2%|▏         | 2/100 [01:46<1:27:15, 53.42s/it]"
     ]
    },
    {
     "name": "stdout",
     "output_type": "stream",
     "text": [
      "28/28 [==============================] - 2s 89ms/step - loss: 0.3586 - auc: 0.9188\n"
     ]
    },
    {
     "name": "stderr",
     "output_type": "stream",
     "text": [
      "\r",
      "  3%|▎         | 3/100 [02:38<1:25:37, 52.96s/it]"
     ]
    },
    {
     "name": "stdout",
     "output_type": "stream",
     "text": [
      "28/28 [==============================] - 3s 115ms/step - loss: 0.3226 - auc: 0.9374\n"
     ]
    },
    {
     "name": "stderr",
     "output_type": "stream",
     "text": [
      "\r",
      "  4%|▍         | 4/100 [03:31<1:24:46, 52.98s/it]"
     ]
    },
    {
     "name": "stdout",
     "output_type": "stream",
     "text": [
      "28/28 [==============================] - 2s 89ms/step - loss: 0.3121 - auc: 0.9405\n"
     ]
    },
    {
     "name": "stderr",
     "output_type": "stream",
     "text": [
      "\r",
      "  5%|▌         | 5/100 [04:23<1:23:38, 52.83s/it]"
     ]
    },
    {
     "name": "stdout",
     "output_type": "stream",
     "text": [
      "28/28 [==============================] - 2s 89ms/step - loss: 0.3032 - auc: 0.9437\n"
     ]
    },
    {
     "name": "stderr",
     "output_type": "stream",
     "text": [
      "\r",
      "  6%|▌         | 6/100 [05:16<1:22:43, 52.80s/it]"
     ]
    },
    {
     "name": "stdout",
     "output_type": "stream",
     "text": [
      "28/28 [==============================] - 3s 89ms/step - loss: 0.2940 - auc: 0.9472\n"
     ]
    },
    {
     "name": "stderr",
     "output_type": "stream",
     "text": [
      "\r",
      "  7%|▋         | 7/100 [06:08<1:21:33, 52.62s/it]"
     ]
    },
    {
     "name": "stdout",
     "output_type": "stream",
     "text": [
      "28/28 [==============================] - 2s 89ms/step - loss: 0.2856 - auc: 0.9502\n"
     ]
    },
    {
     "name": "stderr",
     "output_type": "stream",
     "text": [
      "\r",
      "  8%|▊         | 8/100 [07:01<1:20:39, 52.61s/it]"
     ]
    },
    {
     "name": "stdout",
     "output_type": "stream",
     "text": [
      "28/28 [==============================] - 2s 89ms/step - loss: 0.2796 - auc: 0.9524\n"
     ]
    },
    {
     "name": "stderr",
     "output_type": "stream",
     "text": [
      "\r",
      "  9%|▉         | 9/100 [07:53<1:19:41, 52.55s/it]"
     ]
    },
    {
     "name": "stdout",
     "output_type": "stream",
     "text": [
      "28/28 [==============================] - 2s 89ms/step - loss: 0.2754 - auc: 0.9538\n"
     ]
    },
    {
     "name": "stderr",
     "output_type": "stream",
     "text": [
      "\r",
      " 10%|█         | 10/100 [08:45<1:18:43, 52.48s/it]"
     ]
    },
    {
     "name": "stdout",
     "output_type": "stream",
     "text": [
      "28/28 [==============================] - 2s 89ms/step - loss: 0.2722 - auc: 0.9547\n"
     ]
    },
    {
     "name": "stderr",
     "output_type": "stream",
     "text": [
      "\r",
      " 11%|█         | 11/100 [09:37<1:17:38, 52.35s/it]"
     ]
    },
    {
     "name": "stdout",
     "output_type": "stream",
     "text": [
      "28/28 [==============================] - 2s 89ms/step - loss: 0.2698 - auc: 0.9554\n"
     ]
    },
    {
     "name": "stderr",
     "output_type": "stream",
     "text": [
      "\r",
      " 12%|█▏        | 12/100 [10:30<1:16:58, 52.48s/it]"
     ]
    },
    {
     "name": "stdout",
     "output_type": "stream",
     "text": [
      "28/28 [==============================] - 2s 89ms/step - loss: 0.2667 - auc: 0.9562\n"
     ]
    },
    {
     "name": "stderr",
     "output_type": "stream",
     "text": [
      "\r",
      " 13%|█▎        | 13/100 [11:22<1:15:55, 52.37s/it]"
     ]
    },
    {
     "name": "stdout",
     "output_type": "stream",
     "text": [
      "28/28 [==============================] - 3s 90ms/step - loss: 0.2637 - auc: 0.9570\n"
     ]
    },
    {
     "name": "stderr",
     "output_type": "stream",
     "text": [
      "\r",
      " 14%|█▍        | 14/100 [12:15<1:15:19, 52.55s/it]"
     ]
    },
    {
     "name": "stdout",
     "output_type": "stream",
     "text": [
      "28/28 [==============================] - 2s 89ms/step - loss: 0.2607 - auc: 0.9579\n"
     ]
    },
    {
     "name": "stderr",
     "output_type": "stream",
     "text": [
      "\r",
      " 15%|█▌        | 15/100 [13:08<1:14:26, 52.55s/it]"
     ]
    },
    {
     "name": "stdout",
     "output_type": "stream",
     "text": [
      "28/28 [==============================] - 3s 89ms/step - loss: 0.2575 - auc: 0.9590\n"
     ]
    },
    {
     "name": "stderr",
     "output_type": "stream",
     "text": [
      "\r",
      " 16%|█▌        | 16/100 [14:01<1:13:41, 52.64s/it]"
     ]
    },
    {
     "name": "stdout",
     "output_type": "stream",
     "text": [
      "28/28 [==============================] - 2s 89ms/step - loss: 0.2540 - auc: 0.9601\n"
     ]
    },
    {
     "name": "stderr",
     "output_type": "stream",
     "text": [
      "\r",
      " 17%|█▋        | 17/100 [14:53<1:12:50, 52.66s/it]"
     ]
    },
    {
     "name": "stdout",
     "output_type": "stream",
     "text": [
      "28/28 [==============================] - 2s 89ms/step - loss: 0.2508 - auc: 0.9612\n"
     ]
    },
    {
     "name": "stderr",
     "output_type": "stream",
     "text": [
      "\r",
      " 18%|█▊        | 18/100 [15:47<1:12:11, 52.83s/it]"
     ]
    },
    {
     "name": "stdout",
     "output_type": "stream",
     "text": [
      "28/28 [==============================] - 3s 89ms/step - loss: 0.2478 - auc: 0.9622\n"
     ]
    },
    {
     "name": "stderr",
     "output_type": "stream",
     "text": [
      "\r",
      " 19%|█▉        | 19/100 [16:39<1:11:04, 52.65s/it]"
     ]
    },
    {
     "name": "stdout",
     "output_type": "stream",
     "text": [
      "28/28 [==============================] - 2s 89ms/step - loss: 0.2450 - auc: 0.9631\n"
     ]
    },
    {
     "name": "stderr",
     "output_type": "stream",
     "text": [
      "\r",
      " 20%|██        | 20/100 [17:31<1:10:07, 52.59s/it]"
     ]
    },
    {
     "name": "stdout",
     "output_type": "stream",
     "text": [
      "28/28 [==============================] - 3s 89ms/step - loss: 0.2423 - auc: 0.9640\n"
     ]
    },
    {
     "name": "stderr",
     "output_type": "stream",
     "text": [
      "\r",
      " 21%|██        | 21/100 [18:23<1:09:04, 52.46s/it]"
     ]
    },
    {
     "name": "stdout",
     "output_type": "stream",
     "text": [
      "28/28 [==============================] - 2s 89ms/step - loss: 0.2397 - auc: 0.9649\n"
     ]
    },
    {
     "name": "stderr",
     "output_type": "stream",
     "text": [
      "\r",
      " 22%|██▏       | 22/100 [19:16<1:08:13, 52.48s/it]"
     ]
    },
    {
     "name": "stdout",
     "output_type": "stream",
     "text": [
      "28/28 [==============================] - 3s 89ms/step - loss: 0.2375 - auc: 0.9655\n"
     ]
    },
    {
     "name": "stderr",
     "output_type": "stream",
     "text": [
      "\r",
      " 23%|██▎       | 23/100 [20:08<1:07:13, 52.38s/it]"
     ]
    },
    {
     "name": "stdout",
     "output_type": "stream",
     "text": [
      "28/28 [==============================] - 2s 89ms/step - loss: 0.2353 - auc: 0.9662\n"
     ]
    },
    {
     "name": "stderr",
     "output_type": "stream",
     "text": [
      "\r",
      " 24%|██▍       | 24/100 [21:01<1:06:28, 52.47s/it]"
     ]
    },
    {
     "name": "stdout",
     "output_type": "stream",
     "text": [
      "28/28 [==============================] - 2s 89ms/step - loss: 0.2333 - auc: 0.9668\n"
     ]
    },
    {
     "name": "stderr",
     "output_type": "stream",
     "text": [
      "\r",
      " 25%|██▌       | 25/100 [21:53<1:05:38, 52.51s/it]"
     ]
    },
    {
     "name": "stdout",
     "output_type": "stream",
     "text": [
      "28/28 [==============================] - 2s 89ms/step - loss: 0.2316 - auc: 0.9673\n"
     ]
    },
    {
     "name": "stderr",
     "output_type": "stream",
     "text": [
      "\r",
      " 26%|██▌       | 26/100 [22:46<1:04:49, 52.56s/it]"
     ]
    },
    {
     "name": "stdout",
     "output_type": "stream",
     "text": [
      "28/28 [==============================] - 2s 89ms/step - loss: 0.2298 - auc: 0.9678\n"
     ]
    },
    {
     "name": "stderr",
     "output_type": "stream",
     "text": [
      "\r",
      " 27%|██▋       | 27/100 [23:39<1:04:10, 52.75s/it]"
     ]
    },
    {
     "name": "stdout",
     "output_type": "stream",
     "text": [
      "28/28 [==============================] - 2s 89ms/step - loss: 0.2284 - auc: 0.9682\n"
     ]
    },
    {
     "name": "stderr",
     "output_type": "stream",
     "text": [
      "\r",
      " 28%|██▊       | 28/100 [24:32<1:03:11, 52.66s/it]"
     ]
    },
    {
     "name": "stdout",
     "output_type": "stream",
     "text": [
      "28/28 [==============================] - 2s 89ms/step - loss: 0.2269 - auc: 0.9686\n"
     ]
    },
    {
     "name": "stderr",
     "output_type": "stream",
     "text": [
      "\r",
      " 29%|██▉       | 29/100 [25:24<1:02:13, 52.59s/it]"
     ]
    },
    {
     "name": "stdout",
     "output_type": "stream",
     "text": [
      "28/28 [==============================] - 2s 89ms/step - loss: 0.2254 - auc: 0.9690\n"
     ]
    },
    {
     "name": "stderr",
     "output_type": "stream",
     "text": [
      "\r",
      " 30%|███       | 30/100 [26:16<1:01:11, 52.45s/it]"
     ]
    },
    {
     "name": "stdout",
     "output_type": "stream",
     "text": [
      "28/28 [==============================] - 2s 89ms/step - loss: 0.2242 - auc: 0.9693\n"
     ]
    },
    {
     "name": "stderr",
     "output_type": "stream",
     "text": [
      "\r",
      " 31%|███       | 31/100 [27:09<1:00:19, 52.45s/it]"
     ]
    },
    {
     "name": "stdout",
     "output_type": "stream",
     "text": [
      "28/28 [==============================] - 2s 89ms/step - loss: 0.2229 - auc: 0.9697\n"
     ]
    },
    {
     "name": "stderr",
     "output_type": "stream",
     "text": [
      "\r",
      " 32%|███▏      | 32/100 [28:01<59:18, 52.33s/it]  "
     ]
    },
    {
     "name": "stdout",
     "output_type": "stream",
     "text": [
      "28/28 [==============================] - 3s 89ms/step - loss: 0.2215 - auc: 0.9700\n"
     ]
    },
    {
     "name": "stderr",
     "output_type": "stream",
     "text": [
      "\r",
      " 33%|███▎      | 33/100 [28:53<58:26, 52.33s/it]"
     ]
    },
    {
     "name": "stdout",
     "output_type": "stream",
     "text": [
      "28/28 [==============================] - 2s 89ms/step - loss: 0.2205 - auc: 0.9702\n"
     ]
    },
    {
     "name": "stderr",
     "output_type": "stream",
     "text": [
      "\r",
      " 34%|███▍      | 34/100 [29:46<57:50, 52.58s/it]"
     ]
    },
    {
     "name": "stdout",
     "output_type": "stream",
     "text": [
      "28/28 [==============================] - 2s 89ms/step - loss: 0.2193 - auc: 0.9705\n"
     ]
    },
    {
     "name": "stderr",
     "output_type": "stream",
     "text": [
      "\r",
      " 35%|███▌      | 35/100 [30:39<57:09, 52.76s/it]"
     ]
    },
    {
     "name": "stdout",
     "output_type": "stream",
     "text": [
      "28/28 [==============================] - 2s 89ms/step - loss: 0.2182 - auc: 0.9707\n"
     ]
    },
    {
     "name": "stderr",
     "output_type": "stream",
     "text": [
      "\r",
      " 36%|███▌      | 36/100 [31:32<56:11, 52.68s/it]"
     ]
    },
    {
     "name": "stdout",
     "output_type": "stream",
     "text": [
      "28/28 [==============================] - 2s 89ms/step - loss: 0.2173 - auc: 0.9709\n"
     ]
    },
    {
     "name": "stderr",
     "output_type": "stream",
     "text": [
      "\r",
      " 37%|███▋      | 37/100 [32:25<55:17, 52.65s/it]"
     ]
    },
    {
     "name": "stdout",
     "output_type": "stream",
     "text": [
      "28/28 [==============================] - 2s 89ms/step - loss: 0.2159 - auc: 0.9712\n"
     ]
    },
    {
     "name": "stderr",
     "output_type": "stream",
     "text": [
      "\r",
      " 38%|███▊      | 38/100 [33:17<54:21, 52.61s/it]"
     ]
    },
    {
     "name": "stdout",
     "output_type": "stream",
     "text": [
      "28/28 [==============================] - 2s 89ms/step - loss: 0.2150 - auc: 0.9714\n"
     ]
    },
    {
     "name": "stderr",
     "output_type": "stream",
     "text": [
      "\r",
      " 39%|███▉      | 39/100 [34:10<53:26, 52.56s/it]"
     ]
    },
    {
     "name": "stdout",
     "output_type": "stream",
     "text": [
      "28/28 [==============================] - 3s 89ms/step - loss: 0.2138 - auc: 0.9717\n"
     ]
    },
    {
     "name": "stderr",
     "output_type": "stream",
     "text": [
      "\r",
      " 40%|████      | 40/100 [35:02<52:39, 52.66s/it]"
     ]
    },
    {
     "name": "stdout",
     "output_type": "stream",
     "text": [
      "28/28 [==============================] - 2s 89ms/step - loss: 0.2129 - auc: 0.9718\n"
     ]
    },
    {
     "name": "stderr",
     "output_type": "stream",
     "text": [
      "\r",
      " 41%|████      | 41/100 [35:55<51:47, 52.67s/it]"
     ]
    },
    {
     "name": "stdout",
     "output_type": "stream",
     "text": [
      "28/28 [==============================] - 2s 89ms/step - loss: 0.2117 - auc: 0.9721\n"
     ]
    },
    {
     "name": "stderr",
     "output_type": "stream",
     "text": [
      "\r",
      " 42%|████▏     | 42/100 [36:48<50:55, 52.68s/it]"
     ]
    },
    {
     "name": "stdout",
     "output_type": "stream",
     "text": [
      "28/28 [==============================] - 3s 89ms/step - loss: 0.2107 - auc: 0.9723\n"
     ]
    },
    {
     "name": "stderr",
     "output_type": "stream",
     "text": [
      "\r",
      " 43%|████▎     | 43/100 [37:41<50:19, 52.97s/it]"
     ]
    },
    {
     "name": "stdout",
     "output_type": "stream",
     "text": [
      "28/28 [==============================] - 2s 89ms/step - loss: 0.2098 - auc: 0.9725\n"
     ]
    },
    {
     "name": "stderr",
     "output_type": "stream",
     "text": [
      "\r",
      " 44%|████▍     | 44/100 [38:34<49:13, 52.74s/it]"
     ]
    },
    {
     "name": "stdout",
     "output_type": "stream",
     "text": [
      "28/28 [==============================] - 2s 89ms/step - loss: 0.2088 - auc: 0.9727\n"
     ]
    },
    {
     "name": "stderr",
     "output_type": "stream",
     "text": [
      "\r",
      " 45%|████▌     | 45/100 [39:26<48:21, 52.76s/it]"
     ]
    },
    {
     "name": "stdout",
     "output_type": "stream",
     "text": [
      "28/28 [==============================] - 3s 89ms/step - loss: 0.2081 - auc: 0.9729\n"
     ]
    },
    {
     "name": "stderr",
     "output_type": "stream",
     "text": [
      "\r",
      " 46%|████▌     | 46/100 [40:19<47:28, 52.74s/it]"
     ]
    },
    {
     "name": "stdout",
     "output_type": "stream",
     "text": [
      "28/28 [==============================] - 2s 89ms/step - loss: 0.2072 - auc: 0.9730\n"
     ]
    },
    {
     "name": "stderr",
     "output_type": "stream",
     "text": [
      "\r",
      " 47%|████▋     | 47/100 [41:11<46:28, 52.61s/it]"
     ]
    },
    {
     "name": "stdout",
     "output_type": "stream",
     "text": [
      "28/28 [==============================] - 2s 89ms/step - loss: 0.2064 - auc: 0.9732\n"
     ]
    },
    {
     "name": "stderr",
     "output_type": "stream",
     "text": [
      "\r",
      " 48%|████▊     | 48/100 [42:04<45:27, 52.45s/it]"
     ]
    },
    {
     "name": "stdout",
     "output_type": "stream",
     "text": [
      "28/28 [==============================] - 3s 89ms/step - loss: 0.2057 - auc: 0.9733\n"
     ]
    },
    {
     "name": "stderr",
     "output_type": "stream",
     "text": [
      "\r",
      " 49%|████▉     | 49/100 [42:56<44:29, 52.34s/it]"
     ]
    },
    {
     "name": "stdout",
     "output_type": "stream",
     "text": [
      "28/28 [==============================] - 2s 89ms/step - loss: 0.2049 - auc: 0.9735\n"
     ]
    },
    {
     "name": "stderr",
     "output_type": "stream",
     "text": [
      "\r",
      " 50%|█████     | 50/100 [43:48<43:34, 52.30s/it]"
     ]
    },
    {
     "name": "stdout",
     "output_type": "stream",
     "text": [
      "28/28 [==============================] - 2s 89ms/step - loss: 0.2044 - auc: 0.9736\n"
     ]
    },
    {
     "name": "stderr",
     "output_type": "stream",
     "text": [
      "\r",
      " 51%|█████     | 51/100 [44:41<42:54, 52.54s/it]"
     ]
    },
    {
     "name": "stdout",
     "output_type": "stream",
     "text": [
      "28/28 [==============================] - 2s 89ms/step - loss: 0.2039 - auc: 0.9737\n"
     ]
    },
    {
     "name": "stderr",
     "output_type": "stream",
     "text": [
      "\r",
      " 52%|█████▏    | 52/100 [45:33<41:57, 52.44s/it]"
     ]
    },
    {
     "name": "stdout",
     "output_type": "stream",
     "text": [
      "28/28 [==============================] - 2s 89ms/step - loss: 0.2035 - auc: 0.9737\n"
     ]
    },
    {
     "name": "stderr",
     "output_type": "stream",
     "text": [
      "\r",
      " 53%|█████▎    | 53/100 [46:26<41:09, 52.54s/it]"
     ]
    },
    {
     "name": "stdout",
     "output_type": "stream",
     "text": [
      "28/28 [==============================] - 3s 89ms/step - loss: 0.2029 - auc: 0.9739\n"
     ]
    },
    {
     "name": "stderr",
     "output_type": "stream",
     "text": [
      "\r",
      " 54%|█████▍    | 54/100 [47:18<40:16, 52.53s/it]"
     ]
    },
    {
     "name": "stdout",
     "output_type": "stream",
     "text": [
      "28/28 [==============================] - 3s 89ms/step - loss: 0.2024 - auc: 0.9740\n"
     ]
    },
    {
     "name": "stderr",
     "output_type": "stream",
     "text": [
      "\r",
      " 55%|█████▌    | 55/100 [48:11<39:25, 52.57s/it]"
     ]
    },
    {
     "name": "stdout",
     "output_type": "stream",
     "text": [
      "28/28 [==============================] - 2s 89ms/step - loss: 0.2021 - auc: 0.9741\n"
     ]
    },
    {
     "name": "stderr",
     "output_type": "stream",
     "text": [
      "\r",
      " 56%|█████▌    | 56/100 [49:04<38:31, 52.53s/it]"
     ]
    },
    {
     "name": "stdout",
     "output_type": "stream",
     "text": [
      "28/28 [==============================] - 2s 89ms/step - loss: 0.2018 - auc: 0.9741\n"
     ]
    },
    {
     "name": "stderr",
     "output_type": "stream",
     "text": [
      "\r",
      " 57%|█████▋    | 57/100 [49:56<37:34, 52.43s/it]"
     ]
    },
    {
     "name": "stdout",
     "output_type": "stream",
     "text": [
      "28/28 [==============================] - 2s 89ms/step - loss: 0.2015 - auc: 0.9742\n"
     ]
    },
    {
     "name": "stderr",
     "output_type": "stream",
     "text": [
      "\r",
      " 58%|█████▊    | 58/100 [50:48<36:41, 52.41s/it]"
     ]
    },
    {
     "name": "stdout",
     "output_type": "stream",
     "text": [
      "28/28 [==============================] - 3s 89ms/step - loss: 0.2012 - auc: 0.9742\n"
     ]
    },
    {
     "name": "stderr",
     "output_type": "stream",
     "text": [
      "\r",
      " 59%|█████▉    | 59/100 [51:42<36:03, 52.77s/it]"
     ]
    },
    {
     "name": "stdout",
     "output_type": "stream",
     "text": [
      "28/28 [==============================] - 2s 89ms/step - loss: 0.2007 - auc: 0.9743\n"
     ]
    },
    {
     "name": "stderr",
     "output_type": "stream",
     "text": [
      "\r",
      " 60%|██████    | 60/100 [52:34<35:09, 52.73s/it]"
     ]
    },
    {
     "name": "stdout",
     "output_type": "stream",
     "text": [
      "28/28 [==============================] - 2s 89ms/step - loss: 0.2007 - auc: 0.9743\n"
     ]
    },
    {
     "name": "stderr",
     "output_type": "stream",
     "text": [
      "\r",
      " 61%|██████    | 61/100 [53:26<34:09, 52.56s/it]"
     ]
    },
    {
     "name": "stdout",
     "output_type": "stream",
     "text": [
      "28/28 [==============================] - 2s 89ms/step - loss: 0.2004 - auc: 0.9744\n"
     ]
    },
    {
     "name": "stderr",
     "output_type": "stream",
     "text": [
      "\r",
      " 62%|██████▏   | 62/100 [54:19<33:20, 52.64s/it]"
     ]
    },
    {
     "name": "stdout",
     "output_type": "stream",
     "text": [
      "28/28 [==============================] - 2s 89ms/step - loss: 0.2003 - auc: 0.9744\n"
     ]
    },
    {
     "name": "stderr",
     "output_type": "stream",
     "text": [
      "\r",
      " 63%|██████▎   | 63/100 [55:11<32:20, 52.45s/it]"
     ]
    },
    {
     "name": "stdout",
     "output_type": "stream",
     "text": [
      "28/28 [==============================] - 2s 89ms/step - loss: 0.1999 - auc: 0.9745\n"
     ]
    },
    {
     "name": "stderr",
     "output_type": "stream",
     "text": [
      "\r",
      " 64%|██████▍   | 64/100 [56:04<31:31, 52.55s/it]"
     ]
    },
    {
     "name": "stdout",
     "output_type": "stream",
     "text": [
      "28/28 [==============================] - 2s 89ms/step - loss: 0.1998 - auc: 0.9745\n"
     ]
    },
    {
     "name": "stderr",
     "output_type": "stream",
     "text": [
      "\r",
      " 65%|██████▌   | 65/100 [56:57<30:37, 52.51s/it]"
     ]
    },
    {
     "name": "stdout",
     "output_type": "stream",
     "text": [
      "28/28 [==============================] - 3s 90ms/step - loss: 0.1993 - auc: 0.9746\n"
     ]
    },
    {
     "name": "stderr",
     "output_type": "stream",
     "text": [
      "\r",
      " 66%|██████▌   | 66/100 [57:50<29:50, 52.67s/it]"
     ]
    },
    {
     "name": "stdout",
     "output_type": "stream",
     "text": [
      "28/28 [==============================] - 3s 90ms/step - loss: 0.1994 - auc: 0.9746\n"
     ]
    },
    {
     "name": "stderr",
     "output_type": "stream",
     "text": [
      "\r",
      " 67%|██████▋   | 67/100 [58:43<29:02, 52.79s/it]"
     ]
    },
    {
     "name": "stdout",
     "output_type": "stream",
     "text": [
      "28/28 [==============================] - 2s 89ms/step - loss: 0.1991 - auc: 0.9746\n"
     ]
    },
    {
     "name": "stderr",
     "output_type": "stream",
     "text": [
      "\r",
      " 68%|██████▊   | 68/100 [59:35<28:05, 52.67s/it]"
     ]
    },
    {
     "name": "stdout",
     "output_type": "stream",
     "text": [
      "28/28 [==============================] - 3s 90ms/step - loss: 0.1989 - auc: 0.9747\n"
     ]
    },
    {
     "name": "stderr",
     "output_type": "stream",
     "text": [
      "\r",
      " 69%|██████▉   | 69/100 [1:00:27<27:10, 52.59s/it]"
     ]
    },
    {
     "name": "stdout",
     "output_type": "stream",
     "text": [
      "28/28 [==============================] - 2s 89ms/step - loss: 0.1988 - auc: 0.9747\n"
     ]
    },
    {
     "name": "stderr",
     "output_type": "stream",
     "text": [
      "\r",
      " 70%|███████   | 70/100 [1:01:20<26:16, 52.56s/it]"
     ]
    },
    {
     "name": "stdout",
     "output_type": "stream",
     "text": [
      "28/28 [==============================] - 2s 89ms/step - loss: 0.1985 - auc: 0.9747\n"
     ]
    },
    {
     "name": "stderr",
     "output_type": "stream",
     "text": [
      "\r",
      " 71%|███████   | 71/100 [1:02:13<25:24, 52.59s/it]"
     ]
    },
    {
     "name": "stdout",
     "output_type": "stream",
     "text": [
      "28/28 [==============================] - 2s 89ms/step - loss: 0.1984 - auc: 0.9747\n"
     ]
    },
    {
     "name": "stderr",
     "output_type": "stream",
     "text": [
      "\r",
      " 72%|███████▏  | 72/100 [1:03:05<24:31, 52.55s/it]"
     ]
    },
    {
     "name": "stdout",
     "output_type": "stream",
     "text": [
      "28/28 [==============================] - 2s 89ms/step - loss: 0.1982 - auc: 0.9748\n"
     ]
    },
    {
     "name": "stderr",
     "output_type": "stream",
     "text": [
      "\r",
      " 73%|███████▎  | 73/100 [1:03:57<23:37, 52.50s/it]"
     ]
    },
    {
     "name": "stdout",
     "output_type": "stream",
     "text": [
      "28/28 [==============================] - 2s 89ms/step - loss: 0.1979 - auc: 0.9748\n"
     ]
    },
    {
     "name": "stderr",
     "output_type": "stream",
     "text": [
      "\r",
      " 74%|███████▍  | 74/100 [1:04:50<22:45, 52.52s/it]"
     ]
    },
    {
     "name": "stdout",
     "output_type": "stream",
     "text": [
      "28/28 [==============================] - 2s 89ms/step - loss: 0.1978 - auc: 0.9748\n"
     ]
    },
    {
     "name": "stderr",
     "output_type": "stream",
     "text": [
      "\r",
      " 75%|███████▌  | 75/100 [1:05:43<21:56, 52.67s/it]"
     ]
    },
    {
     "name": "stdout",
     "output_type": "stream",
     "text": [
      "28/28 [==============================] - 2s 89ms/step - loss: 0.1977 - auc: 0.9748\n"
     ]
    },
    {
     "name": "stderr",
     "output_type": "stream",
     "text": [
      "\r",
      " 76%|███████▌  | 76/100 [1:06:35<21:00, 52.51s/it]"
     ]
    },
    {
     "name": "stdout",
     "output_type": "stream",
     "text": [
      "28/28 [==============================] - 2s 89ms/step - loss: 0.1976 - auc: 0.9749\n"
     ]
    },
    {
     "name": "stderr",
     "output_type": "stream",
     "text": [
      "\r",
      " 77%|███████▋  | 77/100 [1:07:28<20:07, 52.50s/it]"
     ]
    },
    {
     "name": "stdout",
     "output_type": "stream",
     "text": [
      "28/28 [==============================] - 2s 89ms/step - loss: 0.1976 - auc: 0.9748\n"
     ]
    },
    {
     "name": "stderr",
     "output_type": "stream",
     "text": [
      "\r",
      " 78%|███████▊  | 78/100 [1:08:20<19:15, 52.54s/it]"
     ]
    },
    {
     "name": "stdout",
     "output_type": "stream",
     "text": [
      "28/28 [==============================] - 2s 89ms/step - loss: 0.1972 - auc: 0.9749\n"
     ]
    },
    {
     "name": "stderr",
     "output_type": "stream",
     "text": [
      "\r",
      " 79%|███████▉  | 79/100 [1:09:12<18:21, 52.44s/it]"
     ]
    },
    {
     "name": "stdout",
     "output_type": "stream",
     "text": [
      "28/28 [==============================] - 2s 89ms/step - loss: 0.1973 - auc: 0.9749\n"
     ]
    },
    {
     "name": "stderr",
     "output_type": "stream",
     "text": [
      "\r",
      " 80%|████████  | 80/100 [1:10:05<17:29, 52.49s/it]"
     ]
    },
    {
     "name": "stdout",
     "output_type": "stream",
     "text": [
      "28/28 [==============================] - 3s 89ms/step - loss: 0.1971 - auc: 0.9749\n"
     ]
    },
    {
     "name": "stderr",
     "output_type": "stream",
     "text": [
      "\r",
      " 81%|████████  | 81/100 [1:10:58<16:37, 52.51s/it]"
     ]
    },
    {
     "name": "stdout",
     "output_type": "stream",
     "text": [
      "28/28 [==============================] - 2s 89ms/step - loss: 0.1970 - auc: 0.9750\n"
     ]
    },
    {
     "name": "stderr",
     "output_type": "stream",
     "text": [
      "\r",
      " 82%|████████▏ | 82/100 [1:11:50<15:45, 52.50s/it]"
     ]
    },
    {
     "name": "stdout",
     "output_type": "stream",
     "text": [
      "28/28 [==============================] - 3s 89ms/step - loss: 0.1970 - auc: 0.9750\n"
     ]
    },
    {
     "name": "stderr",
     "output_type": "stream",
     "text": [
      "\r",
      " 83%|████████▎ | 83/100 [1:12:44<14:57, 52.80s/it]"
     ]
    },
    {
     "name": "stdout",
     "output_type": "stream",
     "text": [
      "28/28 [==============================] - 2s 89ms/step - loss: 0.1970 - auc: 0.9750\n"
     ]
    },
    {
     "name": "stderr",
     "output_type": "stream",
     "text": [
      "\r",
      " 84%|████████▍ | 84/100 [1:13:36<14:04, 52.76s/it]"
     ]
    },
    {
     "name": "stdout",
     "output_type": "stream",
     "text": [
      "28/28 [==============================] - 2s 89ms/step - loss: 0.1968 - auc: 0.9750\n"
     ]
    },
    {
     "name": "stderr",
     "output_type": "stream",
     "text": [
      "\r",
      " 85%|████████▌ | 85/100 [1:14:28<13:07, 52.52s/it]"
     ]
    },
    {
     "name": "stdout",
     "output_type": "stream",
     "text": [
      "28/28 [==============================] - 3s 89ms/step - loss: 0.1966 - auc: 0.9750\n"
     ]
    },
    {
     "name": "stderr",
     "output_type": "stream",
     "text": [
      "\r",
      " 86%|████████▌ | 86/100 [1:15:21<12:14, 52.49s/it]"
     ]
    },
    {
     "name": "stdout",
     "output_type": "stream",
     "text": [
      "28/28 [==============================] - 2s 89ms/step - loss: 0.1964 - auc: 0.9751\n"
     ]
    },
    {
     "name": "stderr",
     "output_type": "stream",
     "text": [
      "\r",
      " 87%|████████▋ | 87/100 [1:16:13<11:20, 52.38s/it]"
     ]
    },
    {
     "name": "stdout",
     "output_type": "stream",
     "text": [
      "28/28 [==============================] - 2s 89ms/step - loss: 0.1962 - auc: 0.9751\n"
     ]
    },
    {
     "name": "stderr",
     "output_type": "stream",
     "text": [
      "\r",
      " 88%|████████▊ | 88/100 [1:17:05<10:28, 52.40s/it]"
     ]
    },
    {
     "name": "stdout",
     "output_type": "stream",
     "text": [
      "28/28 [==============================] - 2s 89ms/step - loss: 0.1963 - auc: 0.9751\n"
     ]
    },
    {
     "name": "stderr",
     "output_type": "stream",
     "text": [
      "\r",
      " 89%|████████▉ | 89/100 [1:17:57<09:35, 52.35s/it]"
     ]
    },
    {
     "name": "stdout",
     "output_type": "stream",
     "text": [
      "28/28 [==============================] - 2s 89ms/step - loss: 0.1963 - auc: 0.9751\n"
     ]
    },
    {
     "name": "stderr",
     "output_type": "stream",
     "text": [
      "\r",
      " 90%|█████████ | 90/100 [1:18:50<08:43, 52.40s/it]"
     ]
    },
    {
     "name": "stdout",
     "output_type": "stream",
     "text": [
      "28/28 [==============================] - 3s 89ms/step - loss: 0.1960 - auc: 0.9751\n"
     ]
    },
    {
     "name": "stderr",
     "output_type": "stream",
     "text": [
      "\r",
      " 91%|█████████ | 91/100 [1:19:43<07:54, 52.71s/it]"
     ]
    },
    {
     "name": "stdout",
     "output_type": "stream",
     "text": [
      "28/28 [==============================] - 2s 89ms/step - loss: 0.1958 - auc: 0.9752\n"
     ]
    },
    {
     "name": "stderr",
     "output_type": "stream",
     "text": [
      "\r",
      " 92%|█████████▏| 92/100 [1:20:36<07:01, 52.63s/it]"
     ]
    },
    {
     "name": "stdout",
     "output_type": "stream",
     "text": [
      "28/28 [==============================] - 2s 89ms/step - loss: 0.1959 - auc: 0.9751\n"
     ]
    },
    {
     "name": "stderr",
     "output_type": "stream",
     "text": [
      "\r",
      " 93%|█████████▎| 93/100 [1:21:28<06:08, 52.59s/it]"
     ]
    },
    {
     "name": "stdout",
     "output_type": "stream",
     "text": [
      "28/28 [==============================] - 2s 89ms/step - loss: 0.1956 - auc: 0.9752\n"
     ]
    },
    {
     "name": "stderr",
     "output_type": "stream",
     "text": [
      "\r",
      " 94%|█████████▍| 94/100 [1:22:21<05:15, 52.64s/it]"
     ]
    },
    {
     "name": "stdout",
     "output_type": "stream",
     "text": [
      "28/28 [==============================] - 2s 89ms/step - loss: 0.1956 - auc: 0.9752\n"
     ]
    },
    {
     "name": "stderr",
     "output_type": "stream",
     "text": [
      "\r",
      " 95%|█████████▌| 95/100 [1:23:14<04:23, 52.63s/it]"
     ]
    },
    {
     "name": "stdout",
     "output_type": "stream",
     "text": [
      "28/28 [==============================] - 2s 89ms/step - loss: 0.1956 - auc: 0.9752\n"
     ]
    },
    {
     "name": "stderr",
     "output_type": "stream",
     "text": [
      "\r",
      " 96%|█████████▌| 96/100 [1:24:06<03:30, 52.57s/it]"
     ]
    },
    {
     "name": "stdout",
     "output_type": "stream",
     "text": [
      "28/28 [==============================] - 2s 89ms/step - loss: 0.1955 - auc: 0.9752\n"
     ]
    },
    {
     "name": "stderr",
     "output_type": "stream",
     "text": [
      "\r",
      " 97%|█████████▋| 97/100 [1:24:58<02:37, 52.44s/it]"
     ]
    },
    {
     "name": "stdout",
     "output_type": "stream",
     "text": [
      "28/28 [==============================] - 2s 89ms/step - loss: 0.1955 - auc: 0.9752\n"
     ]
    },
    {
     "name": "stderr",
     "output_type": "stream",
     "text": [
      "\r",
      " 98%|█████████▊| 98/100 [1:25:51<01:45, 52.67s/it]"
     ]
    },
    {
     "name": "stdout",
     "output_type": "stream",
     "text": [
      "28/28 [==============================] - 2s 89ms/step - loss: 0.1954 - auc: 0.9752\n"
     ]
    },
    {
     "name": "stderr",
     "output_type": "stream",
     "text": [
      "\r",
      " 99%|█████████▉| 99/100 [1:26:45<00:52, 52.90s/it]"
     ]
    },
    {
     "name": "stdout",
     "output_type": "stream",
     "text": [
      "28/28 [==============================] - 3s 89ms/step - loss: 0.1953 - auc: 0.9752\n"
     ]
    },
    {
     "name": "stderr",
     "output_type": "stream",
     "text": [
      "100%|██████████| 100/100 [1:27:37<00:00, 52.58s/it]\n"
     ]
    }
   ],
   "source": [
    "for epoch in tqdm.tqdm(range((num_epochs))):\n",
    "    # Generate training instances\n",
    "    user_input, item_input, labels = get_train_instances(data_dict, num_negatives, album_id_list)\n",
    "\n",
    "    # Training\n",
    "#     hist = model.fit([np.array(user_input), np.array(item_input)], #input\n",
    "#                      np.array(labels), # labels \n",
    "#                      batch_size=batch_size, nb_epoch=1, verbose=0, shuffle=True)\n",
    "                       \n",
    "    hist = model.fit([np.array(user_input), np.array(item_input)], #input\n",
    "                     np.array(labels), # labels \n",
    "                     batch_size=2**20, epochs=1, verbose=1,\n",
    "                     shuffle=True\n",
    "                    )\n",
    "\n",
    "    # Evaluation\n",
    "#     if epoch %verbose == 0:\n",
    "#         (hits, ndcgs) = evaluate_model(model, testRatings, testNegatives, topK, evaluation_threads)\n",
    "#         hr, ndcg, loss = np.array(hits).mean(), np.array(ndcgs).mean(), hist.history['loss'][0]\n",
    "#         print('Iteration %d [%.1f s]: HR = %.4f, NDCG = %.4f, loss = %.4f [%.1f s]' \n",
    "#               % (epoch,  t2-t1, hr, ndcg, loss, time()-t2))\n",
    "#         if hr > best_hr:\n",
    "#             best_hr, best_ndcg, best_iter = hr, ndcg, epoch\n",
    "#             if args.out > 0:\n",
    "#                 model.save_weights(model_out_file, overwrite=True)"
   ]
  },
  {
   "cell_type": "code",
   "execution_count": 20,
   "metadata": {
    "scrolled": false
   },
   "outputs": [],
   "source": [
    "# pred_ans = model.predict(test_model_input, batch_size=2**16)\n",
    "# print(\"test LogLoss\", round(log_loss(test[target].values, pred_ans), 4))\n",
    "# print(\"test AUC\", round(roc_auc_score(test[target].values, pred_ans), 4))"
   ]
  },
  {
   "cell_type": "code",
   "execution_count": 36,
   "metadata": {
    "scrolled": false
   },
   "outputs": [
    {
     "name": "stdout",
     "output_type": "stream",
     "text": [
      "WARNING:tensorflow:From /home/ubuntu/anaconda3/envs/tensorflow2_latest_p37/lib/python3.7/site-packages/tensorflow/python/training/tracking/tracking.py:111: Model.state_updates (from tensorflow.python.keras.engine.training) is deprecated and will be removed in a future version.\n",
      "Instructions for updating:\n",
      "This property should not be used in TensorFlow 2.0, as updates are applied automatically.\n",
      "WARNING:tensorflow:From /home/ubuntu/anaconda3/envs/tensorflow2_latest_p37/lib/python3.7/site-packages/tensorflow/python/training/tracking/tracking.py:111: Layer.updates (from tensorflow.python.keras.engine.base_layer) is deprecated and will be removed in a future version.\n",
      "Instructions for updating:\n",
      "This property should not be used in TensorFlow 2.0, as updates are applied automatically.\n",
      "INFO:tensorflow:Assets written to: ../../model/said_albumid_onlineNegative/case1_re2/100_epochs_01_negative/assets\n"
     ]
    }
   ],
   "source": [
    "filepath = '../../model/said_albumid_onlineNegative/case1_re2/{0:02d}_epochs_{1:02d}_negative'.format(num_epochs, num_negatives)\n",
    "model.save(filepath=filepath)"
   ]
  },
  {
   "cell_type": "code",
   "execution_count": null,
   "metadata": {},
   "outputs": [],
   "source": []
  },
  {
   "cell_type": "code",
   "execution_count": 36,
   "metadata": {},
   "outputs": [],
   "source": [
    "from sklearn.metrics import classification_report, confusion_matrix"
   ]
  },
  {
   "cell_type": "code",
   "execution_count": 37,
   "metadata": {},
   "outputs": [],
   "source": [
    "y_pred = pred_ans.round()"
   ]
  },
  {
   "cell_type": "code",
   "execution_count": 38,
   "metadata": {},
   "outputs": [
    {
     "name": "stdout",
     "output_type": "stream",
     "text": [
      "[[890793 511418]\n",
      " [411158 991323]]\n"
     ]
    }
   ],
   "source": [
    "conf = confusion_matrix(test[target], y_pred)\n",
    "print(conf)"
   ]
  },
  {
   "cell_type": "code",
   "execution_count": 39,
   "metadata": {},
   "outputs": [
    {
     "name": "stdout",
     "output_type": "stream",
     "text": [
      "              precision    recall  f1-score   support\n",
      "\n",
      "           0       0.68      0.64      0.66   1402211\n",
      "           1       0.66      0.71      0.68   1402481\n",
      "\n",
      "    accuracy                           0.67   2804692\n",
      "   macro avg       0.67      0.67      0.67   2804692\n",
      "weighted avg       0.67      0.67      0.67   2804692\n",
      "\n"
     ]
    }
   ],
   "source": [
    "report = classification_report(test[target], y_pred, target_names=['0', '1'])\n",
    "report_dict = classification_report(test[target], y_pred, target_names=['0', '1'], output_dict = True)\n",
    "print(report)"
   ]
  },
  {
   "cell_type": "code",
   "execution_count": 79,
   "metadata": {},
   "outputs": [],
   "source": [
    "user_origin = int(lbe_dict['sa_id'].transform(['500150964610']))"
   ]
  },
  {
   "cell_type": "code",
   "execution_count": 82,
   "metadata": {},
   "outputs": [],
   "source": [
    "user_col = ['sa_id', 'view_no', 'buy_tot']\n",
    "cont_col = list(data.columns.difference(set(user_col)))"
   ]
  },
  {
   "cell_type": "code",
   "execution_count": 83,
   "metadata": {},
   "outputs": [],
   "source": [
    "user_tab = data[user_col]\n",
    "cont_tab = data[cont_col]"
   ]
  },
  {
   "cell_type": "code",
   "execution_count": 84,
   "metadata": {},
   "outputs": [],
   "source": [
    "user_uni_tab = user_tab.loc[list(user_tab['sa_id'].drop_duplicates().index)]\n",
    "cont_uni_tab = cont_tab.loc[list(cont_tab['album_id'].drop_duplicates().index)]"
   ]
  },
  {
   "cell_type": "code",
   "execution_count": 85,
   "metadata": {},
   "outputs": [
    {
     "data": {
      "text/html": [
       "<div>\n",
       "<style scoped>\n",
       "    .dataframe tbody tr th:only-of-type {\n",
       "        vertical-align: middle;\n",
       "    }\n",
       "\n",
       "    .dataframe tbody tr th {\n",
       "        vertical-align: top;\n",
       "    }\n",
       "\n",
       "    .dataframe thead th {\n",
       "        text-align: right;\n",
       "    }\n",
       "</style>\n",
       "<table border=\"1\" class=\"dataframe\">\n",
       "  <thead>\n",
       "    <tr style=\"text-align: right;\">\n",
       "      <th></th>\n",
       "      <th>sa_id</th>\n",
       "      <th>view_no</th>\n",
       "      <th>buy_tot</th>\n",
       "    </tr>\n",
       "  </thead>\n",
       "  <tbody>\n",
       "    <tr>\n",
       "      <th>4156478</th>\n",
       "      <td>859288</td>\n",
       "      <td>1</td>\n",
       "      <td>0.004785</td>\n",
       "    </tr>\n",
       "  </tbody>\n",
       "</table>\n",
       "</div>"
      ],
      "text/plain": [
       "          sa_id  view_no   buy_tot\n",
       "4156478  859288        1  0.004785"
      ]
     },
     "execution_count": 85,
     "metadata": {},
     "output_type": "execute_result"
    }
   ],
   "source": [
    "user_uni_tab[user_uni_tab['sa_id'] == user_origin]"
   ]
  },
  {
   "cell_type": "code",
   "execution_count": 86,
   "metadata": {},
   "outputs": [],
   "source": [
    "test_tab = cont_uni_tab.copy()"
   ]
  },
  {
   "cell_type": "code",
   "execution_count": 87,
   "metadata": {
    "scrolled": true
   },
   "outputs": [],
   "source": [
    "for feat in user_col:\n",
    "    test_tab[feat] = user_uni_tab[user_uni_tab['sa_id'] == 700773][feat].values[0]"
   ]
  },
  {
   "cell_type": "code",
   "execution_count": 88,
   "metadata": {},
   "outputs": [],
   "source": [
    "f_test_model_input = {name:test_tab[name] for name in feature_names}"
   ]
  },
  {
   "cell_type": "code",
   "execution_count": 89,
   "metadata": {
    "scrolled": true
   },
   "outputs": [
    {
     "data": {
      "text/html": [
       "<div>\n",
       "<style scoped>\n",
       "    .dataframe tbody tr th:only-of-type {\n",
       "        vertical-align: middle;\n",
       "    }\n",
       "\n",
       "    .dataframe tbody tr th {\n",
       "        vertical-align: top;\n",
       "    }\n",
       "\n",
       "    .dataframe thead th {\n",
       "        text-align: right;\n",
       "    }\n",
       "</style>\n",
       "<table border=\"1\" class=\"dataframe\">\n",
       "  <thead>\n",
       "    <tr style=\"text-align: right;\">\n",
       "      <th></th>\n",
       "      <th>0</th>\n",
       "      <th>1</th>\n",
       "      <th>10</th>\n",
       "      <th>11</th>\n",
       "      <th>12</th>\n",
       "      <th>13</th>\n",
       "      <th>14</th>\n",
       "      <th>15</th>\n",
       "      <th>16</th>\n",
       "      <th>17</th>\n",
       "      <th>18</th>\n",
       "      <th>19</th>\n",
       "      <th>2</th>\n",
       "      <th>20</th>\n",
       "      <th>21</th>\n",
       "      <th>22</th>\n",
       "      <th>23</th>\n",
       "      <th>24</th>\n",
       "      <th>25</th>\n",
       "      <th>26</th>\n",
       "      <th>27</th>\n",
       "      <th>28</th>\n",
       "      <th>29</th>\n",
       "      <th>3</th>\n",
       "      <th>30</th>\n",
       "      <th>31</th>\n",
       "      <th>32</th>\n",
       "      <th>33</th>\n",
       "      <th>34</th>\n",
       "      <th>35</th>\n",
       "      <th>36</th>\n",
       "      <th>37</th>\n",
       "      <th>38</th>\n",
       "      <th>39</th>\n",
       "      <th>4</th>\n",
       "      <th>40</th>\n",
       "      <th>41</th>\n",
       "      <th>42</th>\n",
       "      <th>43</th>\n",
       "      <th>44</th>\n",
       "      <th>45</th>\n",
       "      <th>46</th>\n",
       "      <th>47</th>\n",
       "      <th>48</th>\n",
       "      <th>49</th>\n",
       "      <th>5</th>\n",
       "      <th>50</th>\n",
       "      <th>51</th>\n",
       "      <th>52</th>\n",
       "      <th>53</th>\n",
       "      <th>54</th>\n",
       "      <th>6</th>\n",
       "      <th>7</th>\n",
       "      <th>8</th>\n",
       "      <th>9</th>\n",
       "      <th>album_id</th>\n",
       "      <th>buy_history_price</th>\n",
       "      <th>i30_meta_price</th>\n",
       "      <th>label</th>\n",
       "      <th>movie_meta_price</th>\n",
       "      <th>pr_info</th>\n",
       "      <th>release_date</th>\n",
       "      <th>run_time</th>\n",
       "      <th>sa_id</th>\n",
       "      <th>view_no</th>\n",
       "      <th>buy_tot</th>\n",
       "    </tr>\n",
       "  </thead>\n",
       "  <tbody>\n",
       "    <tr>\n",
       "      <th>0</th>\n",
       "      <td>0</td>\n",
       "      <td>0</td>\n",
       "      <td>0</td>\n",
       "      <td>0</td>\n",
       "      <td>1</td>\n",
       "      <td>0</td>\n",
       "      <td>0</td>\n",
       "      <td>1</td>\n",
       "      <td>0</td>\n",
       "      <td>0</td>\n",
       "      <td>0</td>\n",
       "      <td>0</td>\n",
       "      <td>0</td>\n",
       "      <td>0</td>\n",
       "      <td>0</td>\n",
       "      <td>0</td>\n",
       "      <td>0</td>\n",
       "      <td>0</td>\n",
       "      <td>0</td>\n",
       "      <td>0</td>\n",
       "      <td>0</td>\n",
       "      <td>0</td>\n",
       "      <td>0</td>\n",
       "      <td>0</td>\n",
       "      <td>0</td>\n",
       "      <td>0</td>\n",
       "      <td>0</td>\n",
       "      <td>0</td>\n",
       "      <td>0</td>\n",
       "      <td>0</td>\n",
       "      <td>0</td>\n",
       "      <td>0</td>\n",
       "      <td>0</td>\n",
       "      <td>0</td>\n",
       "      <td>0</td>\n",
       "      <td>0</td>\n",
       "      <td>0</td>\n",
       "      <td>0</td>\n",
       "      <td>0</td>\n",
       "      <td>0</td>\n",
       "      <td>0</td>\n",
       "      <td>0</td>\n",
       "      <td>0</td>\n",
       "      <td>0</td>\n",
       "      <td>0</td>\n",
       "      <td>0</td>\n",
       "      <td>0</td>\n",
       "      <td>1</td>\n",
       "      <td>0</td>\n",
       "      <td>0</td>\n",
       "      <td>0</td>\n",
       "      <td>0</td>\n",
       "      <td>0</td>\n",
       "      <td>0</td>\n",
       "      <td>0</td>\n",
       "      <td>9174</td>\n",
       "      <td>0.054945</td>\n",
       "      <td>0.051020</td>\n",
       "      <td>1</td>\n",
       "      <td>0.051020</td>\n",
       "      <td>3</td>\n",
       "      <td>0.988236</td>\n",
       "      <td>0.281167</td>\n",
       "      <td>700773</td>\n",
       "      <td>0</td>\n",
       "      <td>0.0</td>\n",
       "    </tr>\n",
       "    <tr>\n",
       "      <th>30500</th>\n",
       "      <td>0</td>\n",
       "      <td>0</td>\n",
       "      <td>0</td>\n",
       "      <td>0</td>\n",
       "      <td>1</td>\n",
       "      <td>0</td>\n",
       "      <td>0</td>\n",
       "      <td>1</td>\n",
       "      <td>0</td>\n",
       "      <td>0</td>\n",
       "      <td>0</td>\n",
       "      <td>0</td>\n",
       "      <td>0</td>\n",
       "      <td>0</td>\n",
       "      <td>0</td>\n",
       "      <td>0</td>\n",
       "      <td>0</td>\n",
       "      <td>0</td>\n",
       "      <td>0</td>\n",
       "      <td>0</td>\n",
       "      <td>0</td>\n",
       "      <td>0</td>\n",
       "      <td>0</td>\n",
       "      <td>0</td>\n",
       "      <td>0</td>\n",
       "      <td>0</td>\n",
       "      <td>0</td>\n",
       "      <td>0</td>\n",
       "      <td>0</td>\n",
       "      <td>0</td>\n",
       "      <td>0</td>\n",
       "      <td>0</td>\n",
       "      <td>0</td>\n",
       "      <td>0</td>\n",
       "      <td>0</td>\n",
       "      <td>0</td>\n",
       "      <td>0</td>\n",
       "      <td>0</td>\n",
       "      <td>0</td>\n",
       "      <td>0</td>\n",
       "      <td>0</td>\n",
       "      <td>0</td>\n",
       "      <td>0</td>\n",
       "      <td>0</td>\n",
       "      <td>0</td>\n",
       "      <td>0</td>\n",
       "      <td>0</td>\n",
       "      <td>1</td>\n",
       "      <td>0</td>\n",
       "      <td>0</td>\n",
       "      <td>0</td>\n",
       "      <td>0</td>\n",
       "      <td>0</td>\n",
       "      <td>0</td>\n",
       "      <td>0</td>\n",
       "      <td>11779</td>\n",
       "      <td>0.283516</td>\n",
       "      <td>0.202041</td>\n",
       "      <td>0</td>\n",
       "      <td>0.202041</td>\n",
       "      <td>2</td>\n",
       "      <td>0.999764</td>\n",
       "      <td>0.305040</td>\n",
       "      <td>700773</td>\n",
       "      <td>0</td>\n",
       "      <td>0.0</td>\n",
       "    </tr>\n",
       "    <tr>\n",
       "      <th>31873</th>\n",
       "      <td>0</td>\n",
       "      <td>0</td>\n",
       "      <td>1</td>\n",
       "      <td>0</td>\n",
       "      <td>0</td>\n",
       "      <td>0</td>\n",
       "      <td>0</td>\n",
       "      <td>1</td>\n",
       "      <td>0</td>\n",
       "      <td>0</td>\n",
       "      <td>0</td>\n",
       "      <td>0</td>\n",
       "      <td>0</td>\n",
       "      <td>0</td>\n",
       "      <td>0</td>\n",
       "      <td>0</td>\n",
       "      <td>0</td>\n",
       "      <td>0</td>\n",
       "      <td>0</td>\n",
       "      <td>0</td>\n",
       "      <td>0</td>\n",
       "      <td>0</td>\n",
       "      <td>0</td>\n",
       "      <td>0</td>\n",
       "      <td>0</td>\n",
       "      <td>0</td>\n",
       "      <td>0</td>\n",
       "      <td>0</td>\n",
       "      <td>0</td>\n",
       "      <td>0</td>\n",
       "      <td>0</td>\n",
       "      <td>0</td>\n",
       "      <td>0</td>\n",
       "      <td>0</td>\n",
       "      <td>0</td>\n",
       "      <td>0</td>\n",
       "      <td>0</td>\n",
       "      <td>0</td>\n",
       "      <td>0</td>\n",
       "      <td>0</td>\n",
       "      <td>0</td>\n",
       "      <td>0</td>\n",
       "      <td>0</td>\n",
       "      <td>1</td>\n",
       "      <td>0</td>\n",
       "      <td>0</td>\n",
       "      <td>0</td>\n",
       "      <td>0</td>\n",
       "      <td>0</td>\n",
       "      <td>0</td>\n",
       "      <td>0</td>\n",
       "      <td>0</td>\n",
       "      <td>0</td>\n",
       "      <td>0</td>\n",
       "      <td>0</td>\n",
       "      <td>4715</td>\n",
       "      <td>0.030769</td>\n",
       "      <td>0.028571</td>\n",
       "      <td>0</td>\n",
       "      <td>0.028571</td>\n",
       "      <td>4</td>\n",
       "      <td>0.952768</td>\n",
       "      <td>0.251989</td>\n",
       "      <td>700773</td>\n",
       "      <td>0</td>\n",
       "      <td>0.0</td>\n",
       "    </tr>\n",
       "    <tr>\n",
       "      <th>33439</th>\n",
       "      <td>0</td>\n",
       "      <td>0</td>\n",
       "      <td>0</td>\n",
       "      <td>0</td>\n",
       "      <td>1</td>\n",
       "      <td>0</td>\n",
       "      <td>0</td>\n",
       "      <td>1</td>\n",
       "      <td>0</td>\n",
       "      <td>0</td>\n",
       "      <td>0</td>\n",
       "      <td>0</td>\n",
       "      <td>0</td>\n",
       "      <td>0</td>\n",
       "      <td>0</td>\n",
       "      <td>0</td>\n",
       "      <td>0</td>\n",
       "      <td>0</td>\n",
       "      <td>0</td>\n",
       "      <td>0</td>\n",
       "      <td>0</td>\n",
       "      <td>0</td>\n",
       "      <td>0</td>\n",
       "      <td>0</td>\n",
       "      <td>0</td>\n",
       "      <td>0</td>\n",
       "      <td>0</td>\n",
       "      <td>0</td>\n",
       "      <td>0</td>\n",
       "      <td>0</td>\n",
       "      <td>0</td>\n",
       "      <td>0</td>\n",
       "      <td>0</td>\n",
       "      <td>0</td>\n",
       "      <td>0</td>\n",
       "      <td>0</td>\n",
       "      <td>0</td>\n",
       "      <td>0</td>\n",
       "      <td>0</td>\n",
       "      <td>0</td>\n",
       "      <td>0</td>\n",
       "      <td>0</td>\n",
       "      <td>0</td>\n",
       "      <td>0</td>\n",
       "      <td>0</td>\n",
       "      <td>0</td>\n",
       "      <td>0</td>\n",
       "      <td>1</td>\n",
       "      <td>0</td>\n",
       "      <td>0</td>\n",
       "      <td>0</td>\n",
       "      <td>0</td>\n",
       "      <td>0</td>\n",
       "      <td>0</td>\n",
       "      <td>0</td>\n",
       "      <td>11453</td>\n",
       "      <td>0.000000</td>\n",
       "      <td>0.000000</td>\n",
       "      <td>1</td>\n",
       "      <td>0.000000</td>\n",
       "      <td>3</td>\n",
       "      <td>0.999290</td>\n",
       "      <td>0.286472</td>\n",
       "      <td>700773</td>\n",
       "      <td>0</td>\n",
       "      <td>0.0</td>\n",
       "    </tr>\n",
       "    <tr>\n",
       "      <th>88576</th>\n",
       "      <td>0</td>\n",
       "      <td>0</td>\n",
       "      <td>0</td>\n",
       "      <td>0</td>\n",
       "      <td>0</td>\n",
       "      <td>0</td>\n",
       "      <td>0</td>\n",
       "      <td>1</td>\n",
       "      <td>0</td>\n",
       "      <td>0</td>\n",
       "      <td>0</td>\n",
       "      <td>0</td>\n",
       "      <td>0</td>\n",
       "      <td>0</td>\n",
       "      <td>0</td>\n",
       "      <td>0</td>\n",
       "      <td>0</td>\n",
       "      <td>0</td>\n",
       "      <td>0</td>\n",
       "      <td>0</td>\n",
       "      <td>0</td>\n",
       "      <td>0</td>\n",
       "      <td>0</td>\n",
       "      <td>0</td>\n",
       "      <td>0</td>\n",
       "      <td>0</td>\n",
       "      <td>0</td>\n",
       "      <td>0</td>\n",
       "      <td>0</td>\n",
       "      <td>0</td>\n",
       "      <td>0</td>\n",
       "      <td>0</td>\n",
       "      <td>0</td>\n",
       "      <td>0</td>\n",
       "      <td>0</td>\n",
       "      <td>0</td>\n",
       "      <td>0</td>\n",
       "      <td>0</td>\n",
       "      <td>1</td>\n",
       "      <td>0</td>\n",
       "      <td>0</td>\n",
       "      <td>0</td>\n",
       "      <td>0</td>\n",
       "      <td>0</td>\n",
       "      <td>0</td>\n",
       "      <td>0</td>\n",
       "      <td>0</td>\n",
       "      <td>0</td>\n",
       "      <td>0</td>\n",
       "      <td>0</td>\n",
       "      <td>0</td>\n",
       "      <td>0</td>\n",
       "      <td>0</td>\n",
       "      <td>1</td>\n",
       "      <td>0</td>\n",
       "      <td>3008</td>\n",
       "      <td>0.030769</td>\n",
       "      <td>0.028571</td>\n",
       "      <td>0</td>\n",
       "      <td>0.028571</td>\n",
       "      <td>4</td>\n",
       "      <td>0.940414</td>\n",
       "      <td>0.246684</td>\n",
       "      <td>700773</td>\n",
       "      <td>0</td>\n",
       "      <td>0.0</td>\n",
       "    </tr>\n",
       "    <tr>\n",
       "      <th>...</th>\n",
       "      <td>...</td>\n",
       "      <td>...</td>\n",
       "      <td>...</td>\n",
       "      <td>...</td>\n",
       "      <td>...</td>\n",
       "      <td>...</td>\n",
       "      <td>...</td>\n",
       "      <td>...</td>\n",
       "      <td>...</td>\n",
       "      <td>...</td>\n",
       "      <td>...</td>\n",
       "      <td>...</td>\n",
       "      <td>...</td>\n",
       "      <td>...</td>\n",
       "      <td>...</td>\n",
       "      <td>...</td>\n",
       "      <td>...</td>\n",
       "      <td>...</td>\n",
       "      <td>...</td>\n",
       "      <td>...</td>\n",
       "      <td>...</td>\n",
       "      <td>...</td>\n",
       "      <td>...</td>\n",
       "      <td>...</td>\n",
       "      <td>...</td>\n",
       "      <td>...</td>\n",
       "      <td>...</td>\n",
       "      <td>...</td>\n",
       "      <td>...</td>\n",
       "      <td>...</td>\n",
       "      <td>...</td>\n",
       "      <td>...</td>\n",
       "      <td>...</td>\n",
       "      <td>...</td>\n",
       "      <td>...</td>\n",
       "      <td>...</td>\n",
       "      <td>...</td>\n",
       "      <td>...</td>\n",
       "      <td>...</td>\n",
       "      <td>...</td>\n",
       "      <td>...</td>\n",
       "      <td>...</td>\n",
       "      <td>...</td>\n",
       "      <td>...</td>\n",
       "      <td>...</td>\n",
       "      <td>...</td>\n",
       "      <td>...</td>\n",
       "      <td>...</td>\n",
       "      <td>...</td>\n",
       "      <td>...</td>\n",
       "      <td>...</td>\n",
       "      <td>...</td>\n",
       "      <td>...</td>\n",
       "      <td>...</td>\n",
       "      <td>...</td>\n",
       "      <td>...</td>\n",
       "      <td>...</td>\n",
       "      <td>...</td>\n",
       "      <td>...</td>\n",
       "      <td>...</td>\n",
       "      <td>...</td>\n",
       "      <td>...</td>\n",
       "      <td>...</td>\n",
       "      <td>...</td>\n",
       "      <td>...</td>\n",
       "      <td>...</td>\n",
       "    </tr>\n",
       "    <tr>\n",
       "      <th>28940999</th>\n",
       "      <td>0</td>\n",
       "      <td>0</td>\n",
       "      <td>0</td>\n",
       "      <td>0</td>\n",
       "      <td>0</td>\n",
       "      <td>1</td>\n",
       "      <td>0</td>\n",
       "      <td>1</td>\n",
       "      <td>0</td>\n",
       "      <td>0</td>\n",
       "      <td>0</td>\n",
       "      <td>0</td>\n",
       "      <td>0</td>\n",
       "      <td>0</td>\n",
       "      <td>0</td>\n",
       "      <td>0</td>\n",
       "      <td>0</td>\n",
       "      <td>0</td>\n",
       "      <td>0</td>\n",
       "      <td>0</td>\n",
       "      <td>0</td>\n",
       "      <td>0</td>\n",
       "      <td>0</td>\n",
       "      <td>0</td>\n",
       "      <td>0</td>\n",
       "      <td>0</td>\n",
       "      <td>0</td>\n",
       "      <td>0</td>\n",
       "      <td>0</td>\n",
       "      <td>0</td>\n",
       "      <td>0</td>\n",
       "      <td>0</td>\n",
       "      <td>0</td>\n",
       "      <td>0</td>\n",
       "      <td>0</td>\n",
       "      <td>0</td>\n",
       "      <td>0</td>\n",
       "      <td>0</td>\n",
       "      <td>0</td>\n",
       "      <td>0</td>\n",
       "      <td>0</td>\n",
       "      <td>0</td>\n",
       "      <td>0</td>\n",
       "      <td>0</td>\n",
       "      <td>0</td>\n",
       "      <td>0</td>\n",
       "      <td>0</td>\n",
       "      <td>0</td>\n",
       "      <td>0</td>\n",
       "      <td>1</td>\n",
       "      <td>0</td>\n",
       "      <td>0</td>\n",
       "      <td>0</td>\n",
       "      <td>0</td>\n",
       "      <td>0</td>\n",
       "      <td>187</td>\n",
       "      <td>0.000000</td>\n",
       "      <td>0.028571</td>\n",
       "      <td>0</td>\n",
       "      <td>0.028571</td>\n",
       "      <td>4</td>\n",
       "      <td>0.893786</td>\n",
       "      <td>0.358090</td>\n",
       "      <td>700773</td>\n",
       "      <td>0</td>\n",
       "      <td>0.0</td>\n",
       "    </tr>\n",
       "    <tr>\n",
       "      <th>28942737</th>\n",
       "      <td>0</td>\n",
       "      <td>0</td>\n",
       "      <td>0</td>\n",
       "      <td>0</td>\n",
       "      <td>1</td>\n",
       "      <td>0</td>\n",
       "      <td>0</td>\n",
       "      <td>1</td>\n",
       "      <td>0</td>\n",
       "      <td>0</td>\n",
       "      <td>0</td>\n",
       "      <td>0</td>\n",
       "      <td>0</td>\n",
       "      <td>0</td>\n",
       "      <td>0</td>\n",
       "      <td>0</td>\n",
       "      <td>0</td>\n",
       "      <td>0</td>\n",
       "      <td>0</td>\n",
       "      <td>0</td>\n",
       "      <td>0</td>\n",
       "      <td>0</td>\n",
       "      <td>0</td>\n",
       "      <td>0</td>\n",
       "      <td>0</td>\n",
       "      <td>0</td>\n",
       "      <td>0</td>\n",
       "      <td>0</td>\n",
       "      <td>0</td>\n",
       "      <td>0</td>\n",
       "      <td>0</td>\n",
       "      <td>0</td>\n",
       "      <td>0</td>\n",
       "      <td>0</td>\n",
       "      <td>0</td>\n",
       "      <td>0</td>\n",
       "      <td>0</td>\n",
       "      <td>0</td>\n",
       "      <td>0</td>\n",
       "      <td>0</td>\n",
       "      <td>0</td>\n",
       "      <td>0</td>\n",
       "      <td>0</td>\n",
       "      <td>0</td>\n",
       "      <td>0</td>\n",
       "      <td>0</td>\n",
       "      <td>0</td>\n",
       "      <td>1</td>\n",
       "      <td>0</td>\n",
       "      <td>0</td>\n",
       "      <td>0</td>\n",
       "      <td>0</td>\n",
       "      <td>0</td>\n",
       "      <td>0</td>\n",
       "      <td>0</td>\n",
       "      <td>7671</td>\n",
       "      <td>0.228571</td>\n",
       "      <td>0.365306</td>\n",
       "      <td>0</td>\n",
       "      <td>0.365306</td>\n",
       "      <td>2</td>\n",
       "      <td>0.976494</td>\n",
       "      <td>0.352785</td>\n",
       "      <td>700773</td>\n",
       "      <td>0</td>\n",
       "      <td>0.0</td>\n",
       "    </tr>\n",
       "    <tr>\n",
       "      <th>28944348</th>\n",
       "      <td>0</td>\n",
       "      <td>0</td>\n",
       "      <td>0</td>\n",
       "      <td>0</td>\n",
       "      <td>0</td>\n",
       "      <td>1</td>\n",
       "      <td>0</td>\n",
       "      <td>1</td>\n",
       "      <td>0</td>\n",
       "      <td>0</td>\n",
       "      <td>0</td>\n",
       "      <td>0</td>\n",
       "      <td>0</td>\n",
       "      <td>0</td>\n",
       "      <td>0</td>\n",
       "      <td>0</td>\n",
       "      <td>0</td>\n",
       "      <td>0</td>\n",
       "      <td>0</td>\n",
       "      <td>0</td>\n",
       "      <td>0</td>\n",
       "      <td>0</td>\n",
       "      <td>0</td>\n",
       "      <td>0</td>\n",
       "      <td>0</td>\n",
       "      <td>0</td>\n",
       "      <td>0</td>\n",
       "      <td>0</td>\n",
       "      <td>0</td>\n",
       "      <td>0</td>\n",
       "      <td>0</td>\n",
       "      <td>0</td>\n",
       "      <td>0</td>\n",
       "      <td>0</td>\n",
       "      <td>0</td>\n",
       "      <td>0</td>\n",
       "      <td>0</td>\n",
       "      <td>0</td>\n",
       "      <td>0</td>\n",
       "      <td>0</td>\n",
       "      <td>0</td>\n",
       "      <td>0</td>\n",
       "      <td>0</td>\n",
       "      <td>0</td>\n",
       "      <td>0</td>\n",
       "      <td>0</td>\n",
       "      <td>0</td>\n",
       "      <td>0</td>\n",
       "      <td>0</td>\n",
       "      <td>1</td>\n",
       "      <td>0</td>\n",
       "      <td>0</td>\n",
       "      <td>0</td>\n",
       "      <td>0</td>\n",
       "      <td>0</td>\n",
       "      <td>2639</td>\n",
       "      <td>0.000000</td>\n",
       "      <td>0.028571</td>\n",
       "      <td>0</td>\n",
       "      <td>0.028571</td>\n",
       "      <td>2</td>\n",
       "      <td>0.763913</td>\n",
       "      <td>0.294430</td>\n",
       "      <td>700773</td>\n",
       "      <td>0</td>\n",
       "      <td>0.0</td>\n",
       "    </tr>\n",
       "    <tr>\n",
       "      <th>28945629</th>\n",
       "      <td>0</td>\n",
       "      <td>0</td>\n",
       "      <td>0</td>\n",
       "      <td>0</td>\n",
       "      <td>0</td>\n",
       "      <td>0</td>\n",
       "      <td>0</td>\n",
       "      <td>1</td>\n",
       "      <td>0</td>\n",
       "      <td>0</td>\n",
       "      <td>0</td>\n",
       "      <td>0</td>\n",
       "      <td>0</td>\n",
       "      <td>0</td>\n",
       "      <td>0</td>\n",
       "      <td>0</td>\n",
       "      <td>0</td>\n",
       "      <td>0</td>\n",
       "      <td>0</td>\n",
       "      <td>0</td>\n",
       "      <td>0</td>\n",
       "      <td>0</td>\n",
       "      <td>0</td>\n",
       "      <td>0</td>\n",
       "      <td>0</td>\n",
       "      <td>0</td>\n",
       "      <td>0</td>\n",
       "      <td>0</td>\n",
       "      <td>0</td>\n",
       "      <td>0</td>\n",
       "      <td>0</td>\n",
       "      <td>0</td>\n",
       "      <td>0</td>\n",
       "      <td>0</td>\n",
       "      <td>0</td>\n",
       "      <td>0</td>\n",
       "      <td>0</td>\n",
       "      <td>0</td>\n",
       "      <td>1</td>\n",
       "      <td>0</td>\n",
       "      <td>0</td>\n",
       "      <td>0</td>\n",
       "      <td>0</td>\n",
       "      <td>0</td>\n",
       "      <td>0</td>\n",
       "      <td>0</td>\n",
       "      <td>0</td>\n",
       "      <td>0</td>\n",
       "      <td>0</td>\n",
       "      <td>0</td>\n",
       "      <td>0</td>\n",
       "      <td>0</td>\n",
       "      <td>0</td>\n",
       "      <td>1</td>\n",
       "      <td>0</td>\n",
       "      <td>5100</td>\n",
       "      <td>0.000000</td>\n",
       "      <td>0.028571</td>\n",
       "      <td>0</td>\n",
       "      <td>0.028571</td>\n",
       "      <td>2</td>\n",
       "      <td>0.953127</td>\n",
       "      <td>0.257294</td>\n",
       "      <td>700773</td>\n",
       "      <td>0</td>\n",
       "      <td>0.0</td>\n",
       "    </tr>\n",
       "    <tr>\n",
       "      <th>28946963</th>\n",
       "      <td>0</td>\n",
       "      <td>0</td>\n",
       "      <td>0</td>\n",
       "      <td>0</td>\n",
       "      <td>1</td>\n",
       "      <td>0</td>\n",
       "      <td>0</td>\n",
       "      <td>1</td>\n",
       "      <td>0</td>\n",
       "      <td>0</td>\n",
       "      <td>0</td>\n",
       "      <td>0</td>\n",
       "      <td>0</td>\n",
       "      <td>0</td>\n",
       "      <td>0</td>\n",
       "      <td>0</td>\n",
       "      <td>0</td>\n",
       "      <td>0</td>\n",
       "      <td>0</td>\n",
       "      <td>0</td>\n",
       "      <td>0</td>\n",
       "      <td>0</td>\n",
       "      <td>0</td>\n",
       "      <td>0</td>\n",
       "      <td>0</td>\n",
       "      <td>0</td>\n",
       "      <td>0</td>\n",
       "      <td>0</td>\n",
       "      <td>0</td>\n",
       "      <td>0</td>\n",
       "      <td>0</td>\n",
       "      <td>0</td>\n",
       "      <td>0</td>\n",
       "      <td>0</td>\n",
       "      <td>0</td>\n",
       "      <td>0</td>\n",
       "      <td>0</td>\n",
       "      <td>0</td>\n",
       "      <td>0</td>\n",
       "      <td>0</td>\n",
       "      <td>0</td>\n",
       "      <td>0</td>\n",
       "      <td>0</td>\n",
       "      <td>0</td>\n",
       "      <td>0</td>\n",
       "      <td>0</td>\n",
       "      <td>0</td>\n",
       "      <td>1</td>\n",
       "      <td>0</td>\n",
       "      <td>0</td>\n",
       "      <td>0</td>\n",
       "      <td>0</td>\n",
       "      <td>0</td>\n",
       "      <td>0</td>\n",
       "      <td>0</td>\n",
       "      <td>10065</td>\n",
       "      <td>0.164835</td>\n",
       "      <td>0.202041</td>\n",
       "      <td>0</td>\n",
       "      <td>0.202041</td>\n",
       "      <td>3</td>\n",
       "      <td>0.998944</td>\n",
       "      <td>0.315650</td>\n",
       "      <td>700773</td>\n",
       "      <td>0</td>\n",
       "      <td>0.0</td>\n",
       "    </tr>\n",
       "  </tbody>\n",
       "</table>\n",
       "<p>11892 rows × 66 columns</p>\n",
       "</div>"
      ],
      "text/plain": [
       "          0  1  10  11  12  13  14  15  16  17  18  19  2  20  21  22  23  24  \\\n",
       "0         0  0   0   0   1   0   0   1   0   0   0   0  0   0   0   0   0   0   \n",
       "30500     0  0   0   0   1   0   0   1   0   0   0   0  0   0   0   0   0   0   \n",
       "31873     0  0   1   0   0   0   0   1   0   0   0   0  0   0   0   0   0   0   \n",
       "33439     0  0   0   0   1   0   0   1   0   0   0   0  0   0   0   0   0   0   \n",
       "88576     0  0   0   0   0   0   0   1   0   0   0   0  0   0   0   0   0   0   \n",
       "...      .. ..  ..  ..  ..  ..  ..  ..  ..  ..  ..  .. ..  ..  ..  ..  ..  ..   \n",
       "28940999  0  0   0   0   0   1   0   1   0   0   0   0  0   0   0   0   0   0   \n",
       "28942737  0  0   0   0   1   0   0   1   0   0   0   0  0   0   0   0   0   0   \n",
       "28944348  0  0   0   0   0   1   0   1   0   0   0   0  0   0   0   0   0   0   \n",
       "28945629  0  0   0   0   0   0   0   1   0   0   0   0  0   0   0   0   0   0   \n",
       "28946963  0  0   0   0   1   0   0   1   0   0   0   0  0   0   0   0   0   0   \n",
       "\n",
       "          25  26  27  28  29  3  30  31  32  33  34  35  36  37  38  39  4  \\\n",
       "0          0   0   0   0   0  0   0   0   0   0   0   0   0   0   0   0  0   \n",
       "30500      0   0   0   0   0  0   0   0   0   0   0   0   0   0   0   0  0   \n",
       "31873      0   0   0   0   0  0   0   0   0   0   0   0   0   0   0   0  0   \n",
       "33439      0   0   0   0   0  0   0   0   0   0   0   0   0   0   0   0  0   \n",
       "88576      0   0   0   0   0  0   0   0   0   0   0   0   0   0   0   0  0   \n",
       "...       ..  ..  ..  ..  .. ..  ..  ..  ..  ..  ..  ..  ..  ..  ..  .. ..   \n",
       "28940999   0   0   0   0   0  0   0   0   0   0   0   0   0   0   0   0  0   \n",
       "28942737   0   0   0   0   0  0   0   0   0   0   0   0   0   0   0   0  0   \n",
       "28944348   0   0   0   0   0  0   0   0   0   0   0   0   0   0   0   0  0   \n",
       "28945629   0   0   0   0   0  0   0   0   0   0   0   0   0   0   0   0  0   \n",
       "28946963   0   0   0   0   0  0   0   0   0   0   0   0   0   0   0   0  0   \n",
       "\n",
       "          40  41  42  43  44  45  46  47  48  49  5  50  51  52  53  54  6  7  \\\n",
       "0          0   0   0   0   0   0   0   0   0   0  0   0   1   0   0   0  0  0   \n",
       "30500      0   0   0   0   0   0   0   0   0   0  0   0   1   0   0   0  0  0   \n",
       "31873      0   0   0   0   0   0   0   0   1   0  0   0   0   0   0   0  0  0   \n",
       "33439      0   0   0   0   0   0   0   0   0   0  0   0   1   0   0   0  0  0   \n",
       "88576      0   0   0   1   0   0   0   0   0   0  0   0   0   0   0   0  0  0   \n",
       "...       ..  ..  ..  ..  ..  ..  ..  ..  ..  .. ..  ..  ..  ..  ..  .. .. ..   \n",
       "28940999   0   0   0   0   0   0   0   0   0   0  0   0   0   0   1   0  0  0   \n",
       "28942737   0   0   0   0   0   0   0   0   0   0  0   0   1   0   0   0  0  0   \n",
       "28944348   0   0   0   0   0   0   0   0   0   0  0   0   0   0   1   0  0  0   \n",
       "28945629   0   0   0   1   0   0   0   0   0   0  0   0   0   0   0   0  0  0   \n",
       "28946963   0   0   0   0   0   0   0   0   0   0  0   0   1   0   0   0  0  0   \n",
       "\n",
       "          8  9  album_id  buy_history_price  i30_meta_price  label  \\\n",
       "0         0  0      9174           0.054945        0.051020      1   \n",
       "30500     0  0     11779           0.283516        0.202041      0   \n",
       "31873     0  0      4715           0.030769        0.028571      0   \n",
       "33439     0  0     11453           0.000000        0.000000      1   \n",
       "88576     1  0      3008           0.030769        0.028571      0   \n",
       "...      .. ..       ...                ...             ...    ...   \n",
       "28940999  0  0       187           0.000000        0.028571      0   \n",
       "28942737  0  0      7671           0.228571        0.365306      0   \n",
       "28944348  0  0      2639           0.000000        0.028571      0   \n",
       "28945629  1  0      5100           0.000000        0.028571      0   \n",
       "28946963  0  0     10065           0.164835        0.202041      0   \n",
       "\n",
       "          movie_meta_price  pr_info  release_date  run_time   sa_id  view_no  \\\n",
       "0                 0.051020        3      0.988236  0.281167  700773        0   \n",
       "30500             0.202041        2      0.999764  0.305040  700773        0   \n",
       "31873             0.028571        4      0.952768  0.251989  700773        0   \n",
       "33439             0.000000        3      0.999290  0.286472  700773        0   \n",
       "88576             0.028571        4      0.940414  0.246684  700773        0   \n",
       "...                    ...      ...           ...       ...     ...      ...   \n",
       "28940999          0.028571        4      0.893786  0.358090  700773        0   \n",
       "28942737          0.365306        2      0.976494  0.352785  700773        0   \n",
       "28944348          0.028571        2      0.763913  0.294430  700773        0   \n",
       "28945629          0.028571        2      0.953127  0.257294  700773        0   \n",
       "28946963          0.202041        3      0.998944  0.315650  700773        0   \n",
       "\n",
       "          buy_tot  \n",
       "0             0.0  \n",
       "30500         0.0  \n",
       "31873         0.0  \n",
       "33439         0.0  \n",
       "88576         0.0  \n",
       "...           ...  \n",
       "28940999      0.0  \n",
       "28942737      0.0  \n",
       "28944348      0.0  \n",
       "28945629      0.0  \n",
       "28946963      0.0  \n",
       "\n",
       "[11892 rows x 66 columns]"
      ]
     },
     "execution_count": 89,
     "metadata": {},
     "output_type": "execute_result"
    }
   ],
   "source": [
    "test_tab"
   ]
  },
  {
   "cell_type": "code",
   "execution_count": 90,
   "metadata": {},
   "outputs": [],
   "source": [
    "test_pred = model.predict(f_test_model_input, batch_size=2**16)"
   ]
  },
  {
   "cell_type": "code",
   "execution_count": 91,
   "metadata": {},
   "outputs": [
    {
     "data": {
      "text/plain": [
       "array([[0],\n",
       "       [0],\n",
       "       [0],\n",
       "       ...,\n",
       "       [0],\n",
       "       [0],\n",
       "       [0]])"
      ]
     },
     "execution_count": 91,
     "metadata": {},
     "output_type": "execute_result"
    }
   ],
   "source": [
    "test_pred.argsort()"
   ]
  },
  {
   "cell_type": "code",
   "execution_count": 92,
   "metadata": {},
   "outputs": [
    {
     "data": {
      "text/plain": [
       "array([1.0000000e+00, 1.5981450e-07, 1.3941394e-07, ..., 1.4417247e-07,\n",
       "       1.2442830e-07, 1.5471122e-07], dtype=float32)"
      ]
     },
     "execution_count": 92,
     "metadata": {},
     "output_type": "execute_result"
    }
   ],
   "source": [
    "np.reshape(test_pred, (-1))"
   ]
  },
  {
   "cell_type": "code",
   "execution_count": 93,
   "metadata": {},
   "outputs": [],
   "source": [
    "top10_idx = np.reshape(test_pred, (-1)).argsort()[-10:]"
   ]
  },
  {
   "cell_type": "code",
   "execution_count": 94,
   "metadata": {},
   "outputs": [
    {
     "data": {
      "text/plain": [
       "array([2524,  184,  732,  737, 1625,  745, 1553, 1527,  171,    0])"
      ]
     },
     "execution_count": 94,
     "metadata": {},
     "output_type": "execute_result"
    }
   ],
   "source": [
    "top10_idx"
   ]
  },
  {
   "cell_type": "code",
   "execution_count": 95,
   "metadata": {},
   "outputs": [
    {
     "data": {
      "text/plain": [
       "array([1.5498514e-07], dtype=float32)"
      ]
     },
     "execution_count": 95,
     "metadata": {},
     "output_type": "execute_result"
    }
   ],
   "source": [
    "test_pred[56]"
   ]
  },
  {
   "cell_type": "code",
   "execution_count": 96,
   "metadata": {},
   "outputs": [],
   "source": [
    "top10_album_idx = test_tab.iloc[top10_idx]['album_id'].values"
   ]
  },
  {
   "cell_type": "code",
   "execution_count": 97,
   "metadata": {},
   "outputs": [
    {
     "data": {
      "text/plain": [
       "array([ 5152,  1579, 11741,  9135,  2386,   670,   876,  8890,  4795,\n",
       "        9174])"
      ]
     },
     "execution_count": 97,
     "metadata": {},
     "output_type": "execute_result"
    }
   ],
   "source": [
    "top10_album_idx"
   ]
  },
  {
   "cell_type": "code",
   "execution_count": 98,
   "metadata": {},
   "outputs": [],
   "source": [
    "album_list = lbe_dict['album_id'].inverse_transform(top10_album_idx)"
   ]
  },
  {
   "cell_type": "code",
   "execution_count": 103,
   "metadata": {},
   "outputs": [
    {
     "name": "stderr",
     "output_type": "stream",
     "text": [
      "/home/ubuntu/anaconda3/envs/tensorflow2_latest_p37/lib/python3.7/site-packages/IPython/core/interactiveshell.py:3063: DtypeWarning: Columns (0,26,27,28,29,37,39) have mixed types.Specify dtype option on import or set low_memory=False.\n",
      "  interactivity=interactivity, compiler=compiler, result=result)\n"
     ]
    }
   ],
   "source": [
    "tmp = pd.read_csv('../../Data/movie_201118.csv')"
   ]
  },
  {
   "cell_type": "code",
   "execution_count": 105,
   "metadata": {},
   "outputs": [],
   "source": [
    "title = []\n",
    "\n",
    "for album in album_list:\n",
    "    title.append(tmp[tmp['album_id'] == album]['album_name'].values[0])"
   ]
  },
  {
   "cell_type": "code",
   "execution_count": 106,
   "metadata": {},
   "outputs": [
    {
     "data": {
      "text/plain": [
       "['[우리말]닥터 스트레인지',\n",
       " '미션 임파서블 3',\n",
       " '[우리말] 말레피센트 2(캐치온)',\n",
       " '82년생 김지영',\n",
       " '투모로우',\n",
       " '와일드 카드(2003)',\n",
       " '제로 다크 서티',\n",
       " '007 스펙터(캐치온)',\n",
       " '코드네임: 콜드워',\n",
       " '신의 한 수: 귀수편']"
      ]
     },
     "execution_count": 106,
     "metadata": {},
     "output_type": "execute_result"
    }
   ],
   "source": [
    "title"
   ]
  },
  {
   "cell_type": "code",
   "execution_count": 40,
   "metadata": {},
   "outputs": [],
   "source": [
    "import matplotlib.pyplot as plt"
   ]
  },
  {
   "cell_type": "code",
   "execution_count": 41,
   "metadata": {},
   "outputs": [
    {
     "data": {
      "text/plain": [
       "(array([216525., 158847., 195279., 260923., 317850., 335381., 352320.,\n",
       "        371191., 339589., 256787.]),\n",
       " array([0.00462385, 0.09534254, 0.18606122, 0.27677992, 0.36749858,\n",
       "        0.45821726, 0.54893595, 0.63965464, 0.7303733 , 0.821092  ,\n",
       "        0.9118107 ], dtype=float32),\n",
       " <a list of 10 Patch objects>)"
      ]
     },
     "execution_count": 41,
     "metadata": {},
     "output_type": "execute_result"
    },
    {
     "data": {
      "image/png": "[encoded data removed]",
      "text/plain": [
       "<Figure size 432x288 with 1 Axes>"
      ]
     },
     "metadata": {
      "needs_background": "light"
     },
     "output_type": "display_data"
    }
   ],
   "source": [
    "plt.hist(pred_ans)"
   ]
  },
  {
   "cell_type": "code",
   "execution_count": 16,
   "metadata": {},
   "outputs": [
    {
     "name": "stdout",
     "output_type": "stream",
     "text": [
      "WARNING:tensorflow:From /home/ubuntu/anaconda3/envs/tensorflow2_latest_p37/lib/python3.7/site-packages/tensorflow/python/training/tracking/tracking.py:111: Model.state_updates (from tensorflow.python.keras.engine.training) is deprecated and will be removed in a future version.\n",
      "Instructions for updating:\n",
      "This property should not be used in TensorFlow 2.0, as updates are applied automatically.\n",
      "WARNING:tensorflow:From /home/ubuntu/anaconda3/envs/tensorflow2_latest_p37/lib/python3.7/site-packages/tensorflow/python/training/tracking/tracking.py:111: Layer.updates (from tensorflow.python.keras.engine.base_layer) is deprecated and will be removed in a future version.\n",
      "Instructions for updating:\n",
      "This property should not be used in TensorFlow 2.0, as updates are applied automatically.\n",
      "INFO:tensorflow:Assets written to: ./model/201120/assets\n"
     ]
    }
   ],
   "source": [
    "model.save(filepath='./model/201120/')"
   ]
  },
  {
   "cell_type": "code",
   "execution_count": null,
   "metadata": {},
   "outputs": [],
   "source": []
  },
  {
   "cell_type": "code",
   "execution_count": null,
   "metadata": {},
   "outputs": [],
   "source": []
  },
  {
   "cell_type": "code",
   "execution_count": 107,
   "metadata": {},
   "outputs": [
    {
     "data": {
      "text/html": [
       "<div>\n",
       "<style scoped>\n",
       "    .dataframe tbody tr th:only-of-type {\n",
       "        vertical-align: middle;\n",
       "    }\n",
       "\n",
       "    .dataframe tbody tr th {\n",
       "        vertical-align: top;\n",
       "    }\n",
       "\n",
       "    .dataframe thead th {\n",
       "        text-align: right;\n",
       "    }\n",
       "</style>\n",
       "<table border=\"1\" class=\"dataframe\">\n",
       "  <thead>\n",
       "    <tr style=\"text-align: right;\">\n",
       "      <th></th>\n",
       "      <th>sa_id</th>\n",
       "      <th>album_id</th>\n",
       "      <th>label</th>\n",
       "      <th>view_no</th>\n",
       "      <th>buy_tot</th>\n",
       "      <th>buy_history_price</th>\n",
       "      <th>0</th>\n",
       "      <th>1</th>\n",
       "      <th>2</th>\n",
       "      <th>3</th>\n",
       "      <th>4</th>\n",
       "      <th>5</th>\n",
       "      <th>6</th>\n",
       "      <th>7</th>\n",
       "      <th>8</th>\n",
       "      <th>9</th>\n",
       "      <th>10</th>\n",
       "      <th>11</th>\n",
       "      <th>12</th>\n",
       "      <th>13</th>\n",
       "      <th>14</th>\n",
       "      <th>15</th>\n",
       "      <th>16</th>\n",
       "      <th>17</th>\n",
       "      <th>18</th>\n",
       "      <th>19</th>\n",
       "      <th>20</th>\n",
       "      <th>21</th>\n",
       "      <th>22</th>\n",
       "      <th>23</th>\n",
       "      <th>24</th>\n",
       "      <th>25</th>\n",
       "      <th>26</th>\n",
       "      <th>27</th>\n",
       "      <th>28</th>\n",
       "      <th>29</th>\n",
       "      <th>30</th>\n",
       "      <th>31</th>\n",
       "      <th>32</th>\n",
       "      <th>33</th>\n",
       "      <th>34</th>\n",
       "      <th>35</th>\n",
       "      <th>36</th>\n",
       "      <th>37</th>\n",
       "      <th>38</th>\n",
       "      <th>39</th>\n",
       "      <th>40</th>\n",
       "      <th>41</th>\n",
       "      <th>42</th>\n",
       "      <th>43</th>\n",
       "      <th>44</th>\n",
       "      <th>45</th>\n",
       "      <th>46</th>\n",
       "      <th>47</th>\n",
       "      <th>48</th>\n",
       "      <th>49</th>\n",
       "      <th>50</th>\n",
       "      <th>51</th>\n",
       "      <th>52</th>\n",
       "      <th>53</th>\n",
       "      <th>54</th>\n",
       "      <th>i30_meta_price</th>\n",
       "      <th>movie_meta_price</th>\n",
       "      <th>pr_info</th>\n",
       "      <th>release_date</th>\n",
       "      <th>run_time</th>\n",
       "    </tr>\n",
       "  </thead>\n",
       "  <tbody>\n",
       "    <tr>\n",
       "      <th>0</th>\n",
       "      <td>0</td>\n",
       "      <td>9174</td>\n",
       "      <td>1</td>\n",
       "      <td>0</td>\n",
       "      <td>0.000000</td>\n",
       "      <td>0.054945</td>\n",
       "      <td>0</td>\n",
       "      <td>0</td>\n",
       "      <td>0</td>\n",
       "      <td>0</td>\n",
       "      <td>0</td>\n",
       "      <td>0</td>\n",
       "      <td>0</td>\n",
       "      <td>0</td>\n",
       "      <td>0</td>\n",
       "      <td>0</td>\n",
       "      <td>0</td>\n",
       "      <td>0</td>\n",
       "      <td>1</td>\n",
       "      <td>0</td>\n",
       "      <td>0</td>\n",
       "      <td>1</td>\n",
       "      <td>0</td>\n",
       "      <td>0</td>\n",
       "      <td>0</td>\n",
       "      <td>0</td>\n",
       "      <td>0</td>\n",
       "      <td>0</td>\n",
       "      <td>0</td>\n",
       "      <td>0</td>\n",
       "      <td>0</td>\n",
       "      <td>0</td>\n",
       "      <td>0</td>\n",
       "      <td>0</td>\n",
       "      <td>0</td>\n",
       "      <td>0</td>\n",
       "      <td>0</td>\n",
       "      <td>0</td>\n",
       "      <td>0</td>\n",
       "      <td>0</td>\n",
       "      <td>0</td>\n",
       "      <td>0</td>\n",
       "      <td>0</td>\n",
       "      <td>0</td>\n",
       "      <td>0</td>\n",
       "      <td>0</td>\n",
       "      <td>0</td>\n",
       "      <td>0</td>\n",
       "      <td>0</td>\n",
       "      <td>0</td>\n",
       "      <td>0</td>\n",
       "      <td>0</td>\n",
       "      <td>0</td>\n",
       "      <td>0</td>\n",
       "      <td>0</td>\n",
       "      <td>0</td>\n",
       "      <td>0</td>\n",
       "      <td>1</td>\n",
       "      <td>0</td>\n",
       "      <td>0</td>\n",
       "      <td>0</td>\n",
       "      <td>0.051020</td>\n",
       "      <td>0.051020</td>\n",
       "      <td>3</td>\n",
       "      <td>0.988236</td>\n",
       "      <td>0.281167</td>\n",
       "    </tr>\n",
       "    <tr>\n",
       "      <th>1</th>\n",
       "      <td>22</td>\n",
       "      <td>9174</td>\n",
       "      <td>1</td>\n",
       "      <td>1</td>\n",
       "      <td>0.014354</td>\n",
       "      <td>0.054945</td>\n",
       "      <td>0</td>\n",
       "      <td>0</td>\n",
       "      <td>0</td>\n",
       "      <td>0</td>\n",
       "      <td>0</td>\n",
       "      <td>0</td>\n",
       "      <td>0</td>\n",
       "      <td>0</td>\n",
       "      <td>0</td>\n",
       "      <td>0</td>\n",
       "      <td>0</td>\n",
       "      <td>0</td>\n",
       "      <td>1</td>\n",
       "      <td>0</td>\n",
       "      <td>0</td>\n",
       "      <td>1</td>\n",
       "      <td>0</td>\n",
       "      <td>0</td>\n",
       "      <td>0</td>\n",
       "      <td>0</td>\n",
       "      <td>0</td>\n",
       "      <td>0</td>\n",
       "      <td>0</td>\n",
       "      <td>0</td>\n",
       "      <td>0</td>\n",
       "      <td>0</td>\n",
       "      <td>0</td>\n",
       "      <td>0</td>\n",
       "      <td>0</td>\n",
       "      <td>0</td>\n",
       "      <td>0</td>\n",
       "      <td>0</td>\n",
       "      <td>0</td>\n",
       "      <td>0</td>\n",
       "      <td>0</td>\n",
       "      <td>0</td>\n",
       "      <td>0</td>\n",
       "      <td>0</td>\n",
       "      <td>0</td>\n",
       "      <td>0</td>\n",
       "      <td>0</td>\n",
       "      <td>0</td>\n",
       "      <td>0</td>\n",
       "      <td>0</td>\n",
       "      <td>0</td>\n",
       "      <td>0</td>\n",
       "      <td>0</td>\n",
       "      <td>0</td>\n",
       "      <td>0</td>\n",
       "      <td>0</td>\n",
       "      <td>0</td>\n",
       "      <td>1</td>\n",
       "      <td>0</td>\n",
       "      <td>0</td>\n",
       "      <td>0</td>\n",
       "      <td>0.051020</td>\n",
       "      <td>0.051020</td>\n",
       "      <td>3</td>\n",
       "      <td>0.988236</td>\n",
       "      <td>0.281167</td>\n",
       "    </tr>\n",
       "    <tr>\n",
       "      <th>2</th>\n",
       "      <td>57</td>\n",
       "      <td>9174</td>\n",
       "      <td>1</td>\n",
       "      <td>1</td>\n",
       "      <td>0.004785</td>\n",
       "      <td>0.054945</td>\n",
       "      <td>0</td>\n",
       "      <td>0</td>\n",
       "      <td>0</td>\n",
       "      <td>0</td>\n",
       "      <td>0</td>\n",
       "      <td>0</td>\n",
       "      <td>0</td>\n",
       "      <td>0</td>\n",
       "      <td>0</td>\n",
       "      <td>0</td>\n",
       "      <td>0</td>\n",
       "      <td>0</td>\n",
       "      <td>1</td>\n",
       "      <td>0</td>\n",
       "      <td>0</td>\n",
       "      <td>1</td>\n",
       "      <td>0</td>\n",
       "      <td>0</td>\n",
       "      <td>0</td>\n",
       "      <td>0</td>\n",
       "      <td>0</td>\n",
       "      <td>0</td>\n",
       "      <td>0</td>\n",
       "      <td>0</td>\n",
       "      <td>0</td>\n",
       "      <td>0</td>\n",
       "      <td>0</td>\n",
       "      <td>0</td>\n",
       "      <td>0</td>\n",
       "      <td>0</td>\n",
       "      <td>0</td>\n",
       "      <td>0</td>\n",
       "      <td>0</td>\n",
       "      <td>0</td>\n",
       "      <td>0</td>\n",
       "      <td>0</td>\n",
       "      <td>0</td>\n",
       "      <td>0</td>\n",
       "      <td>0</td>\n",
       "      <td>0</td>\n",
       "      <td>0</td>\n",
       "      <td>0</td>\n",
       "      <td>0</td>\n",
       "      <td>0</td>\n",
       "      <td>0</td>\n",
       "      <td>0</td>\n",
       "      <td>0</td>\n",
       "      <td>0</td>\n",
       "      <td>0</td>\n",
       "      <td>0</td>\n",
       "      <td>0</td>\n",
       "      <td>1</td>\n",
       "      <td>0</td>\n",
       "      <td>0</td>\n",
       "      <td>0</td>\n",
       "      <td>0.051020</td>\n",
       "      <td>0.051020</td>\n",
       "      <td>3</td>\n",
       "      <td>0.988236</td>\n",
       "      <td>0.281167</td>\n",
       "    </tr>\n",
       "    <tr>\n",
       "      <th>3</th>\n",
       "      <td>68</td>\n",
       "      <td>9174</td>\n",
       "      <td>1</td>\n",
       "      <td>1</td>\n",
       "      <td>0.038278</td>\n",
       "      <td>0.054945</td>\n",
       "      <td>0</td>\n",
       "      <td>0</td>\n",
       "      <td>0</td>\n",
       "      <td>0</td>\n",
       "      <td>0</td>\n",
       "      <td>0</td>\n",
       "      <td>0</td>\n",
       "      <td>0</td>\n",
       "      <td>0</td>\n",
       "      <td>0</td>\n",
       "      <td>0</td>\n",
       "      <td>0</td>\n",
       "      <td>1</td>\n",
       "      <td>0</td>\n",
       "      <td>0</td>\n",
       "      <td>1</td>\n",
       "      <td>0</td>\n",
       "      <td>0</td>\n",
       "      <td>0</td>\n",
       "      <td>0</td>\n",
       "      <td>0</td>\n",
       "      <td>0</td>\n",
       "      <td>0</td>\n",
       "      <td>0</td>\n",
       "      <td>0</td>\n",
       "      <td>0</td>\n",
       "      <td>0</td>\n",
       "      <td>0</td>\n",
       "      <td>0</td>\n",
       "      <td>0</td>\n",
       "      <td>0</td>\n",
       "      <td>0</td>\n",
       "      <td>0</td>\n",
       "      <td>0</td>\n",
       "      <td>0</td>\n",
       "      <td>0</td>\n",
       "      <td>0</td>\n",
       "      <td>0</td>\n",
       "      <td>0</td>\n",
       "      <td>0</td>\n",
       "      <td>0</td>\n",
       "      <td>0</td>\n",
       "      <td>0</td>\n",
       "      <td>0</td>\n",
       "      <td>0</td>\n",
       "      <td>0</td>\n",
       "      <td>0</td>\n",
       "      <td>0</td>\n",
       "      <td>0</td>\n",
       "      <td>0</td>\n",
       "      <td>0</td>\n",
       "      <td>1</td>\n",
       "      <td>0</td>\n",
       "      <td>0</td>\n",
       "      <td>0</td>\n",
       "      <td>0.051020</td>\n",
       "      <td>0.051020</td>\n",
       "      <td>3</td>\n",
       "      <td>0.988236</td>\n",
       "      <td>0.281167</td>\n",
       "    </tr>\n",
       "    <tr>\n",
       "      <th>4</th>\n",
       "      <td>319</td>\n",
       "      <td>9174</td>\n",
       "      <td>1</td>\n",
       "      <td>1</td>\n",
       "      <td>0.004785</td>\n",
       "      <td>0.054945</td>\n",
       "      <td>0</td>\n",
       "      <td>0</td>\n",
       "      <td>0</td>\n",
       "      <td>0</td>\n",
       "      <td>0</td>\n",
       "      <td>0</td>\n",
       "      <td>0</td>\n",
       "      <td>0</td>\n",
       "      <td>0</td>\n",
       "      <td>0</td>\n",
       "      <td>0</td>\n",
       "      <td>0</td>\n",
       "      <td>1</td>\n",
       "      <td>0</td>\n",
       "      <td>0</td>\n",
       "      <td>1</td>\n",
       "      <td>0</td>\n",
       "      <td>0</td>\n",
       "      <td>0</td>\n",
       "      <td>0</td>\n",
       "      <td>0</td>\n",
       "      <td>0</td>\n",
       "      <td>0</td>\n",
       "      <td>0</td>\n",
       "      <td>0</td>\n",
       "      <td>0</td>\n",
       "      <td>0</td>\n",
       "      <td>0</td>\n",
       "      <td>0</td>\n",
       "      <td>0</td>\n",
       "      <td>0</td>\n",
       "      <td>0</td>\n",
       "      <td>0</td>\n",
       "      <td>0</td>\n",
       "      <td>0</td>\n",
       "      <td>0</td>\n",
       "      <td>0</td>\n",
       "      <td>0</td>\n",
       "      <td>0</td>\n",
       "      <td>0</td>\n",
       "      <td>0</td>\n",
       "      <td>0</td>\n",
       "      <td>0</td>\n",
       "      <td>0</td>\n",
       "      <td>0</td>\n",
       "      <td>0</td>\n",
       "      <td>0</td>\n",
       "      <td>0</td>\n",
       "      <td>0</td>\n",
       "      <td>0</td>\n",
       "      <td>0</td>\n",
       "      <td>1</td>\n",
       "      <td>0</td>\n",
       "      <td>0</td>\n",
       "      <td>0</td>\n",
       "      <td>0.051020</td>\n",
       "      <td>0.051020</td>\n",
       "      <td>3</td>\n",
       "      <td>0.988236</td>\n",
       "      <td>0.281167</td>\n",
       "    </tr>\n",
       "    <tr>\n",
       "      <th>...</th>\n",
       "      <td>...</td>\n",
       "      <td>...</td>\n",
       "      <td>...</td>\n",
       "      <td>...</td>\n",
       "      <td>...</td>\n",
       "      <td>...</td>\n",
       "      <td>...</td>\n",
       "      <td>...</td>\n",
       "      <td>...</td>\n",
       "      <td>...</td>\n",
       "      <td>...</td>\n",
       "      <td>...</td>\n",
       "      <td>...</td>\n",
       "      <td>...</td>\n",
       "      <td>...</td>\n",
       "      <td>...</td>\n",
       "      <td>...</td>\n",
       "      <td>...</td>\n",
       "      <td>...</td>\n",
       "      <td>...</td>\n",
       "      <td>...</td>\n",
       "      <td>...</td>\n",
       "      <td>...</td>\n",
       "      <td>...</td>\n",
       "      <td>...</td>\n",
       "      <td>...</td>\n",
       "      <td>...</td>\n",
       "      <td>...</td>\n",
       "      <td>...</td>\n",
       "      <td>...</td>\n",
       "      <td>...</td>\n",
       "      <td>...</td>\n",
       "      <td>...</td>\n",
       "      <td>...</td>\n",
       "      <td>...</td>\n",
       "      <td>...</td>\n",
       "      <td>...</td>\n",
       "      <td>...</td>\n",
       "      <td>...</td>\n",
       "      <td>...</td>\n",
       "      <td>...</td>\n",
       "      <td>...</td>\n",
       "      <td>...</td>\n",
       "      <td>...</td>\n",
       "      <td>...</td>\n",
       "      <td>...</td>\n",
       "      <td>...</td>\n",
       "      <td>...</td>\n",
       "      <td>...</td>\n",
       "      <td>...</td>\n",
       "      <td>...</td>\n",
       "      <td>...</td>\n",
       "      <td>...</td>\n",
       "      <td>...</td>\n",
       "      <td>...</td>\n",
       "      <td>...</td>\n",
       "      <td>...</td>\n",
       "      <td>...</td>\n",
       "      <td>...</td>\n",
       "      <td>...</td>\n",
       "      <td>...</td>\n",
       "      <td>...</td>\n",
       "      <td>...</td>\n",
       "      <td>...</td>\n",
       "      <td>...</td>\n",
       "      <td>...</td>\n",
       "    </tr>\n",
       "    <tr>\n",
       "      <th>28948275</th>\n",
       "      <td>1046745</td>\n",
       "      <td>10065</td>\n",
       "      <td>0</td>\n",
       "      <td>0</td>\n",
       "      <td>0.000000</td>\n",
       "      <td>0.164835</td>\n",
       "      <td>0</td>\n",
       "      <td>0</td>\n",
       "      <td>0</td>\n",
       "      <td>0</td>\n",
       "      <td>0</td>\n",
       "      <td>0</td>\n",
       "      <td>0</td>\n",
       "      <td>0</td>\n",
       "      <td>0</td>\n",
       "      <td>0</td>\n",
       "      <td>0</td>\n",
       "      <td>0</td>\n",
       "      <td>1</td>\n",
       "      <td>0</td>\n",
       "      <td>0</td>\n",
       "      <td>1</td>\n",
       "      <td>0</td>\n",
       "      <td>0</td>\n",
       "      <td>0</td>\n",
       "      <td>0</td>\n",
       "      <td>0</td>\n",
       "      <td>0</td>\n",
       "      <td>0</td>\n",
       "      <td>0</td>\n",
       "      <td>0</td>\n",
       "      <td>0</td>\n",
       "      <td>0</td>\n",
       "      <td>0</td>\n",
       "      <td>0</td>\n",
       "      <td>0</td>\n",
       "      <td>0</td>\n",
       "      <td>0</td>\n",
       "      <td>0</td>\n",
       "      <td>0</td>\n",
       "      <td>0</td>\n",
       "      <td>0</td>\n",
       "      <td>0</td>\n",
       "      <td>0</td>\n",
       "      <td>0</td>\n",
       "      <td>0</td>\n",
       "      <td>0</td>\n",
       "      <td>0</td>\n",
       "      <td>0</td>\n",
       "      <td>0</td>\n",
       "      <td>0</td>\n",
       "      <td>0</td>\n",
       "      <td>0</td>\n",
       "      <td>0</td>\n",
       "      <td>0</td>\n",
       "      <td>0</td>\n",
       "      <td>0</td>\n",
       "      <td>1</td>\n",
       "      <td>0</td>\n",
       "      <td>0</td>\n",
       "      <td>0</td>\n",
       "      <td>0.202041</td>\n",
       "      <td>0.202041</td>\n",
       "      <td>3</td>\n",
       "      <td>0.998944</td>\n",
       "      <td>0.315650</td>\n",
       "    </tr>\n",
       "    <tr>\n",
       "      <th>28948276</th>\n",
       "      <td>1511615</td>\n",
       "      <td>10065</td>\n",
       "      <td>0</td>\n",
       "      <td>1</td>\n",
       "      <td>0.004785</td>\n",
       "      <td>0.164835</td>\n",
       "      <td>0</td>\n",
       "      <td>0</td>\n",
       "      <td>0</td>\n",
       "      <td>0</td>\n",
       "      <td>0</td>\n",
       "      <td>0</td>\n",
       "      <td>0</td>\n",
       "      <td>0</td>\n",
       "      <td>0</td>\n",
       "      <td>0</td>\n",
       "      <td>0</td>\n",
       "      <td>0</td>\n",
       "      <td>1</td>\n",
       "      <td>0</td>\n",
       "      <td>0</td>\n",
       "      <td>1</td>\n",
       "      <td>0</td>\n",
       "      <td>0</td>\n",
       "      <td>0</td>\n",
       "      <td>0</td>\n",
       "      <td>0</td>\n",
       "      <td>0</td>\n",
       "      <td>0</td>\n",
       "      <td>0</td>\n",
       "      <td>0</td>\n",
       "      <td>0</td>\n",
       "      <td>0</td>\n",
       "      <td>0</td>\n",
       "      <td>0</td>\n",
       "      <td>0</td>\n",
       "      <td>0</td>\n",
       "      <td>0</td>\n",
       "      <td>0</td>\n",
       "      <td>0</td>\n",
       "      <td>0</td>\n",
       "      <td>0</td>\n",
       "      <td>0</td>\n",
       "      <td>0</td>\n",
       "      <td>0</td>\n",
       "      <td>0</td>\n",
       "      <td>0</td>\n",
       "      <td>0</td>\n",
       "      <td>0</td>\n",
       "      <td>0</td>\n",
       "      <td>0</td>\n",
       "      <td>0</td>\n",
       "      <td>0</td>\n",
       "      <td>0</td>\n",
       "      <td>0</td>\n",
       "      <td>0</td>\n",
       "      <td>0</td>\n",
       "      <td>1</td>\n",
       "      <td>0</td>\n",
       "      <td>0</td>\n",
       "      <td>0</td>\n",
       "      <td>0.202041</td>\n",
       "      <td>0.202041</td>\n",
       "      <td>3</td>\n",
       "      <td>0.998944</td>\n",
       "      <td>0.315650</td>\n",
       "    </tr>\n",
       "    <tr>\n",
       "      <th>28948277</th>\n",
       "      <td>18478</td>\n",
       "      <td>10065</td>\n",
       "      <td>0</td>\n",
       "      <td>0</td>\n",
       "      <td>0.000000</td>\n",
       "      <td>0.164835</td>\n",
       "      <td>0</td>\n",
       "      <td>0</td>\n",
       "      <td>0</td>\n",
       "      <td>0</td>\n",
       "      <td>0</td>\n",
       "      <td>0</td>\n",
       "      <td>0</td>\n",
       "      <td>0</td>\n",
       "      <td>0</td>\n",
       "      <td>0</td>\n",
       "      <td>0</td>\n",
       "      <td>0</td>\n",
       "      <td>1</td>\n",
       "      <td>0</td>\n",
       "      <td>0</td>\n",
       "      <td>1</td>\n",
       "      <td>0</td>\n",
       "      <td>0</td>\n",
       "      <td>0</td>\n",
       "      <td>0</td>\n",
       "      <td>0</td>\n",
       "      <td>0</td>\n",
       "      <td>0</td>\n",
       "      <td>0</td>\n",
       "      <td>0</td>\n",
       "      <td>0</td>\n",
       "      <td>0</td>\n",
       "      <td>0</td>\n",
       "      <td>0</td>\n",
       "      <td>0</td>\n",
       "      <td>0</td>\n",
       "      <td>0</td>\n",
       "      <td>0</td>\n",
       "      <td>0</td>\n",
       "      <td>0</td>\n",
       "      <td>0</td>\n",
       "      <td>0</td>\n",
       "      <td>0</td>\n",
       "      <td>0</td>\n",
       "      <td>0</td>\n",
       "      <td>0</td>\n",
       "      <td>0</td>\n",
       "      <td>0</td>\n",
       "      <td>0</td>\n",
       "      <td>0</td>\n",
       "      <td>0</td>\n",
       "      <td>0</td>\n",
       "      <td>0</td>\n",
       "      <td>0</td>\n",
       "      <td>0</td>\n",
       "      <td>0</td>\n",
       "      <td>1</td>\n",
       "      <td>0</td>\n",
       "      <td>0</td>\n",
       "      <td>0</td>\n",
       "      <td>0.202041</td>\n",
       "      <td>0.202041</td>\n",
       "      <td>3</td>\n",
       "      <td>0.998944</td>\n",
       "      <td>0.315650</td>\n",
       "    </tr>\n",
       "    <tr>\n",
       "      <th>28948278</th>\n",
       "      <td>931340</td>\n",
       "      <td>10065</td>\n",
       "      <td>0</td>\n",
       "      <td>0</td>\n",
       "      <td>0.000000</td>\n",
       "      <td>0.164835</td>\n",
       "      <td>0</td>\n",
       "      <td>0</td>\n",
       "      <td>0</td>\n",
       "      <td>0</td>\n",
       "      <td>0</td>\n",
       "      <td>0</td>\n",
       "      <td>0</td>\n",
       "      <td>0</td>\n",
       "      <td>0</td>\n",
       "      <td>0</td>\n",
       "      <td>0</td>\n",
       "      <td>0</td>\n",
       "      <td>1</td>\n",
       "      <td>0</td>\n",
       "      <td>0</td>\n",
       "      <td>1</td>\n",
       "      <td>0</td>\n",
       "      <td>0</td>\n",
       "      <td>0</td>\n",
       "      <td>0</td>\n",
       "      <td>0</td>\n",
       "      <td>0</td>\n",
       "      <td>0</td>\n",
       "      <td>0</td>\n",
       "      <td>0</td>\n",
       "      <td>0</td>\n",
       "      <td>0</td>\n",
       "      <td>0</td>\n",
       "      <td>0</td>\n",
       "      <td>0</td>\n",
       "      <td>0</td>\n",
       "      <td>0</td>\n",
       "      <td>0</td>\n",
       "      <td>0</td>\n",
       "      <td>0</td>\n",
       "      <td>0</td>\n",
       "      <td>0</td>\n",
       "      <td>0</td>\n",
       "      <td>0</td>\n",
       "      <td>0</td>\n",
       "      <td>0</td>\n",
       "      <td>0</td>\n",
       "      <td>0</td>\n",
       "      <td>0</td>\n",
       "      <td>0</td>\n",
       "      <td>0</td>\n",
       "      <td>0</td>\n",
       "      <td>0</td>\n",
       "      <td>0</td>\n",
       "      <td>0</td>\n",
       "      <td>0</td>\n",
       "      <td>1</td>\n",
       "      <td>0</td>\n",
       "      <td>0</td>\n",
       "      <td>0</td>\n",
       "      <td>0.202041</td>\n",
       "      <td>0.202041</td>\n",
       "      <td>3</td>\n",
       "      <td>0.998944</td>\n",
       "      <td>0.315650</td>\n",
       "    </tr>\n",
       "    <tr>\n",
       "      <th>28948279</th>\n",
       "      <td>331008</td>\n",
       "      <td>10065</td>\n",
       "      <td>0</td>\n",
       "      <td>1</td>\n",
       "      <td>0.004785</td>\n",
       "      <td>0.164835</td>\n",
       "      <td>0</td>\n",
       "      <td>0</td>\n",
       "      <td>0</td>\n",
       "      <td>0</td>\n",
       "      <td>0</td>\n",
       "      <td>0</td>\n",
       "      <td>0</td>\n",
       "      <td>0</td>\n",
       "      <td>0</td>\n",
       "      <td>0</td>\n",
       "      <td>0</td>\n",
       "      <td>0</td>\n",
       "      <td>1</td>\n",
       "      <td>0</td>\n",
       "      <td>0</td>\n",
       "      <td>1</td>\n",
       "      <td>0</td>\n",
       "      <td>0</td>\n",
       "      <td>0</td>\n",
       "      <td>0</td>\n",
       "      <td>0</td>\n",
       "      <td>0</td>\n",
       "      <td>0</td>\n",
       "      <td>0</td>\n",
       "      <td>0</td>\n",
       "      <td>0</td>\n",
       "      <td>0</td>\n",
       "      <td>0</td>\n",
       "      <td>0</td>\n",
       "      <td>0</td>\n",
       "      <td>0</td>\n",
       "      <td>0</td>\n",
       "      <td>0</td>\n",
       "      <td>0</td>\n",
       "      <td>0</td>\n",
       "      <td>0</td>\n",
       "      <td>0</td>\n",
       "      <td>0</td>\n",
       "      <td>0</td>\n",
       "      <td>0</td>\n",
       "      <td>0</td>\n",
       "      <td>0</td>\n",
       "      <td>0</td>\n",
       "      <td>0</td>\n",
       "      <td>0</td>\n",
       "      <td>0</td>\n",
       "      <td>0</td>\n",
       "      <td>0</td>\n",
       "      <td>0</td>\n",
       "      <td>0</td>\n",
       "      <td>0</td>\n",
       "      <td>1</td>\n",
       "      <td>0</td>\n",
       "      <td>0</td>\n",
       "      <td>0</td>\n",
       "      <td>0.202041</td>\n",
       "      <td>0.202041</td>\n",
       "      <td>3</td>\n",
       "      <td>0.998944</td>\n",
       "      <td>0.315650</td>\n",
       "    </tr>\n",
       "  </tbody>\n",
       "</table>\n",
       "<p>28948280 rows × 66 columns</p>\n",
       "</div>"
      ],
      "text/plain": [
       "            sa_id  album_id  label  view_no   buy_tot  buy_history_price  0  \\\n",
       "0               0      9174      1        0  0.000000           0.054945  0   \n",
       "1              22      9174      1        1  0.014354           0.054945  0   \n",
       "2              57      9174      1        1  0.004785           0.054945  0   \n",
       "3              68      9174      1        1  0.038278           0.054945  0   \n",
       "4             319      9174      1        1  0.004785           0.054945  0   \n",
       "...           ...       ...    ...      ...       ...                ... ..   \n",
       "28948275  1046745     10065      0        0  0.000000           0.164835  0   \n",
       "28948276  1511615     10065      0        1  0.004785           0.164835  0   \n",
       "28948277    18478     10065      0        0  0.000000           0.164835  0   \n",
       "28948278   931340     10065      0        0  0.000000           0.164835  0   \n",
       "28948279   331008     10065      0        1  0.004785           0.164835  0   \n",
       "\n",
       "          1  2  3  4  5  6  7  8  9  10  11  12  13  14  15  16  17  18  19  \\\n",
       "0         0  0  0  0  0  0  0  0  0   0   0   1   0   0   1   0   0   0   0   \n",
       "1         0  0  0  0  0  0  0  0  0   0   0   1   0   0   1   0   0   0   0   \n",
       "2         0  0  0  0  0  0  0  0  0   0   0   1   0   0   1   0   0   0   0   \n",
       "3         0  0  0  0  0  0  0  0  0   0   0   1   0   0   1   0   0   0   0   \n",
       "4         0  0  0  0  0  0  0  0  0   0   0   1   0   0   1   0   0   0   0   \n",
       "...      .. .. .. .. .. .. .. .. ..  ..  ..  ..  ..  ..  ..  ..  ..  ..  ..   \n",
       "28948275  0  0  0  0  0  0  0  0  0   0   0   1   0   0   1   0   0   0   0   \n",
       "28948276  0  0  0  0  0  0  0  0  0   0   0   1   0   0   1   0   0   0   0   \n",
       "28948277  0  0  0  0  0  0  0  0  0   0   0   1   0   0   1   0   0   0   0   \n",
       "28948278  0  0  0  0  0  0  0  0  0   0   0   1   0   0   1   0   0   0   0   \n",
       "28948279  0  0  0  0  0  0  0  0  0   0   0   1   0   0   1   0   0   0   0   \n",
       "\n",
       "          20  21  22  23  24  25  26  27  28  29  30  31  32  33  34  35  36  \\\n",
       "0          0   0   0   0   0   0   0   0   0   0   0   0   0   0   0   0   0   \n",
       "1          0   0   0   0   0   0   0   0   0   0   0   0   0   0   0   0   0   \n",
       "2          0   0   0   0   0   0   0   0   0   0   0   0   0   0   0   0   0   \n",
       "3          0   0   0   0   0   0   0   0   0   0   0   0   0   0   0   0   0   \n",
       "4          0   0   0   0   0   0   0   0   0   0   0   0   0   0   0   0   0   \n",
       "...       ..  ..  ..  ..  ..  ..  ..  ..  ..  ..  ..  ..  ..  ..  ..  ..  ..   \n",
       "28948275   0   0   0   0   0   0   0   0   0   0   0   0   0   0   0   0   0   \n",
       "28948276   0   0   0   0   0   0   0   0   0   0   0   0   0   0   0   0   0   \n",
       "28948277   0   0   0   0   0   0   0   0   0   0   0   0   0   0   0   0   0   \n",
       "28948278   0   0   0   0   0   0   0   0   0   0   0   0   0   0   0   0   0   \n",
       "28948279   0   0   0   0   0   0   0   0   0   0   0   0   0   0   0   0   0   \n",
       "\n",
       "          37  38  39  40  41  42  43  44  45  46  47  48  49  50  51  52  53  \\\n",
       "0          0   0   0   0   0   0   0   0   0   0   0   0   0   0   1   0   0   \n",
       "1          0   0   0   0   0   0   0   0   0   0   0   0   0   0   1   0   0   \n",
       "2          0   0   0   0   0   0   0   0   0   0   0   0   0   0   1   0   0   \n",
       "3          0   0   0   0   0   0   0   0   0   0   0   0   0   0   1   0   0   \n",
       "4          0   0   0   0   0   0   0   0   0   0   0   0   0   0   1   0   0   \n",
       "...       ..  ..  ..  ..  ..  ..  ..  ..  ..  ..  ..  ..  ..  ..  ..  ..  ..   \n",
       "28948275   0   0   0   0   0   0   0   0   0   0   0   0   0   0   1   0   0   \n",
       "28948276   0   0   0   0   0   0   0   0   0   0   0   0   0   0   1   0   0   \n",
       "28948277   0   0   0   0   0   0   0   0   0   0   0   0   0   0   1   0   0   \n",
       "28948278   0   0   0   0   0   0   0   0   0   0   0   0   0   0   1   0   0   \n",
       "28948279   0   0   0   0   0   0   0   0   0   0   0   0   0   0   1   0   0   \n",
       "\n",
       "          54  i30_meta_price  movie_meta_price  pr_info  release_date  \\\n",
       "0          0        0.051020          0.051020        3      0.988236   \n",
       "1          0        0.051020          0.051020        3      0.988236   \n",
       "2          0        0.051020          0.051020        3      0.988236   \n",
       "3          0        0.051020          0.051020        3      0.988236   \n",
       "4          0        0.051020          0.051020        3      0.988236   \n",
       "...       ..             ...               ...      ...           ...   \n",
       "28948275   0        0.202041          0.202041        3      0.998944   \n",
       "28948276   0        0.202041          0.202041        3      0.998944   \n",
       "28948277   0        0.202041          0.202041        3      0.998944   \n",
       "28948278   0        0.202041          0.202041        3      0.998944   \n",
       "28948279   0        0.202041          0.202041        3      0.998944   \n",
       "\n",
       "          run_time  \n",
       "0         0.281167  \n",
       "1         0.281167  \n",
       "2         0.281167  \n",
       "3         0.281167  \n",
       "4         0.281167  \n",
       "...            ...  \n",
       "28948275  0.315650  \n",
       "28948276  0.315650  \n",
       "28948277  0.315650  \n",
       "28948278  0.315650  \n",
       "28948279  0.315650  \n",
       "\n",
       "[28948280 rows x 66 columns]"
      ]
     },
     "execution_count": 107,
     "metadata": {},
     "output_type": "execute_result"
    }
   ],
   "source": [
    "data"
   ]
  },
  {
   "cell_type": "code",
   "execution_count": 111,
   "metadata": {},
   "outputs": [
    {
     "data": {
      "text/html": [
       "<div>\n",
       "<style scoped>\n",
       "    .dataframe tbody tr th:only-of-type {\n",
       "        vertical-align: middle;\n",
       "    }\n",
       "\n",
       "    .dataframe tbody tr th {\n",
       "        vertical-align: top;\n",
       "    }\n",
       "\n",
       "    .dataframe thead th {\n",
       "        text-align: right;\n",
       "    }\n",
       "</style>\n",
       "<table border=\"1\" class=\"dataframe\">\n",
       "  <thead>\n",
       "    <tr style=\"text-align: right;\">\n",
       "      <th></th>\n",
       "      <th>sa_id</th>\n",
       "      <th>view_no</th>\n",
       "      <th>buy_tot</th>\n",
       "    </tr>\n",
       "  </thead>\n",
       "  <tbody>\n",
       "    <tr>\n",
       "      <th>0</th>\n",
       "      <td>0</td>\n",
       "      <td>0</td>\n",
       "      <td>0.000000</td>\n",
       "    </tr>\n",
       "    <tr>\n",
       "      <th>1</th>\n",
       "      <td>22</td>\n",
       "      <td>1</td>\n",
       "      <td>0.014354</td>\n",
       "    </tr>\n",
       "    <tr>\n",
       "      <th>2</th>\n",
       "      <td>57</td>\n",
       "      <td>1</td>\n",
       "      <td>0.004785</td>\n",
       "    </tr>\n",
       "    <tr>\n",
       "      <th>3</th>\n",
       "      <td>68</td>\n",
       "      <td>1</td>\n",
       "      <td>0.038278</td>\n",
       "    </tr>\n",
       "    <tr>\n",
       "      <th>4</th>\n",
       "      <td>319</td>\n",
       "      <td>1</td>\n",
       "      <td>0.004785</td>\n",
       "    </tr>\n",
       "    <tr>\n",
       "      <th>...</th>\n",
       "      <td>...</td>\n",
       "      <td>...</td>\n",
       "      <td>...</td>\n",
       "    </tr>\n",
       "    <tr>\n",
       "      <th>28785995</th>\n",
       "      <td>1401528</td>\n",
       "      <td>0</td>\n",
       "      <td>0.000000</td>\n",
       "    </tr>\n",
       "    <tr>\n",
       "      <th>28845606</th>\n",
       "      <td>786980</td>\n",
       "      <td>0</td>\n",
       "      <td>0.000000</td>\n",
       "    </tr>\n",
       "    <tr>\n",
       "      <th>28848954</th>\n",
       "      <td>1381118</td>\n",
       "      <td>0</td>\n",
       "      <td>0.000000</td>\n",
       "    </tr>\n",
       "    <tr>\n",
       "      <th>28858660</th>\n",
       "      <td>136643</td>\n",
       "      <td>0</td>\n",
       "      <td>0.000000</td>\n",
       "    </tr>\n",
       "    <tr>\n",
       "      <th>28859942</th>\n",
       "      <td>1104140</td>\n",
       "      <td>0</td>\n",
       "      <td>0.000000</td>\n",
       "    </tr>\n",
       "  </tbody>\n",
       "</table>\n",
       "<p>1579661 rows × 3 columns</p>\n",
       "</div>"
      ],
      "text/plain": [
       "            sa_id  view_no   buy_tot\n",
       "0               0        0  0.000000\n",
       "1              22        1  0.014354\n",
       "2              57        1  0.004785\n",
       "3              68        1  0.038278\n",
       "4             319        1  0.004785\n",
       "...           ...      ...       ...\n",
       "28785995  1401528        0  0.000000\n",
       "28845606   786980        0  0.000000\n",
       "28848954  1381118        0  0.000000\n",
       "28858660   136643        0  0.000000\n",
       "28859942  1104140        0  0.000000\n",
       "\n",
       "[1579661 rows x 3 columns]"
      ]
     },
     "execution_count": 111,
     "metadata": {},
     "output_type": "execute_result"
    }
   ],
   "source": [
    "user_uni_tab"
   ]
  },
  {
   "cell_type": "code",
   "execution_count": 112,
   "metadata": {},
   "outputs": [
    {
     "data": {
      "text/html": [
       "<div>\n",
       "<style scoped>\n",
       "    .dataframe tbody tr th:only-of-type {\n",
       "        vertical-align: middle;\n",
       "    }\n",
       "\n",
       "    .dataframe tbody tr th {\n",
       "        vertical-align: top;\n",
       "    }\n",
       "\n",
       "    .dataframe thead th {\n",
       "        text-align: right;\n",
       "    }\n",
       "</style>\n",
       "<table border=\"1\" class=\"dataframe\">\n",
       "  <thead>\n",
       "    <tr style=\"text-align: right;\">\n",
       "      <th></th>\n",
       "      <th>0</th>\n",
       "      <th>1</th>\n",
       "      <th>10</th>\n",
       "      <th>11</th>\n",
       "      <th>12</th>\n",
       "      <th>13</th>\n",
       "      <th>14</th>\n",
       "      <th>15</th>\n",
       "      <th>16</th>\n",
       "      <th>17</th>\n",
       "      <th>18</th>\n",
       "      <th>19</th>\n",
       "      <th>2</th>\n",
       "      <th>20</th>\n",
       "      <th>21</th>\n",
       "      <th>22</th>\n",
       "      <th>23</th>\n",
       "      <th>24</th>\n",
       "      <th>25</th>\n",
       "      <th>26</th>\n",
       "      <th>27</th>\n",
       "      <th>28</th>\n",
       "      <th>29</th>\n",
       "      <th>3</th>\n",
       "      <th>30</th>\n",
       "      <th>31</th>\n",
       "      <th>32</th>\n",
       "      <th>33</th>\n",
       "      <th>34</th>\n",
       "      <th>35</th>\n",
       "      <th>36</th>\n",
       "      <th>37</th>\n",
       "      <th>38</th>\n",
       "      <th>39</th>\n",
       "      <th>4</th>\n",
       "      <th>40</th>\n",
       "      <th>41</th>\n",
       "      <th>42</th>\n",
       "      <th>43</th>\n",
       "      <th>44</th>\n",
       "      <th>45</th>\n",
       "      <th>46</th>\n",
       "      <th>47</th>\n",
       "      <th>48</th>\n",
       "      <th>49</th>\n",
       "      <th>5</th>\n",
       "      <th>50</th>\n",
       "      <th>51</th>\n",
       "      <th>52</th>\n",
       "      <th>53</th>\n",
       "      <th>54</th>\n",
       "      <th>6</th>\n",
       "      <th>7</th>\n",
       "      <th>8</th>\n",
       "      <th>9</th>\n",
       "      <th>album_id</th>\n",
       "      <th>buy_history_price</th>\n",
       "      <th>i30_meta_price</th>\n",
       "      <th>label</th>\n",
       "      <th>movie_meta_price</th>\n",
       "      <th>pr_info</th>\n",
       "      <th>release_date</th>\n",
       "      <th>run_time</th>\n",
       "    </tr>\n",
       "  </thead>\n",
       "  <tbody>\n",
       "    <tr>\n",
       "      <th>0</th>\n",
       "      <td>0</td>\n",
       "      <td>0</td>\n",
       "      <td>0</td>\n",
       "      <td>0</td>\n",
       "      <td>1</td>\n",
       "      <td>0</td>\n",
       "      <td>0</td>\n",
       "      <td>1</td>\n",
       "      <td>0</td>\n",
       "      <td>0</td>\n",
       "      <td>0</td>\n",
       "      <td>0</td>\n",
       "      <td>0</td>\n",
       "      <td>0</td>\n",
       "      <td>0</td>\n",
       "      <td>0</td>\n",
       "      <td>0</td>\n",
       "      <td>0</td>\n",
       "      <td>0</td>\n",
       "      <td>0</td>\n",
       "      <td>0</td>\n",
       "      <td>0</td>\n",
       "      <td>0</td>\n",
       "      <td>0</td>\n",
       "      <td>0</td>\n",
       "      <td>0</td>\n",
       "      <td>0</td>\n",
       "      <td>0</td>\n",
       "      <td>0</td>\n",
       "      <td>0</td>\n",
       "      <td>0</td>\n",
       "      <td>0</td>\n",
       "      <td>0</td>\n",
       "      <td>0</td>\n",
       "      <td>0</td>\n",
       "      <td>0</td>\n",
       "      <td>0</td>\n",
       "      <td>0</td>\n",
       "      <td>0</td>\n",
       "      <td>0</td>\n",
       "      <td>0</td>\n",
       "      <td>0</td>\n",
       "      <td>0</td>\n",
       "      <td>0</td>\n",
       "      <td>0</td>\n",
       "      <td>0</td>\n",
       "      <td>0</td>\n",
       "      <td>1</td>\n",
       "      <td>0</td>\n",
       "      <td>0</td>\n",
       "      <td>0</td>\n",
       "      <td>0</td>\n",
       "      <td>0</td>\n",
       "      <td>0</td>\n",
       "      <td>0</td>\n",
       "      <td>9174</td>\n",
       "      <td>0.054945</td>\n",
       "      <td>0.051020</td>\n",
       "      <td>1</td>\n",
       "      <td>0.051020</td>\n",
       "      <td>3</td>\n",
       "      <td>0.988236</td>\n",
       "      <td>0.281167</td>\n",
       "    </tr>\n",
       "    <tr>\n",
       "      <th>30500</th>\n",
       "      <td>0</td>\n",
       "      <td>0</td>\n",
       "      <td>0</td>\n",
       "      <td>0</td>\n",
       "      <td>1</td>\n",
       "      <td>0</td>\n",
       "      <td>0</td>\n",
       "      <td>1</td>\n",
       "      <td>0</td>\n",
       "      <td>0</td>\n",
       "      <td>0</td>\n",
       "      <td>0</td>\n",
       "      <td>0</td>\n",
       "      <td>0</td>\n",
       "      <td>0</td>\n",
       "      <td>0</td>\n",
       "      <td>0</td>\n",
       "      <td>0</td>\n",
       "      <td>0</td>\n",
       "      <td>0</td>\n",
       "      <td>0</td>\n",
       "      <td>0</td>\n",
       "      <td>0</td>\n",
       "      <td>0</td>\n",
       "      <td>0</td>\n",
       "      <td>0</td>\n",
       "      <td>0</td>\n",
       "      <td>0</td>\n",
       "      <td>0</td>\n",
       "      <td>0</td>\n",
       "      <td>0</td>\n",
       "      <td>0</td>\n",
       "      <td>0</td>\n",
       "      <td>0</td>\n",
       "      <td>0</td>\n",
       "      <td>0</td>\n",
       "      <td>0</td>\n",
       "      <td>0</td>\n",
       "      <td>0</td>\n",
       "      <td>0</td>\n",
       "      <td>0</td>\n",
       "      <td>0</td>\n",
       "      <td>0</td>\n",
       "      <td>0</td>\n",
       "      <td>0</td>\n",
       "      <td>0</td>\n",
       "      <td>0</td>\n",
       "      <td>1</td>\n",
       "      <td>0</td>\n",
       "      <td>0</td>\n",
       "      <td>0</td>\n",
       "      <td>0</td>\n",
       "      <td>0</td>\n",
       "      <td>0</td>\n",
       "      <td>0</td>\n",
       "      <td>11779</td>\n",
       "      <td>0.283516</td>\n",
       "      <td>0.202041</td>\n",
       "      <td>0</td>\n",
       "      <td>0.202041</td>\n",
       "      <td>2</td>\n",
       "      <td>0.999764</td>\n",
       "      <td>0.305040</td>\n",
       "    </tr>\n",
       "    <tr>\n",
       "      <th>31873</th>\n",
       "      <td>0</td>\n",
       "      <td>0</td>\n",
       "      <td>1</td>\n",
       "      <td>0</td>\n",
       "      <td>0</td>\n",
       "      <td>0</td>\n",
       "      <td>0</td>\n",
       "      <td>1</td>\n",
       "      <td>0</td>\n",
       "      <td>0</td>\n",
       "      <td>0</td>\n",
       "      <td>0</td>\n",
       "      <td>0</td>\n",
       "      <td>0</td>\n",
       "      <td>0</td>\n",
       "      <td>0</td>\n",
       "      <td>0</td>\n",
       "      <td>0</td>\n",
       "      <td>0</td>\n",
       "      <td>0</td>\n",
       "      <td>0</td>\n",
       "      <td>0</td>\n",
       "      <td>0</td>\n",
       "      <td>0</td>\n",
       "      <td>0</td>\n",
       "      <td>0</td>\n",
       "      <td>0</td>\n",
       "      <td>0</td>\n",
       "      <td>0</td>\n",
       "      <td>0</td>\n",
       "      <td>0</td>\n",
       "      <td>0</td>\n",
       "      <td>0</td>\n",
       "      <td>0</td>\n",
       "      <td>0</td>\n",
       "      <td>0</td>\n",
       "      <td>0</td>\n",
       "      <td>0</td>\n",
       "      <td>0</td>\n",
       "      <td>0</td>\n",
       "      <td>0</td>\n",
       "      <td>0</td>\n",
       "      <td>0</td>\n",
       "      <td>1</td>\n",
       "      <td>0</td>\n",
       "      <td>0</td>\n",
       "      <td>0</td>\n",
       "      <td>0</td>\n",
       "      <td>0</td>\n",
       "      <td>0</td>\n",
       "      <td>0</td>\n",
       "      <td>0</td>\n",
       "      <td>0</td>\n",
       "      <td>0</td>\n",
       "      <td>0</td>\n",
       "      <td>4715</td>\n",
       "      <td>0.030769</td>\n",
       "      <td>0.028571</td>\n",
       "      <td>0</td>\n",
       "      <td>0.028571</td>\n",
       "      <td>4</td>\n",
       "      <td>0.952768</td>\n",
       "      <td>0.251989</td>\n",
       "    </tr>\n",
       "    <tr>\n",
       "      <th>33439</th>\n",
       "      <td>0</td>\n",
       "      <td>0</td>\n",
       "      <td>0</td>\n",
       "      <td>0</td>\n",
       "      <td>1</td>\n",
       "      <td>0</td>\n",
       "      <td>0</td>\n",
       "      <td>1</td>\n",
       "      <td>0</td>\n",
       "      <td>0</td>\n",
       "      <td>0</td>\n",
       "      <td>0</td>\n",
       "      <td>0</td>\n",
       "      <td>0</td>\n",
       "      <td>0</td>\n",
       "      <td>0</td>\n",
       "      <td>0</td>\n",
       "      <td>0</td>\n",
       "      <td>0</td>\n",
       "      <td>0</td>\n",
       "      <td>0</td>\n",
       "      <td>0</td>\n",
       "      <td>0</td>\n",
       "      <td>0</td>\n",
       "      <td>0</td>\n",
       "      <td>0</td>\n",
       "      <td>0</td>\n",
       "      <td>0</td>\n",
       "      <td>0</td>\n",
       "      <td>0</td>\n",
       "      <td>0</td>\n",
       "      <td>0</td>\n",
       "      <td>0</td>\n",
       "      <td>0</td>\n",
       "      <td>0</td>\n",
       "      <td>0</td>\n",
       "      <td>0</td>\n",
       "      <td>0</td>\n",
       "      <td>0</td>\n",
       "      <td>0</td>\n",
       "      <td>0</td>\n",
       "      <td>0</td>\n",
       "      <td>0</td>\n",
       "      <td>0</td>\n",
       "      <td>0</td>\n",
       "      <td>0</td>\n",
       "      <td>0</td>\n",
       "      <td>1</td>\n",
       "      <td>0</td>\n",
       "      <td>0</td>\n",
       "      <td>0</td>\n",
       "      <td>0</td>\n",
       "      <td>0</td>\n",
       "      <td>0</td>\n",
       "      <td>0</td>\n",
       "      <td>11453</td>\n",
       "      <td>0.000000</td>\n",
       "      <td>0.000000</td>\n",
       "      <td>1</td>\n",
       "      <td>0.000000</td>\n",
       "      <td>3</td>\n",
       "      <td>0.999290</td>\n",
       "      <td>0.286472</td>\n",
       "    </tr>\n",
       "    <tr>\n",
       "      <th>88576</th>\n",
       "      <td>0</td>\n",
       "      <td>0</td>\n",
       "      <td>0</td>\n",
       "      <td>0</td>\n",
       "      <td>0</td>\n",
       "      <td>0</td>\n",
       "      <td>0</td>\n",
       "      <td>1</td>\n",
       "      <td>0</td>\n",
       "      <td>0</td>\n",
       "      <td>0</td>\n",
       "      <td>0</td>\n",
       "      <td>0</td>\n",
       "      <td>0</td>\n",
       "      <td>0</td>\n",
       "      <td>0</td>\n",
       "      <td>0</td>\n",
       "      <td>0</td>\n",
       "      <td>0</td>\n",
       "      <td>0</td>\n",
       "      <td>0</td>\n",
       "      <td>0</td>\n",
       "      <td>0</td>\n",
       "      <td>0</td>\n",
       "      <td>0</td>\n",
       "      <td>0</td>\n",
       "      <td>0</td>\n",
       "      <td>0</td>\n",
       "      <td>0</td>\n",
       "      <td>0</td>\n",
       "      <td>0</td>\n",
       "      <td>0</td>\n",
       "      <td>0</td>\n",
       "      <td>0</td>\n",
       "      <td>0</td>\n",
       "      <td>0</td>\n",
       "      <td>0</td>\n",
       "      <td>0</td>\n",
       "      <td>1</td>\n",
       "      <td>0</td>\n",
       "      <td>0</td>\n",
       "      <td>0</td>\n",
       "      <td>0</td>\n",
       "      <td>0</td>\n",
       "      <td>0</td>\n",
       "      <td>0</td>\n",
       "      <td>0</td>\n",
       "      <td>0</td>\n",
       "      <td>0</td>\n",
       "      <td>0</td>\n",
       "      <td>0</td>\n",
       "      <td>0</td>\n",
       "      <td>0</td>\n",
       "      <td>1</td>\n",
       "      <td>0</td>\n",
       "      <td>3008</td>\n",
       "      <td>0.030769</td>\n",
       "      <td>0.028571</td>\n",
       "      <td>0</td>\n",
       "      <td>0.028571</td>\n",
       "      <td>4</td>\n",
       "      <td>0.940414</td>\n",
       "      <td>0.246684</td>\n",
       "    </tr>\n",
       "    <tr>\n",
       "      <th>...</th>\n",
       "      <td>...</td>\n",
       "      <td>...</td>\n",
       "      <td>...</td>\n",
       "      <td>...</td>\n",
       "      <td>...</td>\n",
       "      <td>...</td>\n",
       "      <td>...</td>\n",
       "      <td>...</td>\n",
       "      <td>...</td>\n",
       "      <td>...</td>\n",
       "      <td>...</td>\n",
       "      <td>...</td>\n",
       "      <td>...</td>\n",
       "      <td>...</td>\n",
       "      <td>...</td>\n",
       "      <td>...</td>\n",
       "      <td>...</td>\n",
       "      <td>...</td>\n",
       "      <td>...</td>\n",
       "      <td>...</td>\n",
       "      <td>...</td>\n",
       "      <td>...</td>\n",
       "      <td>...</td>\n",
       "      <td>...</td>\n",
       "      <td>...</td>\n",
       "      <td>...</td>\n",
       "      <td>...</td>\n",
       "      <td>...</td>\n",
       "      <td>...</td>\n",
       "      <td>...</td>\n",
       "      <td>...</td>\n",
       "      <td>...</td>\n",
       "      <td>...</td>\n",
       "      <td>...</td>\n",
       "      <td>...</td>\n",
       "      <td>...</td>\n",
       "      <td>...</td>\n",
       "      <td>...</td>\n",
       "      <td>...</td>\n",
       "      <td>...</td>\n",
       "      <td>...</td>\n",
       "      <td>...</td>\n",
       "      <td>...</td>\n",
       "      <td>...</td>\n",
       "      <td>...</td>\n",
       "      <td>...</td>\n",
       "      <td>...</td>\n",
       "      <td>...</td>\n",
       "      <td>...</td>\n",
       "      <td>...</td>\n",
       "      <td>...</td>\n",
       "      <td>...</td>\n",
       "      <td>...</td>\n",
       "      <td>...</td>\n",
       "      <td>...</td>\n",
       "      <td>...</td>\n",
       "      <td>...</td>\n",
       "      <td>...</td>\n",
       "      <td>...</td>\n",
       "      <td>...</td>\n",
       "      <td>...</td>\n",
       "      <td>...</td>\n",
       "      <td>...</td>\n",
       "    </tr>\n",
       "    <tr>\n",
       "      <th>28940999</th>\n",
       "      <td>0</td>\n",
       "      <td>0</td>\n",
       "      <td>0</td>\n",
       "      <td>0</td>\n",
       "      <td>0</td>\n",
       "      <td>1</td>\n",
       "      <td>0</td>\n",
       "      <td>1</td>\n",
       "      <td>0</td>\n",
       "      <td>0</td>\n",
       "      <td>0</td>\n",
       "      <td>0</td>\n",
       "      <td>0</td>\n",
       "      <td>0</td>\n",
       "      <td>0</td>\n",
       "      <td>0</td>\n",
       "      <td>0</td>\n",
       "      <td>0</td>\n",
       "      <td>0</td>\n",
       "      <td>0</td>\n",
       "      <td>0</td>\n",
       "      <td>0</td>\n",
       "      <td>0</td>\n",
       "      <td>0</td>\n",
       "      <td>0</td>\n",
       "      <td>0</td>\n",
       "      <td>0</td>\n",
       "      <td>0</td>\n",
       "      <td>0</td>\n",
       "      <td>0</td>\n",
       "      <td>0</td>\n",
       "      <td>0</td>\n",
       "      <td>0</td>\n",
       "      <td>0</td>\n",
       "      <td>0</td>\n",
       "      <td>0</td>\n",
       "      <td>0</td>\n",
       "      <td>0</td>\n",
       "      <td>0</td>\n",
       "      <td>0</td>\n",
       "      <td>0</td>\n",
       "      <td>0</td>\n",
       "      <td>0</td>\n",
       "      <td>0</td>\n",
       "      <td>0</td>\n",
       "      <td>0</td>\n",
       "      <td>0</td>\n",
       "      <td>0</td>\n",
       "      <td>0</td>\n",
       "      <td>1</td>\n",
       "      <td>0</td>\n",
       "      <td>0</td>\n",
       "      <td>0</td>\n",
       "      <td>0</td>\n",
       "      <td>0</td>\n",
       "      <td>187</td>\n",
       "      <td>0.000000</td>\n",
       "      <td>0.028571</td>\n",
       "      <td>0</td>\n",
       "      <td>0.028571</td>\n",
       "      <td>4</td>\n",
       "      <td>0.893786</td>\n",
       "      <td>0.358090</td>\n",
       "    </tr>\n",
       "    <tr>\n",
       "      <th>28942737</th>\n",
       "      <td>0</td>\n",
       "      <td>0</td>\n",
       "      <td>0</td>\n",
       "      <td>0</td>\n",
       "      <td>1</td>\n",
       "      <td>0</td>\n",
       "      <td>0</td>\n",
       "      <td>1</td>\n",
       "      <td>0</td>\n",
       "      <td>0</td>\n",
       "      <td>0</td>\n",
       "      <td>0</td>\n",
       "      <td>0</td>\n",
       "      <td>0</td>\n",
       "      <td>0</td>\n",
       "      <td>0</td>\n",
       "      <td>0</td>\n",
       "      <td>0</td>\n",
       "      <td>0</td>\n",
       "      <td>0</td>\n",
       "      <td>0</td>\n",
       "      <td>0</td>\n",
       "      <td>0</td>\n",
       "      <td>0</td>\n",
       "      <td>0</td>\n",
       "      <td>0</td>\n",
       "      <td>0</td>\n",
       "      <td>0</td>\n",
       "      <td>0</td>\n",
       "      <td>0</td>\n",
       "      <td>0</td>\n",
       "      <td>0</td>\n",
       "      <td>0</td>\n",
       "      <td>0</td>\n",
       "      <td>0</td>\n",
       "      <td>0</td>\n",
       "      <td>0</td>\n",
       "      <td>0</td>\n",
       "      <td>0</td>\n",
       "      <td>0</td>\n",
       "      <td>0</td>\n",
       "      <td>0</td>\n",
       "      <td>0</td>\n",
       "      <td>0</td>\n",
       "      <td>0</td>\n",
       "      <td>0</td>\n",
       "      <td>0</td>\n",
       "      <td>1</td>\n",
       "      <td>0</td>\n",
       "      <td>0</td>\n",
       "      <td>0</td>\n",
       "      <td>0</td>\n",
       "      <td>0</td>\n",
       "      <td>0</td>\n",
       "      <td>0</td>\n",
       "      <td>7671</td>\n",
       "      <td>0.228571</td>\n",
       "      <td>0.365306</td>\n",
       "      <td>0</td>\n",
       "      <td>0.365306</td>\n",
       "      <td>2</td>\n",
       "      <td>0.976494</td>\n",
       "      <td>0.352785</td>\n",
       "    </tr>\n",
       "    <tr>\n",
       "      <th>28944348</th>\n",
       "      <td>0</td>\n",
       "      <td>0</td>\n",
       "      <td>0</td>\n",
       "      <td>0</td>\n",
       "      <td>0</td>\n",
       "      <td>1</td>\n",
       "      <td>0</td>\n",
       "      <td>1</td>\n",
       "      <td>0</td>\n",
       "      <td>0</td>\n",
       "      <td>0</td>\n",
       "      <td>0</td>\n",
       "      <td>0</td>\n",
       "      <td>0</td>\n",
       "      <td>0</td>\n",
       "      <td>0</td>\n",
       "      <td>0</td>\n",
       "      <td>0</td>\n",
       "      <td>0</td>\n",
       "      <td>0</td>\n",
       "      <td>0</td>\n",
       "      <td>0</td>\n",
       "      <td>0</td>\n",
       "      <td>0</td>\n",
       "      <td>0</td>\n",
       "      <td>0</td>\n",
       "      <td>0</td>\n",
       "      <td>0</td>\n",
       "      <td>0</td>\n",
       "      <td>0</td>\n",
       "      <td>0</td>\n",
       "      <td>0</td>\n",
       "      <td>0</td>\n",
       "      <td>0</td>\n",
       "      <td>0</td>\n",
       "      <td>0</td>\n",
       "      <td>0</td>\n",
       "      <td>0</td>\n",
       "      <td>0</td>\n",
       "      <td>0</td>\n",
       "      <td>0</td>\n",
       "      <td>0</td>\n",
       "      <td>0</td>\n",
       "      <td>0</td>\n",
       "      <td>0</td>\n",
       "      <td>0</td>\n",
       "      <td>0</td>\n",
       "      <td>0</td>\n",
       "      <td>0</td>\n",
       "      <td>1</td>\n",
       "      <td>0</td>\n",
       "      <td>0</td>\n",
       "      <td>0</td>\n",
       "      <td>0</td>\n",
       "      <td>0</td>\n",
       "      <td>2639</td>\n",
       "      <td>0.000000</td>\n",
       "      <td>0.028571</td>\n",
       "      <td>0</td>\n",
       "      <td>0.028571</td>\n",
       "      <td>2</td>\n",
       "      <td>0.763913</td>\n",
       "      <td>0.294430</td>\n",
       "    </tr>\n",
       "    <tr>\n",
       "      <th>28945629</th>\n",
       "      <td>0</td>\n",
       "      <td>0</td>\n",
       "      <td>0</td>\n",
       "      <td>0</td>\n",
       "      <td>0</td>\n",
       "      <td>0</td>\n",
       "      <td>0</td>\n",
       "      <td>1</td>\n",
       "      <td>0</td>\n",
       "      <td>0</td>\n",
       "      <td>0</td>\n",
       "      <td>0</td>\n",
       "      <td>0</td>\n",
       "      <td>0</td>\n",
       "      <td>0</td>\n",
       "      <td>0</td>\n",
       "      <td>0</td>\n",
       "      <td>0</td>\n",
       "      <td>0</td>\n",
       "      <td>0</td>\n",
       "      <td>0</td>\n",
       "      <td>0</td>\n",
       "      <td>0</td>\n",
       "      <td>0</td>\n",
       "      <td>0</td>\n",
       "      <td>0</td>\n",
       "      <td>0</td>\n",
       "      <td>0</td>\n",
       "      <td>0</td>\n",
       "      <td>0</td>\n",
       "      <td>0</td>\n",
       "      <td>0</td>\n",
       "      <td>0</td>\n",
       "      <td>0</td>\n",
       "      <td>0</td>\n",
       "      <td>0</td>\n",
       "      <td>0</td>\n",
       "      <td>0</td>\n",
       "      <td>1</td>\n",
       "      <td>0</td>\n",
       "      <td>0</td>\n",
       "      <td>0</td>\n",
       "      <td>0</td>\n",
       "      <td>0</td>\n",
       "      <td>0</td>\n",
       "      <td>0</td>\n",
       "      <td>0</td>\n",
       "      <td>0</td>\n",
       "      <td>0</td>\n",
       "      <td>0</td>\n",
       "      <td>0</td>\n",
       "      <td>0</td>\n",
       "      <td>0</td>\n",
       "      <td>1</td>\n",
       "      <td>0</td>\n",
       "      <td>5100</td>\n",
       "      <td>0.000000</td>\n",
       "      <td>0.028571</td>\n",
       "      <td>0</td>\n",
       "      <td>0.028571</td>\n",
       "      <td>2</td>\n",
       "      <td>0.953127</td>\n",
       "      <td>0.257294</td>\n",
       "    </tr>\n",
       "    <tr>\n",
       "      <th>28946963</th>\n",
       "      <td>0</td>\n",
       "      <td>0</td>\n",
       "      <td>0</td>\n",
       "      <td>0</td>\n",
       "      <td>1</td>\n",
       "      <td>0</td>\n",
       "      <td>0</td>\n",
       "      <td>1</td>\n",
       "      <td>0</td>\n",
       "      <td>0</td>\n",
       "      <td>0</td>\n",
       "      <td>0</td>\n",
       "      <td>0</td>\n",
       "      <td>0</td>\n",
       "      <td>0</td>\n",
       "      <td>0</td>\n",
       "      <td>0</td>\n",
       "      <td>0</td>\n",
       "      <td>0</td>\n",
       "      <td>0</td>\n",
       "      <td>0</td>\n",
       "      <td>0</td>\n",
       "      <td>0</td>\n",
       "      <td>0</td>\n",
       "      <td>0</td>\n",
       "      <td>0</td>\n",
       "      <td>0</td>\n",
       "      <td>0</td>\n",
       "      <td>0</td>\n",
       "      <td>0</td>\n",
       "      <td>0</td>\n",
       "      <td>0</td>\n",
       "      <td>0</td>\n",
       "      <td>0</td>\n",
       "      <td>0</td>\n",
       "      <td>0</td>\n",
       "      <td>0</td>\n",
       "      <td>0</td>\n",
       "      <td>0</td>\n",
       "      <td>0</td>\n",
       "      <td>0</td>\n",
       "      <td>0</td>\n",
       "      <td>0</td>\n",
       "      <td>0</td>\n",
       "      <td>0</td>\n",
       "      <td>0</td>\n",
       "      <td>0</td>\n",
       "      <td>1</td>\n",
       "      <td>0</td>\n",
       "      <td>0</td>\n",
       "      <td>0</td>\n",
       "      <td>0</td>\n",
       "      <td>0</td>\n",
       "      <td>0</td>\n",
       "      <td>0</td>\n",
       "      <td>10065</td>\n",
       "      <td>0.164835</td>\n",
       "      <td>0.202041</td>\n",
       "      <td>0</td>\n",
       "      <td>0.202041</td>\n",
       "      <td>3</td>\n",
       "      <td>0.998944</td>\n",
       "      <td>0.315650</td>\n",
       "    </tr>\n",
       "  </tbody>\n",
       "</table>\n",
       "<p>11892 rows × 63 columns</p>\n",
       "</div>"
      ],
      "text/plain": [
       "          0  1  10  11  12  13  14  15  16  17  18  19  2  20  21  22  23  24  \\\n",
       "0         0  0   0   0   1   0   0   1   0   0   0   0  0   0   0   0   0   0   \n",
       "30500     0  0   0   0   1   0   0   1   0   0   0   0  0   0   0   0   0   0   \n",
       "31873     0  0   1   0   0   0   0   1   0   0   0   0  0   0   0   0   0   0   \n",
       "33439     0  0   0   0   1   0   0   1   0   0   0   0  0   0   0   0   0   0   \n",
       "88576     0  0   0   0   0   0   0   1   0   0   0   0  0   0   0   0   0   0   \n",
       "...      .. ..  ..  ..  ..  ..  ..  ..  ..  ..  ..  .. ..  ..  ..  ..  ..  ..   \n",
       "28940999  0  0   0   0   0   1   0   1   0   0   0   0  0   0   0   0   0   0   \n",
       "28942737  0  0   0   0   1   0   0   1   0   0   0   0  0   0   0   0   0   0   \n",
       "28944348  0  0   0   0   0   1   0   1   0   0   0   0  0   0   0   0   0   0   \n",
       "28945629  0  0   0   0   0   0   0   1   0   0   0   0  0   0   0   0   0   0   \n",
       "28946963  0  0   0   0   1   0   0   1   0   0   0   0  0   0   0   0   0   0   \n",
       "\n",
       "          25  26  27  28  29  3  30  31  32  33  34  35  36  37  38  39  4  \\\n",
       "0          0   0   0   0   0  0   0   0   0   0   0   0   0   0   0   0  0   \n",
       "30500      0   0   0   0   0  0   0   0   0   0   0   0   0   0   0   0  0   \n",
       "31873      0   0   0   0   0  0   0   0   0   0   0   0   0   0   0   0  0   \n",
       "33439      0   0   0   0   0  0   0   0   0   0   0   0   0   0   0   0  0   \n",
       "88576      0   0   0   0   0  0   0   0   0   0   0   0   0   0   0   0  0   \n",
       "...       ..  ..  ..  ..  .. ..  ..  ..  ..  ..  ..  ..  ..  ..  ..  .. ..   \n",
       "28940999   0   0   0   0   0  0   0   0   0   0   0   0   0   0   0   0  0   \n",
       "28942737   0   0   0   0   0  0   0   0   0   0   0   0   0   0   0   0  0   \n",
       "28944348   0   0   0   0   0  0   0   0   0   0   0   0   0   0   0   0  0   \n",
       "28945629   0   0   0   0   0  0   0   0   0   0   0   0   0   0   0   0  0   \n",
       "28946963   0   0   0   0   0  0   0   0   0   0   0   0   0   0   0   0  0   \n",
       "\n",
       "          40  41  42  43  44  45  46  47  48  49  5  50  51  52  53  54  6  7  \\\n",
       "0          0   0   0   0   0   0   0   0   0   0  0   0   1   0   0   0  0  0   \n",
       "30500      0   0   0   0   0   0   0   0   0   0  0   0   1   0   0   0  0  0   \n",
       "31873      0   0   0   0   0   0   0   0   1   0  0   0   0   0   0   0  0  0   \n",
       "33439      0   0   0   0   0   0   0   0   0   0  0   0   1   0   0   0  0  0   \n",
       "88576      0   0   0   1   0   0   0   0   0   0  0   0   0   0   0   0  0  0   \n",
       "...       ..  ..  ..  ..  ..  ..  ..  ..  ..  .. ..  ..  ..  ..  ..  .. .. ..   \n",
       "28940999   0   0   0   0   0   0   0   0   0   0  0   0   0   0   1   0  0  0   \n",
       "28942737   0   0   0   0   0   0   0   0   0   0  0   0   1   0   0   0  0  0   \n",
       "28944348   0   0   0   0   0   0   0   0   0   0  0   0   0   0   1   0  0  0   \n",
       "28945629   0   0   0   1   0   0   0   0   0   0  0   0   0   0   0   0  0  0   \n",
       "28946963   0   0   0   0   0   0   0   0   0   0  0   0   1   0   0   0  0  0   \n",
       "\n",
       "          8  9  album_id  buy_history_price  i30_meta_price  label  \\\n",
       "0         0  0      9174           0.054945        0.051020      1   \n",
       "30500     0  0     11779           0.283516        0.202041      0   \n",
       "31873     0  0      4715           0.030769        0.028571      0   \n",
       "33439     0  0     11453           0.000000        0.000000      1   \n",
       "88576     1  0      3008           0.030769        0.028571      0   \n",
       "...      .. ..       ...                ...             ...    ...   \n",
       "28940999  0  0       187           0.000000        0.028571      0   \n",
       "28942737  0  0      7671           0.228571        0.365306      0   \n",
       "28944348  0  0      2639           0.000000        0.028571      0   \n",
       "28945629  1  0      5100           0.000000        0.028571      0   \n",
       "28946963  0  0     10065           0.164835        0.202041      0   \n",
       "\n",
       "          movie_meta_price  pr_info  release_date  run_time  \n",
       "0                 0.051020        3      0.988236  0.281167  \n",
       "30500             0.202041        2      0.999764  0.305040  \n",
       "31873             0.028571        4      0.952768  0.251989  \n",
       "33439             0.000000        3      0.999290  0.286472  \n",
       "88576             0.028571        4      0.940414  0.246684  \n",
       "...                    ...      ...           ...       ...  \n",
       "28940999          0.028571        4      0.893786  0.358090  \n",
       "28942737          0.365306        2      0.976494  0.352785  \n",
       "28944348          0.028571        2      0.763913  0.294430  \n",
       "28945629          0.028571        2      0.953127  0.257294  \n",
       "28946963          0.202041        3      0.998944  0.315650  \n",
       "\n",
       "[11892 rows x 63 columns]"
      ]
     },
     "execution_count": 112,
     "metadata": {},
     "output_type": "execute_result"
    }
   ],
   "source": [
    "cont_uni_tab"
   ]
  }
 ],
 "metadata": {
  "kernelspec": {
   "display_name": "Python [conda env:tensorflow2_latest_p37]",
   "language": "python",
   "name": "conda-env-tensorflow2_latest_p37-py"
  },
  "language_info": {
   "codemirror_mode": {
    "name": "ipython",
    "version": 3
   },
   "file_extension": ".py",
   "mimetype": "text/x-python",
   "name": "python",
   "nbconvert_exporter": "python",
   "pygments_lexer": "ipython3",
   "version": "3.7.7"
  }
 },
 "nbformat": 4,
 "nbformat_minor": 4
}
