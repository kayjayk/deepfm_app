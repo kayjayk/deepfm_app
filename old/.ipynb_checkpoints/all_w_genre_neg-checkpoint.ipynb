{
 "cells": [
  {
   "cell_type": "code",
   "execution_count": 2,
   "metadata": {},
   "outputs": [
    {
     "name": "stdout",
     "output_type": "stream",
     "text": [
      "tensorflow version :  2.3.1\n",
      "keras version :  2.4.0\n",
      "WARNING:tensorflow:From <ipython-input-2-a95b7deb4494>:18: is_gpu_available (from tensorflow.python.framework.test_util) is deprecated and will be removed in a future version.\n",
      "Instructions for updating:\n",
      "Use `tf.config.list_physical_devices('GPU')` instead.\n",
      "GPU available ? :  True\n"
     ]
    }
   ],
   "source": [
    "# gpu number setting\n",
    "import os\n",
    "os.environ['CUDA_DEVICE_ORDER'] = 'PCI_BUS_ID'\n",
    "os.environ[\"CUDA_VISIBLE_DEVICES\"] = '1' ## gpu 번호 셋팅 윤건 :0, 기준 : 1, 준형 :2,\n",
    "\n",
    "# Gpu growth setting\n",
    "import tensorflow as tf\n",
    "config = tf.compat.v1.ConfigProto()\n",
    "config.gpu_options.allow_growth = True\n",
    "session = tf.compat.v1.Session(config=config)\n",
    "\n",
    "\n",
    "# tensorflow & keras version check\n",
    "print('tensorflow version : ' , tf.__version__)\n",
    "print('keras version : ' , tf.keras.__version__)\n",
    "\n",
    "# tensorflow gpu available check \n",
    "print('GPU available ? : ', tf.test.is_gpu_available(cuda_only=False, min_cuda_compute_capability=None))"
   ]
  },
  {
   "cell_type": "code",
   "execution_count": 3,
   "metadata": {},
   "outputs": [],
   "source": [
    "import pandas as pd\n",
    "from sklearn.metrics import mean_squared_error\n",
    "from sklearn.model_selection import train_test_split\n",
    "from sklearn.preprocessing import LabelEncoder, MinMaxScaler\n",
    "\n",
    "from deepctr.models import *\n",
    "from deepctr.feature_column import SparseFeat, DenseFeat, get_feature_names"
   ]
  },
  {
   "cell_type": "code",
   "execution_count": 4,
   "metadata": {},
   "outputs": [],
   "source": [
    "pd.set_option('display.max_columns', 100)"
   ]
  },
  {
   "cell_type": "code",
   "execution_count": 5,
   "metadata": {},
   "outputs": [
    {
     "name": "stderr",
     "output_type": "stream",
     "text": [
      "/home/ubuntu/anaconda3/envs/tensorflow2_latest_p37/lib/python3.7/site-packages/IPython/core/interactiveshell.py:3063: DtypeWarning: Columns (0,25,26,27,28) have mixed types.Specify dtype option on import or set low_memory=False.\n",
      "  interactivity=interactivity, compiler=compiler, result=result)\n"
     ]
    }
   ],
   "source": [
    "raw = pd.read_csv('../Data/tb_ipr_m_seamless_2nd_movie.txt', sep='\u0001', header=None)"
   ]
  },
  {
   "cell_type": "markdown",
   "metadata": {},
   "source": [
    "* insert column names"
   ]
  },
  {
   "cell_type": "code",
   "execution_count": 6,
   "metadata": {},
   "outputs": [],
   "source": [
    "raw.columns = ['tb_ipr_m_seamless_2nd_movie.sa_id',\n",
    "       'tb_ipr_m_seamless_2nd_movie.s_time',\n",
    "       'tb_ipr_m_seamless_2nd_movie.e_time',\n",
    "       'tb_ipr_m_seamless_2nd_movie.watch_duration',\n",
    "       'tb_ipr_m_seamless_2nd_movie.album_id',\n",
    "       'tb_ipr_m_seamless_2nd_movie.album_name',\n",
    "       'tb_ipr_m_seamless_2nd_movie.vod_s_point',\n",
    "       'tb_ipr_m_seamless_2nd_movie.vod_e_point',\n",
    "       'tb_ipr_m_seamless_2nd_movie.agree_yn',\n",
    "       'tb_ipr_m_seamless_2nd_movie.category_id',\n",
    "       'tb_ipr_m_seamless_2nd_movie.release_date',\n",
    "       'tb_ipr_m_seamless_2nd_movie.run_time',\n",
    "       'tb_ipr_m_seamless_2nd_movie.meta_genre',\n",
    "       'tb_ipr_m_seamless_2nd_movie.genre_large',\n",
    "       'tb_ipr_m_seamless_2nd_movie.genre_mid',\n",
    "       'tb_ipr_m_seamless_2nd_movie.genre_small',\n",
    "       'tb_ipr_m_seamless_2nd_movie.movie_meta_price',\n",
    "       'tb_ipr_m_seamless_2nd_movie.buy_history_price',\n",
    "       'tb_ipr_m_seamless_2nd_movie.i30_meta_price',\n",
    "       'tb_ipr_m_seamless_2nd_movie.buy_tot',\n",
    "       'tb_ipr_m_seamless_2nd_movie.view_no',\n",
    "       'tb_ipr_m_seamless_2nd_movie.fod',\n",
    "       'tb_ipr_m_seamless_2nd_movie.buy_1_2',\n",
    "       'tb_ipr_m_seamless_2nd_movie.buy_3',\n",
    "       'tb_ipr_m_seamless_2nd_movie.buy_seg',\n",
    "       'tb_ipr_m_seamless_2nd_movie.amt_1_4',\n",
    "       'tb_ipr_m_seamless_2nd_movie.amt_2_4',\n",
    "       'tb_ipr_m_seamless_2nd_movie.amt_3_4',\n",
    "       'tb_ipr_m_seamless_2nd_movie.amt_4_4',\n",
    "       'tb_ipr_m_seamless_2nd_movie.amt_r_gabun',\n",
    "       'tb_ipr_m_seamless_2nd_movie.weekdays',\n",
    "       'tb_ipr_m_seamless_2nd_movie.weekends',\n",
    "       'tb_ipr_m_seamless_2nd_movie.dawn',\n",
    "       'tb_ipr_m_seamless_2nd_movie.morning',\n",
    "       'tb_ipr_m_seamless_2nd_movie.afternoon',\n",
    "       'tb_ipr_m_seamless_2nd_movie.evening',\n",
    "       'tb_ipr_m_seamless_2nd_movie.watch_ratio',\n",
    "       'tb_ipr_m_seamless_2nd_movie.current_rate',\n",
    "       'tb_ipr_m_seamless_2nd_movie.ncf_rating']"
   ]
  },
  {
   "cell_type": "code",
   "execution_count": 7,
   "metadata": {},
   "outputs": [],
   "source": [
    "raw.columns = list(map(lambda x: x.split('.')[-1], raw.columns))"
   ]
  },
  {
   "cell_type": "markdown",
   "metadata": {},
   "source": [
    "* distinct user 968,091\n",
    "* distinct album 10,570"
   ]
  },
  {
   "cell_type": "markdown",
   "metadata": {},
   "source": [
    "* featrue 분리, sparse, dense, ambiguous, unnecessary"
   ]
  },
  {
   "cell_type": "markdown",
   "metadata": {},
   "source": [
    "* meta_genre, 대,중,소장르의 관계\n",
    "* target column을 뭘로할지\n",
    "* how to sample negatively?"
   ]
  },
  {
   "cell_type": "code",
   "execution_count": 8,
   "metadata": {},
   "outputs": [],
   "source": [
    "sparse_features = ['sa_id', 'album_id', 'buy_seg']\n",
    "dense_features = ['release_date', 'run_time', 'movie_meta_price', 'i30_meta_price', 'buy_tot',\n",
    "                  'amt_1_4', 'amt_2_4', 'amt_3_4', 'amt_4_4']\n",
    "ambiguous_features = [ 'agree_yn', 'meta_genre', 'genre_large', 'genre_mid', 'genre_small']\n",
    "unnecessary_features = ['category_id', # NaN 약 650만 중에 25만 정도.\n",
    "                        's_time', 'e_time', # future\n",
    "                        'watch_duration', # future\n",
    "                        'buy_history_price', # \\\\N 값이 약 482만 개\n",
    "                        'vod_s_point', 'vod_e_point', \n",
    "                        'album_name',\n",
    "                        'view_no',\n",
    "                        'fod', 'buy_1_2', 'buy_3',\n",
    "                        'amt_r_gabun',\n",
    "                        'watch_ratio',\n",
    "                        'weekdays', 'weekends', 'dawn', 'morning', 'afternoon', 'evening',\n",
    "                        'current_rate']\n",
    "target = ['ncf_rating']"
   ]
  },
  {
   "cell_type": "markdown",
   "metadata": {},
   "source": [
    "* modification of genre columns"
   ]
  },
  {
   "cell_type": "code",
   "execution_count": 9,
   "metadata": {},
   "outputs": [],
   "source": [
    "genre_col = 'meta_genre'\n",
    "genres_list = list(raw[genre_col].apply(lambda x: str(x).strip().split('/')))\n",
    "\n",
    "flat_list = []\n",
    "for sub_list in genres_list:\n",
    "    for genre in sub_list:\n",
    "        if genre not in flat_list:\n",
    "            flat_list.append(genre)\n",
    "\n",
    "for i in range(len(flat_list)):\n",
    "    flat_list[i] = flat_list[i].split(', ')\n",
    "\n",
    "flat_list_2 = []\n",
    "for sub_list in flat_list:\n",
    "    for genre in sub_list:\n",
    "        if genre not in flat_list_2:\n",
    "            flat_list_2.append(genre)\n",
    "\n",
    "for i in range(len(flat_list_2)):\n",
    "    flat_list_2[i] = flat_list_2[i].split(',')\n",
    "    \n",
    "flat_list_3 = []\n",
    "for sub_list in flat_list_2:\n",
    "    for genre in sub_list:\n",
    "        if genre not in flat_list_3:\n",
    "            flat_list_3.append(genre)\n",
    "\n",
    "# raw[genre_col] = raw[genre_col].astype(str)\n",
    "\n",
    "meta_genre = flat_list_3"
   ]
  },
  {
   "cell_type": "code",
   "execution_count": 10,
   "metadata": {},
   "outputs": [
    {
     "data": {
      "text/plain": [
       "['액션',\n",
       " '드라마',\n",
       " '로맨스',\n",
       " '스릴러',\n",
       " '극장판 애니',\n",
       " '코미디',\n",
       " '공포',\n",
       " 'SF',\n",
       " '판타지',\n",
       " '다큐',\n",
       " 'N',\n",
       " 'nan',\n",
       " '극장판애니',\n",
       " '기타',\n",
       " '영화',\n",
       " '멜로',\n",
       " '다큐멘터리',\n",
       " '극장판 에니',\n",
       " '모험',\n",
       " 'n',\n",
       " '애니메이션',\n",
       " 'ㅜ',\n",
       " '범죄',\n",
       " '해외영화',\n",
       " '애정',\n",
       " '미국',\n",
       " '성인',\n",
       " '극장판',\n",
       " '전쟁']"
      ]
     },
     "execution_count": 10,
     "metadata": {},
     "output_type": "execute_result"
    }
   ],
   "source": [
    "meta_genre"
   ]
  },
  {
   "cell_type": "code",
   "execution_count": 11,
   "metadata": {},
   "outputs": [],
   "source": [
    "genre_col = 'genre_large'\n",
    "genres_list = list(raw[genre_col].apply(lambda x: str(x).strip().split('/')))\n",
    "\n",
    "flat_list = []\n",
    "for sub_list in genres_list:\n",
    "    for genre in sub_list:\n",
    "        if genre not in flat_list:\n",
    "            flat_list.append(genre)\n",
    "\n",
    "for i in range(len(flat_list)):\n",
    "    flat_list[i] = flat_list[i].split(', ')\n",
    "\n",
    "flat_list_2 = []\n",
    "for sub_list in flat_list:\n",
    "    for genre in sub_list:\n",
    "        if genre not in flat_list_2:\n",
    "            flat_list_2.append(genre)\n",
    "\n",
    "for i in range(len(flat_list_2)):\n",
    "    flat_list_2[i] = flat_list_2[i].split(',')\n",
    "    \n",
    "flat_list_3 = []\n",
    "for sub_list in flat_list_2:\n",
    "    for genre in sub_list:\n",
    "        if genre not in flat_list_3:\n",
    "            flat_list_3.append(genre)\n",
    "\n",
    "# raw[genre_col] = raw[genre_col].astype(str)\n",
    "\n",
    "large_genre = flat_list_3"
   ]
  },
  {
   "cell_type": "code",
   "execution_count": 12,
   "metadata": {},
   "outputs": [
    {
     "data": {
      "text/plain": [
       "['영화', 'nan', '애니']"
      ]
     },
     "execution_count": 12,
     "metadata": {},
     "output_type": "execute_result"
    }
   ],
   "source": [
    "large_genre"
   ]
  },
  {
   "cell_type": "code",
   "execution_count": 13,
   "metadata": {},
   "outputs": [],
   "source": [
    "genre_col = 'genre_mid'\n",
    "genres_list = list(raw[genre_col].apply(lambda x: str(x).strip().split('/')))\n",
    "\n",
    "flat_list = []\n",
    "for sub_list in genres_list:\n",
    "    for genre in sub_list:\n",
    "        if genre not in flat_list:\n",
    "            flat_list.append(genre)\n",
    "\n",
    "for i in range(len(flat_list)):\n",
    "    flat_list[i] = flat_list[i].split(', ')\n",
    "\n",
    "flat_list_2 = []\n",
    "for sub_list in flat_list:\n",
    "    for genre in sub_list:\n",
    "        if genre not in flat_list_2:\n",
    "            flat_list_2.append(genre)\n",
    "\n",
    "for i in range(len(flat_list_2)):\n",
    "    flat_list_2[i] = flat_list_2[i].split(',')\n",
    "    \n",
    "flat_list_3 = []\n",
    "for sub_list in flat_list_2:\n",
    "    for genre in sub_list:\n",
    "        if genre not in flat_list_3:\n",
    "            flat_list_3.append(genre)\n",
    "\n",
    "# raw[genre_col] = raw[genre_col].astype(str)\n",
    "\n",
    "mid_genre = flat_list_3"
   ]
  },
  {
   "cell_type": "code",
   "execution_count": 14,
   "metadata": {
    "scrolled": true
   },
   "outputs": [
    {
     "data": {
      "text/plain": [
       "['액션',\n",
       " '드라마',\n",
       " '로맨스',\n",
       " '스릴러',\n",
       " '극장판 애니',\n",
       " '코미디',\n",
       " '공포',\n",
       " 'SF',\n",
       " '판타지',\n",
       " '다큐',\n",
       " 'nan',\n",
       " '시리즈',\n",
       " '기타']"
      ]
     },
     "execution_count": 14,
     "metadata": {},
     "output_type": "execute_result"
    }
   ],
   "source": [
    "mid_genre"
   ]
  },
  {
   "cell_type": "code",
   "execution_count": 15,
   "metadata": {},
   "outputs": [],
   "source": [
    "genre_col = 'genre_small'\n",
    "genres_list = list(raw[genre_col].apply(lambda x: str(x).strip().split('/')))\n",
    "\n",
    "flat_list = []\n",
    "for sub_list in genres_list:\n",
    "    for genre in sub_list:\n",
    "        if genre not in flat_list:\n",
    "            flat_list.append(genre)\n",
    "\n",
    "for i in range(len(flat_list)):\n",
    "    flat_list[i] = flat_list[i].split(', ')\n",
    "\n",
    "flat_list_2 = []\n",
    "for sub_list in flat_list:\n",
    "    for genre in sub_list:\n",
    "        if genre not in flat_list_2:\n",
    "            flat_list_2.append(genre)\n",
    "\n",
    "for i in range(len(flat_list_2)):\n",
    "    flat_list_2[i] = flat_list_2[i].split(',')\n",
    "    \n",
    "flat_list_3 = []\n",
    "for sub_list in flat_list_2:\n",
    "    for genre in sub_list:\n",
    "        if genre not in flat_list_3:\n",
    "            flat_list_3.append(genre)\n",
    "\n",
    "# raw[genre_col] = raw[genre_col].astype(str)\n",
    "\n",
    "small_genre = flat_list_3"
   ]
  },
  {
   "cell_type": "code",
   "execution_count": 16,
   "metadata": {
    "scrolled": true
   },
   "outputs": [
    {
     "data": {
      "text/plain": [
       "['nan',\n",
       " 'SF',\n",
       " '판타지',\n",
       " '어린이',\n",
       " '가족',\n",
       " '캐치온',\n",
       " '성인',\n",
       " '에로',\n",
       " '액션',\n",
       " '독립',\n",
       " '코미디',\n",
       " '드라마',\n",
       " '무협',\n",
       " '로맨스',\n",
       " '공연예술',\n",
       " '모험',\n",
       " '스릴러',\n",
       " '예고편',\n",
       " '단편',\n",
       " 'UHD']"
      ]
     },
     "execution_count": 16,
     "metadata": {},
     "output_type": "execute_result"
    }
   ],
   "source": [
    "small_genre"
   ]
  },
  {
   "cell_type": "code",
   "execution_count": 17,
   "metadata": {},
   "outputs": [
    {
     "name": "stdout",
     "output_type": "stream",
     "text": [
      "['액션', '드라마', '로맨스', '스릴러', '극장판 애니', '코미디', '공포', 'SF', '판타지', '다큐', 'N', 'nan', '극장판애니', '기타', '영화', '멜로', '다큐멘터리', '극장판 에니', '모험', 'n', '애니메이션', 'ㅜ', '범죄', '해외영화', '애정', '미국', '성인', '극장판', '전쟁']\n",
      "['영화', 'nan', '애니']\n",
      "['액션', '드라마', '로맨스', '스릴러', '극장판 애니', '코미디', '공포', 'SF', '판타지', '다큐', 'nan', '시리즈', '기타']\n",
      "['nan', 'SF', '판타지', '어린이', '가족', '캐치온', '성인', '에로', '액션', '독립', '코미디', '드라마', '무협', '로맨스', '공연예술', '모험', '스릴러', '예고편', '단편', 'UHD']\n"
     ]
    }
   ],
   "source": [
    "print(meta_genre)\n",
    "print(large_genre)\n",
    "print(mid_genre)\n",
    "print(small_genre)"
   ]
  },
  {
   "cell_type": "code",
   "execution_count": 18,
   "metadata": {},
   "outputs": [],
   "source": [
    "all_genre = set(meta_genre + large_genre + mid_genre + small_genre)"
   ]
  },
  {
   "cell_type": "code",
   "execution_count": 19,
   "metadata": {},
   "outputs": [
    {
     "data": {
      "text/plain": [
       "{'N',\n",
       " 'SF',\n",
       " 'UHD',\n",
       " 'n',\n",
       " 'nan',\n",
       " 'ㅜ',\n",
       " '가족',\n",
       " '공연예술',\n",
       " '공포',\n",
       " '극장판',\n",
       " '극장판 애니',\n",
       " '극장판 에니',\n",
       " '극장판애니',\n",
       " '기타',\n",
       " '다큐',\n",
       " '다큐멘터리',\n",
       " '단편',\n",
       " '독립',\n",
       " '드라마',\n",
       " '로맨스',\n",
       " '멜로',\n",
       " '모험',\n",
       " '무협',\n",
       " '미국',\n",
       " '범죄',\n",
       " '성인',\n",
       " '스릴러',\n",
       " '시리즈',\n",
       " '애니',\n",
       " '애니메이션',\n",
       " '애정',\n",
       " '액션',\n",
       " '어린이',\n",
       " '에로',\n",
       " '영화',\n",
       " '예고편',\n",
       " '전쟁',\n",
       " '캐치온',\n",
       " '코미디',\n",
       " '판타지',\n",
       " '해외영화'}"
      ]
     },
     "execution_count": 19,
     "metadata": {},
     "output_type": "execute_result"
    }
   ],
   "source": [
    "all_genre"
   ]
  },
  {
   "cell_type": "code",
   "execution_count": 20,
   "metadata": {},
   "outputs": [],
   "source": [
    "final_genre = all_genre.difference(('N', 'n', 'nan', 'ㅜ',\n",
    "                  '극장판 애니', '극장판 에니', '극장판애니',\n",
    "                  '다큐멘터리',\n",
    "                 '애니메이션'))"
   ]
  },
  {
   "cell_type": "code",
   "execution_count": 21,
   "metadata": {},
   "outputs": [],
   "source": [
    "for genre in final_genre:\n",
    "    raw[genre] = False"
   ]
  },
  {
   "cell_type": "code",
   "execution_count": 38,
   "metadata": {},
   "outputs": [
    {
     "data": {
      "text/plain": [
       "'로맨스'"
      ]
     },
     "execution_count": 38,
     "metadata": {},
     "output_type": "execute_result"
    }
   ],
   "source": [
    "raw.loc[2, 'meta_genre']"
   ]
  },
  {
   "cell_type": "code",
   "execution_count": null,
   "metadata": {
    "scrolled": true
   },
   "outputs": [],
   "source": [
    "gen_cols = ['meta_genre', 'genre_large', 'genre_mid', 'genre_small']\n",
    "for idx, row in raw.iterrows():\n",
    "    for col in gen_cols:\n",
    "        for dum_gen in final_genre:\n",
    "            if dum_gen in str(row[col]):\n",
    "                raw.loc[idx, dum_gen] = True"
   ]
  },
  {
   "cell_type": "code",
   "execution_count": 43,
   "metadata": {},
   "outputs": [
    {
     "data": {
      "text/plain": [
       "sa_id                205101491713\n",
       "s_time             20200518164427\n",
       "e_time             20200518193442\n",
       "watch_duration              10109\n",
       "album_id          M01198J812PPV00\n",
       "                       ...       \n",
       "무협                          False\n",
       "시리즈                         False\n",
       "액션                           True\n",
       "공포                          False\n",
       "모험                          False\n",
       "Name: 0, Length: 71, dtype: object"
      ]
     },
     "execution_count": 43,
     "metadata": {},
     "output_type": "execute_result"
    }
   ],
   "source": [
    "row"
   ]
  },
  {
   "cell_type": "code",
   "execution_count": null,
   "metadata": {},
   "outputs": [],
   "source": [
    "raw[0]"
   ]
  },
  {
   "cell_type": "markdown",
   "metadata": {},
   "source": [
    "* fill na"
   ]
  },
  {
   "cell_type": "code",
   "execution_count": 7,
   "metadata": {},
   "outputs": [],
   "source": [
    "raw['release_date'] = raw['release_date'].fillna(value = raw['release_date'].median())"
   ]
  },
  {
   "cell_type": "markdown",
   "metadata": {},
   "source": [
    "* drop na ('\\\\N' 이 담긴 row 88개)"
   ]
  },
  {
   "cell_type": "code",
   "execution_count": 8,
   "metadata": {
    "scrolled": true
   },
   "outputs": [],
   "source": [
    "raw = raw[raw['amt_1_4'] != '\\\\N']"
   ]
  },
  {
   "cell_type": "markdown",
   "metadata": {},
   "source": [
    "* change column type"
   ]
  },
  {
   "cell_type": "code",
   "execution_count": 9,
   "metadata": {},
   "outputs": [],
   "source": [
    "raw[['sa_id', 'album_id']] = raw[['sa_id', 'album_id']].astype(str)"
   ]
  },
  {
   "cell_type": "code",
   "execution_count": 10,
   "metadata": {
    "scrolled": true
   },
   "outputs": [],
   "source": [
    "raw[['amt_1_4', 'amt_2_4', 'amt_3_4', 'amt_4_4']] = raw[['amt_1_4', 'amt_2_4', 'amt_3_4', 'amt_4_4']].astype(float)"
   ]
  },
  {
   "cell_type": "code",
   "execution_count": null,
   "metadata": {},
   "outputs": [],
   "source": []
  },
  {
   "cell_type": "code",
   "execution_count": 221,
   "metadata": {},
   "outputs": [
    {
     "name": "stdout",
     "output_type": "stream",
     "text": [
      "39\n",
      "3\n",
      "9\n",
      "39\n"
     ]
    }
   ],
   "source": [
    "print(len(raw.columns))\n",
    "print(len(sparse_features))\n",
    "print(len(dense_features))\n",
    "print(len(sparse_features) +len(dense_features)+ len(ambiguous_features) + len(unnecessary_features) + len(target))"
   ]
  },
  {
   "cell_type": "code",
   "execution_count": 11,
   "metadata": {},
   "outputs": [],
   "source": [
    "data = raw[sparse_features + dense_features + target]"
   ]
  },
  {
   "cell_type": "code",
   "execution_count": 12,
   "metadata": {
    "scrolled": true
   },
   "outputs": [
    {
     "name": "stderr",
     "output_type": "stream",
     "text": [
      "/home/ubuntu/anaconda3/envs/tensorflow2_latest_p37/lib/python3.7/site-packages/ipykernel_launcher.py:3: SettingWithCopyWarning: \n",
      "A value is trying to be set on a copy of a slice from a DataFrame.\n",
      "Try using .loc[row_indexer,col_indexer] = value instead\n",
      "\n",
      "See the caveats in the documentation: https://pandas.pydata.org/pandas-docs/stable/user_guide/indexing.html#returning-a-view-versus-a-copy\n",
      "  This is separate from the ipykernel package so we can avoid doing imports until\n",
      "/home/ubuntu/anaconda3/envs/tensorflow2_latest_p37/lib/python3.7/site-packages/ipykernel_launcher.py:6: SettingWithCopyWarning: \n",
      "A value is trying to be set on a copy of a slice from a DataFrame.\n",
      "Try using .loc[row_indexer,col_indexer] = value instead\n",
      "\n",
      "See the caveats in the documentation: https://pandas.pydata.org/pandas-docs/stable/user_guide/indexing.html#returning-a-view-versus-a-copy\n",
      "  \n",
      "/home/ubuntu/anaconda3/envs/tensorflow2_latest_p37/lib/python3.7/site-packages/pandas/core/indexing.py:966: SettingWithCopyWarning: \n",
      "A value is trying to be set on a copy of a slice from a DataFrame.\n",
      "Try using .loc[row_indexer,col_indexer] = value instead\n",
      "\n",
      "See the caveats in the documentation: https://pandas.pydata.org/pandas-docs/stable/user_guide/indexing.html#returning-a-view-versus-a-copy\n",
      "  self.obj[item] = s\n"
     ]
    }
   ],
   "source": [
    "for feat in sparse_features:\n",
    "    lbe = LabelEncoder()\n",
    "    data[feat] = lbe.fit_transform(data[feat])\n",
    "    \n",
    "mms = MinMaxScaler(feature_range=(0, 1))\n",
    "data[dense_features] = mms.fit_transform(data[dense_features])"
   ]
  },
  {
   "cell_type": "code",
   "execution_count": 13,
   "metadata": {
    "scrolled": true
   },
   "outputs": [
    {
     "data": {
      "text/html": [
       "<div>\n",
       "<style scoped>\n",
       "    .dataframe tbody tr th:only-of-type {\n",
       "        vertical-align: middle;\n",
       "    }\n",
       "\n",
       "    .dataframe tbody tr th {\n",
       "        vertical-align: top;\n",
       "    }\n",
       "\n",
       "    .dataframe thead th {\n",
       "        text-align: right;\n",
       "    }\n",
       "</style>\n",
       "<table border=\"1\" class=\"dataframe\">\n",
       "  <thead>\n",
       "    <tr style=\"text-align: right;\">\n",
       "      <th></th>\n",
       "      <th>sa_id</th>\n",
       "      <th>album_id</th>\n",
       "      <th>buy_seg</th>\n",
       "      <th>release_date</th>\n",
       "      <th>run_time</th>\n",
       "      <th>movie_meta_price</th>\n",
       "      <th>i30_meta_price</th>\n",
       "      <th>buy_tot</th>\n",
       "      <th>amt_1_4</th>\n",
       "      <th>amt_2_4</th>\n",
       "      <th>amt_3_4</th>\n",
       "      <th>amt_4_4</th>\n",
       "      <th>ncf_rating</th>\n",
       "    </tr>\n",
       "  </thead>\n",
       "  <tbody>\n",
       "    <tr>\n",
       "      <th>0</th>\n",
       "      <td>68</td>\n",
       "      <td>8282</td>\n",
       "      <td>3</td>\n",
       "      <td>0.987883</td>\n",
       "      <td>0.480106</td>\n",
       "      <td>0.051020</td>\n",
       "      <td>0.051020</td>\n",
       "      <td>0.000000</td>\n",
       "      <td>1.0</td>\n",
       "      <td>0.0</td>\n",
       "      <td>0.0</td>\n",
       "      <td>0.0</td>\n",
       "      <td>0.493201</td>\n",
       "    </tr>\n",
       "    <tr>\n",
       "      <th>1</th>\n",
       "      <td>103</td>\n",
       "      <td>1724</td>\n",
       "      <td>3</td>\n",
       "      <td>0.787911</td>\n",
       "      <td>0.305040</td>\n",
       "      <td>0.028571</td>\n",
       "      <td>0.028571</td>\n",
       "      <td>0.000000</td>\n",
       "      <td>1.0</td>\n",
       "      <td>0.0</td>\n",
       "      <td>0.0</td>\n",
       "      <td>0.0</td>\n",
       "      <td>0.062150</td>\n",
       "    </tr>\n",
       "    <tr>\n",
       "      <th>2</th>\n",
       "      <td>103</td>\n",
       "      <td>2542</td>\n",
       "      <td>3</td>\n",
       "      <td>0.800467</td>\n",
       "      <td>0.328912</td>\n",
       "      <td>0.000000</td>\n",
       "      <td>0.000000</td>\n",
       "      <td>0.000000</td>\n",
       "      <td>1.0</td>\n",
       "      <td>0.0</td>\n",
       "      <td>0.0</td>\n",
       "      <td>0.0</td>\n",
       "      <td>0.048566</td>\n",
       "    </tr>\n",
       "    <tr>\n",
       "      <th>3</th>\n",
       "      <td>103</td>\n",
       "      <td>257</td>\n",
       "      <td>3</td>\n",
       "      <td>0.811903</td>\n",
       "      <td>0.265252</td>\n",
       "      <td>0.000000</td>\n",
       "      <td>0.028571</td>\n",
       "      <td>0.000000</td>\n",
       "      <td>1.0</td>\n",
       "      <td>0.0</td>\n",
       "      <td>0.0</td>\n",
       "      <td>0.0</td>\n",
       "      <td>0.054389</td>\n",
       "    </tr>\n",
       "    <tr>\n",
       "      <th>4</th>\n",
       "      <td>114</td>\n",
       "      <td>8512</td>\n",
       "      <td>0</td>\n",
       "      <td>0.988456</td>\n",
       "      <td>0.305040</td>\n",
       "      <td>0.051020</td>\n",
       "      <td>0.051020</td>\n",
       "      <td>0.003003</td>\n",
       "      <td>0.0</td>\n",
       "      <td>1.0</td>\n",
       "      <td>0.0</td>\n",
       "      <td>0.0</td>\n",
       "      <td>0.657391</td>\n",
       "    </tr>\n",
       "    <tr>\n",
       "      <th>...</th>\n",
       "      <td>...</td>\n",
       "      <td>...</td>\n",
       "      <td>...</td>\n",
       "      <td>...</td>\n",
       "      <td>...</td>\n",
       "      <td>...</td>\n",
       "      <td>...</td>\n",
       "      <td>...</td>\n",
       "      <td>...</td>\n",
       "      <td>...</td>\n",
       "      <td>...</td>\n",
       "      <td>...</td>\n",
       "      <td>...</td>\n",
       "    </tr>\n",
       "    <tr>\n",
       "      <th>6759188</th>\n",
       "      <td>968006</td>\n",
       "      <td>6451</td>\n",
       "      <td>1</td>\n",
       "      <td>0.975990</td>\n",
       "      <td>0.267905</td>\n",
       "      <td>0.028571</td>\n",
       "      <td>0.028571</td>\n",
       "      <td>0.042042</td>\n",
       "      <td>0.0</td>\n",
       "      <td>0.0</td>\n",
       "      <td>0.0</td>\n",
       "      <td>1.0</td>\n",
       "      <td>0.560919</td>\n",
       "    </tr>\n",
       "    <tr>\n",
       "      <th>6759189</th>\n",
       "      <td>968006</td>\n",
       "      <td>9625</td>\n",
       "      <td>1</td>\n",
       "      <td>0.999284</td>\n",
       "      <td>0.270557</td>\n",
       "      <td>0.202041</td>\n",
       "      <td>0.202041</td>\n",
       "      <td>0.042042</td>\n",
       "      <td>0.0</td>\n",
       "      <td>0.0</td>\n",
       "      <td>0.0</td>\n",
       "      <td>1.0</td>\n",
       "      <td>0.220670</td>\n",
       "    </tr>\n",
       "    <tr>\n",
       "      <th>6759190</th>\n",
       "      <td>968006</td>\n",
       "      <td>10308</td>\n",
       "      <td>1</td>\n",
       "      <td>0.999851</td>\n",
       "      <td>0.270557</td>\n",
       "      <td>0.102041</td>\n",
       "      <td>0.102041</td>\n",
       "      <td>0.042042</td>\n",
       "      <td>0.0</td>\n",
       "      <td>0.0</td>\n",
       "      <td>0.0</td>\n",
       "      <td>1.0</td>\n",
       "      <td>0.606863</td>\n",
       "    </tr>\n",
       "    <tr>\n",
       "      <th>6759191</th>\n",
       "      <td>968006</td>\n",
       "      <td>10376</td>\n",
       "      <td>1</td>\n",
       "      <td>0.999866</td>\n",
       "      <td>0.270557</td>\n",
       "      <td>0.202041</td>\n",
       "      <td>0.202041</td>\n",
       "      <td>0.042042</td>\n",
       "      <td>0.0</td>\n",
       "      <td>0.0</td>\n",
       "      <td>0.0</td>\n",
       "      <td>1.0</td>\n",
       "      <td>0.265359</td>\n",
       "    </tr>\n",
       "    <tr>\n",
       "      <th>6759192</th>\n",
       "      <td>968006</td>\n",
       "      <td>10271</td>\n",
       "      <td>1</td>\n",
       "      <td>0.999760</td>\n",
       "      <td>0.278515</td>\n",
       "      <td>0.071429</td>\n",
       "      <td>0.071429</td>\n",
       "      <td>0.042042</td>\n",
       "      <td>0.0</td>\n",
       "      <td>0.0</td>\n",
       "      <td>0.0</td>\n",
       "      <td>1.0</td>\n",
       "      <td>0.285714</td>\n",
       "    </tr>\n",
       "  </tbody>\n",
       "</table>\n",
       "<p>6759105 rows × 13 columns</p>\n",
       "</div>"
      ],
      "text/plain": [
       "          sa_id  album_id  buy_seg  release_date  run_time  movie_meta_price  \\\n",
       "0            68      8282        3      0.987883  0.480106          0.051020   \n",
       "1           103      1724        3      0.787911  0.305040          0.028571   \n",
       "2           103      2542        3      0.800467  0.328912          0.000000   \n",
       "3           103       257        3      0.811903  0.265252          0.000000   \n",
       "4           114      8512        0      0.988456  0.305040          0.051020   \n",
       "...         ...       ...      ...           ...       ...               ...   \n",
       "6759188  968006      6451        1      0.975990  0.267905          0.028571   \n",
       "6759189  968006      9625        1      0.999284  0.270557          0.202041   \n",
       "6759190  968006     10308        1      0.999851  0.270557          0.102041   \n",
       "6759191  968006     10376        1      0.999866  0.270557          0.202041   \n",
       "6759192  968006     10271        1      0.999760  0.278515          0.071429   \n",
       "\n",
       "         i30_meta_price   buy_tot  amt_1_4  amt_2_4  amt_3_4  amt_4_4  \\\n",
       "0              0.051020  0.000000      1.0      0.0      0.0      0.0   \n",
       "1              0.028571  0.000000      1.0      0.0      0.0      0.0   \n",
       "2              0.000000  0.000000      1.0      0.0      0.0      0.0   \n",
       "3              0.028571  0.000000      1.0      0.0      0.0      0.0   \n",
       "4              0.051020  0.003003      0.0      1.0      0.0      0.0   \n",
       "...                 ...       ...      ...      ...      ...      ...   \n",
       "6759188        0.028571  0.042042      0.0      0.0      0.0      1.0   \n",
       "6759189        0.202041  0.042042      0.0      0.0      0.0      1.0   \n",
       "6759190        0.102041  0.042042      0.0      0.0      0.0      1.0   \n",
       "6759191        0.202041  0.042042      0.0      0.0      0.0      1.0   \n",
       "6759192        0.071429  0.042042      0.0      0.0      0.0      1.0   \n",
       "\n",
       "         ncf_rating  \n",
       "0          0.493201  \n",
       "1          0.062150  \n",
       "2          0.048566  \n",
       "3          0.054389  \n",
       "4          0.657391  \n",
       "...             ...  \n",
       "6759188    0.560919  \n",
       "6759189    0.220670  \n",
       "6759190    0.606863  \n",
       "6759191    0.265359  \n",
       "6759192    0.285714  \n",
       "\n",
       "[6759105 rows x 13 columns]"
      ]
     },
     "execution_count": 13,
     "metadata": {},
     "output_type": "execute_result"
    }
   ],
   "source": [
    "data"
   ]
  },
  {
   "cell_type": "code",
   "execution_count": 14,
   "metadata": {},
   "outputs": [],
   "source": [
    "fixlen_feature_columns = [SparseFeat(feat, vocabulary_size=data[feat].nunique(),embedding_dim=4)\n",
    "                           for i,feat in enumerate(sparse_features)]\n",
    "\n",
    "dnn_feature_columns = fixlen_feature_columns\n",
    "linear_feature_columns = fixlen_feature_columns\n",
    "\n",
    "feature_names = get_feature_names(linear_feature_columns + dnn_feature_columns)"
   ]
  },
  {
   "cell_type": "code",
   "execution_count": 15,
   "metadata": {},
   "outputs": [],
   "source": [
    "train, test = train_test_split(data, test_size=0.2, random_state=2020)\n",
    "train_model_input = {name:train[name] for name in feature_names}\n",
    "test_model_input = {name:test[name] for name in feature_names}"
   ]
  },
  {
   "cell_type": "code",
   "execution_count": 16,
   "metadata": {
    "scrolled": true
   },
   "outputs": [
    {
     "data": {
      "text/html": [
       "<div>\n",
       "<style scoped>\n",
       "    .dataframe tbody tr th:only-of-type {\n",
       "        vertical-align: middle;\n",
       "    }\n",
       "\n",
       "    .dataframe tbody tr th {\n",
       "        vertical-align: top;\n",
       "    }\n",
       "\n",
       "    .dataframe thead th {\n",
       "        text-align: right;\n",
       "    }\n",
       "</style>\n",
       "<table border=\"1\" class=\"dataframe\">\n",
       "  <thead>\n",
       "    <tr style=\"text-align: right;\">\n",
       "      <th></th>\n",
       "      <th>sa_id</th>\n",
       "      <th>album_id</th>\n",
       "      <th>buy_seg</th>\n",
       "      <th>release_date</th>\n",
       "      <th>run_time</th>\n",
       "      <th>movie_meta_price</th>\n",
       "      <th>i30_meta_price</th>\n",
       "      <th>buy_tot</th>\n",
       "      <th>amt_1_4</th>\n",
       "      <th>amt_2_4</th>\n",
       "      <th>amt_3_4</th>\n",
       "      <th>amt_4_4</th>\n",
       "      <th>ncf_rating</th>\n",
       "    </tr>\n",
       "  </thead>\n",
       "  <tbody>\n",
       "    <tr>\n",
       "      <th>6322629</th>\n",
       "      <td>398973</td>\n",
       "      <td>5346</td>\n",
       "      <td>2</td>\n",
       "      <td>0.964579</td>\n",
       "      <td>0.283820</td>\n",
       "      <td>0.028571</td>\n",
       "      <td>0.028571</td>\n",
       "      <td>0.000000</td>\n",
       "      <td>1.0</td>\n",
       "      <td>0.0</td>\n",
       "      <td>0.0</td>\n",
       "      <td>0.0</td>\n",
       "      <td>0.639616</td>\n",
       "    </tr>\n",
       "    <tr>\n",
       "      <th>4172940</th>\n",
       "      <td>726666</td>\n",
       "      <td>1274</td>\n",
       "      <td>2</td>\n",
       "      <td>0.835983</td>\n",
       "      <td>0.358090</td>\n",
       "      <td>0.024490</td>\n",
       "      <td>0.028571</td>\n",
       "      <td>0.000000</td>\n",
       "      <td>1.0</td>\n",
       "      <td>0.0</td>\n",
       "      <td>0.0</td>\n",
       "      <td>0.0</td>\n",
       "      <td>0.373951</td>\n",
       "    </tr>\n",
       "    <tr>\n",
       "      <th>4673716</th>\n",
       "      <td>674989</td>\n",
       "      <td>5343</td>\n",
       "      <td>2</td>\n",
       "      <td>0.964376</td>\n",
       "      <td>0.236074</td>\n",
       "      <td>0.028571</td>\n",
       "      <td>0.028571</td>\n",
       "      <td>0.000000</td>\n",
       "      <td>1.0</td>\n",
       "      <td>0.0</td>\n",
       "      <td>0.0</td>\n",
       "      <td>0.0</td>\n",
       "      <td>0.403121</td>\n",
       "    </tr>\n",
       "    <tr>\n",
       "      <th>3770874</th>\n",
       "      <td>335424</td>\n",
       "      <td>5443</td>\n",
       "      <td>2</td>\n",
       "      <td>0.964366</td>\n",
       "      <td>0.328912</td>\n",
       "      <td>0.028571</td>\n",
       "      <td>0.028571</td>\n",
       "      <td>0.000000</td>\n",
       "      <td>1.0</td>\n",
       "      <td>0.0</td>\n",
       "      <td>0.0</td>\n",
       "      <td>0.0</td>\n",
       "      <td>0.346304</td>\n",
       "    </tr>\n",
       "    <tr>\n",
       "      <th>4584683</th>\n",
       "      <td>174795</td>\n",
       "      <td>6239</td>\n",
       "      <td>2</td>\n",
       "      <td>0.975783</td>\n",
       "      <td>0.201592</td>\n",
       "      <td>0.028571</td>\n",
       "      <td>0.028571</td>\n",
       "      <td>0.000000</td>\n",
       "      <td>1.0</td>\n",
       "      <td>0.0</td>\n",
       "      <td>0.0</td>\n",
       "      <td>0.0</td>\n",
       "      <td>0.205811</td>\n",
       "    </tr>\n",
       "    <tr>\n",
       "      <th>...</th>\n",
       "      <td>...</td>\n",
       "      <td>...</td>\n",
       "      <td>...</td>\n",
       "      <td>...</td>\n",
       "      <td>...</td>\n",
       "      <td>...</td>\n",
       "      <td>...</td>\n",
       "      <td>...</td>\n",
       "      <td>...</td>\n",
       "      <td>...</td>\n",
       "      <td>...</td>\n",
       "      <td>...</td>\n",
       "      <td>...</td>\n",
       "    </tr>\n",
       "    <tr>\n",
       "      <th>1509012</th>\n",
       "      <td>948227</td>\n",
       "      <td>8250</td>\n",
       "      <td>2</td>\n",
       "      <td>0.988237</td>\n",
       "      <td>0.244032</td>\n",
       "      <td>0.051020</td>\n",
       "      <td>0.051020</td>\n",
       "      <td>0.000000</td>\n",
       "      <td>1.0</td>\n",
       "      <td>0.0</td>\n",
       "      <td>0.0</td>\n",
       "      <td>0.0</td>\n",
       "      <td>0.602204</td>\n",
       "    </tr>\n",
       "    <tr>\n",
       "      <th>4737175</th>\n",
       "      <td>97781</td>\n",
       "      <td>8027</td>\n",
       "      <td>3</td>\n",
       "      <td>0.987769</td>\n",
       "      <td>0.297082</td>\n",
       "      <td>0.051020</td>\n",
       "      <td>0.051020</td>\n",
       "      <td>0.000000</td>\n",
       "      <td>1.0</td>\n",
       "      <td>0.0</td>\n",
       "      <td>0.0</td>\n",
       "      <td>0.0</td>\n",
       "      <td>0.614137</td>\n",
       "    </tr>\n",
       "    <tr>\n",
       "      <th>1948303</th>\n",
       "      <td>574877</td>\n",
       "      <td>10052</td>\n",
       "      <td>1</td>\n",
       "      <td>0.999745</td>\n",
       "      <td>0.286472</td>\n",
       "      <td>0.051020</td>\n",
       "      <td>0.051020</td>\n",
       "      <td>0.015015</td>\n",
       "      <td>0.0</td>\n",
       "      <td>0.0</td>\n",
       "      <td>0.2</td>\n",
       "      <td>0.8</td>\n",
       "      <td>0.094599</td>\n",
       "    </tr>\n",
       "    <tr>\n",
       "      <th>1482072</th>\n",
       "      <td>771059</td>\n",
       "      <td>1249</td>\n",
       "      <td>2</td>\n",
       "      <td>0.917815</td>\n",
       "      <td>0.421751</td>\n",
       "      <td>0.028571</td>\n",
       "      <td>0.028571</td>\n",
       "      <td>0.000000</td>\n",
       "      <td>1.0</td>\n",
       "      <td>0.0</td>\n",
       "      <td>0.0</td>\n",
       "      <td>0.0</td>\n",
       "      <td>0.175629</td>\n",
       "    </tr>\n",
       "    <tr>\n",
       "      <th>1765792</th>\n",
       "      <td>484220</td>\n",
       "      <td>10336</td>\n",
       "      <td>2</td>\n",
       "      <td>0.988808</td>\n",
       "      <td>0.326260</td>\n",
       "      <td>0.000000</td>\n",
       "      <td>0.000000</td>\n",
       "      <td>0.000000</td>\n",
       "      <td>1.0</td>\n",
       "      <td>0.0</td>\n",
       "      <td>0.0</td>\n",
       "      <td>0.0</td>\n",
       "      <td>0.680556</td>\n",
       "    </tr>\n",
       "  </tbody>\n",
       "</table>\n",
       "<p>5407284 rows × 13 columns</p>\n",
       "</div>"
      ],
      "text/plain": [
       "          sa_id  album_id  buy_seg  release_date  run_time  movie_meta_price  \\\n",
       "6322629  398973      5346        2      0.964579  0.283820          0.028571   \n",
       "4172940  726666      1274        2      0.835983  0.358090          0.024490   \n",
       "4673716  674989      5343        2      0.964376  0.236074          0.028571   \n",
       "3770874  335424      5443        2      0.964366  0.328912          0.028571   \n",
       "4584683  174795      6239        2      0.975783  0.201592          0.028571   \n",
       "...         ...       ...      ...           ...       ...               ...   \n",
       "1509012  948227      8250        2      0.988237  0.244032          0.051020   \n",
       "4737175   97781      8027        3      0.987769  0.297082          0.051020   \n",
       "1948303  574877     10052        1      0.999745  0.286472          0.051020   \n",
       "1482072  771059      1249        2      0.917815  0.421751          0.028571   \n",
       "1765792  484220     10336        2      0.988808  0.326260          0.000000   \n",
       "\n",
       "         i30_meta_price   buy_tot  amt_1_4  amt_2_4  amt_3_4  amt_4_4  \\\n",
       "6322629        0.028571  0.000000      1.0      0.0      0.0      0.0   \n",
       "4172940        0.028571  0.000000      1.0      0.0      0.0      0.0   \n",
       "4673716        0.028571  0.000000      1.0      0.0      0.0      0.0   \n",
       "3770874        0.028571  0.000000      1.0      0.0      0.0      0.0   \n",
       "4584683        0.028571  0.000000      1.0      0.0      0.0      0.0   \n",
       "...                 ...       ...      ...      ...      ...      ...   \n",
       "1509012        0.051020  0.000000      1.0      0.0      0.0      0.0   \n",
       "4737175        0.051020  0.000000      1.0      0.0      0.0      0.0   \n",
       "1948303        0.051020  0.015015      0.0      0.0      0.2      0.8   \n",
       "1482072        0.028571  0.000000      1.0      0.0      0.0      0.0   \n",
       "1765792        0.000000  0.000000      1.0      0.0      0.0      0.0   \n",
       "\n",
       "         ncf_rating  \n",
       "6322629    0.639616  \n",
       "4172940    0.373951  \n",
       "4673716    0.403121  \n",
       "3770874    0.346304  \n",
       "4584683    0.205811  \n",
       "...             ...  \n",
       "1509012    0.602204  \n",
       "4737175    0.614137  \n",
       "1948303    0.094599  \n",
       "1482072    0.175629  \n",
       "1765792    0.680556  \n",
       "\n",
       "[5407284 rows x 13 columns]"
      ]
     },
     "execution_count": 16,
     "metadata": {},
     "output_type": "execute_result"
    }
   ],
   "source": [
    "train"
   ]
  },
  {
   "cell_type": "code",
   "execution_count": null,
   "metadata": {
    "scrolled": false
   },
   "outputs": [
    {
     "name": "stdout",
     "output_type": "stream",
     "text": [
      "Epoch 1/20\n"
     ]
    },
    {
     "name": "stderr",
     "output_type": "stream",
     "text": [
      "/home/ubuntu/anaconda3/envs/tensorflow2_latest_p37/lib/python3.7/site-packages/tensorflow/python/framework/indexed_slices.py:433: UserWarning: Converting sparse IndexedSlices to a dense Tensor of unknown shape. This may consume a large amount of memory.\n",
      "  \"Converting sparse IndexedSlices to a dense Tensor of unknown shape. \"\n"
     ]
    },
    {
     "name": "stdout",
     "output_type": "stream",
     "text": [
      "4225/4225 - 55s - loss: 0.0396 - mse: 0.0351 - val_loss: 0.0398 - val_mse: 0.0339\n",
      "Epoch 2/20\n",
      "4225/4225 - 55s - loss: 0.0415 - mse: 0.0331 - val_loss: 0.0422 - val_mse: 0.0337\n",
      "Epoch 3/20\n",
      "4225/4225 - 55s - loss: 0.0413 - mse: 0.0316 - val_loss: 0.0441 - val_mse: 0.0338\n",
      "Epoch 4/20\n",
      "4225/4225 - 55s - loss: 0.0427 - mse: 0.0319 - val_loss: 0.0450 - val_mse: 0.0337\n",
      "Epoch 5/20\n",
      "4225/4225 - 55s - loss: 0.0427 - mse: 0.0316 - val_loss: 0.0452 - val_mse: 0.0338\n",
      "Epoch 6/20\n",
      "4225/4225 - 55s - loss: 0.0425 - mse: 0.0314 - val_loss: 0.0450 - val_mse: 0.0339\n",
      "Epoch 7/20\n",
      "4225/4225 - 55s - loss: 0.0429 - mse: 0.0316 - val_loss: 0.0454 - val_mse: 0.0339\n",
      "Epoch 8/20\n",
      "4225/4225 - 55s - loss: 0.0429 - mse: 0.0315 - val_loss: 0.0452 - val_mse: 0.0337\n",
      "Epoch 9/20\n"
     ]
    }
   ],
   "source": [
    "model = DeepFM(linear_feature_columns, dnn_feature_columns, task='regression')\n",
    "model.compile(\"adam\", \"mse\", metrics=['mse'], )\n",
    "\n",
    "history = model.fit(train_model_input, train[target].values,\n",
    "                    batch_size=1024, epochs=20, verbose=2, validation_split=0.2, )\n",
    "pred_ans = model.predict(test_model_input, batch_size=32)\n",
    "print(\"test MSE\", round(mean_squared_error(\n",
    "    test[target].values, pred_ans), 4))"
   ]
  },
  {
   "cell_type": "code",
   "execution_count": 18,
   "metadata": {},
   "outputs": [
    {
     "name": "stdout",
     "output_type": "stream",
     "text": [
      "test MSE 0.0344\n"
     ]
    }
   ],
   "source": [
    "print(\"test MSE\", round(mean_squared_error(\n",
    "    test[target].values, pred_ans), 4))"
   ]
  }
 ],
 "metadata": {
  "kernelspec": {
   "display_name": "Python [conda env:tensorflow2_latest_p37]",
   "language": "python",
   "name": "conda-env-tensorflow2_latest_p37-py"
  },
  "language_info": {
   "codemirror_mode": {
    "name": "ipython",
    "version": 3
   },
   "file_extension": ".py",
   "mimetype": "text/x-python",
   "name": "python",
   "nbconvert_exporter": "python",
   "pygments_lexer": "ipython3",
   "version": "3.7.7"
  }
 },
 "nbformat": 4,
 "nbformat_minor": 4
}
