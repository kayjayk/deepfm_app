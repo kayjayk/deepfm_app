{
 "cells": [
  {
   "cell_type": "code",
   "execution_count": 9,
   "metadata": {},
   "outputs": [
    {
     "name": "stdout",
     "output_type": "stream",
     "text": [
      "tensorflow version :  2.3.1\n",
      "keras version :  2.4.0\n",
      "GPU available ? :  True\n"
     ]
    }
   ],
   "source": [
    "# gpu number setting\n",
    "import os\n",
    "os.environ['CUDA_DEVICE_ORDER'] = 'PCI_BUS_ID'\n",
    "os.environ[\"CUDA_VISIBLE_DEVICES\"] = '1' ## gpu 번호 셋팅 윤건 :0, 기준 : 1, 준형 :2,\n",
    "\n",
    "# Gpu growth setting\n",
    "import tensorflow as tf\n",
    "config = tf.compat.v1.ConfigProto()\n",
    "config.gpu_options.allow_growth = True\n",
    "session = tf.compat.v1.Session(config=config)\n",
    "\n",
    "\n",
    "# tensorflow & keras version check\n",
    "print('tensorflow version : ' , tf.__version__)\n",
    "print('keras version : ' , tf.keras.__version__)\n",
    "\n",
    "# tensorflow gpu available check \n",
    "print('GPU available ? : ', tf.test.is_gpu_available(cuda_only=False, min_cuda_compute_capability=None))"
   ]
  },
  {
   "cell_type": "code",
   "execution_count": 10,
   "metadata": {},
   "outputs": [],
   "source": [
    "import pandas as pd\n",
    "import pickle"
   ]
  },
  {
   "cell_type": "code",
   "execution_count": 11,
   "metadata": {},
   "outputs": [],
   "source": [
    "pd.set_option('display.max_columns', 50)\n",
    "pd.set_option('display.max_rows', 50)"
   ]
  },
  {
   "cell_type": "code",
   "execution_count": 12,
   "metadata": {},
   "outputs": [
    {
     "name": "stderr",
     "output_type": "stream",
     "text": [
      "/home/ubuntu/anaconda3/envs/tensorflow2_p36/lib/python3.6/site-packages/IPython/core/interactiveshell.py:3063: DtypeWarning: Columns (0,26,27,28,29,37,39) have mixed types.Specify dtype option on import or set low_memory=False.\n",
      "  interactivity=interactivity, compiler=compiler, result=result)\n"
     ]
    }
   ],
   "source": [
    "raw = pd.read_csv('../../Data/tb_ipr_m_seamless_2nd_movie_201118.txt', sep='\u0001', header=None)"
   ]
  },
  {
   "cell_type": "code",
   "execution_count": 13,
   "metadata": {},
   "outputs": [],
   "source": [
    "columns = ['tb_ipr_m_seamless_2nd_movie.sa_id',\n",
    "       'tb_ipr_m_seamless_2nd_movie.s_time',\n",
    "       'tb_ipr_m_seamless_2nd_movie.e_time',\n",
    "       'tb_ipr_m_seamless_2nd_movie.watch_duration',\n",
    "       'tb_ipr_m_seamless_2nd_movie.album_id',\n",
    "       'tb_ipr_m_seamless_2nd_movie.album_name',\n",
    "       'tb_ipr_m_seamless_2nd_movie.gubun',\n",
    "       'tb_ipr_m_seamless_2nd_movie.vod_s_point',\n",
    "       'tb_ipr_m_seamless_2nd_movie.vod_e_point',\n",
    "       'tb_ipr_m_seamless_2nd_movie.agree_yn',\n",
    "       'tb_ipr_m_seamless_2nd_movie.category_id',\n",
    "       'tb_ipr_m_seamless_2nd_movie.release_date',\n",
    "       'tb_ipr_m_seamless_2nd_movie.run_time',\n",
    "       'tb_ipr_m_seamless_2nd_movie.meta_genre',\n",
    "       'tb_ipr_m_seamless_2nd_movie.genre_large',\n",
    "       'tb_ipr_m_seamless_2nd_movie.genre_mid',\n",
    "       'tb_ipr_m_seamless_2nd_movie.genre_small',\n",
    "       'tb_ipr_m_seamless_2nd_movie.movie_meta_price',\n",
    "       'tb_ipr_m_seamless_2nd_movie.buy_history_price',\n",
    "       'tb_ipr_m_seamless_2nd_movie.i30_meta_price',\n",
    "       'tb_ipr_m_seamless_2nd_movie.buy_tot',\n",
    "       'tb_ipr_m_seamless_2nd_movie.view_no',\n",
    "       'tb_ipr_m_seamless_2nd_movie.fod',\n",
    "       'tb_ipr_m_seamless_2nd_movie.buy_1_2',\n",
    "       'tb_ipr_m_seamless_2nd_movie.buy_3',\n",
    "       'tb_ipr_m_seamless_2nd_movie.buy_seg',\n",
    "       'tb_ipr_m_seamless_2nd_movie.amt_1_4',\n",
    "       'tb_ipr_m_seamless_2nd_movie.amt_2_4',\n",
    "       'tb_ipr_m_seamless_2nd_movie.amt_3_4',\n",
    "       'tb_ipr_m_seamless_2nd_movie.amt_4_4',\n",
    "       'tb_ipr_m_seamless_2nd_movie.amt_r_gabun',\n",
    "       'tb_ipr_m_seamless_2nd_movie.weekdays',\n",
    "       'tb_ipr_m_seamless_2nd_movie.weekends',\n",
    "       'tb_ipr_m_seamless_2nd_movie.dawn',\n",
    "       'tb_ipr_m_seamless_2nd_movie.morning',\n",
    "       'tb_ipr_m_seamless_2nd_movie.afternoon',\n",
    "       'tb_ipr_m_seamless_2nd_movie.evening',\n",
    "       'tb_ipr_m_seamless_2nd_movie.watch_ratio',\n",
    "       'tb_ipr_m_seamless_2nd_movie.current_rate',\n",
    "       'tb_ipr_m_seamless_2nd_movie.ncf_rating']"
   ]
  },
  {
   "cell_type": "code",
   "execution_count": 14,
   "metadata": {},
   "outputs": [],
   "source": [
    "raw.columns = list(map(lambda x: x.split('.')[-1], columns))"
   ]
  },
  {
   "cell_type": "code",
   "execution_count": 20,
   "metadata": {},
   "outputs": [],
   "source": [
    "raw.to_csv('../../Data/movie_201118.csv', header=True, index=None)"
   ]
  }
 ],
 "metadata": {
  "kernelspec": {
   "display_name": "Python [conda env:tensorflow2_p36]",
   "language": "python",
   "name": "conda-env-tensorflow2_p36-py"
  },
  "language_info": {
   "codemirror_mode": {
    "name": "ipython",
    "version": 3
   },
   "file_extension": ".py",
   "mimetype": "text/x-python",
   "name": "python",
   "nbconvert_exporter": "python",
   "pygments_lexer": "ipython3",
   "version": "3.6.10"
  }
 },
 "nbformat": 4,
 "nbformat_minor": 4
}
