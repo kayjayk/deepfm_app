{
 "cells": [
  {
   "cell_type": "code",
   "execution_count": 1,
   "metadata": {},
   "outputs": [
    {
     "name": "stdout",
     "output_type": "stream",
     "text": [
      "tensorflow version :  2.3.1\n",
      "keras version :  2.4.0\n",
      "WARNING:tensorflow:From <ipython-input-1-a95b7deb4494>:18: is_gpu_available (from tensorflow.python.framework.test_util) is deprecated and will be removed in a future version.\n",
      "Instructions for updating:\n",
      "Use `tf.config.list_physical_devices('GPU')` instead.\n",
      "GPU available ? :  True\n"
     ]
    }
   ],
   "source": [
    "# gpu number setting\n",
    "import os\n",
    "os.environ['CUDA_DEVICE_ORDER'] = 'PCI_BUS_ID'\n",
    "os.environ[\"CUDA_VISIBLE_DEVICES\"] = '1' ## gpu 번호 셋팅 윤건 :0, 기준 : 1, 준형 :2,\n",
    "\n",
    "# Gpu growth setting\n",
    "import tensorflow as tf\n",
    "config = tf.compat.v1.ConfigProto()\n",
    "config.gpu_options.allow_growth = True\n",
    "session = tf.compat.v1.Session(config=config)\n",
    "\n",
    "\n",
    "# tensorflow & keras version check\n",
    "print('tensorflow version : ' , tf.__version__)\n",
    "print('keras version : ' , tf.keras.__version__)\n",
    "\n",
    "# tensorflow gpu available check \n",
    "print('GPU available ? : ', tf.test.is_gpu_available(cuda_only=False, min_cuda_compute_capability=None))"
   ]
  },
  {
   "cell_type": "code",
   "execution_count": 2,
   "metadata": {},
   "outputs": [],
   "source": [
    "import pandas as pd\n",
    "import tqdm\n",
    "import numpy as np\n",
    "import pickle"
   ]
  },
  {
   "cell_type": "code",
   "execution_count": 3,
   "metadata": {},
   "outputs": [],
   "source": [
    "pd.set_option('display.max_columns', 100)\n",
    "pd.set_option('display.max_rows', 100)"
   ]
  },
  {
   "cell_type": "code",
   "execution_count": 4,
   "metadata": {
    "scrolled": false
   },
   "outputs": [
    {
     "name": "stderr",
     "output_type": "stream",
     "text": [
      "/home/ubuntu/anaconda3/envs/tensorflow2_p36/lib/python3.6/site-packages/IPython/core/interactiveshell.py:3063: DtypeWarning: Columns (0) have mixed types.Specify dtype option on import or set low_memory=False.\n",
      "  interactivity=interactivity, compiler=compiler, result=result)\n"
     ]
    }
   ],
   "source": [
    "data = pd.read_csv('../../Data/movie_201130_table_6.csv')"
   ]
  },
  {
   "cell_type": "code",
   "execution_count": 7,
   "metadata": {},
   "outputs": [],
   "source": [
    "raw = data"
   ]
  },
  {
   "cell_type": "code",
   "execution_count": 8,
   "metadata": {},
   "outputs": [],
   "source": [
    "str_col = ['sa_id', 'album_id']\n",
    "int_col = ['view_no', 'release_date', 'run_time', 'buy_tot', 'pr_info']\n",
    "float_col = ['buy_history_price', 'movie_meta_price', 'i30_meta_price']"
   ]
  },
  {
   "cell_type": "code",
   "execution_count": 9,
   "metadata": {},
   "outputs": [],
   "source": [
    "raw[str_col] = raw[str_col].astype(str)\n",
    "raw[int_col] = raw[int_col].astype(int)\n",
    "raw[float_col] = raw[float_col].astype(float)"
   ]
  },
  {
   "cell_type": "code",
   "execution_count": 11,
   "metadata": {},
   "outputs": [],
   "source": [
    "raw.to_csv('../../Data/movie_201130_table_6_4.csv', index=None)"
   ]
  },
  {
   "cell_type": "code",
   "execution_count": 15,
   "metadata": {},
   "outputs": [],
   "source": [
    "raw[str_col] = raw[str_col].astype(str)"
   ]
  },
  {
   "cell_type": "code",
   "execution_count": 24,
   "metadata": {},
   "outputs": [],
   "source": [
    "raw[['sa_id']] = raw[['sa_id']].astype('str')"
   ]
  },
  {
   "cell_type": "code",
   "execution_count": 25,
   "metadata": {},
   "outputs": [
    {
     "data": {
      "text/plain": [
       "sa_id                 object\n",
       "album_id              object\n",
       "label                  int64\n",
       "view_no                int64\n",
       "buy_tot                int64\n",
       "buy_history_price    float64\n",
       "genre_NA               int64\n",
       "genre_SF               int64\n",
       "genre_mid_NA           int64\n",
       "genre_mid_SF           int64\n",
       "genre_mid_공포           int64\n",
       "genre_mid_극장판애니        int64\n",
       "genre_mid_기타           int64\n",
       "genre_mid_다큐멘터리        int64\n",
       "genre_mid_드라마          int64\n",
       "genre_mid_로맨스          int64\n",
       "genre_mid_스릴러          int64\n",
       "genre_mid_시리즈          int64\n",
       "genre_mid_액션           int64\n",
       "genre_mid_코미디          int64\n",
       "genre_mid_판타지          int64\n",
       "genre_small_NA         int64\n",
       "genre_small_SF         int64\n",
       "genre_small_UHD        int64\n",
       "genre_small_가족         int64\n",
       "genre_small_공연예술       int64\n",
       "genre_small_공포         int64\n",
       "genre_small_단편         int64\n",
       "genre_small_독립         int64\n",
       "genre_small_드라마        int64\n",
       "genre_small_로맨스        int64\n",
       "genre_small_모험         int64\n",
       "genre_small_무협         int64\n",
       "genre_small_성인         int64\n",
       "genre_small_스릴러        int64\n",
       "genre_small_액션         int64\n",
       "genre_small_어린이        int64\n",
       "genre_small_에로         int64\n",
       "genre_small_예고편        int64\n",
       "genre_small_이벤트        int64\n",
       "genre_small_캐치온        int64\n",
       "genre_small_코미디        int64\n",
       "genre_small_판타지        int64\n",
       "genre_가족               int64\n",
       "genre_공포               int64\n",
       "genre_극장판애니            int64\n",
       "genre_기타               int64\n",
       "genre_다큐멘터리            int64\n",
       "genre_독립영화             int64\n",
       "genre_드라마              int64\n",
       "genre_로맨스              int64\n",
       "genre_멜로               int64\n",
       "genre_모험               int64\n",
       "genre_범죄               int64\n",
       "genre_스릴러              int64\n",
       "genre_애니메이션            int64\n",
       "genre_애정               int64\n",
       "genre_액션               int64\n",
       "genre_전쟁               int64\n",
       "genre_코미디              int64\n",
       "genre_판타지              int64\n",
       "i30_meta_price       float64\n",
       "movie_meta_price     float64\n",
       "pr_info                int64\n",
       "release_date           int64\n",
       "run_time               int64\n",
       "dtype: object"
      ]
     },
     "execution_count": 25,
     "metadata": {},
     "output_type": "execute_result"
    }
   ],
   "source": [
    "data.dtypes"
   ]
  }
 ],
 "metadata": {
  "kernelspec": {
   "display_name": "Python [conda env:tensorflow2_p36]",
   "language": "python",
   "name": "conda-env-tensorflow2_p36-py"
  },
  "language_info": {
   "codemirror_mode": {
    "name": "ipython",
    "version": 3
   },
   "file_extension": ".py",
   "mimetype": "text/x-python",
   "name": "python",
   "nbconvert_exporter": "python",
   "pygments_lexer": "ipython3",
   "version": "3.6.10"
  }
 },
 "nbformat": 4,
 "nbformat_minor": 4
}
