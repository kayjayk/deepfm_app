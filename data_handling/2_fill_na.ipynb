{
 "cells": [
  {
   "cell_type": "code",
   "execution_count": 107,
   "metadata": {},
   "outputs": [
    {
     "name": "stdout",
     "output_type": "stream",
     "text": [
      "tensorflow version :  2.3.1\n",
      "keras version :  2.4.0\n",
      "GPU available ? :  True\n"
     ]
    }
   ],
   "source": [
    "# gpu number setting\n",
    "import os\n",
    "os.environ['CUDA_DEVICE_ORDER'] = 'PCI_BUS_ID'\n",
    "os.environ[\"CUDA_VISIBLE_DEVICES\"] = '1' ## gpu 번호 셋팅 윤건 :0, 기준 : 1, 준형 :2,\n",
    "\n",
    "# Gpu growth setting\n",
    "import tensorflow as tf\n",
    "config = tf.compat.v1.ConfigProto()\n",
    "config.gpu_options.allow_growth = True\n",
    "session = tf.compat.v1.Session(config=config)\n",
    "\n",
    "\n",
    "# tensorflow & keras version check\n",
    "print('tensorflow version : ' , tf.__version__)\n",
    "print('keras version : ' , tf.keras.__version__)\n",
    "\n",
    "# tensorflow gpu available check \n",
    "print('GPU available ? : ', tf.test.is_gpu_available(cuda_only=False, min_cuda_compute_capability=None))"
   ]
  },
  {
   "cell_type": "code",
   "execution_count": 108,
   "metadata": {},
   "outputs": [],
   "source": [
    "import pandas as pd\n",
    "import tqdm\n",
    "import numpy as np"
   ]
  },
  {
   "cell_type": "code",
   "execution_count": 109,
   "metadata": {},
   "outputs": [],
   "source": [
    "pd.set_option('display.max_columns', 100)\n",
    "pd.set_option('display.max_rows', 100)"
   ]
  },
  {
   "cell_type": "code",
   "execution_count": 141,
   "metadata": {
    "scrolled": true
   },
   "outputs": [
    {
     "name": "stderr",
     "output_type": "stream",
     "text": [
      "/home/ubuntu/anaconda3/envs/tensorflow2_p36/lib/python3.6/site-packages/IPython/core/interactiveshell.py:3063: DtypeWarning: Columns (0,26,27,28,29,37,39) have mixed types.Specify dtype option on import or set low_memory=False.\n",
      "  interactivity=interactivity, compiler=compiler, result=result)\n"
     ]
    }
   ],
   "source": [
    "raw = pd.read_csv('../../Data/movie_201118.csv')"
   ]
  },
  {
   "cell_type": "markdown",
   "metadata": {},
   "source": [
    "* null 있지만 채울 필요 없는 것들,"
   ]
  },
  {
   "cell_type": "markdown",
   "metadata": {},
   "source": [
    "e_time"
   ]
  },
  {
   "cell_type": "markdown",
   "metadata": {},
   "source": [
    "watch_duration"
   ]
  },
  {
   "cell_type": "markdown",
   "metadata": {},
   "source": [
    "vod_s_point, vod_e_point"
   ]
  },
  {
   "cell_type": "markdown",
   "metadata": {},
   "source": [
    "agree_yn"
   ]
  },
  {
   "cell_type": "markdown",
   "metadata": {},
   "source": [
    "category_id (too many)"
   ]
  },
  {
   "cell_type": "markdown",
   "metadata": {},
   "source": [
    "### buy_history_price 조정 필요"
   ]
  },
  {
   "cell_type": "markdown",
   "metadata": {},
   "source": [
    "* need to fill"
   ]
  },
  {
   "cell_type": "markdown",
   "metadata": {},
   "source": [
    "release_date (median)"
   ]
  },
  {
   "cell_type": "code",
   "execution_count": 142,
   "metadata": {},
   "outputs": [
    {
     "data": {
      "text/plain": [
       "19350101.0"
      ]
     },
     "execution_count": 142,
     "metadata": {},
     "output_type": "execute_result"
    }
   ],
   "source": [
    "raw['release_date'].min()"
   ]
  },
  {
   "cell_type": "code",
   "execution_count": 143,
   "metadata": {},
   "outputs": [
    {
     "data": {
      "text/plain": [
       "20201113.0"
      ]
     },
     "execution_count": 143,
     "metadata": {},
     "output_type": "execute_result"
    }
   ],
   "source": [
    "raw['release_date'].max()"
   ]
  },
  {
   "cell_type": "code",
   "execution_count": 144,
   "metadata": {},
   "outputs": [
    {
     "data": {
      "text/plain": [
       "20170428.0"
      ]
     },
     "execution_count": 144,
     "metadata": {},
     "output_type": "execute_result"
    }
   ],
   "source": [
    "raw['release_date'].median()"
   ]
  },
  {
   "cell_type": "code",
   "execution_count": 145,
   "metadata": {
    "scrolled": true
   },
   "outputs": [],
   "source": [
    "raw['release_date'].fillna(raw['release_date'].median(), inplace=True)"
   ]
  },
  {
   "cell_type": "markdown",
   "metadata": {},
   "source": [
    "meta_genre, genre_large, genre_mid, genre_small ('N')"
   ]
  },
  {
   "cell_type": "code",
   "execution_count": 146,
   "metadata": {},
   "outputs": [],
   "source": [
    "genre_col = ['meta_genre', 'genre_large', 'genre_mid', 'genre_small']"
   ]
  },
  {
   "cell_type": "code",
   "execution_count": 147,
   "metadata": {},
   "outputs": [
    {
     "name": "stdout",
     "output_type": "stream",
     "text": [
      "8347\n",
      "5275\n",
      "5275\n",
      "7229081\n"
     ]
    }
   ],
   "source": [
    "for col in genre_col:\n",
    "    print(sum(raw[col].isnull()))"
   ]
  },
  {
   "cell_type": "code",
   "execution_count": 148,
   "metadata": {},
   "outputs": [],
   "source": [
    "for col in genre_col:\n",
    "    raw[col].fillna('N', inplace=True)"
   ]
  },
  {
   "cell_type": "code",
   "execution_count": 149,
   "metadata": {},
   "outputs": [
    {
     "name": "stdout",
     "output_type": "stream",
     "text": [
      "0\n",
      "0\n",
      "0\n",
      "0\n"
     ]
    }
   ],
   "source": [
    "for col in genre_col:\n",
    "    print(sum(raw[col].isnull()))"
   ]
  },
  {
   "cell_type": "markdown",
   "metadata": {},
   "source": [
    "buy_seg"
   ]
  },
  {
   "cell_type": "markdown",
   "metadata": {},
   "source": [
    "buy_seg = '\\\\N' 인 것들 중에,"
   ]
  },
  {
   "cell_type": "markdown",
   "metadata": {},
   "source": [
    "if__  buy_history_price 까지 '\\\\N' or 0원 이면 : fod"
   ]
  },
  {
   "cell_type": "markdown",
   "metadata": {},
   "source": [
    "else__ price > 0 이면 : 'BUY_1_2'"
   ]
  },
  {
   "cell_type": "markdown",
   "metadata": {},
   "source": [
    "## 로 하려고하는데, buy_seg = '\\\\N' 이면 amt_1_4 - amt_4_4 모두 '\\\\N' 이라 일단 뺌."
   ]
  },
  {
   "cell_type": "code",
   "execution_count": 153,
   "metadata": {},
   "outputs": [],
   "source": [
    "raw.drop(raw[raw['buy_seg'] == '\\\\N'].index, inplace=True)"
   ]
  },
  {
   "cell_type": "code",
   "execution_count": 157,
   "metadata": {},
   "outputs": [
    {
     "name": "stdout",
     "output_type": "stream",
     "text": [
      "0\n",
      "0\n",
      "0\n",
      "0\n",
      "0\n"
     ]
    }
   ],
   "source": [
    "print(sum(raw['buy_seg'] == '\\\\N'))\n",
    "print(sum(raw['amt_1_4'] == '\\\\N'))\n",
    "print(sum(raw['amt_2_4'] == '\\\\N'))\n",
    "print(sum(raw['amt_3_4'] == '\\\\N'))\n",
    "print(sum(raw['amt_4_4'] == '\\\\N'))"
   ]
  },
  {
   "cell_type": "code",
   "execution_count": 130,
   "metadata": {
    "scrolled": true
   },
   "outputs": [],
   "source": [
    "# raw.loc[(raw['buy_seg'] == '\\\\N') & (raw['buy_history_price'].apply(lambda x: x in ['\\\\N', 0])), 'buy_seg'] = 'FOD'"
   ]
  },
  {
   "cell_type": "code",
   "execution_count": 131,
   "metadata": {},
   "outputs": [],
   "source": [
    "# raw.loc[raw['buy_seg'] == '\\\\N', 'buy_seg'] = 'BUY_1_2'"
   ]
  },
  {
   "cell_type": "code",
   "execution_count": 158,
   "metadata": {
    "scrolled": false
   },
   "outputs": [
    {
     "data": {
      "text/plain": [
       "{'BUY_1_2', 'BUY_3', 'FOD', 'VIEW_NO'}"
      ]
     },
     "execution_count": 158,
     "metadata": {},
     "output_type": "execute_result"
    }
   ],
   "source": [
    "set(raw['buy_seg'])"
   ]
  },
  {
   "cell_type": "code",
   "execution_count": 159,
   "metadata": {},
   "outputs": [
    {
     "data": {
      "text/html": [
       "<div>\n",
       "<style scoped>\n",
       "    .dataframe tbody tr th:only-of-type {\n",
       "        vertical-align: middle;\n",
       "    }\n",
       "\n",
       "    .dataframe tbody tr th {\n",
       "        vertical-align: top;\n",
       "    }\n",
       "\n",
       "    .dataframe thead th {\n",
       "        text-align: right;\n",
       "    }\n",
       "</style>\n",
       "<table border=\"1\" class=\"dataframe\">\n",
       "  <thead>\n",
       "    <tr style=\"text-align: right;\">\n",
       "      <th></th>\n",
       "      <th>sa_id</th>\n",
       "      <th>s_time</th>\n",
       "      <th>e_time</th>\n",
       "      <th>watch_duration</th>\n",
       "      <th>album_id</th>\n",
       "      <th>album_name</th>\n",
       "      <th>gubun</th>\n",
       "      <th>vod_s_point</th>\n",
       "      <th>vod_e_point</th>\n",
       "      <th>agree_yn</th>\n",
       "      <th>category_id</th>\n",
       "      <th>release_date</th>\n",
       "      <th>run_time</th>\n",
       "      <th>meta_genre</th>\n",
       "      <th>genre_large</th>\n",
       "      <th>genre_mid</th>\n",
       "      <th>genre_small</th>\n",
       "      <th>movie_meta_price</th>\n",
       "      <th>buy_history_price</th>\n",
       "      <th>i30_meta_price</th>\n",
       "      <th>buy_tot</th>\n",
       "      <th>view_no</th>\n",
       "      <th>fod</th>\n",
       "      <th>buy_1_2</th>\n",
       "      <th>buy_3</th>\n",
       "      <th>buy_seg</th>\n",
       "      <th>amt_1_4</th>\n",
       "      <th>amt_2_4</th>\n",
       "      <th>amt_3_4</th>\n",
       "      <th>amt_4_4</th>\n",
       "      <th>amt_r_gabun</th>\n",
       "      <th>weekdays</th>\n",
       "      <th>weekends</th>\n",
       "      <th>dawn</th>\n",
       "      <th>morning</th>\n",
       "      <th>afternoon</th>\n",
       "      <th>evening</th>\n",
       "      <th>watch_ratio</th>\n",
       "      <th>current_rate</th>\n",
       "      <th>ncf_rating</th>\n",
       "    </tr>\n",
       "  </thead>\n",
       "  <tbody>\n",
       "  </tbody>\n",
       "</table>\n",
       "</div>"
      ],
      "text/plain": [
       "Empty DataFrame\n",
       "Columns: [sa_id, s_time, e_time, watch_duration, album_id, album_name, gubun, vod_s_point, vod_e_point, agree_yn, category_id, release_date, run_time, meta_genre, genre_large, genre_mid, genre_small, movie_meta_price, buy_history_price, i30_meta_price, buy_tot, view_no, fod, buy_1_2, buy_3, buy_seg, amt_1_4, amt_2_4, amt_3_4, amt_4_4, amt_r_gabun, weekdays, weekends, dawn, morning, afternoon, evening, watch_ratio, current_rate, ncf_rating]\n",
       "Index: []"
      ]
     },
     "execution_count": 159,
     "metadata": {},
     "output_type": "execute_result"
    }
   ],
   "source": [
    "raw[raw['amt_1_4'] == '\\\\N']"
   ]
  },
  {
   "cell_type": "code",
   "execution_count": 161,
   "metadata": {},
   "outputs": [
    {
     "data": {
      "text/html": [
       "<div>\n",
       "<style scoped>\n",
       "    .dataframe tbody tr th:only-of-type {\n",
       "        vertical-align: middle;\n",
       "    }\n",
       "\n",
       "    .dataframe tbody tr th {\n",
       "        vertical-align: top;\n",
       "    }\n",
       "\n",
       "    .dataframe thead th {\n",
       "        text-align: right;\n",
       "    }\n",
       "</style>\n",
       "<table border=\"1\" class=\"dataframe\">\n",
       "  <thead>\n",
       "    <tr style=\"text-align: right;\">\n",
       "      <th></th>\n",
       "      <th>sa_id</th>\n",
       "      <th>s_time</th>\n",
       "      <th>e_time</th>\n",
       "      <th>watch_duration</th>\n",
       "      <th>album_id</th>\n",
       "      <th>album_name</th>\n",
       "      <th>gubun</th>\n",
       "      <th>vod_s_point</th>\n",
       "      <th>vod_e_point</th>\n",
       "      <th>agree_yn</th>\n",
       "      <th>category_id</th>\n",
       "      <th>release_date</th>\n",
       "      <th>run_time</th>\n",
       "      <th>meta_genre</th>\n",
       "      <th>genre_large</th>\n",
       "      <th>genre_mid</th>\n",
       "      <th>genre_small</th>\n",
       "      <th>movie_meta_price</th>\n",
       "      <th>buy_history_price</th>\n",
       "      <th>i30_meta_price</th>\n",
       "      <th>buy_tot</th>\n",
       "      <th>view_no</th>\n",
       "      <th>fod</th>\n",
       "      <th>buy_1_2</th>\n",
       "      <th>buy_3</th>\n",
       "      <th>buy_seg</th>\n",
       "      <th>amt_1_4</th>\n",
       "      <th>amt_2_4</th>\n",
       "      <th>amt_3_4</th>\n",
       "      <th>amt_4_4</th>\n",
       "      <th>amt_r_gabun</th>\n",
       "      <th>weekdays</th>\n",
       "      <th>weekends</th>\n",
       "      <th>dawn</th>\n",
       "      <th>morning</th>\n",
       "      <th>afternoon</th>\n",
       "      <th>evening</th>\n",
       "      <th>watch_ratio</th>\n",
       "      <th>current_rate</th>\n",
       "      <th>ncf_rating</th>\n",
       "    </tr>\n",
       "  </thead>\n",
       "  <tbody>\n",
       "  </tbody>\n",
       "</table>\n",
       "</div>"
      ],
      "text/plain": [
       "Empty DataFrame\n",
       "Columns: [sa_id, s_time, e_time, watch_duration, album_id, album_name, gubun, vod_s_point, vod_e_point, agree_yn, category_id, release_date, run_time, meta_genre, genre_large, genre_mid, genre_small, movie_meta_price, buy_history_price, i30_meta_price, buy_tot, view_no, fod, buy_1_2, buy_3, buy_seg, amt_1_4, amt_2_4, amt_3_4, amt_4_4, amt_r_gabun, weekdays, weekends, dawn, morning, afternoon, evening, watch_ratio, current_rate, ncf_rating]\n",
       "Index: []"
      ]
     },
     "execution_count": 161,
     "metadata": {},
     "output_type": "execute_result"
    }
   ],
   "source": [
    "raw[raw['amt_2_4'] == '\\\\N']"
   ]
  },
  {
   "cell_type": "code",
   "execution_count": 162,
   "metadata": {},
   "outputs": [
    {
     "data": {
      "text/html": [
       "<div>\n",
       "<style scoped>\n",
       "    .dataframe tbody tr th:only-of-type {\n",
       "        vertical-align: middle;\n",
       "    }\n",
       "\n",
       "    .dataframe tbody tr th {\n",
       "        vertical-align: top;\n",
       "    }\n",
       "\n",
       "    .dataframe thead th {\n",
       "        text-align: right;\n",
       "    }\n",
       "</style>\n",
       "<table border=\"1\" class=\"dataframe\">\n",
       "  <thead>\n",
       "    <tr style=\"text-align: right;\">\n",
       "      <th></th>\n",
       "      <th>sa_id</th>\n",
       "      <th>s_time</th>\n",
       "      <th>e_time</th>\n",
       "      <th>watch_duration</th>\n",
       "      <th>album_id</th>\n",
       "      <th>album_name</th>\n",
       "      <th>gubun</th>\n",
       "      <th>vod_s_point</th>\n",
       "      <th>vod_e_point</th>\n",
       "      <th>agree_yn</th>\n",
       "      <th>category_id</th>\n",
       "      <th>release_date</th>\n",
       "      <th>run_time</th>\n",
       "      <th>meta_genre</th>\n",
       "      <th>genre_large</th>\n",
       "      <th>genre_mid</th>\n",
       "      <th>genre_small</th>\n",
       "      <th>movie_meta_price</th>\n",
       "      <th>buy_history_price</th>\n",
       "      <th>i30_meta_price</th>\n",
       "      <th>buy_tot</th>\n",
       "      <th>view_no</th>\n",
       "      <th>fod</th>\n",
       "      <th>buy_1_2</th>\n",
       "      <th>buy_3</th>\n",
       "      <th>buy_seg</th>\n",
       "      <th>amt_1_4</th>\n",
       "      <th>amt_2_4</th>\n",
       "      <th>amt_3_4</th>\n",
       "      <th>amt_4_4</th>\n",
       "      <th>amt_r_gabun</th>\n",
       "      <th>weekdays</th>\n",
       "      <th>weekends</th>\n",
       "      <th>dawn</th>\n",
       "      <th>morning</th>\n",
       "      <th>afternoon</th>\n",
       "      <th>evening</th>\n",
       "      <th>watch_ratio</th>\n",
       "      <th>current_rate</th>\n",
       "      <th>ncf_rating</th>\n",
       "    </tr>\n",
       "  </thead>\n",
       "  <tbody>\n",
       "  </tbody>\n",
       "</table>\n",
       "</div>"
      ],
      "text/plain": [
       "Empty DataFrame\n",
       "Columns: [sa_id, s_time, e_time, watch_duration, album_id, album_name, gubun, vod_s_point, vod_e_point, agree_yn, category_id, release_date, run_time, meta_genre, genre_large, genre_mid, genre_small, movie_meta_price, buy_history_price, i30_meta_price, buy_tot, view_no, fod, buy_1_2, buy_3, buy_seg, amt_1_4, amt_2_4, amt_3_4, amt_4_4, amt_r_gabun, weekdays, weekends, dawn, morning, afternoon, evening, watch_ratio, current_rate, ncf_rating]\n",
       "Index: []"
      ]
     },
     "execution_count": 162,
     "metadata": {},
     "output_type": "execute_result"
    }
   ],
   "source": [
    "raw[raw['amt_3_4'] == '\\\\N']"
   ]
  },
  {
   "cell_type": "code",
   "execution_count": 163,
   "metadata": {},
   "outputs": [
    {
     "data": {
      "text/html": [
       "<div>\n",
       "<style scoped>\n",
       "    .dataframe tbody tr th:only-of-type {\n",
       "        vertical-align: middle;\n",
       "    }\n",
       "\n",
       "    .dataframe tbody tr th {\n",
       "        vertical-align: top;\n",
       "    }\n",
       "\n",
       "    .dataframe thead th {\n",
       "        text-align: right;\n",
       "    }\n",
       "</style>\n",
       "<table border=\"1\" class=\"dataframe\">\n",
       "  <thead>\n",
       "    <tr style=\"text-align: right;\">\n",
       "      <th></th>\n",
       "      <th>sa_id</th>\n",
       "      <th>s_time</th>\n",
       "      <th>e_time</th>\n",
       "      <th>watch_duration</th>\n",
       "      <th>album_id</th>\n",
       "      <th>album_name</th>\n",
       "      <th>gubun</th>\n",
       "      <th>vod_s_point</th>\n",
       "      <th>vod_e_point</th>\n",
       "      <th>agree_yn</th>\n",
       "      <th>category_id</th>\n",
       "      <th>release_date</th>\n",
       "      <th>run_time</th>\n",
       "      <th>meta_genre</th>\n",
       "      <th>genre_large</th>\n",
       "      <th>genre_mid</th>\n",
       "      <th>genre_small</th>\n",
       "      <th>movie_meta_price</th>\n",
       "      <th>buy_history_price</th>\n",
       "      <th>i30_meta_price</th>\n",
       "      <th>buy_tot</th>\n",
       "      <th>view_no</th>\n",
       "      <th>fod</th>\n",
       "      <th>buy_1_2</th>\n",
       "      <th>buy_3</th>\n",
       "      <th>buy_seg</th>\n",
       "      <th>amt_1_4</th>\n",
       "      <th>amt_2_4</th>\n",
       "      <th>amt_3_4</th>\n",
       "      <th>amt_4_4</th>\n",
       "      <th>amt_r_gabun</th>\n",
       "      <th>weekdays</th>\n",
       "      <th>weekends</th>\n",
       "      <th>dawn</th>\n",
       "      <th>morning</th>\n",
       "      <th>afternoon</th>\n",
       "      <th>evening</th>\n",
       "      <th>watch_ratio</th>\n",
       "      <th>current_rate</th>\n",
       "      <th>ncf_rating</th>\n",
       "    </tr>\n",
       "  </thead>\n",
       "  <tbody>\n",
       "  </tbody>\n",
       "</table>\n",
       "</div>"
      ],
      "text/plain": [
       "Empty DataFrame\n",
       "Columns: [sa_id, s_time, e_time, watch_duration, album_id, album_name, gubun, vod_s_point, vod_e_point, agree_yn, category_id, release_date, run_time, meta_genre, genre_large, genre_mid, genre_small, movie_meta_price, buy_history_price, i30_meta_price, buy_tot, view_no, fod, buy_1_2, buy_3, buy_seg, amt_1_4, amt_2_4, amt_3_4, amt_4_4, amt_r_gabun, weekdays, weekends, dawn, morning, afternoon, evening, watch_ratio, current_rate, ncf_rating]\n",
       "Index: []"
      ]
     },
     "execution_count": 163,
     "metadata": {},
     "output_type": "execute_result"
    }
   ],
   "source": [
    "raw[raw['amt_4_4'] == '\\\\N']"
   ]
  },
  {
   "cell_type": "code",
   "execution_count": 177,
   "metadata": {},
   "outputs": [],
   "source": [
    "raw.reset_index(inplace=True)"
   ]
  },
  {
   "cell_type": "code",
   "execution_count": 178,
   "metadata": {},
   "outputs": [
    {
     "data": {
      "text/html": [
       "<div>\n",
       "<style scoped>\n",
       "    .dataframe tbody tr th:only-of-type {\n",
       "        vertical-align: middle;\n",
       "    }\n",
       "\n",
       "    .dataframe tbody tr th {\n",
       "        vertical-align: top;\n",
       "    }\n",
       "\n",
       "    .dataframe thead th {\n",
       "        text-align: right;\n",
       "    }\n",
       "</style>\n",
       "<table border=\"1\" class=\"dataframe\">\n",
       "  <thead>\n",
       "    <tr style=\"text-align: right;\">\n",
       "      <th></th>\n",
       "      <th>index</th>\n",
       "      <th>sa_id</th>\n",
       "      <th>s_time</th>\n",
       "      <th>e_time</th>\n",
       "      <th>watch_duration</th>\n",
       "      <th>album_id</th>\n",
       "      <th>album_name</th>\n",
       "      <th>gubun</th>\n",
       "      <th>vod_s_point</th>\n",
       "      <th>vod_e_point</th>\n",
       "      <th>agree_yn</th>\n",
       "      <th>category_id</th>\n",
       "      <th>release_date</th>\n",
       "      <th>run_time</th>\n",
       "      <th>meta_genre</th>\n",
       "      <th>genre_large</th>\n",
       "      <th>genre_mid</th>\n",
       "      <th>genre_small</th>\n",
       "      <th>movie_meta_price</th>\n",
       "      <th>buy_history_price</th>\n",
       "      <th>i30_meta_price</th>\n",
       "      <th>buy_tot</th>\n",
       "      <th>view_no</th>\n",
       "      <th>fod</th>\n",
       "      <th>buy_1_2</th>\n",
       "      <th>buy_3</th>\n",
       "      <th>buy_seg</th>\n",
       "      <th>amt_1_4</th>\n",
       "      <th>amt_2_4</th>\n",
       "      <th>amt_3_4</th>\n",
       "      <th>amt_4_4</th>\n",
       "      <th>amt_r_gabun</th>\n",
       "      <th>weekdays</th>\n",
       "      <th>weekends</th>\n",
       "      <th>dawn</th>\n",
       "      <th>morning</th>\n",
       "      <th>afternoon</th>\n",
       "      <th>evening</th>\n",
       "      <th>watch_ratio</th>\n",
       "      <th>current_rate</th>\n",
       "      <th>ncf_rating</th>\n",
       "    </tr>\n",
       "  </thead>\n",
       "  <tbody>\n",
       "    <tr>\n",
       "      <th>0</th>\n",
       "      <td>0</td>\n",
       "      <td>205101491713</td>\n",
       "      <td>20200826090744</td>\n",
       "      <td>2.020083e+13</td>\n",
       "      <td>6676.0</td>\n",
       "      <td>M01208D595PPV00</td>\n",
       "      <td>반도(소장)</td>\n",
       "      <td>WT</td>\n",
       "      <td>40.0</td>\n",
       "      <td>6716.0</td>\n",
       "      <td>Y</td>\n",
       "      <td>NaN</td>\n",
       "      <td>20200715.0</td>\n",
       "      <td>115</td>\n",
       "      <td>액션</td>\n",
       "      <td>영화</td>\n",
       "      <td>액션</td>\n",
       "      <td>N</td>\n",
       "      <td>9900.0</td>\n",
       "      <td>\\N</td>\n",
       "      <td>9900</td>\n",
       "      <td>0</td>\n",
       "      <td>1</td>\n",
       "      <td>0</td>\n",
       "      <td>0</td>\n",
       "      <td>0</td>\n",
       "      <td>VIEW_NO</td>\n",
       "      <td>1</td>\n",
       "      <td>0</td>\n",
       "      <td>0</td>\n",
       "      <td>0</td>\n",
       "      <td>AMT_0_R</td>\n",
       "      <td>1</td>\n",
       "      <td>0</td>\n",
       "      <td>0</td>\n",
       "      <td>1</td>\n",
       "      <td>0</td>\n",
       "      <td>0</td>\n",
       "      <td>0.967536231884058</td>\n",
       "      <td>0.461111</td>\n",
       "      <td>0.7532125603864734</td>\n",
       "    </tr>\n",
       "    <tr>\n",
       "      <th>1</th>\n",
       "      <td>1</td>\n",
       "      <td>205101521683</td>\n",
       "      <td>20200827211322</td>\n",
       "      <td>NaN</td>\n",
       "      <td>\\N</td>\n",
       "      <td>M011526134PPV00</td>\n",
       "      <td>[우리말]마다가스카</td>\n",
       "      <td>W</td>\n",
       "      <td>NaN</td>\n",
       "      <td>NaN</td>\n",
       "      <td>Y</td>\n",
       "      <td>NaN</td>\n",
       "      <td>20050714.0</td>\n",
       "      <td>85</td>\n",
       "      <td>극장판 애니</td>\n",
       "      <td>영화</td>\n",
       "      <td>극장판 애니</td>\n",
       "      <td>어린이/가족</td>\n",
       "      <td>1400.0</td>\n",
       "      <td>\\N</td>\n",
       "      <td>1400</td>\n",
       "      <td>0</td>\n",
       "      <td>0</td>\n",
       "      <td>1</td>\n",
       "      <td>0</td>\n",
       "      <td>0</td>\n",
       "      <td>FOD</td>\n",
       "      <td>1</td>\n",
       "      <td>0</td>\n",
       "      <td>0</td>\n",
       "      <td>0</td>\n",
       "      <td>AMT_0_R</td>\n",
       "      <td>1</td>\n",
       "      <td>0</td>\n",
       "      <td>0</td>\n",
       "      <td>0</td>\n",
       "      <td>0</td>\n",
       "      <td>1</td>\n",
       "      <td>0.8</td>\n",
       "      <td>0.455556</td>\n",
       "      <td>0.6722222222222223</td>\n",
       "    </tr>\n",
       "    <tr>\n",
       "      <th>2</th>\n",
       "      <td>2</td>\n",
       "      <td>205101521683</td>\n",
       "      <td>20201001155631</td>\n",
       "      <td>2.020100e+13</td>\n",
       "      <td>5193.0</td>\n",
       "      <td>M01208A459PPV00</td>\n",
       "      <td>[우리말]메가마인드</td>\n",
       "      <td>WT</td>\n",
       "      <td>25.0</td>\n",
       "      <td>5218.0</td>\n",
       "      <td>Y</td>\n",
       "      <td>NaN</td>\n",
       "      <td>20110113.0</td>\n",
       "      <td>95</td>\n",
       "      <td>극장판 애니</td>\n",
       "      <td>영화</td>\n",
       "      <td>극장판 애니</td>\n",
       "      <td>어린이/가족</td>\n",
       "      <td>1400.0</td>\n",
       "      <td>\\N</td>\n",
       "      <td>1400</td>\n",
       "      <td>0</td>\n",
       "      <td>0</td>\n",
       "      <td>1</td>\n",
       "      <td>0</td>\n",
       "      <td>0</td>\n",
       "      <td>FOD</td>\n",
       "      <td>1</td>\n",
       "      <td>0</td>\n",
       "      <td>0</td>\n",
       "      <td>0</td>\n",
       "      <td>AMT_0_R</td>\n",
       "      <td>1</td>\n",
       "      <td>0</td>\n",
       "      <td>0</td>\n",
       "      <td>0</td>\n",
       "      <td>1</td>\n",
       "      <td>0</td>\n",
       "      <td>0.9110526315789473</td>\n",
       "      <td>0.261111</td>\n",
       "      <td>0.8249707602339181</td>\n",
       "    </tr>\n",
       "    <tr>\n",
       "      <th>3</th>\n",
       "      <td>3</td>\n",
       "      <td>205101521683</td>\n",
       "      <td>20201103103535</td>\n",
       "      <td>2.020110e+13</td>\n",
       "      <td>6293.0</td>\n",
       "      <td>M01188R075PPV00</td>\n",
       "      <td>기문둔갑</td>\n",
       "      <td>WT</td>\n",
       "      <td>33.0</td>\n",
       "      <td>6326.0</td>\n",
       "      <td>Y</td>\n",
       "      <td>NaN</td>\n",
       "      <td>20171215.0</td>\n",
       "      <td>112</td>\n",
       "      <td>액션</td>\n",
       "      <td>영화</td>\n",
       "      <td>액션</td>\n",
       "      <td>N</td>\n",
       "      <td>1400.0</td>\n",
       "      <td>\\N</td>\n",
       "      <td>1400</td>\n",
       "      <td>0</td>\n",
       "      <td>0</td>\n",
       "      <td>1</td>\n",
       "      <td>0</td>\n",
       "      <td>0</td>\n",
       "      <td>FOD</td>\n",
       "      <td>1</td>\n",
       "      <td>0</td>\n",
       "      <td>0</td>\n",
       "      <td>0</td>\n",
       "      <td>AMT_0_R</td>\n",
       "      <td>1</td>\n",
       "      <td>0</td>\n",
       "      <td>0</td>\n",
       "      <td>1</td>\n",
       "      <td>0</td>\n",
       "      <td>0</td>\n",
       "      <td>0.9364583333333333</td>\n",
       "      <td>0.077778</td>\n",
       "      <td>0.9293402777777777</td>\n",
       "    </tr>\n",
       "    <tr>\n",
       "      <th>4</th>\n",
       "      <td>4</td>\n",
       "      <td>205101521683</td>\n",
       "      <td>20200925212911</td>\n",
       "      <td>2.020093e+13</td>\n",
       "      <td>110.0</td>\n",
       "      <td>M01133TA30PPV00</td>\n",
       "      <td>가디언즈</td>\n",
       "      <td>WT</td>\n",
       "      <td>140.0</td>\n",
       "      <td>250.0</td>\n",
       "      <td>Y</td>\n",
       "      <td>NaN</td>\n",
       "      <td>20121129.0</td>\n",
       "      <td>97</td>\n",
       "      <td>극장판 애니</td>\n",
       "      <td>영화</td>\n",
       "      <td>극장판 애니</td>\n",
       "      <td>어린이/가족</td>\n",
       "      <td>1400.0</td>\n",
       "      <td>\\N</td>\n",
       "      <td>1400</td>\n",
       "      <td>0</td>\n",
       "      <td>0</td>\n",
       "      <td>1</td>\n",
       "      <td>0</td>\n",
       "      <td>0</td>\n",
       "      <td>FOD</td>\n",
       "      <td>1</td>\n",
       "      <td>0</td>\n",
       "      <td>0</td>\n",
       "      <td>0</td>\n",
       "      <td>AMT_0_R</td>\n",
       "      <td>1</td>\n",
       "      <td>0</td>\n",
       "      <td>0</td>\n",
       "      <td>0</td>\n",
       "      <td>0</td>\n",
       "      <td>1</td>\n",
       "      <td>0.018900343642611683</td>\n",
       "      <td>0.294444</td>\n",
       "      <td>0.3622279495990836</td>\n",
       "    </tr>\n",
       "    <tr>\n",
       "      <th>...</th>\n",
       "      <td>...</td>\n",
       "      <td>...</td>\n",
       "      <td>...</td>\n",
       "      <td>...</td>\n",
       "      <td>...</td>\n",
       "      <td>...</td>\n",
       "      <td>...</td>\n",
       "      <td>...</td>\n",
       "      <td>...</td>\n",
       "      <td>...</td>\n",
       "      <td>...</td>\n",
       "      <td>...</td>\n",
       "      <td>...</td>\n",
       "      <td>...</td>\n",
       "      <td>...</td>\n",
       "      <td>...</td>\n",
       "      <td>...</td>\n",
       "      <td>...</td>\n",
       "      <td>...</td>\n",
       "      <td>...</td>\n",
       "      <td>...</td>\n",
       "      <td>...</td>\n",
       "      <td>...</td>\n",
       "      <td>...</td>\n",
       "      <td>...</td>\n",
       "      <td>...</td>\n",
       "      <td>...</td>\n",
       "      <td>...</td>\n",
       "      <td>...</td>\n",
       "      <td>...</td>\n",
       "      <td>...</td>\n",
       "      <td>...</td>\n",
       "      <td>...</td>\n",
       "      <td>...</td>\n",
       "      <td>...</td>\n",
       "      <td>...</td>\n",
       "      <td>...</td>\n",
       "      <td>...</td>\n",
       "      <td>...</td>\n",
       "      <td>...</td>\n",
       "      <td>...</td>\n",
       "    </tr>\n",
       "    <tr>\n",
       "      <th>8459259</th>\n",
       "      <td>8459359</td>\n",
       "      <td>M18061900001</td>\n",
       "      <td>20200909211937</td>\n",
       "      <td>NaN</td>\n",
       "      <td>\\N</td>\n",
       "      <td>M012054529PPV00</td>\n",
       "      <td>[우리말]마다가스카 3: 이번엔 서커스다!(소장)</td>\n",
       "      <td>W</td>\n",
       "      <td>NaN</td>\n",
       "      <td>NaN</td>\n",
       "      <td>Y</td>\n",
       "      <td>AL093</td>\n",
       "      <td>20120606.0</td>\n",
       "      <td>94</td>\n",
       "      <td>극장판 애니</td>\n",
       "      <td>영화</td>\n",
       "      <td>극장판 애니</td>\n",
       "      <td>어린이/가족</td>\n",
       "      <td>13900.0</td>\n",
       "      <td>\\N</td>\n",
       "      <td>13900</td>\n",
       "      <td>8</td>\n",
       "      <td>0</td>\n",
       "      <td>0</td>\n",
       "      <td>0</td>\n",
       "      <td>1</td>\n",
       "      <td>BUY_3</td>\n",
       "      <td>0.0</td>\n",
       "      <td>0.375</td>\n",
       "      <td>0.0</td>\n",
       "      <td>0.625</td>\n",
       "      <td>AMT_5000_OVER_R</td>\n",
       "      <td>1</td>\n",
       "      <td>0</td>\n",
       "      <td>0</td>\n",
       "      <td>0</td>\n",
       "      <td>0</td>\n",
       "      <td>1</td>\n",
       "      <td>0.8</td>\n",
       "      <td>0.383333</td>\n",
       "      <td>0.708333</td>\n",
       "    </tr>\n",
       "    <tr>\n",
       "      <th>8459260</th>\n",
       "      <td>8459360</td>\n",
       "      <td>M18061900001</td>\n",
       "      <td>20200922130942</td>\n",
       "      <td>2.020092e+13</td>\n",
       "      <td>30.0</td>\n",
       "      <td>M01204M075PPV00</td>\n",
       "      <td>양자물리학</td>\n",
       "      <td>WT</td>\n",
       "      <td>338.0</td>\n",
       "      <td>368.0</td>\n",
       "      <td>Y</td>\n",
       "      <td>NaN</td>\n",
       "      <td>20190925.0</td>\n",
       "      <td>120</td>\n",
       "      <td>스릴러</td>\n",
       "      <td>영화</td>\n",
       "      <td>스릴러</td>\n",
       "      <td>N</td>\n",
       "      <td>3500.0</td>\n",
       "      <td>3500</td>\n",
       "      <td>3500</td>\n",
       "      <td>8</td>\n",
       "      <td>0</td>\n",
       "      <td>0</td>\n",
       "      <td>0</td>\n",
       "      <td>1</td>\n",
       "      <td>BUY_3</td>\n",
       "      <td>0.0</td>\n",
       "      <td>0.375</td>\n",
       "      <td>0.0</td>\n",
       "      <td>0.625</td>\n",
       "      <td>AMT_5000_OVER_R</td>\n",
       "      <td>1</td>\n",
       "      <td>0</td>\n",
       "      <td>0</td>\n",
       "      <td>0</td>\n",
       "      <td>1</td>\n",
       "      <td>0</td>\n",
       "      <td>0.00416667</td>\n",
       "      <td>0.311111</td>\n",
       "      <td>0.346528</td>\n",
       "    </tr>\n",
       "    <tr>\n",
       "      <th>8459261</th>\n",
       "      <td>8459361</td>\n",
       "      <td>M18061900001</td>\n",
       "      <td>20201001230620</td>\n",
       "      <td>2.020100e+13</td>\n",
       "      <td>6116.0</td>\n",
       "      <td>M01206U082PPV00</td>\n",
       "      <td>나의 첫 번째 슈퍼스타(소장)</td>\n",
       "      <td>WT</td>\n",
       "      <td>677.0</td>\n",
       "      <td>6793.0</td>\n",
       "      <td>Y</td>\n",
       "      <td>NaN</td>\n",
       "      <td>20200610.0</td>\n",
       "      <td>113</td>\n",
       "      <td>코미디</td>\n",
       "      <td>영화</td>\n",
       "      <td>코미디</td>\n",
       "      <td>N</td>\n",
       "      <td>7700.0</td>\n",
       "      <td>9900</td>\n",
       "      <td>7700</td>\n",
       "      <td>8</td>\n",
       "      <td>0</td>\n",
       "      <td>0</td>\n",
       "      <td>0</td>\n",
       "      <td>1</td>\n",
       "      <td>BUY_3</td>\n",
       "      <td>0.0</td>\n",
       "      <td>0.375</td>\n",
       "      <td>0.0</td>\n",
       "      <td>0.625</td>\n",
       "      <td>AMT_5000_OVER_R</td>\n",
       "      <td>1</td>\n",
       "      <td>0</td>\n",
       "      <td>0</td>\n",
       "      <td>0</td>\n",
       "      <td>0</td>\n",
       "      <td>1</td>\n",
       "      <td>0.902065</td>\n",
       "      <td>0.261111</td>\n",
       "      <td>0.820477</td>\n",
       "    </tr>\n",
       "    <tr>\n",
       "      <th>8459262</th>\n",
       "      <td>8459362</td>\n",
       "      <td>M18061900001</td>\n",
       "      <td>20201001230620</td>\n",
       "      <td>2.020100e+13</td>\n",
       "      <td>6116.0</td>\n",
       "      <td>M01206U082PPV00</td>\n",
       "      <td>나의 첫 번째 슈퍼스타(소장)</td>\n",
       "      <td>WT</td>\n",
       "      <td>-6116.0</td>\n",
       "      <td>0.0</td>\n",
       "      <td>Y</td>\n",
       "      <td>NaN</td>\n",
       "      <td>20200610.0</td>\n",
       "      <td>113</td>\n",
       "      <td>코미디</td>\n",
       "      <td>영화</td>\n",
       "      <td>코미디</td>\n",
       "      <td>N</td>\n",
       "      <td>7700.0</td>\n",
       "      <td>9900</td>\n",
       "      <td>7700</td>\n",
       "      <td>8</td>\n",
       "      <td>0</td>\n",
       "      <td>0</td>\n",
       "      <td>0</td>\n",
       "      <td>1</td>\n",
       "      <td>BUY_3</td>\n",
       "      <td>0.0</td>\n",
       "      <td>0.375</td>\n",
       "      <td>0.0</td>\n",
       "      <td>0.625</td>\n",
       "      <td>AMT_5000_OVER_R</td>\n",
       "      <td>1</td>\n",
       "      <td>0</td>\n",
       "      <td>0</td>\n",
       "      <td>0</td>\n",
       "      <td>0</td>\n",
       "      <td>1</td>\n",
       "      <td>0.902065</td>\n",
       "      <td>0.261111</td>\n",
       "      <td>0.820477</td>\n",
       "    </tr>\n",
       "    <tr>\n",
       "      <th>8459263</th>\n",
       "      <td>8459363</td>\n",
       "      <td>M18061900001</td>\n",
       "      <td>20200925103114</td>\n",
       "      <td>NaN</td>\n",
       "      <td>\\N</td>\n",
       "      <td>M012097437PPV00</td>\n",
       "      <td>오케이 마담</td>\n",
       "      <td>W</td>\n",
       "      <td>NaN</td>\n",
       "      <td>NaN</td>\n",
       "      <td>Y</td>\n",
       "      <td>NaN</td>\n",
       "      <td>20200812.0</td>\n",
       "      <td>100</td>\n",
       "      <td>코미디</td>\n",
       "      <td>영화</td>\n",
       "      <td>코미디</td>\n",
       "      <td>N</td>\n",
       "      <td>5000.0</td>\n",
       "      <td>10000</td>\n",
       "      <td>5000</td>\n",
       "      <td>8</td>\n",
       "      <td>0</td>\n",
       "      <td>0</td>\n",
       "      <td>0</td>\n",
       "      <td>1</td>\n",
       "      <td>BUY_3</td>\n",
       "      <td>0.0</td>\n",
       "      <td>0.375</td>\n",
       "      <td>0.0</td>\n",
       "      <td>0.625</td>\n",
       "      <td>AMT_5000_OVER_R</td>\n",
       "      <td>1</td>\n",
       "      <td>0</td>\n",
       "      <td>0</td>\n",
       "      <td>1</td>\n",
       "      <td>0</td>\n",
       "      <td>0</td>\n",
       "      <td>0.8</td>\n",
       "      <td>0.294444</td>\n",
       "      <td>0.752778</td>\n",
       "    </tr>\n",
       "  </tbody>\n",
       "</table>\n",
       "<p>8459264 rows × 41 columns</p>\n",
       "</div>"
      ],
      "text/plain": [
       "           index         sa_id          s_time        e_time watch_duration  \\\n",
       "0              0  205101491713  20200826090744  2.020083e+13         6676.0   \n",
       "1              1  205101521683  20200827211322           NaN             \\N   \n",
       "2              2  205101521683  20201001155631  2.020100e+13         5193.0   \n",
       "3              3  205101521683  20201103103535  2.020110e+13         6293.0   \n",
       "4              4  205101521683  20200925212911  2.020093e+13          110.0   \n",
       "...          ...           ...             ...           ...            ...   \n",
       "8459259  8459359  M18061900001  20200909211937           NaN             \\N   \n",
       "8459260  8459360  M18061900001  20200922130942  2.020092e+13           30.0   \n",
       "8459261  8459361  M18061900001  20201001230620  2.020100e+13         6116.0   \n",
       "8459262  8459362  M18061900001  20201001230620  2.020100e+13         6116.0   \n",
       "8459263  8459363  M18061900001  20200925103114           NaN             \\N   \n",
       "\n",
       "                album_id                   album_name gubun  vod_s_point  \\\n",
       "0        M01208D595PPV00                       반도(소장)    WT         40.0   \n",
       "1        M011526134PPV00                   [우리말]마다가스카     W          NaN   \n",
       "2        M01208A459PPV00                   [우리말]메가마인드    WT         25.0   \n",
       "3        M01188R075PPV00                         기문둔갑    WT         33.0   \n",
       "4        M01133TA30PPV00                         가디언즈    WT        140.0   \n",
       "...                  ...                          ...   ...          ...   \n",
       "8459259  M012054529PPV00  [우리말]마다가스카 3: 이번엔 서커스다!(소장)     W          NaN   \n",
       "8459260  M01204M075PPV00                        양자물리학    WT        338.0   \n",
       "8459261  M01206U082PPV00             나의 첫 번째 슈퍼스타(소장)    WT        677.0   \n",
       "8459262  M01206U082PPV00             나의 첫 번째 슈퍼스타(소장)    WT      -6116.0   \n",
       "8459263  M012097437PPV00                       오케이 마담     W          NaN   \n",
       "\n",
       "         vod_e_point agree_yn category_id  release_date  run_time meta_genre  \\\n",
       "0             6716.0        Y         NaN    20200715.0       115         액션   \n",
       "1                NaN        Y         NaN    20050714.0        85     극장판 애니   \n",
       "2             5218.0        Y         NaN    20110113.0        95     극장판 애니   \n",
       "3             6326.0        Y         NaN    20171215.0       112         액션   \n",
       "4              250.0        Y         NaN    20121129.0        97     극장판 애니   \n",
       "...              ...      ...         ...           ...       ...        ...   \n",
       "8459259          NaN        Y       AL093    20120606.0        94     극장판 애니   \n",
       "8459260        368.0        Y         NaN    20190925.0       120        스릴러   \n",
       "8459261       6793.0        Y         NaN    20200610.0       113        코미디   \n",
       "8459262          0.0        Y         NaN    20200610.0       113        코미디   \n",
       "8459263          NaN        Y         NaN    20200812.0       100        코미디   \n",
       "\n",
       "        genre_large genre_mid genre_small  movie_meta_price buy_history_price  \\\n",
       "0                영화        액션           N            9900.0                \\N   \n",
       "1                영화    극장판 애니      어린이/가족            1400.0                \\N   \n",
       "2                영화    극장판 애니      어린이/가족            1400.0                \\N   \n",
       "3                영화        액션           N            1400.0                \\N   \n",
       "4                영화    극장판 애니      어린이/가족            1400.0                \\N   \n",
       "...             ...       ...         ...               ...               ...   \n",
       "8459259          영화    극장판 애니      어린이/가족           13900.0                \\N   \n",
       "8459260          영화       스릴러           N            3500.0              3500   \n",
       "8459261          영화       코미디           N            7700.0              9900   \n",
       "8459262          영화       코미디           N            7700.0              9900   \n",
       "8459263          영화       코미디           N            5000.0             10000   \n",
       "\n",
       "         i30_meta_price  buy_tot  view_no  fod  buy_1_2  buy_3  buy_seg  \\\n",
       "0                  9900        0        1    0        0      0  VIEW_NO   \n",
       "1                  1400        0        0    1        0      0      FOD   \n",
       "2                  1400        0        0    1        0      0      FOD   \n",
       "3                  1400        0        0    1        0      0      FOD   \n",
       "4                  1400        0        0    1        0      0      FOD   \n",
       "...                 ...      ...      ...  ...      ...    ...      ...   \n",
       "8459259           13900        8        0    0        0      1    BUY_3   \n",
       "8459260            3500        8        0    0        0      1    BUY_3   \n",
       "8459261            7700        8        0    0        0      1    BUY_3   \n",
       "8459262            7700        8        0    0        0      1    BUY_3   \n",
       "8459263            5000        8        0    0        0      1    BUY_3   \n",
       "\n",
       "        amt_1_4 amt_2_4 amt_3_4 amt_4_4      amt_r_gabun  weekdays  weekends  \\\n",
       "0             1       0       0       0          AMT_0_R         1         0   \n",
       "1             1       0       0       0          AMT_0_R         1         0   \n",
       "2             1       0       0       0          AMT_0_R         1         0   \n",
       "3             1       0       0       0          AMT_0_R         1         0   \n",
       "4             1       0       0       0          AMT_0_R         1         0   \n",
       "...         ...     ...     ...     ...              ...       ...       ...   \n",
       "8459259     0.0   0.375     0.0   0.625  AMT_5000_OVER_R         1         0   \n",
       "8459260     0.0   0.375     0.0   0.625  AMT_5000_OVER_R         1         0   \n",
       "8459261     0.0   0.375     0.0   0.625  AMT_5000_OVER_R         1         0   \n",
       "8459262     0.0   0.375     0.0   0.625  AMT_5000_OVER_R         1         0   \n",
       "8459263     0.0   0.375     0.0   0.625  AMT_5000_OVER_R         1         0   \n",
       "\n",
       "         dawn  morning  afternoon  evening           watch_ratio  \\\n",
       "0           0        1          0        0     0.967536231884058   \n",
       "1           0        0          0        1                   0.8   \n",
       "2           0        0          1        0    0.9110526315789473   \n",
       "3           0        1          0        0    0.9364583333333333   \n",
       "4           0        0          0        1  0.018900343642611683   \n",
       "...       ...      ...        ...      ...                   ...   \n",
       "8459259     0        0          0        1                   0.8   \n",
       "8459260     0        0          1        0            0.00416667   \n",
       "8459261     0        0          0        1              0.902065   \n",
       "8459262     0        0          0        1              0.902065   \n",
       "8459263     0        1          0        0                   0.8   \n",
       "\n",
       "         current_rate          ncf_rating  \n",
       "0            0.461111  0.7532125603864734  \n",
       "1            0.455556  0.6722222222222223  \n",
       "2            0.261111  0.8249707602339181  \n",
       "3            0.077778  0.9293402777777777  \n",
       "4            0.294444  0.3622279495990836  \n",
       "...               ...                 ...  \n",
       "8459259      0.383333            0.708333  \n",
       "8459260      0.311111            0.346528  \n",
       "8459261      0.261111            0.820477  \n",
       "8459262      0.261111            0.820477  \n",
       "8459263      0.294444            0.752778  \n",
       "\n",
       "[8459264 rows x 41 columns]"
      ]
     },
     "execution_count": 178,
     "metadata": {},
     "output_type": "execute_result"
    }
   ],
   "source": [
    "raw"
   ]
  },
  {
   "cell_type": "code",
   "execution_count": 172,
   "metadata": {},
   "outputs": [],
   "source": [
    "import pickle"
   ]
  },
  {
   "cell_type": "code",
   "execution_count": 179,
   "metadata": {},
   "outputs": [],
   "source": [
    "with open('../../Data/movie_201118_table_2.pickle', 'wb') as f:\n",
    "    pickle.dump(raw, f)"
   ]
  },
  {
   "cell_type": "code",
   "execution_count": null,
   "metadata": {},
   "outputs": [],
   "source": []
  }
 ],
 "metadata": {
  "kernelspec": {
   "display_name": "Python [conda env:tensorflow2_p36]",
   "language": "python",
   "name": "conda-env-tensorflow2_p36-py"
  },
  "language_info": {
   "codemirror_mode": {
    "name": "ipython",
    "version": 3
   },
   "file_extension": ".py",
   "mimetype": "text/x-python",
   "name": "python",
   "nbconvert_exporter": "python",
   "pygments_lexer": "ipython3",
   "version": "3.6.10"
  }
 },
 "nbformat": 4,
 "nbformat_minor": 4
}
