{
 "cells": [
  {
   "cell_type": "code",
   "execution_count": 1,
   "metadata": {},
   "outputs": [
    {
     "name": "stdout",
     "output_type": "stream",
     "text": [
      "tensorflow version :  2.3.1\n",
      "keras version :  2.4.0\n",
      "WARNING:tensorflow:From <ipython-input-1-a95b7deb4494>:18: is_gpu_available (from tensorflow.python.framework.test_util) is deprecated and will be removed in a future version.\n",
      "Instructions for updating:\n",
      "Use `tf.config.list_physical_devices('GPU')` instead.\n",
      "GPU available ? :  True\n"
     ]
    }
   ],
   "source": [
    "# gpu number setting\n",
    "import os\n",
    "os.environ['CUDA_DEVICE_ORDER'] = 'PCI_BUS_ID'\n",
    "os.environ[\"CUDA_VISIBLE_DEVICES\"] = '1' ## gpu 번호 셋팅 윤건 :0, 기준 : 1, 준형 :2,\n",
    "\n",
    "# Gpu growth setting\n",
    "import tensorflow as tf\n",
    "config = tf.compat.v1.ConfigProto()\n",
    "config.gpu_options.allow_growth = True\n",
    "session = tf.compat.v1.Session(config=config)\n",
    "\n",
    "\n",
    "# tensorflow & keras version check\n",
    "print('tensorflow version : ' , tf.__version__)\n",
    "print('keras version : ' , tf.keras.__version__)\n",
    "\n",
    "# tensorflow gpu available check \n",
    "print('GPU available ? : ', tf.test.is_gpu_available(cuda_only=False, min_cuda_compute_capability=None))"
   ]
  },
  {
   "cell_type": "code",
   "execution_count": 2,
   "metadata": {},
   "outputs": [],
   "source": [
    "import pandas as pd\n",
    "import numpy as np\n",
    "import pickle\n",
    "import tqdm\n",
    "import random\n",
    "import time\n",
    "\n",
    "from sklearn.metrics import log_loss, roc_auc_score\n",
    "from sklearn.metrics import mean_squared_error\n",
    "from sklearn.model_selection import train_test_split\n",
    "from sklearn.preprocessing import LabelEncoder, MinMaxScaler\n",
    "\n",
    "from deepctr.models import *\n",
    "from deepctr.feature_column import SparseFeat, DenseFeat, get_feature_names"
   ]
  },
  {
   "cell_type": "code",
   "execution_count": 3,
   "metadata": {},
   "outputs": [],
   "source": [
    "pd.set_option('display.max_columns', 100)\n",
    "pd.set_option('display.max_rows', 100)"
   ]
  },
  {
   "cell_type": "code",
   "execution_count": 4,
   "metadata": {
    "scrolled": true
   },
   "outputs": [],
   "source": [
    "with open('../Data/raw_mod_4_negative_sample.pickle', 'rb') as f:\n",
    "    data = pickle.load(f)"
   ]
  },
  {
   "cell_type": "code",
   "execution_count": 5,
   "metadata": {},
   "outputs": [],
   "source": [
    "sparse_features = ['sa_id', 'album_id', 'buy_seg']\n",
    "dense_features = ['release_date', 'run_time', 'movie_meta_price', 'i30_meta_price', 'buy_history_price','buy_tot',\n",
    "                  'amt_1_4', 'amt_2_4', 'amt_3_4', 'amt_4_4']\n",
    "# ambiguous_features = [ 'agree_yn', 'meta_genre', 'genre_large', 'genre_mid', 'genre_small']\n",
    "# unnecessary_features = ['category_id', # NaN 약 650만 중에 25만 정도.\n",
    "#                         's_time', 'e_time', # future\n",
    "#                         'watch_duration', # future\n",
    "#                          # \\\\N 값이 약 482만 개\n",
    "#                         'vod_s_point', 'vod_e_point', \n",
    "#                         'album_name',\n",
    "#                         'view_no',\n",
    "#                         'fod', 'buy_1_2', 'buy_3',\n",
    "#                         'amt_r_gabun',\n",
    "#                         'watch_ratio',\n",
    "#                         'weekdays', 'weekends', 'dawn', 'morning', 'afternoon', 'evening',\n",
    "#                         'current_rate']\n",
    "target = ['label']"
   ]
  },
  {
   "cell_type": "code",
   "execution_count": 6,
   "metadata": {},
   "outputs": [],
   "source": [
    "fixlen_feature_columns = [SparseFeat(feat, vocabulary_size=data[feat].nunique(),embedding_dim=4)\n",
    "                           for i,feat in enumerate(sparse_features)]\n",
    "\n",
    "dnn_feature_columns = fixlen_feature_columns\n",
    "linear_feature_columns = fixlen_feature_columns\n",
    "\n",
    "feature_names = get_feature_names(linear_feature_columns + dnn_feature_columns)"
   ]
  },
  {
   "cell_type": "code",
   "execution_count": 7,
   "metadata": {},
   "outputs": [],
   "source": [
    "train, test = train_test_split(data, test_size=0.2, random_state=2020)\n",
    "train_model_input = {name:train[name] for name in feature_names}\n",
    "test_model_input = {name:test[name] for name in feature_names}"
   ]
  },
  {
   "cell_type": "code",
   "execution_count": 8,
   "metadata": {},
   "outputs": [],
   "source": [
    "model = DeepFM(linear_feature_columns, dnn_feature_columns, task='binary')\n",
    "model.compile(\"adam\", \"binary_crossentropy\", metrics=['binary_crossentropy'], )"
   ]
  },
  {
   "cell_type": "code",
   "execution_count": null,
   "metadata": {
    "scrolled": true
   },
   "outputs": [
    {
     "name": "stdout",
     "output_type": "stream",
     "text": [
      "Epoch 1/200\n"
     ]
    },
    {
     "name": "stderr",
     "output_type": "stream",
     "text": [
      "/home/ubuntu/anaconda3/envs/tensorflow2_latest_p37/lib/python3.7/site-packages/tensorflow/python/framework/indexed_slices.py:433: UserWarning: Converting sparse IndexedSlices to a dense Tensor of unknown shape. This may consume a large amount of memory.\n",
      "  \"Converting sparse IndexedSlices to a dense Tensor of unknown shape. \"\n"
     ]
    },
    {
     "name": "stdout",
     "output_type": "stream",
     "text": [
      "23119/23119 - 441s - loss: 0.3144 - binary_crossentropy: 0.3001 - val_loss: 0.3046 - val_binary_crossentropy: 0.2844\n",
      "Epoch 2/200\n",
      "23119/23119 - 438s - loss: 0.3000 - binary_crossentropy: 0.2773 - val_loss: 0.3029 - val_binary_crossentropy: 0.2793\n",
      "Epoch 3/200\n",
      "23119/23119 - 439s - loss: 0.2982 - binary_crossentropy: 0.2742 - val_loss: 0.3009 - val_binary_crossentropy: 0.2779\n",
      "Epoch 4/200\n",
      "23119/23119 - 439s - loss: 0.2965 - binary_crossentropy: 0.2727 - val_loss: 0.3006 - val_binary_crossentropy: 0.2766\n",
      "Epoch 5/200\n",
      "23119/23119 - 442s - loss: 0.2969 - binary_crossentropy: 0.2714 - val_loss: 0.3012 - val_binary_crossentropy: 0.2754\n",
      "Epoch 6/200\n",
      "23119/23119 - 441s - loss: 0.2976 - binary_crossentropy: 0.2706 - val_loss: 0.3022 - val_binary_crossentropy: 0.2754\n",
      "Epoch 7/200\n",
      "23119/23119 - 439s - loss: 0.2979 - binary_crossentropy: 0.2702 - val_loss: 0.3020 - val_binary_crossentropy: 0.2749\n",
      "Epoch 8/200\n",
      "23119/23119 - 439s - loss: 0.2979 - binary_crossentropy: 0.2700 - val_loss: 0.3020 - val_binary_crossentropy: 0.2749\n",
      "Epoch 9/200\n",
      "23119/23119 - 440s - loss: 0.2979 - binary_crossentropy: 0.2700 - val_loss: 0.3025 - val_binary_crossentropy: 0.2752\n",
      "Epoch 10/200\n",
      "23119/23119 - 439s - loss: 0.2983 - binary_crossentropy: 0.2700 - val_loss: 0.3029 - val_binary_crossentropy: 0.2751\n",
      "Epoch 11/200\n",
      "23119/23119 - 438s - loss: 0.2982 - binary_crossentropy: 0.2697 - val_loss: 0.3031 - val_binary_crossentropy: 0.2754\n",
      "Epoch 12/200\n",
      "23119/23119 - 439s - loss: 0.2983 - binary_crossentropy: 0.2699 - val_loss: 0.3028 - val_binary_crossentropy: 0.2757\n",
      "Epoch 13/200\n",
      "23119/23119 - 439s - loss: 0.2977 - binary_crossentropy: 0.2699 - val_loss: 0.3018 - val_binary_crossentropy: 0.2752\n",
      "Epoch 14/200\n",
      "23119/23119 - 438s - loss: 0.2973 - binary_crossentropy: 0.2698 - val_loss: 0.3014 - val_binary_crossentropy: 0.2748\n",
      "Epoch 15/200\n",
      "23119/23119 - 439s - loss: 0.2970 - binary_crossentropy: 0.2696 - val_loss: 0.3018 - val_binary_crossentropy: 0.2752\n",
      "Epoch 16/200\n",
      "23119/23119 - 438s - loss: 0.2969 - binary_crossentropy: 0.2695 - val_loss: 0.3019 - val_binary_crossentropy: 0.2755\n",
      "Epoch 17/200\n",
      "23119/23119 - 439s - loss: 0.2972 - binary_crossentropy: 0.2697 - val_loss: 0.3019 - val_binary_crossentropy: 0.2750\n",
      "Epoch 18/200\n",
      "23119/23119 - 438s - loss: 0.2976 - binary_crossentropy: 0.2699 - val_loss: 0.3019 - val_binary_crossentropy: 0.2750\n",
      "Epoch 19/200\n",
      "23119/23119 - 438s - loss: 0.2977 - binary_crossentropy: 0.2698 - val_loss: 0.3022 - val_binary_crossentropy: 0.2752\n",
      "Epoch 20/200\n",
      "23119/23119 - 438s - loss: 0.2976 - binary_crossentropy: 0.2698 - val_loss: 0.3025 - val_binary_crossentropy: 0.2755\n",
      "Epoch 21/200\n",
      "23119/23119 - 439s - loss: 0.2976 - binary_crossentropy: 0.2697 - val_loss: 0.3024 - val_binary_crossentropy: 0.2753\n",
      "Epoch 22/200\n",
      "23119/23119 - 439s - loss: 0.2973 - binary_crossentropy: 0.2696 - val_loss: 0.3023 - val_binary_crossentropy: 0.2751\n",
      "Epoch 23/200\n"
     ]
    }
   ],
   "source": [
    "history = model.fit(train_model_input, train[target].values,\n",
    "                    batch_size=2**8, epochs=200, verbose=2, validation_split=0.2, )"
   ]
  },
  {
   "cell_type": "code",
   "execution_count": 11,
   "metadata": {
    "scrolled": false
   },
   "outputs": [
    {
     "name": "stderr",
     "output_type": "stream",
     "text": [
      "/home/ubuntu/anaconda3/envs/tensorflow2_latest_p37/lib/python3.7/site-packages/sklearn/metrics/_classification.py:2240: RuntimeWarning: divide by zero encountered in log\n",
      "  loss = -(transformed_labels * np.log(y_pred)).sum(axis=1)\n",
      "/home/ubuntu/anaconda3/envs/tensorflow2_latest_p37/lib/python3.7/site-packages/sklearn/metrics/_classification.py:2240: RuntimeWarning: invalid value encountered in multiply\n",
      "  loss = -(transformed_labels * np.log(y_pred)).sum(axis=1)\n"
     ]
    },
    {
     "name": "stdout",
     "output_type": "stream",
     "text": [
      "test LogLoss nan\n",
      "test AUC 0.9259\n"
     ]
    }
   ],
   "source": [
    "pred_ans = model.predict(test_model_input, batch_size=32)\n",
    "print(\"test LogLoss\", round(log_loss(test[target].values, pred_ans), 4))\n",
    "print(\"test AUC\", round(roc_auc_score(test[target].values, pred_ans), 4))"
   ]
  }
 ],
 "metadata": {
  "kernelspec": {
   "display_name": "Python [conda env:tensorflow2_latest_p37]",
   "language": "python",
   "name": "conda-env-tensorflow2_latest_p37-py"
  },
  "language_info": {
   "codemirror_mode": {
    "name": "ipython",
    "version": 3
   },
   "file_extension": ".py",
   "mimetype": "text/x-python",
   "name": "python",
   "nbconvert_exporter": "python",
   "pygments_lexer": "ipython3",
   "version": "3.7.7"
  }
 },
 "nbformat": 4,
 "nbformat_minor": 4
}
