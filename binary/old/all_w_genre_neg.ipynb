{
 "cells": [
  {
   "cell_type": "code",
   "execution_count": 1,
   "metadata": {},
   "outputs": [
    {
     "name": "stdout",
     "output_type": "stream",
     "text": [
      "tensorflow version :  2.3.1\n",
      "keras version :  2.4.0\n",
      "WARNING:tensorflow:From <ipython-input-1-a95b7deb4494>:18: is_gpu_available (from tensorflow.python.framework.test_util) is deprecated and will be removed in a future version.\n",
      "Instructions for updating:\n",
      "Use `tf.config.list_physical_devices('GPU')` instead.\n",
      "GPU available ? :  True\n"
     ]
    }
   ],
   "source": [
    "# gpu number setting\n",
    "import os\n",
    "os.environ['CUDA_DEVICE_ORDER'] = 'PCI_BUS_ID'\n",
    "os.environ[\"CUDA_VISIBLE_DEVICES\"] = '1' ## gpu 번호 셋팅 윤건 :0, 기준 : 1, 준형 :2,\n",
    "\n",
    "# Gpu growth setting\n",
    "import tensorflow as tf\n",
    "config = tf.compat.v1.ConfigProto()\n",
    "config.gpu_options.allow_growth = True\n",
    "session = tf.compat.v1.Session(config=config)\n",
    "\n",
    "\n",
    "# tensorflow & keras version check\n",
    "print('tensorflow version : ' , tf.__version__)\n",
    "print('keras version : ' , tf.keras.__version__)\n",
    "\n",
    "# tensorflow gpu available check \n",
    "print('GPU available ? : ', tf.test.is_gpu_available(cuda_only=False, min_cuda_compute_capability=None))"
   ]
  },
  {
   "cell_type": "code",
   "execution_count": 2,
   "metadata": {},
   "outputs": [],
   "source": [
    "import pandas as pd\n",
    "import numpy as np\n",
    "import pickle\n",
    "import tqdm\n",
    "import random\n",
    "import time\n",
    "\n",
    "from sklearn.metrics import log_loss, roc_auc_score\n",
    "from sklearn.metrics import mean_squared_error\n",
    "from sklearn.model_selection import train_test_split\n",
    "from sklearn.preprocessing import LabelEncoder, MinMaxScaler\n",
    "\n",
    "from deepctr.models import *\n",
    "from deepctr.feature_column import SparseFeat, DenseFeat, get_feature_names"
   ]
  },
  {
   "cell_type": "code",
   "execution_count": 3,
   "metadata": {},
   "outputs": [],
   "source": [
    "pd.set_option('display.max_columns', 100)\n",
    "pd.set_option('display.max_rows', 100)"
   ]
  },
  {
   "cell_type": "code",
   "execution_count": 4,
   "metadata": {
    "scrolled": true
   },
   "outputs": [],
   "source": [
    "with open('../Data/raw_mod_4_negative_sample.pickle', 'rb') as f:\n",
    "    data = pickle.load(f)"
   ]
  },
  {
   "cell_type": "code",
   "execution_count": 5,
   "metadata": {},
   "outputs": [],
   "source": [
    "sparse_features = ['sa_id', 'album_id', 'buy_seg']\n",
    "dense_features = ['release_date', 'run_time', 'movie_meta_price', 'i30_meta_price', 'buy_history_price','buy_tot',\n",
    "                  'amt_1_4', 'amt_2_4', 'amt_3_4', 'amt_4_4']\n",
    "# ambiguous_features = [ 'agree_yn', 'meta_genre', 'genre_large', 'genre_mid', 'genre_small']\n",
    "# unnecessary_features = ['category_id', # NaN 약 650만 중에 25만 정도.\n",
    "#                         's_time', 'e_time', # future\n",
    "#                         'watch_duration', # future\n",
    "#                          # \\\\N 값이 약 482만 개\n",
    "#                         'vod_s_point', 'vod_e_point', \n",
    "#                         'album_name',\n",
    "#                         'view_no',\n",
    "#                         'fod', 'buy_1_2', 'buy_3',\n",
    "#                         'amt_r_gabun',\n",
    "#                         'watch_ratio',\n",
    "#                         'weekdays', 'weekends', 'dawn', 'morning', 'afternoon', 'evening',\n",
    "#                         'current_rate']\n",
    "target = ['label']"
   ]
  },
  {
   "cell_type": "code",
   "execution_count": 6,
   "metadata": {},
   "outputs": [],
   "source": [
    "fixlen_feature_columns = [SparseFeat(feat, vocabulary_size=data[feat].nunique(),embedding_dim=4)\n",
    "                           for i,feat in enumerate(sparse_features)]\n",
    "\n",
    "dnn_feature_columns = fixlen_feature_columns\n",
    "linear_feature_columns = fixlen_feature_columns\n",
    "\n",
    "feature_names = get_feature_names(linear_feature_columns + dnn_feature_columns)"
   ]
  },
  {
   "cell_type": "code",
   "execution_count": 7,
   "metadata": {},
   "outputs": [],
   "source": [
    "train, test = train_test_split(data, test_size=0.2, random_state=2020)\n",
    "train_model_input = {name:train[name] for name in feature_names}\n",
    "test_model_input = {name:test[name] for name in feature_names}"
   ]
  },
  {
   "cell_type": "code",
   "execution_count": 8,
   "metadata": {},
   "outputs": [],
   "source": [
    "model = DeepFM(linear_feature_columns, dnn_feature_columns, task='binary')\n",
    "model.compile(\"adam\", \"binary_crossentropy\", metrics=['binary_crossentropy'], )"
   ]
  },
  {
   "cell_type": "code",
   "execution_count": null,
   "metadata": {
    "scrolled": true
   },
   "outputs": [
    {
     "name": "stdout",
     "output_type": "stream",
     "text": [
      "Epoch 1/200\n"
     ]
    },
    {
     "name": "stderr",
     "output_type": "stream",
     "text": [
      "/home/ubuntu/anaconda3/envs/tensorflow2_latest_p37/lib/python3.7/site-packages/tensorflow/python/framework/indexed_slices.py:433: UserWarning: Converting sparse IndexedSlices to a dense Tensor of unknown shape. This may consume a large amount of memory.\n",
      "  \"Converting sparse IndexedSlices to a dense Tensor of unknown shape. \"\n"
     ]
    },
    {
     "name": "stdout",
     "output_type": "stream",
     "text": [
      "5780/5780 - 79s - loss: 0.3130 - binary_crossentropy: 0.3021 - val_loss: 0.2995 - val_binary_crossentropy: 0.2831\n",
      "Epoch 2/200\n",
      "5780/5780 - 78s - loss: 0.2867 - binary_crossentropy: 0.2655 - val_loss: 0.2922 - val_binary_crossentropy: 0.2700\n",
      "Epoch 3/200\n",
      "5780/5780 - 78s - loss: 0.2734 - binary_crossentropy: 0.2476 - val_loss: 0.2949 - val_binary_crossentropy: 0.2680\n",
      "Epoch 4/200\n",
      "5780/5780 - 122s - loss: 0.2633 - binary_crossentropy: 0.2354 - val_loss: 0.2955 - val_binary_crossentropy: 0.2659\n",
      "Epoch 5/200\n",
      "5780/5780 - 112s - loss: 0.2597 - binary_crossentropy: 0.2306 - val_loss: 0.2964 - val_binary_crossentropy: 0.2658\n",
      "Epoch 6/200\n",
      "5780/5780 - 83s - loss: 0.2566 - binary_crossentropy: 0.2269 - val_loss: 0.2975 - val_binary_crossentropy: 0.2662\n",
      "Epoch 7/200\n",
      "5780/5780 - 83s - loss: 0.2544 - binary_crossentropy: 0.2243 - val_loss: 0.2958 - val_binary_crossentropy: 0.2640\n",
      "Epoch 8/200\n",
      "5780/5780 - 83s - loss: 0.2527 - binary_crossentropy: 0.2222 - val_loss: 0.2958 - val_binary_crossentropy: 0.2638\n",
      "Epoch 9/200\n",
      "5780/5780 - 82s - loss: 0.2512 - binary_crossentropy: 0.2206 - val_loss: 0.2965 - val_binary_crossentropy: 0.2641\n",
      "Epoch 10/200\n",
      "5780/5780 - 78s - loss: 0.2500 - binary_crossentropy: 0.2193 - val_loss: 0.2966 - val_binary_crossentropy: 0.2641\n",
      "Epoch 11/200\n",
      "5780/5780 - 78s - loss: 0.2491 - binary_crossentropy: 0.2182 - val_loss: 0.2967 - val_binary_crossentropy: 0.2641\n",
      "Epoch 12/200\n",
      "5780/5780 - 78s - loss: 0.2485 - binary_crossentropy: 0.2175 - val_loss: 0.2967 - val_binary_crossentropy: 0.2640\n",
      "Epoch 13/200\n",
      "5780/5780 - 81s - loss: 0.2482 - binary_crossentropy: 0.2172 - val_loss: 0.2966 - val_binary_crossentropy: 0.2637\n",
      "Epoch 14/200\n",
      "5780/5780 - 113s - loss: 0.2476 - binary_crossentropy: 0.2165 - val_loss: 0.2960 - val_binary_crossentropy: 0.2631\n",
      "Epoch 15/200\n",
      "5780/5780 - 113s - loss: 0.2472 - binary_crossentropy: 0.2161 - val_loss: 0.2962 - val_binary_crossentropy: 0.2633\n",
      "Epoch 16/200\n",
      "5780/5780 - 113s - loss: 0.2467 - binary_crossentropy: 0.2156 - val_loss: 0.2974 - val_binary_crossentropy: 0.2644\n",
      "Epoch 17/200\n",
      "5780/5780 - 100s - loss: 0.2466 - binary_crossentropy: 0.2154 - val_loss: 0.2951 - val_binary_crossentropy: 0.2620\n",
      "Epoch 18/200\n",
      "5780/5780 - 113s - loss: 0.2463 - binary_crossentropy: 0.2151 - val_loss: 0.2968 - val_binary_crossentropy: 0.2638\n",
      "Epoch 19/200\n",
      "5780/5780 - 113s - loss: 0.2462 - binary_crossentropy: 0.2150 - val_loss: 0.2965 - val_binary_crossentropy: 0.2633\n",
      "Epoch 20/200\n",
      "5780/5780 - 113s - loss: 0.2461 - binary_crossentropy: 0.2149 - val_loss: 0.2964 - val_binary_crossentropy: 0.2632\n",
      "Epoch 21/200\n",
      "5780/5780 - 100s - loss: 0.2459 - binary_crossentropy: 0.2147 - val_loss: 0.2947 - val_binary_crossentropy: 0.2616\n",
      "Epoch 22/200\n",
      "5780/5780 - 113s - loss: 0.2456 - binary_crossentropy: 0.2143 - val_loss: 0.2959 - val_binary_crossentropy: 0.2627\n",
      "Epoch 23/200\n",
      "5780/5780 - 113s - loss: 0.2454 - binary_crossentropy: 0.2141 - val_loss: 0.2968 - val_binary_crossentropy: 0.2637\n",
      "Epoch 24/200\n",
      "5780/5780 - 113s - loss: 0.2456 - binary_crossentropy: 0.2143 - val_loss: 0.2962 - val_binary_crossentropy: 0.2630\n",
      "Epoch 25/200\n",
      "5780/5780 - 100s - loss: 0.2454 - binary_crossentropy: 0.2142 - val_loss: 0.2958 - val_binary_crossentropy: 0.2626\n",
      "Epoch 26/200\n",
      "5780/5780 - 113s - loss: 0.2452 - binary_crossentropy: 0.2139 - val_loss: 0.2960 - val_binary_crossentropy: 0.2627\n",
      "Epoch 27/200\n",
      "5780/5780 - 112s - loss: 0.2451 - binary_crossentropy: 0.2138 - val_loss: 0.2965 - val_binary_crossentropy: 0.2632\n",
      "Epoch 28/200\n",
      "5780/5780 - 113s - loss: 0.2454 - binary_crossentropy: 0.2140 - val_loss: 0.2959 - val_binary_crossentropy: 0.2626\n",
      "Epoch 29/200\n",
      "5780/5780 - 100s - loss: 0.2451 - binary_crossentropy: 0.2137 - val_loss: 0.2951 - val_binary_crossentropy: 0.2618\n",
      "Epoch 30/200\n",
      "5780/5780 - 113s - loss: 0.2452 - binary_crossentropy: 0.2138 - val_loss: 0.2955 - val_binary_crossentropy: 0.2621\n",
      "Epoch 31/200\n",
      "5780/5780 - 113s - loss: 0.2452 - binary_crossentropy: 0.2138 - val_loss: 0.2961 - val_binary_crossentropy: 0.2627\n",
      "Epoch 32/200\n",
      "5780/5780 - 117s - loss: 0.2451 - binary_crossentropy: 0.2137 - val_loss: 0.2965 - val_binary_crossentropy: 0.2631\n",
      "Epoch 33/200\n",
      "5780/5780 - 101s - loss: 0.2451 - binary_crossentropy: 0.2137 - val_loss: 0.2967 - val_binary_crossentropy: 0.2633\n",
      "Epoch 34/200\n",
      "5780/5780 - 113s - loss: 0.2449 - binary_crossentropy: 0.2134 - val_loss: 0.2961 - val_binary_crossentropy: 0.2626\n",
      "Epoch 35/200\n",
      "5780/5780 - 113s - loss: 0.2449 - binary_crossentropy: 0.2135 - val_loss: 0.2967 - val_binary_crossentropy: 0.2632\n",
      "Epoch 36/200\n",
      "5780/5780 - 113s - loss: 0.2450 - binary_crossentropy: 0.2134 - val_loss: 0.2951 - val_binary_crossentropy: 0.2616\n",
      "Epoch 37/200\n",
      "5780/5780 - 100s - loss: 0.2449 - binary_crossentropy: 0.2133 - val_loss: 0.2953 - val_binary_crossentropy: 0.2618\n",
      "Epoch 38/200\n",
      "5780/5780 - 113s - loss: 0.2449 - binary_crossentropy: 0.2134 - val_loss: 0.2959 - val_binary_crossentropy: 0.2622\n",
      "Epoch 39/200\n",
      "5780/5780 - 113s - loss: 0.2450 - binary_crossentropy: 0.2134 - val_loss: 0.2972 - val_binary_crossentropy: 0.2636\n",
      "Epoch 40/200\n",
      "5780/5780 - 113s - loss: 0.2450 - binary_crossentropy: 0.2134 - val_loss: 0.2967 - val_binary_crossentropy: 0.2632\n",
      "Epoch 41/200\n",
      "5780/5780 - 100s - loss: 0.2450 - binary_crossentropy: 0.2134 - val_loss: 0.2971 - val_binary_crossentropy: 0.2635\n",
      "Epoch 42/200\n",
      "5780/5780 - 113s - loss: 0.2452 - binary_crossentropy: 0.2135 - val_loss: 0.2968 - val_binary_crossentropy: 0.2631\n",
      "Epoch 43/200\n",
      "5780/5780 - 113s - loss: 0.2447 - binary_crossentropy: 0.2130 - val_loss: 0.2963 - val_binary_crossentropy: 0.2626\n",
      "Epoch 44/200\n",
      "5780/5780 - 113s - loss: 0.2448 - binary_crossentropy: 0.2131 - val_loss: 0.2963 - val_binary_crossentropy: 0.2627\n",
      "Epoch 45/200\n",
      "5780/5780 - 100s - loss: 0.2450 - binary_crossentropy: 0.2133 - val_loss: 0.2966 - val_binary_crossentropy: 0.2629\n",
      "Epoch 46/200\n",
      "5780/5780 - 113s - loss: 0.2449 - binary_crossentropy: 0.2132 - val_loss: 0.2964 - val_binary_crossentropy: 0.2627\n",
      "Epoch 47/200\n",
      "5780/5780 - 113s - loss: 0.2450 - binary_crossentropy: 0.2132 - val_loss: 0.2973 - val_binary_crossentropy: 0.2634\n",
      "Epoch 48/200\n",
      "5780/5780 - 113s - loss: 0.2449 - binary_crossentropy: 0.2131 - val_loss: 0.2968 - val_binary_crossentropy: 0.2630\n",
      "Epoch 49/200\n",
      "5780/5780 - 100s - loss: 0.2450 - binary_crossentropy: 0.2132 - val_loss: 0.2968 - val_binary_crossentropy: 0.2629\n",
      "Epoch 50/200\n",
      "5780/5780 - 113s - loss: 0.2449 - binary_crossentropy: 0.2131 - val_loss: 0.2969 - val_binary_crossentropy: 0.2630\n",
      "Epoch 51/200\n",
      "5780/5780 - 113s - loss: 0.2450 - binary_crossentropy: 0.2131 - val_loss: 0.2964 - val_binary_crossentropy: 0.2626\n",
      "Epoch 52/200\n",
      "5780/5780 - 113s - loss: 0.2449 - binary_crossentropy: 0.2131 - val_loss: 0.2965 - val_binary_crossentropy: 0.2627\n",
      "Epoch 53/200\n",
      "5780/5780 - 100s - loss: 0.2450 - binary_crossentropy: 0.2132 - val_loss: 0.2964 - val_binary_crossentropy: 0.2626\n",
      "Epoch 54/200\n",
      "5780/5780 - 113s - loss: 0.2449 - binary_crossentropy: 0.2131 - val_loss: 0.2961 - val_binary_crossentropy: 0.2623\n",
      "Epoch 55/200\n",
      "5780/5780 - 113s - loss: 0.2449 - binary_crossentropy: 0.2131 - val_loss: 0.2974 - val_binary_crossentropy: 0.2636\n",
      "Epoch 56/200\n",
      "5780/5780 - 113s - loss: 0.2449 - binary_crossentropy: 0.2129 - val_loss: 0.2972 - val_binary_crossentropy: 0.2632\n",
      "Epoch 57/200\n",
      "5780/5780 - 100s - loss: 0.2448 - binary_crossentropy: 0.2129 - val_loss: 0.2974 - val_binary_crossentropy: 0.2634\n",
      "Epoch 58/200\n",
      "5780/5780 - 113s - loss: 0.2450 - binary_crossentropy: 0.2130 - val_loss: 0.2964 - val_binary_crossentropy: 0.2625\n",
      "Epoch 59/200\n",
      "5780/5780 - 113s - loss: 0.2448 - binary_crossentropy: 0.2129 - val_loss: 0.2967 - val_binary_crossentropy: 0.2628\n",
      "Epoch 60/200\n",
      "5780/5780 - 113s - loss: 0.2445 - binary_crossentropy: 0.2126 - val_loss: 0.2970 - val_binary_crossentropy: 0.2631\n",
      "Epoch 61/200\n",
      "5780/5780 - 100s - loss: 0.2450 - binary_crossentropy: 0.2129 - val_loss: 0.2964 - val_binary_crossentropy: 0.2624\n",
      "Epoch 62/200\n",
      "5780/5780 - 113s - loss: 0.2451 - binary_crossentropy: 0.2131 - val_loss: 0.2962 - val_binary_crossentropy: 0.2620\n",
      "Epoch 63/200\n",
      "5780/5780 - 113s - loss: 0.2449 - binary_crossentropy: 0.2129 - val_loss: 0.2969 - val_binary_crossentropy: 0.2628\n",
      "Epoch 64/200\n",
      "5780/5780 - 113s - loss: 0.2448 - binary_crossentropy: 0.2127 - val_loss: 0.2966 - val_binary_crossentropy: 0.2625\n",
      "Epoch 65/200\n",
      "5780/5780 - 100s - loss: 0.2449 - binary_crossentropy: 0.2127 - val_loss: 0.2970 - val_binary_crossentropy: 0.2630\n"
     ]
    },
    {
     "name": "stdout",
     "output_type": "stream",
     "text": [
      "Epoch 66/200\n",
      "5780/5780 - 113s - loss: 0.2450 - binary_crossentropy: 0.2129 - val_loss: 0.2977 - val_binary_crossentropy: 0.2636\n",
      "Epoch 67/200\n",
      "5780/5780 - 113s - loss: 0.2450 - binary_crossentropy: 0.2129 - val_loss: 0.2965 - val_binary_crossentropy: 0.2624\n",
      "Epoch 68/200\n",
      "5780/5780 - 113s - loss: 0.2451 - binary_crossentropy: 0.2129 - val_loss: 0.2964 - val_binary_crossentropy: 0.2622\n",
      "Epoch 69/200\n",
      "5780/5780 - 100s - loss: 0.2451 - binary_crossentropy: 0.2129 - val_loss: 0.2963 - val_binary_crossentropy: 0.2623\n",
      "Epoch 70/200\n",
      "5780/5780 - 113s - loss: 0.2449 - binary_crossentropy: 0.2128 - val_loss: 0.2985 - val_binary_crossentropy: 0.2644\n",
      "Epoch 71/200\n",
      "5780/5780 - 113s - loss: 0.2450 - binary_crossentropy: 0.2128 - val_loss: 0.2966 - val_binary_crossentropy: 0.2624\n",
      "Epoch 72/200\n",
      "5780/5780 - 113s - loss: 0.2450 - binary_crossentropy: 0.2128 - val_loss: 0.2967 - val_binary_crossentropy: 0.2626\n",
      "Epoch 73/200\n",
      "5780/5780 - 100s - loss: 0.2450 - binary_crossentropy: 0.2128 - val_loss: 0.2971 - val_binary_crossentropy: 0.2629\n",
      "Epoch 74/200\n",
      "5780/5780 - 113s - loss: 0.2450 - binary_crossentropy: 0.2129 - val_loss: 0.2966 - val_binary_crossentropy: 0.2625\n",
      "Epoch 75/200\n",
      "5780/5780 - 113s - loss: 0.2450 - binary_crossentropy: 0.2129 - val_loss: 0.2977 - val_binary_crossentropy: 0.2635\n",
      "Epoch 76/200\n",
      "5780/5780 - 113s - loss: 0.2453 - binary_crossentropy: 0.2130 - val_loss: 0.2977 - val_binary_crossentropy: 0.2635\n",
      "Epoch 77/200\n",
      "5780/5780 - 100s - loss: 0.2451 - binary_crossentropy: 0.2128 - val_loss: 0.2975 - val_binary_crossentropy: 0.2632\n",
      "Epoch 78/200\n",
      "5780/5780 - 113s - loss: 0.2451 - binary_crossentropy: 0.2128 - val_loss: 0.2967 - val_binary_crossentropy: 0.2624\n",
      "Epoch 79/200\n",
      "5780/5780 - 113s - loss: 0.2450 - binary_crossentropy: 0.2127 - val_loss: 0.2968 - val_binary_crossentropy: 0.2625\n",
      "Epoch 80/200\n",
      "5780/5780 - 113s - loss: 0.2449 - binary_crossentropy: 0.2126 - val_loss: 0.2967 - val_binary_crossentropy: 0.2626\n",
      "Epoch 81/200\n",
      "5780/5780 - 100s - loss: 0.2449 - binary_crossentropy: 0.2127 - val_loss: 0.2971 - val_binary_crossentropy: 0.2629\n",
      "Epoch 82/200\n",
      "5780/5780 - 113s - loss: 0.2449 - binary_crossentropy: 0.2126 - val_loss: 0.2964 - val_binary_crossentropy: 0.2622\n",
      "Epoch 83/200\n",
      "5780/5780 - 113s - loss: 0.2450 - binary_crossentropy: 0.2128 - val_loss: 0.2969 - val_binary_crossentropy: 0.2627\n",
      "Epoch 84/200\n",
      "5780/5780 - 113s - loss: 0.2450 - binary_crossentropy: 0.2127 - val_loss: 0.2974 - val_binary_crossentropy: 0.2632\n",
      "Epoch 85/200\n",
      "5780/5780 - 100s - loss: 0.2450 - binary_crossentropy: 0.2127 - val_loss: 0.2974 - val_binary_crossentropy: 0.2632\n",
      "Epoch 86/200\n",
      "5780/5780 - 113s - loss: 0.2447 - binary_crossentropy: 0.2126 - val_loss: 0.2970 - val_binary_crossentropy: 0.2628\n",
      "Epoch 87/200\n",
      "5780/5780 - 113s - loss: 0.2451 - binary_crossentropy: 0.2128 - val_loss: 0.2978 - val_binary_crossentropy: 0.2635\n",
      "Epoch 88/200\n",
      "5780/5780 - 113s - loss: 0.2451 - binary_crossentropy: 0.2129 - val_loss: 0.2975 - val_binary_crossentropy: 0.2633\n",
      "Epoch 89/200\n",
      "5780/5780 - 100s - loss: 0.2448 - binary_crossentropy: 0.2126 - val_loss: 0.2972 - val_binary_crossentropy: 0.2630\n",
      "Epoch 90/200\n",
      "5780/5780 - 113s - loss: 0.2447 - binary_crossentropy: 0.2124 - val_loss: 0.2974 - val_binary_crossentropy: 0.2631\n",
      "Epoch 91/200\n",
      "5780/5780 - 113s - loss: 0.2448 - binary_crossentropy: 0.2125 - val_loss: 0.2977 - val_binary_crossentropy: 0.2634\n",
      "Epoch 92/200\n",
      "5780/5780 - 113s - loss: 0.2446 - binary_crossentropy: 0.2123 - val_loss: 0.2964 - val_binary_crossentropy: 0.2622\n",
      "Epoch 93/200\n",
      "5780/5780 - 100s - loss: 0.2447 - binary_crossentropy: 0.2124 - val_loss: 0.2971 - val_binary_crossentropy: 0.2629\n",
      "Epoch 94/200\n",
      "5780/5780 - 113s - loss: 0.2447 - binary_crossentropy: 0.2124 - val_loss: 0.2986 - val_binary_crossentropy: 0.2643\n",
      "Epoch 95/200\n",
      "5780/5780 - 113s - loss: 0.2448 - binary_crossentropy: 0.2125 - val_loss: 0.2970 - val_binary_crossentropy: 0.2627\n",
      "Epoch 96/200\n",
      "5780/5780 - 113s - loss: 0.2448 - binary_crossentropy: 0.2124 - val_loss: 0.2973 - val_binary_crossentropy: 0.2629\n",
      "Epoch 97/200\n",
      "5780/5780 - 100s - loss: 0.2447 - binary_crossentropy: 0.2123 - val_loss: 0.2986 - val_binary_crossentropy: 0.2642\n",
      "Epoch 98/200\n",
      "5780/5780 - 113s - loss: 0.2446 - binary_crossentropy: 0.2122 - val_loss: 0.2988 - val_binary_crossentropy: 0.2645\n",
      "Epoch 99/200\n",
      "5780/5780 - 113s - loss: 0.2446 - binary_crossentropy: 0.2123 - val_loss: 0.2975 - val_binary_crossentropy: 0.2631\n",
      "Epoch 100/200\n",
      "5780/5780 - 113s - loss: 0.2447 - binary_crossentropy: 0.2123 - val_loss: 0.2966 - val_binary_crossentropy: 0.2622\n",
      "Epoch 101/200\n"
     ]
    }
   ],
   "source": [
    "history = model.fit(train_model_input, train[target].values,\n",
    "                    batch_size=2**10, epochs=200, verbose=2, validation_split=0.2, )"
   ]
  },
  {
   "cell_type": "code",
   "execution_count": 42,
   "metadata": {
    "scrolled": false
   },
   "outputs": [
    {
     "name": "stderr",
     "output_type": "stream",
     "text": [
      "/home/ubuntu/anaconda3/envs/tensorflow2_latest_p37/lib/python3.7/site-packages/sklearn/metrics/_classification.py:2240: RuntimeWarning: divide by zero encountered in log\n",
      "  loss = -(transformed_labels * np.log(y_pred)).sum(axis=1)\n",
      "/home/ubuntu/anaconda3/envs/tensorflow2_latest_p37/lib/python3.7/site-packages/sklearn/metrics/_classification.py:2240: RuntimeWarning: invalid value encountered in multiply\n",
      "  loss = -(transformed_labels * np.log(y_pred)).sum(axis=1)\n"
     ]
    },
    {
     "name": "stdout",
     "output_type": "stream",
     "text": [
      "test LogLoss nan\n",
      "test AUC 0.9264\n"
     ]
    }
   ],
   "source": [
    "pred_ans = model.predict(test_model_input, batch_size=32)\n",
    "print(\"test LogLoss\", round(log_loss(test[target].values, pred_ans), 4))\n",
    "print(\"test AUC\", round(roc_auc_score(test[target].values, pred_ans), 4))"
   ]
  }
 ],
 "metadata": {
  "kernelspec": {
   "display_name": "Python [conda env:tensorflow2_latest_p37]",
   "language": "python",
   "name": "conda-env-tensorflow2_latest_p37-py"
  },
  "language_info": {
   "codemirror_mode": {
    "name": "ipython",
    "version": 3
   },
   "file_extension": ".py",
   "mimetype": "text/x-python",
   "name": "python",
   "nbconvert_exporter": "python",
   "pygments_lexer": "ipython3",
   "version": "3.7.7"
  }
 },
 "nbformat": 4,
 "nbformat_minor": 4
}
