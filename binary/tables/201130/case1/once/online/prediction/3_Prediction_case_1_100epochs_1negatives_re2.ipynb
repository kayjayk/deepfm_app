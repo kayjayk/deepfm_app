{
 "cells": [
  {
   "cell_type": "markdown",
   "metadata": {},
   "source": [
    " # <font color='red'>GPU Seeting</font>"
   ]
  },
  {
   "cell_type": "code",
   "execution_count": 1,
   "metadata": {},
   "outputs": [
    {
     "name": "stdout",
     "output_type": "stream",
     "text": [
      "tensorflow version :  2.3.1\n",
      "keras version :  2.4.0\n",
      "WARNING:tensorflow:From <ipython-input-1-a141e1751472>:18: is_gpu_available (from tensorflow.python.framework.test_util) is deprecated and will be removed in a future version.\n",
      "Instructions for updating:\n",
      "Use `tf.config.list_physical_devices('GPU')` instead.\n",
      "GPU available ? :  True\n"
     ]
    }
   ],
   "source": [
    "# gpu number setting\n",
    "import os\n",
    "os.environ['CUDA_DEVICE_ORDER'] = 'PCI_BUS_ID'\n",
    "os.environ[\"CUDA_VISIBLE_DEVICES\"] = '1'\n",
    "\n",
    "# Gpu growth setting\n",
    "import tensorflow as tf\n",
    "config = tf.compat.v1.ConfigProto()\n",
    "config.gpu_options.allow_growth = True\n",
    "session = tf.compat.v1.Session(config=config)\n",
    "\n",
    "\n",
    "# tensorflow & keras version check\n",
    "print('tensorflow version : ' , tf.__version__)\n",
    "print('keras version : ' , tf.keras.__version__)\n",
    "\n",
    "# tensorflow gpu available check \n",
    "print('GPU available ? : ', tf.test.is_gpu_available(cuda_only=False, min_cuda_compute_capability=None))"
   ]
  },
  {
   "cell_type": "markdown",
   "metadata": {},
   "source": [
    " # <font color='red'>Import</font>"
   ]
  },
  {
   "cell_type": "code",
   "execution_count": 2,
   "metadata": {},
   "outputs": [],
   "source": [
    "import pickle\n",
    "import tqdm\n",
    "import math\n",
    "import itertools\n",
    "import numpy as np\n",
    "import pandas as pd\n",
    "from datetime import datetime, timedelta\n",
    "\n",
    "import matplotlib.pyplot as plt\n",
    "pd.options.display.max_columns = 50\n",
    "\n",
    "from sklearn.metrics import log_loss, roc_auc_score\n",
    "from sklearn.model_selection import train_test_split\n",
    "from sklearn.preprocessing import LabelEncoder, MinMaxScaler, MultiLabelBinarizer\n",
    "\n",
    "from deepctr.models import DeepFM\n",
    "from deepctr.layers import custom_objects\n",
    "from deepctr.feature_column import SparseFeat,DenseFeat, get_feature_names, VarLenSparseFeat"
   ]
  },
  {
   "cell_type": "markdown",
   "metadata": {},
   "source": [
    "# 경로설정"
   ]
  },
  {
   "cell_type": "code",
   "execution_count": 3,
   "metadata": {},
   "outputs": [
    {
     "name": "stderr",
     "output_type": "stream",
     "text": [
      "WARNING:root:\n",
      "DeepCTR version 0.8.3 detected. Your version is 0.8.2.\n",
      "Use `pip install -U deepctr` to upgrade.Changelog: https://github.com/shenweichen/DeepCTR/releases/tag/v0.8.3\n"
     ]
    }
   ],
   "source": [
    "root_path = '../../model/said_albumid_onlineNegative/case1_re2/100_epochs_01_negative/'\n",
    "\n",
    "# model_weight_dir = os.path.join(root_path, 'model_weight')\n",
    "rec_list_dir = os.path.join(root_path, 'rec_list')\n",
    "\n",
    "# model weight save path\n",
    "# if not os.path.exists(model_weight_dir) :\n",
    "#     os.makedirs(model_weight_dir)\n",
    "\n",
    "# rec_list_dir save path\n",
    "if not os.path.exists(rec_list_dir) :\n",
    "    os.makedirs(rec_list_dir)   "
   ]
  },
  {
   "cell_type": "markdown",
   "metadata": {},
   "source": [
    " # <font color='red'>데이터</font>"
   ]
  },
  {
   "cell_type": "markdown",
   "metadata": {},
   "source": [
    "# history"
   ]
  },
  {
   "cell_type": "code",
   "execution_count": 4,
   "metadata": {},
   "outputs": [
    {
     "name": "stderr",
     "output_type": "stream",
     "text": [
      "/home/ubuntu/anaconda3/envs/tensorflow2_p36/lib/python3.6/site-packages/IPython/core/interactiveshell.py:3063: DtypeWarning: Columns (0) have mixed types.Specify dtype option on import or set low_memory=False.\n",
      "  interactivity=interactivity, compiler=compiler, result=result)\n"
     ]
    }
   ],
   "source": [
    "data = pd.read_csv('../../../Data/movie_201130_table_3_4_5.csv')"
   ]
  },
  {
   "cell_type": "code",
   "execution_count": 5,
   "metadata": {},
   "outputs": [],
   "source": [
    "data = data[['sa_id', 'album_id']]"
   ]
  },
  {
   "cell_type": "code",
   "execution_count": 6,
   "metadata": {},
   "outputs": [],
   "source": [
    "# 데이터 type 변경\n",
    "data['sa_id'] = data['sa_id'].astype(str, copy=True)\n",
    "data['album_id'] = data['album_id'].astype(str, copy=True)"
   ]
  },
  {
   "cell_type": "markdown",
   "metadata": {},
   "source": [
    "# <font color='red'>label encoding </font>"
   ]
  },
  {
   "cell_type": "code",
   "execution_count": 7,
   "metadata": {},
   "outputs": [],
   "source": [
    "with open('../../model/said_albumid_onlineNegative/case1/lbe_dict.pickle', 'rb') as f:\n",
    "    lbe_dict = pickle.load(f)"
   ]
  },
  {
   "cell_type": "code",
   "execution_count": 8,
   "metadata": {},
   "outputs": [],
   "source": [
    "lbe_sa_id = lbe_dict['sa_id']\n",
    "data['sa_id'] = lbe_sa_id.fit_transform(data['sa_id'])\n",
    "\n",
    "lbe_album_id = lbe_dict['album_id']\n",
    "data['album_id'] = lbe_album_id.fit_transform(data['album_id'])\n"
   ]
  },
  {
   "cell_type": "code",
   "execution_count": 9,
   "metadata": {
    "scrolled": true
   },
   "outputs": [],
   "source": [
    "data['label'] = 1"
   ]
  },
  {
   "cell_type": "code",
   "execution_count": 10,
   "metadata": {},
   "outputs": [],
   "source": [
    "model_pred_dir = '../../model/said_albumid_onlineNegative/case1_re2/100_epochs_01_negative/rec_list/'"
   ]
  },
  {
   "cell_type": "code",
   "execution_count": 11,
   "metadata": {},
   "outputs": [],
   "source": [
    "with open(os.path.join(model_pred_dir,'unique_uid.csv'),'a') as out_file:\n",
    "    np.savetxt(out_file, np.vstack((lbe_sa_id.classes_,list(range(len(lbe_sa_id.classes_))))).T, delimiter=',', fmt=['%s','%i'])        \n",
    "\n",
    "with open(os.path.join(model_pred_dir,'unique_sid.csv'),'a') as out_file:\n",
    "    np.savetxt(out_file, np.vstack((lbe_album_id.classes_,list(range(len(lbe_album_id.classes_))))).T, delimiter=',', fmt=['%s','%i'])    "
   ]
  },
  {
   "cell_type": "code",
   "execution_count": 10,
   "metadata": {},
   "outputs": [],
   "source": [
    "sparse_features = ['sa_id', 'album_id']"
   ]
  },
  {
   "cell_type": "code",
   "execution_count": 11,
   "metadata": {},
   "outputs": [],
   "source": [
    "# target 변수 설정\n",
    "target = ['label']"
   ]
  },
  {
   "cell_type": "markdown",
   "metadata": {},
   "source": [
    "# train _ val split"
   ]
  },
  {
   "cell_type": "code",
   "execution_count": 12,
   "metadata": {
    "scrolled": true
   },
   "outputs": [],
   "source": [
    "# 2.count #unique features for each sparse field\n",
    "fixlen_feature_columns = [SparseFeat(feat, data[feat].nunique(),embedding_dim=4) for feat in sparse_features]\n",
    "    \n",
    "linear_feature_columns = fixlen_feature_columns\n",
    "dnn_feature_columns = fixlen_feature_columns\n",
    "\n",
    "feature_names = get_feature_names(linear_feature_columns + dnn_feature_columns)"
   ]
  },
  {
   "cell_type": "code",
   "execution_count": 13,
   "metadata": {},
   "outputs": [],
   "source": [
    "# 3.generate input data for model\n",
    "train, test = train_test_split(data, test_size=0.2, random_state=2020)\n",
    "train_model_input = {name:train[name].values for name in feature_names}\n",
    "test_model_input = {name:test[name].values for name in feature_names}"
   ]
  },
  {
   "cell_type": "code",
   "execution_count": 14,
   "metadata": {},
   "outputs": [
    {
     "data": {
      "text/html": [
       "<div>\n",
       "<style scoped>\n",
       "    .dataframe tbody tr th:only-of-type {\n",
       "        vertical-align: middle;\n",
       "    }\n",
       "\n",
       "    .dataframe tbody tr th {\n",
       "        vertical-align: top;\n",
       "    }\n",
       "\n",
       "    .dataframe thead th {\n",
       "        text-align: right;\n",
       "    }\n",
       "</style>\n",
       "<table border=\"1\" class=\"dataframe\">\n",
       "  <thead>\n",
       "    <tr style=\"text-align: right;\">\n",
       "      <th></th>\n",
       "      <th>sa_id</th>\n",
       "      <th>album_id</th>\n",
       "      <th>label</th>\n",
       "    </tr>\n",
       "  </thead>\n",
       "  <tbody>\n",
       "    <tr>\n",
       "      <th>0</th>\n",
       "      <td>0</td>\n",
       "      <td>9174</td>\n",
       "      <td>1</td>\n",
       "    </tr>\n",
       "    <tr>\n",
       "      <th>1</th>\n",
       "      <td>22</td>\n",
       "      <td>9174</td>\n",
       "      <td>1</td>\n",
       "    </tr>\n",
       "    <tr>\n",
       "      <th>2</th>\n",
       "      <td>57</td>\n",
       "      <td>9174</td>\n",
       "      <td>1</td>\n",
       "    </tr>\n",
       "    <tr>\n",
       "      <th>3</th>\n",
       "      <td>68</td>\n",
       "      <td>9174</td>\n",
       "      <td>1</td>\n",
       "    </tr>\n",
       "    <tr>\n",
       "      <th>4</th>\n",
       "      <td>319</td>\n",
       "      <td>9174</td>\n",
       "      <td>1</td>\n",
       "    </tr>\n",
       "    <tr>\n",
       "      <th>...</th>\n",
       "      <td>...</td>\n",
       "      <td>...</td>\n",
       "      <td>...</td>\n",
       "    </tr>\n",
       "    <tr>\n",
       "      <th>14474135</th>\n",
       "      <td>1440396</td>\n",
       "      <td>4981</td>\n",
       "      <td>1</td>\n",
       "    </tr>\n",
       "    <tr>\n",
       "      <th>14474136</th>\n",
       "      <td>1451039</td>\n",
       "      <td>9856</td>\n",
       "      <td>1</td>\n",
       "    </tr>\n",
       "    <tr>\n",
       "      <th>14474137</th>\n",
       "      <td>1458276</td>\n",
       "      <td>2732</td>\n",
       "      <td>1</td>\n",
       "    </tr>\n",
       "    <tr>\n",
       "      <th>14474138</th>\n",
       "      <td>1479713</td>\n",
       "      <td>7452</td>\n",
       "      <td>1</td>\n",
       "    </tr>\n",
       "    <tr>\n",
       "      <th>14474139</th>\n",
       "      <td>1546468</td>\n",
       "      <td>1724</td>\n",
       "      <td>1</td>\n",
       "    </tr>\n",
       "  </tbody>\n",
       "</table>\n",
       "<p>14474140 rows × 3 columns</p>\n",
       "</div>"
      ],
      "text/plain": [
       "            sa_id  album_id  label\n",
       "0               0      9174      1\n",
       "1              22      9174      1\n",
       "2              57      9174      1\n",
       "3              68      9174      1\n",
       "4             319      9174      1\n",
       "...           ...       ...    ...\n",
       "14474135  1440396      4981      1\n",
       "14474136  1451039      9856      1\n",
       "14474137  1458276      2732      1\n",
       "14474138  1479713      7452      1\n",
       "14474139  1546468      1724      1\n",
       "\n",
       "[14474140 rows x 3 columns]"
      ]
     },
     "execution_count": 14,
     "metadata": {},
     "output_type": "execute_result"
    }
   ],
   "source": [
    "data"
   ]
  },
  {
   "cell_type": "code",
   "execution_count": 15,
   "metadata": {},
   "outputs": [
    {
     "data": {
      "text/html": [
       "<div>\n",
       "<style scoped>\n",
       "    .dataframe tbody tr th:only-of-type {\n",
       "        vertical-align: middle;\n",
       "    }\n",
       "\n",
       "    .dataframe tbody tr th {\n",
       "        vertical-align: top;\n",
       "    }\n",
       "\n",
       "    .dataframe thead th {\n",
       "        text-align: right;\n",
       "    }\n",
       "</style>\n",
       "<table border=\"1\" class=\"dataframe\">\n",
       "  <thead>\n",
       "    <tr style=\"text-align: right;\">\n",
       "      <th></th>\n",
       "      <th>sa_id</th>\n",
       "      <th>album_id</th>\n",
       "      <th>label</th>\n",
       "    </tr>\n",
       "  </thead>\n",
       "  <tbody>\n",
       "    <tr>\n",
       "      <th>13519466</th>\n",
       "      <td>236442</td>\n",
       "      <td>6330</td>\n",
       "      <td>1</td>\n",
       "    </tr>\n",
       "    <tr>\n",
       "      <th>11438946</th>\n",
       "      <td>1128523</td>\n",
       "      <td>4606</td>\n",
       "      <td>1</td>\n",
       "    </tr>\n",
       "    <tr>\n",
       "      <th>14009964</th>\n",
       "      <td>1277456</td>\n",
       "      <td>439</td>\n",
       "      <td>1</td>\n",
       "    </tr>\n",
       "    <tr>\n",
       "      <th>3627469</th>\n",
       "      <td>1052421</td>\n",
       "      <td>5931</td>\n",
       "      <td>1</td>\n",
       "    </tr>\n",
       "    <tr>\n",
       "      <th>13327306</th>\n",
       "      <td>1101746</td>\n",
       "      <td>10820</td>\n",
       "      <td>1</td>\n",
       "    </tr>\n",
       "    <tr>\n",
       "      <th>...</th>\n",
       "      <td>...</td>\n",
       "      <td>...</td>\n",
       "      <td>...</td>\n",
       "    </tr>\n",
       "    <tr>\n",
       "      <th>8302275</th>\n",
       "      <td>66857</td>\n",
       "      <td>8901</td>\n",
       "      <td>1</td>\n",
       "    </tr>\n",
       "    <tr>\n",
       "      <th>1948278</th>\n",
       "      <td>292905</td>\n",
       "      <td>9604</td>\n",
       "      <td>1</td>\n",
       "    </tr>\n",
       "    <tr>\n",
       "      <th>9870659</th>\n",
       "      <td>1328668</td>\n",
       "      <td>1434</td>\n",
       "      <td>1</td>\n",
       "    </tr>\n",
       "    <tr>\n",
       "      <th>1765768</th>\n",
       "      <td>1211721</td>\n",
       "      <td>10592</td>\n",
       "      <td>1</td>\n",
       "    </tr>\n",
       "    <tr>\n",
       "      <th>8168288</th>\n",
       "      <td>549391</td>\n",
       "      <td>10370</td>\n",
       "      <td>1</td>\n",
       "    </tr>\n",
       "  </tbody>\n",
       "</table>\n",
       "<p>11579312 rows × 3 columns</p>\n",
       "</div>"
      ],
      "text/plain": [
       "            sa_id  album_id  label\n",
       "13519466   236442      6330      1\n",
       "11438946  1128523      4606      1\n",
       "14009964  1277456       439      1\n",
       "3627469   1052421      5931      1\n",
       "13327306  1101746     10820      1\n",
       "...           ...       ...    ...\n",
       "8302275     66857      8901      1\n",
       "1948278    292905      9604      1\n",
       "9870659   1328668      1434      1\n",
       "1765768   1211721     10592      1\n",
       "8168288    549391     10370      1\n",
       "\n",
       "[11579312 rows x 3 columns]"
      ]
     },
     "execution_count": 15,
     "metadata": {},
     "output_type": "execute_result"
    }
   ],
   "source": [
    "train"
   ]
  },
  {
   "cell_type": "code",
   "execution_count": 16,
   "metadata": {},
   "outputs": [
    {
     "data": {
      "text/html": [
       "<div>\n",
       "<style scoped>\n",
       "    .dataframe tbody tr th:only-of-type {\n",
       "        vertical-align: middle;\n",
       "    }\n",
       "\n",
       "    .dataframe tbody tr th {\n",
       "        vertical-align: top;\n",
       "    }\n",
       "\n",
       "    .dataframe thead th {\n",
       "        text-align: right;\n",
       "    }\n",
       "</style>\n",
       "<table border=\"1\" class=\"dataframe\">\n",
       "  <thead>\n",
       "    <tr style=\"text-align: right;\">\n",
       "      <th></th>\n",
       "      <th>sa_id</th>\n",
       "      <th>album_id</th>\n",
       "      <th>label</th>\n",
       "    </tr>\n",
       "  </thead>\n",
       "  <tbody>\n",
       "    <tr>\n",
       "      <th>1088589</th>\n",
       "      <td>596459</td>\n",
       "      <td>10834</td>\n",
       "      <td>1</td>\n",
       "    </tr>\n",
       "    <tr>\n",
       "      <th>5962237</th>\n",
       "      <td>451613</td>\n",
       "      <td>3538</td>\n",
       "      <td>1</td>\n",
       "    </tr>\n",
       "    <tr>\n",
       "      <th>8947008</th>\n",
       "      <td>13932</td>\n",
       "      <td>6247</td>\n",
       "      <td>1</td>\n",
       "    </tr>\n",
       "    <tr>\n",
       "      <th>5162339</th>\n",
       "      <td>1322962</td>\n",
       "      <td>5966</td>\n",
       "      <td>1</td>\n",
       "    </tr>\n",
       "    <tr>\n",
       "      <th>444339</th>\n",
       "      <td>1237649</td>\n",
       "      <td>11451</td>\n",
       "      <td>1</td>\n",
       "    </tr>\n",
       "    <tr>\n",
       "      <th>...</th>\n",
       "      <td>...</td>\n",
       "      <td>...</td>\n",
       "      <td>...</td>\n",
       "    </tr>\n",
       "    <tr>\n",
       "      <th>1156361</th>\n",
       "      <td>1511902</td>\n",
       "      <td>10834</td>\n",
       "      <td>1</td>\n",
       "    </tr>\n",
       "    <tr>\n",
       "      <th>12705458</th>\n",
       "      <td>634308</td>\n",
       "      <td>781</td>\n",
       "      <td>1</td>\n",
       "    </tr>\n",
       "    <tr>\n",
       "      <th>8057638</th>\n",
       "      <td>573461</td>\n",
       "      <td>1940</td>\n",
       "      <td>1</td>\n",
       "    </tr>\n",
       "    <tr>\n",
       "      <th>3145923</th>\n",
       "      <td>220147</td>\n",
       "      <td>1321</td>\n",
       "      <td>1</td>\n",
       "    </tr>\n",
       "    <tr>\n",
       "      <th>6349298</th>\n",
       "      <td>138940</td>\n",
       "      <td>7592</td>\n",
       "      <td>1</td>\n",
       "    </tr>\n",
       "  </tbody>\n",
       "</table>\n",
       "<p>2894828 rows × 3 columns</p>\n",
       "</div>"
      ],
      "text/plain": [
       "            sa_id  album_id  label\n",
       "1088589    596459     10834      1\n",
       "5962237    451613      3538      1\n",
       "8947008     13932      6247      1\n",
       "5162339   1322962      5966      1\n",
       "444339    1237649     11451      1\n",
       "...           ...       ...    ...\n",
       "1156361   1511902     10834      1\n",
       "12705458   634308       781      1\n",
       "8057638    573461      1940      1\n",
       "3145923    220147      1321      1\n",
       "6349298    138940      7592      1\n",
       "\n",
       "[2894828 rows x 3 columns]"
      ]
     },
     "execution_count": 16,
     "metadata": {},
     "output_type": "execute_result"
    }
   ],
   "source": [
    "test"
   ]
  },
  {
   "cell_type": "code",
   "execution_count": 17,
   "metadata": {},
   "outputs": [
    {
     "data": {
      "text/plain": [
       "{'sa_id': array([ 236442, 1128523, 1277456, ..., 1328668, 1211721,  549391]),\n",
       " 'album_id': array([ 6330,  4606,   439, ...,  1434, 10592, 10370])}"
      ]
     },
     "execution_count": 17,
     "metadata": {},
     "output_type": "execute_result"
    }
   ],
   "source": [
    "train_model_input"
   ]
  },
  {
   "cell_type": "code",
   "execution_count": null,
   "metadata": {},
   "outputs": [],
   "source": []
  },
  {
   "cell_type": "code",
   "execution_count": null,
   "metadata": {},
   "outputs": [],
   "source": []
  },
  {
   "cell_type": "markdown",
   "metadata": {},
   "source": [
    "# model load"
   ]
  },
  {
   "cell_type": "code",
   "execution_count": 16,
   "metadata": {},
   "outputs": [],
   "source": [
    "# 4.Define Model,train,predict and evaluate\n",
    "model = tf.keras.models.load_model('../../model/said_albumid_onlineNegative/case1_re2/100_epochs_01_negative/', custom_objects)"
   ]
  },
  {
   "cell_type": "code",
   "execution_count": null,
   "metadata": {},
   "outputs": [],
   "source": []
  },
  {
   "cell_type": "markdown",
   "metadata": {},
   "source": [
    "# Prediction"
   ]
  },
  {
   "cell_type": "code",
   "execution_count": 17,
   "metadata": {},
   "outputs": [],
   "source": [
    "nsa_id = train['sa_id'].nunique()\n",
    "nalbum_id = train['album_id'].nunique()\n",
    "album_array = np.sort(train['album_id'].unique())\n",
    "topk = 300"
   ]
  },
  {
   "cell_type": "code",
   "execution_count": 18,
   "metadata": {},
   "outputs": [],
   "source": [
    "def batch_user(num_users, batch_size=1):\n",
    "    user_list = np.sort(train['sa_id'].unique())\n",
    "    for idx in np.arange(0, num_users, batch_size):\n",
    "        yield user_list[idx : min(idx + batch_size, num_users)]        "
   ]
  },
  {
   "cell_type": "code",
   "execution_count": 19,
   "metadata": {},
   "outputs": [
    {
     "name": "stderr",
     "output_type": "stream",
     "text": [
      "100%|██████████| 4999/4999 [39:17<00:00,  2.12it/s]\n"
     ]
    }
   ],
   "source": [
    "with open('../../model/said_albumid_onlineNegative/case1_re2/100_epochs_01_negative/rec_list/rec.csv','a') as out_file:\n",
    "    with tqdm.tqdm(total=math.ceil(nsa_id/300)) as pbar:\n",
    "        for batch_u in batch_user(nsa_id, 300):\n",
    "            temp_batch_sa = np.repeat(batch_u, nalbum_id)\n",
    "            temp_batch_album = np.tile(album_array, len(batch_u))\n",
    "            \n",
    "            temp_batch_input = {'sa_id' : temp_batch_sa, 'album_id' : temp_batch_album}\n",
    "            \n",
    "            #pred = model.predict_on_batch(temp_batch_input)\n",
    "            pred = model(temp_batch_input).numpy()\n",
    "            pred_mat = pred.reshape(-1,nalbum_id)\n",
    "            \n",
    "            user_idx = 0\n",
    "            \n",
    "            for temp_pred in pred_mat:\n",
    "                #b = tf.argsort(temp_pred, axis=-1,direction='DESCENDING',stable=False,name=None)\n",
    "                #c = tf.keras.backend.eval(b)[:topk]\n",
    "                temp_topk = np.argsort(temp_pred)[::-1][:topk]\n",
    "                temp_score = temp_pred[temp_topk]   \n",
    "                temp_df = np.column_stack((np.full(topk, batch_u[user_idx]),temp_topk, temp_score))\n",
    "                \n",
    "                \n",
    "                fmt = ','.join(['%i','%i','%1.5f'])\n",
    "                fmt = '\\n'.join([fmt]*temp_df.shape[0])\n",
    "                data = fmt % tuple(temp_df.ravel())      \n",
    "                out_file.write(data)\n",
    "                #np.savetxt(out_file, temp_df, delimiter=',', fmt=['%i','%i','%1.5f'])\n",
    "\n",
    "                user_idx += 1\n",
    "            \n",
    "            pbar.update(1)    "
   ]
  },
  {
   "cell_type": "code",
   "execution_count": 23,
   "metadata": {},
   "outputs": [
    {
     "data": {
      "text/plain": [
       "1862805"
      ]
     },
     "execution_count": 23,
     "metadata": {},
     "output_type": "execute_result"
    }
   ],
   "source": [
    "len(temp_batch_sa)"
   ]
  },
  {
   "cell_type": "code",
   "execution_count": 21,
   "metadata": {},
   "outputs": [
    {
     "data": {
      "text/plain": [
       "array([1579498, 1579498, 1579498, ..., 1579660, 1579660, 1579660])"
      ]
     },
     "execution_count": 21,
     "metadata": {},
     "output_type": "execute_result"
    }
   ],
   "source": [
    "temp_batch_sa"
   ]
  },
  {
   "cell_type": "code",
   "execution_count": 24,
   "metadata": {},
   "outputs": [
    {
     "data": {
      "text/plain": [
       "1862805"
      ]
     },
     "execution_count": 24,
     "metadata": {},
     "output_type": "execute_result"
    }
   ],
   "source": [
    "len(temp_batch_album)"
   ]
  },
  {
   "cell_type": "code",
   "execution_count": 22,
   "metadata": {},
   "outputs": [
    {
     "data": {
      "text/plain": [
       "array([    0,     1,     2, ..., 11889, 11890, 11891])"
      ]
     },
     "execution_count": 22,
     "metadata": {},
     "output_type": "execute_result"
    }
   ],
   "source": [
    "temp_batch_album"
   ]
  },
  {
   "cell_type": "code",
   "execution_count": 26,
   "metadata": {},
   "outputs": [
    {
     "name": "stderr",
     "output_type": "stream",
     "text": [
      "100%|██████████| 4999/4999 [39:20<00:00,  2.12it/s]\n"
     ]
    }
   ],
   "source": [
    "with open('../../model/said_albumid_onlineNegative/case1_re2/100_epochs_01_negative/rec_list/rec.csv','a') as out_file:\n",
    "    with tqdm.tqdm(total=math.ceil(nsa_id/300)) as pbar:\n",
    "        for batch_u in batch_user(nsa_id, 300):\n",
    "            temp_batch_sa = np.repeat(batch_u, nalbum_id)\n",
    "            temp_batch_album = np.tile(album_array, len(batch_u))\n",
    "            \n",
    "            temp_batch_input = {'sa_id' : temp_batch_sa, 'album_id' : temp_batch_album}\n",
    "            \n",
    "            #pred = model.predict_on_batch(temp_batch_input)\n",
    "#             pred = model(temp_batch_input).numpy()\n",
    "            pred = model([temp_batch_sa, temp_batch_album]).numpy()\n",
    "            pred_mat = pred.reshape(-1,nalbum_id)\n",
    "            \n",
    "            user_idx = 0\n",
    "            \n",
    "            for temp_pred in pred_mat:\n",
    "                #b = tf.argsort(temp_pred, axis=-1,direction='DESCENDING',stable=False,name=None)\n",
    "                #c = tf.keras.backend.eval(b)[:topk]\n",
    "                temp_topk = np.argsort(temp_pred)[::-1][:topk]\n",
    "                temp_score = temp_pred[temp_topk]   \n",
    "                temp_df = np.column_stack((np.full(topk, batch_u[user_idx]),temp_topk, temp_score))\n",
    "                \n",
    "                \n",
    "                fmt = ','.join(['%i','%i','%1.5f'])\n",
    "                fmt = '\\n'.join([fmt]*temp_df.shape[0])\n",
    "                data = fmt % tuple(temp_df.ravel())      \n",
    "                out_file.write(data)\n",
    "                #np.savetxt(out_file, temp_df, delimiter=',', fmt=['%i','%i','%1.5f'])\n",
    "\n",
    "                user_idx += 1\n",
    "            \n",
    "            pbar.update(1)    "
   ]
  },
  {
   "cell_type": "code",
   "execution_count": null,
   "metadata": {},
   "outputs": [],
   "source": []
  },
  {
   "cell_type": "code",
   "execution_count": null,
   "metadata": {},
   "outputs": [],
   "source": []
  }
 ],
 "metadata": {
  "kernelspec": {
   "display_name": "Python [conda env:tensorflow2_p36]",
   "language": "python",
   "name": "conda-env-tensorflow2_p36-py"
  },
  "language_info": {
   "codemirror_mode": {
    "name": "ipython",
    "version": 3
   },
   "file_extension": ".py",
   "mimetype": "text/x-python",
   "name": "python",
   "nbconvert_exporter": "python",
   "pygments_lexer": "ipython3",
   "version": "3.6.10"
  }
 },
 "nbformat": 4,
 "nbformat_minor": 4
}
